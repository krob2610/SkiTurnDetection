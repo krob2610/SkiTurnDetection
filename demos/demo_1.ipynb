{
 "cells": [
  {
   "cell_type": "markdown",
   "metadata": {},
   "source": [
    "# 1. Imports"
   ]
  },
  {
   "cell_type": "code",
   "execution_count": 4,
   "metadata": {},
   "outputs": [
    {
     "name": "stdout",
     "output_type": "stream",
     "text": [
      "Python path properly configured. Project root added: /app\n"
     ]
    }
   ],
   "source": [
    "import os\n",
    "from notebook_init import init_notebook_path\n",
    "import sys\n",
    "\n",
    "# Get project root path\n",
    "project_root = init_notebook_path()\n",
    "\n",
    "# Set environment variable for Ray workers to find the app module\n",
    "os.environ[\"PYTHONPATH\"] = f\"{project_root}:{os.environ.get('PYTHONPATH', '')}\"\n",
    "\n",
    "#sys.path.append(os.path.abspath(os.path.join(os.getcwd(), '..')))"
   ]
  },
  {
   "cell_type": "code",
   "execution_count": 5,
   "metadata": {},
   "outputs": [],
   "source": [
    "import warnings\n",
    "import numpy as np\n",
    "import ray\n",
    "\n",
    "\n",
    "from app.utils import unwrap_angles, calculate_euler_angles_list\n",
    "from hyperopt import hp\n",
    "from ray import tune\n",
    "from sklearn.model_selection import KFold\n",
    "from ray.tune.search.hyperopt import HyperOptSearch\n",
    "from app.workflow.utils import calculate_score_between, add_predicted_transitions_to_df, calculate_scores_sec_metric, calculate_overall_score, align_min_max_lists_counts_order, get_score_for_intervals, process_turns_with_restricted_distances, find_midpoints_with_weights, find_midpoints, align_min_max_lists, label_apex_list, label_apex, filter_extremes, read_files_recursive, read_files, split_data_granular, smooth_data, remove_outliers, merge_close_integers, find_closest_actuals, find_tp_fp_fn_tn, calculate_performance_metrics, append_predictions_df_new\n",
    "from app.workflow.gradientdescent import gradient_descent_full\n",
    "from sklearn.model_selection import train_test_split\n",
    "from pandas.errors import SettingWithCopyWarning\n",
    "\n",
    "\n",
    "warnings.simplefilter(action='ignore', category=FutureWarning)\n",
    "warnings.simplefilter(action='ignore', category=SettingWithCopyWarning)"
   ]
  },
  {
   "cell_type": "markdown",
   "metadata": {},
   "source": [
    "# 2. Data loading and preprocessing"
   ]
  },
  {
   "cell_type": "code",
   "execution_count": 6,
   "metadata": {},
   "outputs": [
    {
     "name": "stdout",
     "output_type": "stream",
     "text": [
      "Processing: /app/data/turns/HONOR_8X/2024-02-17/1.csv\n",
      "Processing: /app/data/turns/HONOR_8X/2024-02-17/2.csv\n",
      "Processing: /app/data/turns/HONOR_8X/2024-02-17/3.csv\n",
      "Processing: /app/data/turns/HONOR_8X/2024-02-17/4.csv\n",
      "Processing: /app/data/turns/HONOR_8X/2024-02-17/5.csv\n",
      "Processing: /app/data/turns/HONOR_8X/2024-02-17/6.csv\n",
      "snowplow run skipped: /app/data/turns/HONOR_8X/2024-02-24/1_sp.csv\n",
      "snowplow run skipped: /app/data/turns/HONOR_8X/2024-02-24/2_sp.csv\n",
      "snowplow run skipped: /app/data/turns/HONOR_8X/2024-02-24/3_sp.csv\n",
      "snowplow run skipped: /app/data/turns/HONOR_8X/2024-02-24/4_sp.csv\n",
      "snowplow run skipped: /app/data/turns/HONOR_8X/2024-02-24/5_sp.csv\n",
      "snowplow run skipped: /app/data/turns/HONOR_8X/2024-02-24/6_sp.csv\n",
      "snowplow run skipped: /app/data/turns/HONOR_8X/2024-02-24/7_sp.csv\n",
      "Processing: /app/data/turns/HONOR_8X/2024-03-19/1.csv\n",
      "Processing: /app/data/turns/HONOR_8X/2024-03-19/10.csv\n",
      "Processing: /app/data/turns/HONOR_8X/2024-03-19/11.csv\n",
      "Processing: /app/data/turns/HONOR_8X/2024-03-19/12.csv\n",
      "snowplow run skipped: /app/data/turns/HONOR_8X/2024-03-19/13_sp.csv\n",
      "Processing: /app/data/turns/HONOR_8X/2024-03-19/14.csv\n",
      "Processing: /app/data/turns/HONOR_8X/2024-03-19/15.csv\n",
      "Processing: /app/data/turns/HONOR_8X/2024-03-19/16.csv\n",
      "Processing: /app/data/turns/HONOR_8X/2024-03-19/17.csv\n",
      "Processing: /app/data/turns/HONOR_8X/2024-03-19/18.csv\n",
      "Processing: /app/data/turns/HONOR_8X/2024-03-19/2.csv\n",
      "Processing: /app/data/turns/HONOR_8X/2024-03-19/3.csv\n",
      "Processing: /app/data/turns/HONOR_8X/2024-03-19/4.csv\n",
      "Processing: /app/data/turns/HONOR_8X/2024-03-19/5.csv\n",
      "Processing: /app/data/turns/HONOR_8X/2024-03-19/6.csv\n",
      "Processing: /app/data/turns/HONOR_8X/2024-03-19/7.csv\n",
      "Processing: /app/data/turns/HONOR_8X/2024-03-19/8.csv\n",
      "Processing: /app/data/turns/HONOR_8X/2024-03-19/9.csv\n",
      "Processing: /app/data/turns/HONOR_8X/2024-03-20/1.csv\n",
      "Processing: /app/data/turns/HONOR_8X/2024-03-20/10.csv\n",
      "Processing: /app/data/turns/HONOR_8X/2024-03-20/11.csv\n",
      "Processing: /app/data/turns/HONOR_8X/2024-03-20/12.csv\n",
      "Processing: /app/data/turns/HONOR_8X/2024-03-20/13.csv\n",
      "Processing: /app/data/turns/HONOR_8X/2024-03-20/14.csv\n",
      "Processing: /app/data/turns/HONOR_8X/2024-03-20/15.csv\n",
      "Processing: /app/data/turns/HONOR_8X/2024-03-20/16.csv\n",
      "Processing: /app/data/turns/HONOR_8X/2024-03-20/17.csv\n",
      "Processing: /app/data/turns/HONOR_8X/2024-03-20/18.csv\n",
      "Processing: /app/data/turns/HONOR_8X/2024-03-20/19.csv\n",
      "Processing: /app/data/turns/HONOR_8X/2024-03-20/2.csv\n",
      "Processing: /app/data/turns/HONOR_8X/2024-03-20/20.csv\n",
      "Processing: /app/data/turns/HONOR_8X/2024-03-20/21.csv\n",
      "Processing: /app/data/turns/HONOR_8X/2024-03-20/22.csv\n",
      "Processing: /app/data/turns/HONOR_8X/2024-03-20/23.csv\n",
      "Processing: /app/data/turns/HONOR_8X/2024-03-20/24.csv\n",
      "Processing: /app/data/turns/HONOR_8X/2024-03-20/25.csv\n",
      "Processing: /app/data/turns/HONOR_8X/2024-03-20/26.csv\n",
      "Processing: /app/data/turns/HONOR_8X/2024-03-20/3.csv\n",
      "Processing: /app/data/turns/HONOR_8X/2024-03-20/4.csv\n",
      "Processing: /app/data/turns/HONOR_8X/2024-03-20/5.csv\n",
      "Processing: /app/data/turns/HONOR_8X/2024-03-20/6.csv\n",
      "Processing: /app/data/turns/HONOR_8X/2024-03-20/7.csv\n",
      "Processing: /app/data/turns/HONOR_8X/2024-03-20/8.csv\n",
      "Processing: /app/data/turns/HONOR_8X/2024-03-20/9.csv\n",
      "Processing: /app/data/turns/HONOR_8X/2024-03-21/1.csv\n",
      "Processing: /app/data/turns/HONOR_8X/2024-03-21/2.csv\n",
      "Processing: /app/data/turns/HONOR_8X/2024-03-22/1.csv\n",
      "Processing: /app/data/turns/HONOR_8X/2024-03-22/10.csv\n",
      "Processing: /app/data/turns/HONOR_8X/2024-03-22/2.csv\n",
      "Processing: /app/data/turns/HONOR_8X/2024-03-22/3.csv\n",
      "Processing: /app/data/turns/HONOR_8X/2024-03-22/4.csv\n",
      "Processing: /app/data/turns/HONOR_8X/2024-03-22/5.csv\n",
      "Processing: /app/data/turns/HONOR_8X/2024-03-22/6.csv\n",
      "Processing: /app/data/turns/HONOR_8X/2024-03-22/7.csv\n",
      "Processing: /app/data/turns/HONOR_8X/2024-03-22/8.csv\n",
      "Processing: /app/data/turns/HONOR_8X/2024-03-22/9.csv\n",
      "Processing: /app/data/turns/huawei_mate/2024-02-25/1.csv\n",
      "Processing: /app/data/turns/huawei_mate/2024-02-25/10.csv\n",
      "Processing: /app/data/turns/huawei_mate/2024-02-25/11.csv\n",
      "Processing: /app/data/turns/huawei_mate/2024-02-25/12.csv\n",
      "Processing: /app/data/turns/huawei_mate/2024-02-25/13.csv\n",
      "Processing: /app/data/turns/huawei_mate/2024-02-25/14.csv\n",
      "Processing: /app/data/turns/huawei_mate/2024-02-25/15.csv\n",
      "Processing: /app/data/turns/huawei_mate/2024-02-25/16.csv\n",
      "Processing: /app/data/turns/huawei_mate/2024-02-25/17.csv\n",
      "Processing: /app/data/turns/huawei_mate/2024-02-25/18.csv\n",
      "Processing: /app/data/turns/huawei_mate/2024-02-25/19.csv\n",
      "Processing: /app/data/turns/huawei_mate/2024-02-25/2.csv\n",
      "Processing: /app/data/turns/huawei_mate/2024-02-25/20.csv\n",
      "snowplow run skipped: /app/data/turns/huawei_mate/2024-02-25/21_sp.csv\n",
      "Processing: /app/data/turns/huawei_mate/2024-02-25/22.csv\n",
      "Processing: /app/data/turns/huawei_mate/2024-02-25/23.csv\n",
      "snowplow run skipped: /app/data/turns/huawei_mate/2024-02-25/24_sp.csv\n",
      "Processing: /app/data/turns/huawei_mate/2024-02-25/25.csv\n",
      "Processing: /app/data/turns/huawei_mate/2024-02-25/26.csv\n",
      "Processing: /app/data/turns/huawei_mate/2024-02-25/27.csv\n",
      "Processing: /app/data/turns/huawei_mate/2024-02-25/28.csv\n",
      "Processing: /app/data/turns/huawei_mate/2024-02-25/3.csv\n",
      "Processing: /app/data/turns/huawei_mate/2024-02-25/4.csv\n",
      "Processing: /app/data/turns/huawei_mate/2024-02-25/5.csv\n",
      "Processing: /app/data/turns/huawei_mate/2024-02-25/6.csv\n",
      "Processing: /app/data/turns/huawei_mate/2024-02-25/7.csv\n",
      "Processing: /app/data/turns/huawei_mate/2024-02-25/8.csv\n",
      "Processing: /app/data/turns/huawei_mate/2024-02-25/9.csv\n",
      "Processing: /app/data/turns/huawei_mate/2024-03-17/1.csv\n",
      "Processing: /app/data/turns/huawei_mate/2024-03-17/2.csv\n",
      "Processing: /app/data/turns/huawei_mate/2024-03-17/3.csv\n",
      "Processing: /app/data/turns/huawei_mate/2024-03-17/4.csv\n",
      "Processing: /app/data/turns/huawei_mate/2024-03-17/5.csv\n",
      "Processing: /app/data/turns/huawei_mate/2024-03-17/6.csv\n",
      "Processing: /app/data/turns/huawei_mate/2024-03-17/7.csv\n",
      "Processing: /app/data/turns/huawei_mate/2024-03-17/8.csv\n"
     ]
    }
   ],
   "source": [
    "labeled_data = read_files_recursive(path = os.path.join(project_root, \"data/turns\"))  \n",
    "split_on = \"Orientation\"\n",
    "orientation_dfs = split_data_granular(labeled_data, split_on=split_on) \n",
    "transformed_dfs = calculate_euler_angles_list(orientation_dfs) # TODOI: What are initial values in roll, pitch, yaw columns? Should we use them?\n",
    "unwraped_data = unwrap_angles(transformed_dfs)\n",
    "smoothed_orientation_dfs = smooth_data(unwraped_data, window_size=10)\n",
    "apex_dfs = label_apex_list(smoothed_orientation_dfs)\n"
   ]
  },
  {
   "cell_type": "markdown",
   "metadata": {},
   "source": [
    "# 3. Define ray function to run algorithm\n",
    "#### mode is used to define application for algorithm.  \n",
    "#### mode = \"between\", \"apex_percentage\", \"turn_coverage\" response for use cases presented in pdf in the same order"
   ]
  },
  {
   "cell_type": "code",
   "execution_count": null,
   "metadata": {},
   "outputs": [],
   "source": [
    "def process_combination_ray(combination, train, col= \"yaw\", random_seed = 42, mode = \"regular\", detail_metric = False, use = \"find_peaks\"):\n",
    "    # TODO: What is the purpose of each metric?\n",
    "    # regular - F1-score based on TP, FP, FN, TN with margin of error in detecting points.\n",
    "    # between - F1-score based on matching points between predictions, more detailed than “regular”.\n",
    "    # apex_percentage - measures how close in time the predictions are to the maneuver center, expressed as a relative percentage of time.\n",
    "    # turn_coverage - assesses the coverage and fit of predicted points to actual turns across the trajectory.\n",
    "    if mode != \"regular\" and mode != \"between\" and mode != \"apex_percentage\" and mode != \"turn_coverage\":\n",
    "        raise ValueError(\"Mode must be 'regular' or 'between'\")\n",
    "    combination[\"Gradient_Steps\"] = int(combination[\"Gradient_Steps\"])\n",
    "    combination[\"merge_threshold\"] = int(combination[\"merge_threshold\"])\n",
    "    combination[\"number_of_points\"] = int(combination[\"number_of_points\"])\n",
    "    combination[\"Threshold\"] = int(combination[\"Threshold\"])\n",
    "    np.random.seed(random_seed)  # Set the random seed inside the remote function\n",
    "\n",
    "    total_TP = []\n",
    "    total_FP = []\n",
    "    total_FN = []\n",
    "    total_TN = []\n",
    "\n",
    "\n",
    "    total_int_TP = 0\n",
    "    total_int_FP = 0\n",
    "    total_int_FN = 0\n",
    "    total_int_TN = 0\n",
    "\n",
    "    # *for metrics apex percentage and turn coverage\n",
    "    total_score = 0\n",
    "    total_lenght = 0\n",
    "    for df in train:\n",
    "        start_indices = np.random.randint(1, len(df), size=combination[\"number_of_points\"])\n",
    "        predicted_mins, predicted_maxs = gradient_descent_full(df, start_indices, learning_rate=combination['Gradient_LR'], steps=combination[\"Gradient_Steps\"], momentum=combination['Gradient_Momentum'], selected_col= col, printing=False)\n",
    "        \n",
    "        unique_predictions_mins, counts_mins = np.unique(predicted_mins, return_counts=True)\n",
    "        unique_predictions_maxs, counts_maxs = np.unique(predicted_maxs, return_counts=True)\n",
    "\n",
    "        new_mins, new_counts_min = merge_close_integers(unique_predictions_mins, counts_mins, threshold = combination['merge_threshold'])\n",
    "        new_max, new_counts_max = merge_close_integers(unique_predictions_maxs, counts_maxs, threshold = combination['merge_threshold'])\n",
    "\n",
    "        new_filtered_mins, new_filtered_mins_counts = remove_outliers(new_mins, new_counts_min, df, multiplier= combination['outliers_multiplier'], selected_col=col, boundary=\"upper\")\n",
    "        new_filtered_max, new_filtered_maxs_counts = remove_outliers(new_max, new_counts_max, df, combination['outliers_multiplier'], selected_col=col, boundary=\"lower\")\n",
    "\n",
    "        important_min, important_min_counts = filter_extremes(new_filtered_mins, new_filtered_mins_counts,threshold_int=combination['Threshold'])\n",
    "        important_max, important_max_counts = filter_extremes(new_filtered_max, new_filtered_maxs_counts,threshold_int=combination['Threshold'])\n",
    "        \n",
    "        if mode == \"regular\":\n",
    "            trimmed_mins, trimmed_mins_counts, trimmed_maxs, trimmed_maxs_counts = align_min_max_lists(important_min, important_min_counts, important_max, important_max_counts)\n",
    "            new_trimed_mins, new_trimed_maxs = find_midpoints(trimmed_mins, trimmed_maxs)\n",
    "            \n",
    "            df_forecast = append_predictions_df_new(df, new_trimed_mins, new_trimed_maxs) \n",
    "            df_forecast_closest = find_closest_actuals(df_forecast)\n",
    "\n",
    "            df_TP, df_FP, df_FN, tn, custom_score = find_tp_fp_fn_tn(df_forecast=df_forecast_closest, margin_of_error = 10)\n",
    "            total_TP.append(df_TP)\n",
    "            total_FP.append(df_FP)\n",
    "            total_FN.append(df_FN)\n",
    "            total_TN.append(tn)\n",
    "        elif mode == \"between\": # 1st metric\n",
    "            trimmed_mins, trimmed_mins_counts, trimmed_maxs, trimmed_maxs_counts = align_min_max_lists(important_min, important_min_counts, important_max, important_max_counts)\n",
    "            new_trimed_mins, new_trimed_maxs = find_midpoints(trimmed_mins, trimmed_maxs)\n",
    "            \n",
    "            df_forecast = append_predictions_df_new(df, new_trimed_mins, new_trimed_maxs) \n",
    "            df_forecast_closest = find_closest_actuals(df_forecast)\n",
    "            \n",
    "            int_TP, int_FP, int_FN, int_tn = calculate_score_between(df_forecast=df_forecast_closest)\n",
    "            total_int_TP += int_TP\n",
    "            total_int_FP += int_FP\n",
    "            total_int_FN += int_FN\n",
    "            total_int_TN += int_tn\n",
    "        elif mode == \"apex_percentage\": # 2nd metric\n",
    "            trimmed_mins, trimmed_mins_counts, trimmed_maxs, trimmed_maxs_counts = align_min_max_lists(important_min, important_min_counts, important_max, important_max_counts)\n",
    "            new_trimed_mins, new_mins_counts, new_trimed_maxs, new_max_counts = find_midpoints_with_weights(trimmed_mins, trimmed_mins_counts, trimmed_maxs, trimmed_maxs_counts)\n",
    "            \n",
    "            df_forecast = append_predictions_df_new(df, new_trimed_mins, new_trimed_maxs, new_mins_counts, new_max_counts) \n",
    "            df_forecast_closest = find_closest_actuals(df_forecast)\n",
    "            \n",
    "            inv_df = process_turns_with_restricted_distances(df_forecast_closest)\n",
    "            score_df = calculate_scores_sec_metric(inv_df)\n",
    "            df_scores_sum, df_lenghts = calculate_overall_score(score_df)\n",
    "            total_score += df_scores_sum\n",
    "            total_lenght += df_lenghts\n",
    "        \n",
    "        elif mode == \"turn_coverage\": # 3rd metric\n",
    "            new_method_mins, new_method_max = align_min_max_lists_counts_order(important_min, important_max, important_min_counts, important_max_counts)\n",
    "            inteval_df = add_predicted_transitions_to_df(df, new_method_mins, new_method_max)\n",
    "            df_scores_sum, df_lenghts = get_score_for_intervals(inteval_df)\n",
    "            total_score += df_scores_sum\n",
    "            total_lenght += df_lenghts\n",
    "            \n",
    "\n",
    "\n",
    "    if mode == \"regular\":\n",
    "        total_TP_rows = sum(len(df) for df in total_TP)\n",
    "        total_FP_rows = sum(len(df) for df in total_FP)\n",
    "        total_FN_rows = sum(len(df) for df in total_FN)\n",
    "        total_TN_num = sum(total_TN)\n",
    "        metrics = calculate_performance_metrics(total_TP_rows, total_FP_rows, total_FN_rows, total_TN_num)\n",
    "        return metrics['Overall F1 Score']\n",
    "\n",
    "    elif mode == \"between\":\n",
    "        metrics = calculate_performance_metrics(total_int_TP, total_int_FP, total_int_FN, total_int_TN)\n",
    "        if detail_metric:\n",
    "            return metrics\n",
    "        return metrics['Overall F1 Score']\n",
    "    elif mode == \"apex_percentage\":\n",
    "        return total_score/total_lenght\n",
    "    elif mode == \"turn_coverage\":\n",
    "        return total_score/total_lenght\n",
    "\n",
    "\n",
    "def calculate_score_train(config, train):\n",
    "\n",
    "\n",
    "    score = process_combination_ray(config, train, \"yaw\", 42, \"regular\") #between\n",
    "\n",
    "    tune.report(score=score)"
   ]
  },
  {
   "cell_type": "markdown",
   "metadata": {},
   "source": [
    "# 4. Define search space for algorithm"
   ]
  },
  {
   "cell_type": "code",
   "execution_count": 19,
   "metadata": {},
   "outputs": [],
   "source": [
    "def generate_values(start, stop, step):\n",
    "    return list(range(start, stop + 1, step))\n",
    "\n",
    "\n",
    "gradient_lr_range = (0.01, 0.1)\n",
    "gradient_steps_range = (100, 500) \n",
    "gradient_steps_step = 10  \n",
    "momentum_range = (0.90, 0.999)\n",
    "merge_threshold_range = (5, 20) \n",
    "outliers_range = (2.0, 5.0)\n",
    "number_of_points_range = (100, 1000)  \n",
    "number_of_points_step = 100 \n",
    "threshold_range = (0, 20) \n",
    "\n",
    "\n",
    "gradient_steps_values = generate_values(gradient_steps_range[0], gradient_steps_range[1], gradient_steps_step)\n",
    "number_of_points_values = generate_values(number_of_points_range[0], number_of_points_range[1], number_of_points_step)\n",
    "\n",
    "space = {\n",
    "    'Gradient_LR': hp.loguniform('Gradient_LR', np.log(gradient_lr_range[0]), np.log(gradient_lr_range[1])),\n",
    "    'Gradient_Steps': hp.choice('Gradient_Steps', gradient_steps_values),  \n",
    "    'Gradient_Momentum': hp.uniform('Gradient_Momentum', *momentum_range),  \n",
    "    'merge_threshold': hp.randint('merge_threshold', merge_threshold_range[1] - merge_threshold_range[0]) + merge_threshold_range[0], \n",
    "    'outliers_multiplier': hp.uniform('outliers_multiplier', *outliers_range), \n",
    "    'number_of_points': hp.choice('number_of_points', number_of_points_values),  \n",
    "    'Threshold': hp.randint('Threshold', threshold_range[1] - threshold_range[0]) + threshold_range[0] \n",
    "}"
   ]
  },
  {
   "cell_type": "code",
   "execution_count": 20,
   "metadata": {},
   "outputs": [],
   "source": [
    "ray.shutdown()"
   ]
  },
  {
   "cell_type": "markdown",
   "metadata": {},
   "source": [
    "# 5. Hyperparameter tuning"
   ]
  },
  {
   "cell_type": "code",
   "execution_count": 21,
   "metadata": {},
   "outputs": [
    {
     "name": "stderr",
     "output_type": "stream",
     "text": [
      "2025-06-07 12:53:09,211\tWARNING services.py:1832 -- WARNING: The object store is using /tmp instead of /dev/shm because /dev/shm has only 67108864 bytes available. This will harm performance! You may be able to free up space by deleting files in /dev/shm. If you are inside a Docker container, you can increase /dev/shm size by passing '--shm-size=1.53gb' to 'docker run' (or add it to the run_options list in a Ray cluster config). Make sure to set this to more than 30% of available RAM.\n",
      "2025-06-07 12:53:09,444\tINFO worker.py:1621 -- Started a local Ray instance.\n",
      "2025-06-07 12:53:09,898\tINFO packaging.py:518 -- Creating a file package for local directory '/app/app'.\n",
      "2025-06-07 12:53:10,541\tINFO packaging.py:346 -- Pushing file package 'gcs://_ray_pkg_61812cc31917630a.zip' (0.22MiB) to Ray cluster...\n",
      "2025-06-07 12:53:10,545\tINFO packaging.py:359 -- Successfully pushed file package 'gcs://_ray_pkg_61812cc31917630a.zip'.\n",
      "2025-06-07 12:53:13,827\tINFO tune.py:657 -- [output] This uses the legacy output and progress reporter, as Jupyter notebooks are not supported by the new engine, yet. For more information, please see https://github.com/ray-project/ray/issues/36949\n",
      "/usr/local/lib/python3.11/site-packages/ray/tune/tune.py:258: UserWarning: Passing a `local_dir` is deprecated and will be removed in the future. Pass `storage_path` instead or set the `RAY_AIR_LOCAL_CACHE_DIR` environment variable instead.\n",
      "  warnings.warn(\n",
      "2025-06-07 12:53:14,170\tWARNING callback.py:144 -- The TensorboardX logger cannot be instantiated because either TensorboardX or one of it's dependencies is not installed. Please make sure you have the latest version of TensorboardX installed: `pip install -U tensorboardx`\n"
     ]
    },
    {
     "data": {
      "text/html": [
       "<div class=\"tuneStatus\">\n",
       "  <div style=\"display: flex;flex-direction: row\">\n",
       "    <div style=\"display: flex;flex-direction: column;\">\n",
       "      <h3>Tune Status</h3>\n",
       "      <table>\n",
       "<tbody>\n",
       "<tr><td>Current time:</td><td>2025-06-07 12:53:18</td></tr>\n",
       "<tr><td>Running for: </td><td>00:00:00.11        </td></tr>\n",
       "<tr><td>Memory:      </td><td>4.8/7.4 GiB        </td></tr>\n",
       "</tbody>\n",
       "</table>\n",
       "    </div>\n",
       "    <div class=\"vDivider\"></div>\n",
       "    <div class=\"systemInfo\">\n",
       "      <h3>System Info</h3>\n",
       "      Using FIFO scheduling algorithm.<br>Logical resource usage: 0/12 CPUs, 0/0 GPUs\n",
       "    </div>\n",
       "    \n",
       "  </div>\n",
       "  <div class=\"hDivider\"></div>\n",
       "  <div class=\"trialStatus\">\n",
       "    <h3>Trial Status</h3>\n",
       "    <table>\n",
       "<thead>\n",
       "<tr><th>Trial name     </th><th>status    </th><th>loc            </th><th style=\"text-align: right;\">  Gradient_LR</th><th style=\"text-align: right;\">  Gradient_Momentum</th><th style=\"text-align: right;\">  Gradient_Steps</th><th style=\"text-align: right;\">  Threshold</th><th style=\"text-align: right;\">  merge_threshold</th><th style=\"text-align: right;\">  number_of_points</th><th style=\"text-align: right;\">  outliers_multiplier</th><th style=\"text-align: right;\">  iter</th><th style=\"text-align: right;\">  total time (s)</th><th style=\"text-align: right;\">   score</th></tr>\n",
       "</thead>\n",
       "<tbody>\n",
       "<tr><td>lambda_d3ef575d</td><td>TERMINATED</td><td>172.17.0.2:2521</td><td style=\"text-align: right;\">    0.0112685</td><td style=\"text-align: right;\">           0.921304</td><td style=\"text-align: right;\">             500</td><td style=\"text-align: right;\">         10</td><td style=\"text-align: right;\">               16</td><td style=\"text-align: right;\">               800</td><td style=\"text-align: right;\">              2.81125</td><td style=\"text-align: right;\">     1</td><td style=\"text-align: right;\">         93.2473</td><td style=\"text-align: right;\">0.87879 </td></tr>\n",
       "<tr><td>lambda_88fa7f35</td><td>TERMINATED</td><td>172.17.0.2:2904</td><td style=\"text-align: right;\">    0.0187273</td><td style=\"text-align: right;\">           0.924427</td><td style=\"text-align: right;\">             290</td><td style=\"text-align: right;\">         12</td><td style=\"text-align: right;\">                5</td><td style=\"text-align: right;\">               500</td><td style=\"text-align: right;\">              3.21661</td><td style=\"text-align: right;\">     1</td><td style=\"text-align: right;\">         73.1914</td><td style=\"text-align: right;\">0.871802</td></tr>\n",
       "<tr><td>lambda_ad7adbcd</td><td>TERMINATED</td><td>172.17.0.2:2405</td><td style=\"text-align: right;\">    0.0937703</td><td style=\"text-align: right;\">           0.940903</td><td style=\"text-align: right;\">             450</td><td style=\"text-align: right;\">          1</td><td style=\"text-align: right;\">                6</td><td style=\"text-align: right;\">               600</td><td style=\"text-align: right;\">              4.13114</td><td style=\"text-align: right;\">     1</td><td style=\"text-align: right;\">         97.6726</td><td style=\"text-align: right;\">0.899857</td></tr>\n",
       "<tr><td>lambda_73d90832</td><td>TERMINATED</td><td>172.17.0.2:2755</td><td style=\"text-align: right;\">    0.0205353</td><td style=\"text-align: right;\">           0.95672 </td><td style=\"text-align: right;\">             180</td><td style=\"text-align: right;\">          2</td><td style=\"text-align: right;\">               12</td><td style=\"text-align: right;\">              1000</td><td style=\"text-align: right;\">              3.91034</td><td style=\"text-align: right;\">     1</td><td style=\"text-align: right;\">         86.349 </td><td style=\"text-align: right;\">0.910653</td></tr>\n",
       "<tr><td>lambda_a766d946</td><td>TERMINATED</td><td>172.17.0.2:2636</td><td style=\"text-align: right;\">    0.012788 </td><td style=\"text-align: right;\">           0.977474</td><td style=\"text-align: right;\">             460</td><td style=\"text-align: right;\">          9</td><td style=\"text-align: right;\">                9</td><td style=\"text-align: right;\">               900</td><td style=\"text-align: right;\">              4.49524</td><td style=\"text-align: right;\">     1</td><td style=\"text-align: right;\">        111.732 </td><td style=\"text-align: right;\">0.898832</td></tr>\n",
       "<tr><td>lambda_c5b2df5a</td><td>TERMINATED</td><td>172.17.0.2:2696</td><td style=\"text-align: right;\">    0.014907 </td><td style=\"text-align: right;\">           0.916897</td><td style=\"text-align: right;\">             200</td><td style=\"text-align: right;\">         14</td><td style=\"text-align: right;\">               11</td><td style=\"text-align: right;\">               500</td><td style=\"text-align: right;\">              3.4313 </td><td style=\"text-align: right;\">     1</td><td style=\"text-align: right;\">         85.4922</td><td style=\"text-align: right;\">0.863613</td></tr>\n",
       "<tr><td>lambda_206dd0da</td><td>TERMINATED</td><td>172.17.0.2:2581</td><td style=\"text-align: right;\">    0.0274083</td><td style=\"text-align: right;\">           0.938928</td><td style=\"text-align: right;\">             170</td><td style=\"text-align: right;\">         10</td><td style=\"text-align: right;\">                7</td><td style=\"text-align: right;\">              1000</td><td style=\"text-align: right;\">              4.73241</td><td style=\"text-align: right;\">     1</td><td style=\"text-align: right;\">         88.8292</td><td style=\"text-align: right;\">0.895782</td></tr>\n",
       "<tr><td>lambda_f47db5f5</td><td>TERMINATED</td><td>172.17.0.2:2466</td><td style=\"text-align: right;\">    0.0128164</td><td style=\"text-align: right;\">           0.985834</td><td style=\"text-align: right;\">             380</td><td style=\"text-align: right;\">          0</td><td style=\"text-align: right;\">               13</td><td style=\"text-align: right;\">               900</td><td style=\"text-align: right;\">              4.16795</td><td style=\"text-align: right;\">     1</td><td style=\"text-align: right;\">        103.287 </td><td style=\"text-align: right;\">0.93516 </td></tr>\n",
       "<tr><td>lambda_c2733116</td><td>TERMINATED</td><td>172.17.0.2:2521</td><td style=\"text-align: right;\">    0.0255179</td><td style=\"text-align: right;\">           0.912727</td><td style=\"text-align: right;\">             110</td><td style=\"text-align: right;\">          5</td><td style=\"text-align: right;\">               12</td><td style=\"text-align: right;\">               100</td><td style=\"text-align: right;\">              2.07669</td><td style=\"text-align: right;\">     1</td><td style=\"text-align: right;\">         67.9474</td><td style=\"text-align: right;\">0.891168</td></tr>\n",
       "<tr><td>lambda_131db912</td><td>TERMINATED</td><td>172.17.0.2:2405</td><td style=\"text-align: right;\">    0.05183  </td><td style=\"text-align: right;\">           0.909212</td><td style=\"text-align: right;\">             420</td><td style=\"text-align: right;\">          6</td><td style=\"text-align: right;\">               19</td><td style=\"text-align: right;\">              1000</td><td style=\"text-align: right;\">              2.33757</td><td style=\"text-align: right;\">     1</td><td style=\"text-align: right;\">         81.7343</td><td style=\"text-align: right;\">0.88157 </td></tr>\n",
       "</tbody>\n",
       "</table>\n",
       "  </div>\n",
       "</div>\n",
       "<style>\n",
       ".tuneStatus {\n",
       "  color: var(--jp-ui-font-color1);\n",
       "}\n",
       ".tuneStatus .systemInfo {\n",
       "  display: flex;\n",
       "  flex-direction: column;\n",
       "}\n",
       ".tuneStatus td {\n",
       "  white-space: nowrap;\n",
       "}\n",
       ".tuneStatus .trialStatus {\n",
       "  display: flex;\n",
       "  flex-direction: column;\n",
       "}\n",
       ".tuneStatus h3 {\n",
       "  font-weight: bold;\n",
       "}\n",
       ".tuneStatus .hDivider {\n",
       "  border-bottom-width: var(--jp-border-width);\n",
       "  border-bottom-color: var(--jp-border-color0);\n",
       "  border-bottom-style: solid;\n",
       "}\n",
       ".tuneStatus .vDivider {\n",
       "  border-left-width: var(--jp-border-width);\n",
       "  border-left-color: var(--jp-border-color0);\n",
       "  border-left-style: solid;\n",
       "  margin: 0.5em 1em 0.5em 1em;\n",
       "}\n",
       "</style>\n"
      ],
      "text/plain": [
       "<IPython.core.display.HTML object>"
      ]
     },
     "metadata": {},
     "output_type": "display_data"
    },
    {
     "name": "stderr",
     "output_type": "stream",
     "text": [
      "2025-06-07 12:53:14,235\tINFO experiment_state.py:435 -- A local experiment checkpoint was found and will be used to restore the previous experiment state.\n",
      "2025-06-07 12:53:14,282\tWARNING trial_runner.py:418 -- Attempting to resume experiment from /app/demos/ray_results/test. This will ignore any new changes to the specification.\n",
      "2025-06-07 12:53:14,284\tINFO trial_runner.py:422 -- Using the newest experiment state file found within the experiment directory: experiment_state-2025-06-07_12-43-34.json\n",
      "2025-06-07 12:53:18,293\tINFO tune.py:1148 -- Total run time: 4.47 seconds (0.00 seconds for the tuning loop).\n"
     ]
    }
   ],
   "source": [
    "# Define a cross-validation wrapper\n",
    "def calculate_score_cv(config, train, n_splits=5, random_seed=42):\n",
    "    kf = KFold(n_splits=n_splits, shuffle=True, random_state=random_seed)\n",
    "    f1_scores = []\n",
    "\n",
    "    for train_index, val_index in kf.split(train):\n",
    "        # Split data into train and validation folds\n",
    "        train_fold = [train[i] for i in train_index]\n",
    "        val_fold = [train[i] for i in val_index]\n",
    "\n",
    "        np.random.seed(random_seed) \n",
    "\n",
    "        #* choose metric from: between, apex_percentage, turn_coverage\n",
    "        # Train on the train_fold\n",
    "        process_combination_ray(config, train_fold, \"yaw\", random_seed, \"between\")\n",
    "\n",
    "        # Evaluate on the val_fold\n",
    "        val_score = process_combination_ray(config, val_fold, \"yaw\", random_seed, \"between\")\n",
    "        f1_scores.append(val_score)\n",
    "\n",
    "    # Calculate mean F1 score across all folds\n",
    "    mean_f1_score = np.mean(f1_scores)\n",
    "\n",
    "    # Report the mean score for this configuration\n",
    "    tune.report(score=mean_f1_score)\n",
    "\n",
    "# Initialize Ray\n",
    "random_seed = 42\n",
    "train, test = train_test_split(apex_dfs, test_size=0.2, random_state=random_seed)\n",
    "\n",
    "#! ray init this way due to `demo/`folder location\n",
    "ray.init(\n",
    "    runtime_env={\n",
    "        \"env_vars\": {\"PYTHONPATH\": os.environ[\"PYTHONPATH\"]},\n",
    "        \"py_modules\": [os.path.join(project_root, \"app\")]\n",
    "    }\n",
    ")\n",
    "\n",
    "# Trainable with cross-validation\n",
    "trainable_with_cv = lambda config: calculate_score_cv(config, train)\n",
    "\n",
    "# Define the HyperOptSearch\n",
    "hyperopt_search = HyperOptSearch(\n",
    "    metric=\"score\",  # Target metric\n",
    "    mode=\"max\",      # Optimization mode\n",
    "    space=space,      # Search space\n",
    "    random_state_seed = random_seed\n",
    ")\n",
    "\n",
    "experiment_name = \"test\"\n",
    "\n",
    "analysis = tune.run(\n",
    "    trainable_with_cv,\n",
    "    search_alg=hyperopt_search,\n",
    "    num_samples=10,\n",
    "    resources_per_trial={\"cpu\": 1},\n",
    "    metric=\"score\",\n",
    "    mode=\"max\",\n",
    "    local_dir=\"./ray_results\", \n",
    "    name=experiment_name,        # Use a fixed folder name for the experiment\n",
    "    keep_checkpoints_num=3,     \n",
    "    resume=\"AUTO\",              \n",
    ")\n",
    "\n",
    "\n",
    "# Shutdown Ray\n",
    "ray.shutdown()"
   ]
  },
  {
   "cell_type": "markdown",
   "metadata": {},
   "source": [
    "# 6. Testing"
   ]
  },
  {
   "cell_type": "code",
   "execution_count": 11,
   "metadata": {},
   "outputs": [],
   "source": [
    "# TODOI: Is process_combination_ray used for both prediction and evaluation because there's no traditional model training? \n",
    "# And would it make sense to separate this function into distinct prediction and evaluation steps?\n",
    "# There is no classical model training in the code — process_combination_ray is used both to generate predictions and evaluate them simultaneously.\n",
    "# It could be split into separate stages: one for predicting points and another for evaluating their quality, improving readability.\n",
    "\n",
    "# Train final model on the train set\n",
    "best_config = analysis.best_config\n",
    "final_score = process_combination_ray(best_config, train, \"yaw\", random_seed, \"between\", detail_metric=False)\n",
    "\n",
    "# Evaluate final model on the test set\n",
    "test_score = process_combination_ray(best_config, test, \"yaw\", random_seed, \"between\", detail_metric=False)"
   ]
  },
  {
   "cell_type": "code",
   "execution_count": 12,
   "metadata": {},
   "outputs": [
    {
     "data": {
      "text/plain": [
       "0.9578571428571427"
      ]
     },
     "execution_count": 12,
     "metadata": {},
     "output_type": "execute_result"
    }
   ],
   "source": [
    "final_score"
   ]
  },
  {
   "cell_type": "markdown",
   "metadata": {},
   "source": []
  },
  {
   "cell_type": "code",
   "execution_count": 13,
   "metadata": {},
   "outputs": [
    {
     "data": {
      "text/plain": [
       "0.9518072289156626"
      ]
     },
     "execution_count": 13,
     "metadata": {},
     "output_type": "execute_result"
    }
   ],
   "source": [
    "test_score"
   ]
  },
  {
   "cell_type": "markdown",
   "metadata": {},
   "source": [
    "# 7. Find_peaks function"
   ]
  },
  {
   "cell_type": "code",
   "execution_count": 17,
   "metadata": {},
   "outputs": [
    {
     "data": {
      "image/png": "[encoded data removed]",
      "text/plain": [
       "<Figure size 1400x600 with 1 Axes>"
      ]
     },
     "metadata": {},
     "output_type": "display_data"
    }
   ],
   "source": [
    "import numpy as np\n",
    "import matplotlib.pyplot as plt\n",
    "from scipy.signal import find_peaks\n",
    "import pandas as pd\n",
    "\n",
    "df = apex_dfs[0]\n",
    "\n",
    "y = df['yaw'].values\n",
    "x = df.index\n",
    "\n",
    "# Detection of predicted peaks\n",
    "prominence_val = 0.3\n",
    "distance_val = 20\n",
    "predicted_peaks, _ = find_peaks(y, prominence=prominence_val, distance=distance_val)\n",
    "minima_indices, _ = find_peaks(-y, prominence=prominence_val, distance=distance_val)\n",
    "\n",
    "# True turns\n",
    "true_peaks = df.index[(df['Behavior'].isin(['left', 'right']))].tolist()\n",
    "positions = df.index.get_indexer_for(true_peaks)\n",
    "\n",
    "# START/STOP moments\n",
    "start_indices = df.index[(df['Behavior'].isin(['left', 'right'])) & (df['Status'] == 'START')].tolist()\n",
    "stop_indices = df.index[(df['Behavior'].isin(['left', 'right'])) & (df['Status'] == 'STOP')].tolist()\n",
    "start_pos = df.index.get_indexer_for(start_indices)\n",
    "stop_pos = df.index.get_indexer_for(stop_indices)\n",
    "\n",
    "plt.figure(figsize=(14, 6))\n",
    "plt.plot(x, y, label='yaw', color='blue')\n",
    "plt.plot(x[predicted_peaks], y[predicted_peaks], 'ro', label='Predicted left->right')\n",
    "plt.plot(x[minima_indices], y[minima_indices], 'mo', label='Predicted right->left')\n",
    "plt.plot(x[start_pos], y[start_pos], 'gx', label='Turn START')\n",
    "plt.plot(x[stop_pos], y[stop_pos], 'yx', label='Turn STOP')\n",
    "plt.title(\"Predicted and actual turns with START/STOP points\")\n",
    "plt.xlabel(\"Time\")\n",
    "plt.ylabel(\"Radians\")\n",
    "plt.legend()\n",
    "plt.grid(True)\n",
    "plt.show()\n"
   ]
  },
  {
   "cell_type": "code",
   "execution_count": 15,
   "metadata": {},
   "outputs": [
    {
     "data": {
      "text/plain": [
       "DatetimeIndex([       '2024-02-17 15:00:43', '2024-02-17 15:00:43.100000',\n",
       "               '2024-02-17 15:00:43.200000', '2024-02-17 15:00:43.300000',\n",
       "               '2024-02-17 15:00:43.400000', '2024-02-17 15:00:43.500000',\n",
       "               '2024-02-17 15:00:43.600000', '2024-02-17 15:00:43.700000',\n",
       "               '2024-02-17 15:00:43.800000', '2024-02-17 15:00:43.900000',\n",
       "               ...\n",
       "               '2024-02-17 15:01:40.100000', '2024-02-17 15:01:40.200000',\n",
       "               '2024-02-17 15:01:40.300000', '2024-02-17 15:01:40.400000',\n",
       "               '2024-02-17 15:01:40.500000', '2024-02-17 15:01:40.600000',\n",
       "               '2024-02-17 15:01:40.700000', '2024-02-17 15:01:40.800000',\n",
       "               '2024-02-17 15:01:40.900000',        '2024-02-17 15:01:41'],\n",
       "              dtype='datetime64[ns]', name='time', length=581, freq=None)"
      ]
     },
     "execution_count": 15,
     "metadata": {},
     "output_type": "execute_result"
    }
   ],
   "source": [
    "df.index"
   ]
  },
  {
   "cell_type": "code",
   "execution_count": 16,
   "metadata": {},
   "outputs": [
    {
     "name": "stdout",
     "output_type": "stream",
     "text": [
      "2024-02-17 15:00:43\n",
      "2024-02-17 15:01:41\n"
     ]
    }
   ],
   "source": [
    "print(df.index.min())  \n",
    "print(df.index.max()) "
   ]
  }
 ],
 "metadata": {
  "kernelspec": {
   "display_name": "Python 3",
   "language": "python",
   "name": "python3"
  },
  "language_info": {
   "codemirror_mode": {
    "name": "ipython",
    "version": 3
   },
   "file_extension": ".py",
   "mimetype": "text/x-python",
   "name": "python",
   "nbconvert_exporter": "python",
   "pygments_lexer": "ipython3",
   "version": "3.11.5"
  }
 },
 "nbformat": 4,
 "nbformat_minor": 4
}
