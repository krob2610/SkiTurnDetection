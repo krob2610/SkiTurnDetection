{
 "cells": [
  {
   "cell_type": "markdown",
   "id": "98d0f6bf",
   "metadata": {},
   "source": [
    "# 1. Imports"
   ]
  },
  {
   "cell_type": "code",
   "execution_count": 1,
   "id": "eca41e4f",
   "metadata": {},
   "outputs": [
    {
     "name": "stdout",
     "output_type": "stream",
     "text": [
      "Python path properly configured. Project root added: /Users/kuba/iccs\n"
     ]
    }
   ],
   "source": [
    "import os\n",
    "from notebook_init import init_notebook_path\n",
    "\n",
    "# Get project root path\n",
    "project_root = init_notebook_path()\n",
    "\n",
    "# Set environment variable for Ray workers to find the app module\n",
    "os.environ[\"PYTHONPATH\"] = f\"{project_root}:{os.environ.get('PYTHONPATH', '')}\"\n",
    "\n",
    "# Imports\n",
    "import numpy as np\n",
    "from app.workflow.utils import read_files_recursive, split_data_granular, smooth_data, merge_close_integers, remove_outliers, filter_extremes, align_min_max_lists_counts_order, add_predicted_transitions_to_df \n",
    "from app.utils import calculate_euler_angles_list, unwrap_angles\n",
    "from app.visualization_utils import draw_plotly_new, plot_predicted_transitions\n",
    "from app.workflow.gradientdescent import gradient_descent_full\n",
    "\n",
    "\n"
   ]
  },
  {
   "cell_type": "markdown",
   "id": "28b43b87",
   "metadata": {},
   "source": [
    "# 2. Data loading and preprocessing"
   ]
  },
  {
   "cell_type": "code",
   "execution_count": 2,
   "id": "87b2c325",
   "metadata": {},
   "outputs": [
    {
     "name": "stdout",
     "output_type": "stream",
     "text": [
      "Processing: /Users/kuba/iccs/data/turns_labeled/HONOR_8X/2024-03-22/6.csv\n",
      "Processing: /Users/kuba/iccs/data/turns_labeled/HONOR_8X/2024-03-22/7.csv\n",
      "Processing: /Users/kuba/iccs/data/turns_labeled/HONOR_8X/2024-03-22/5.csv\n",
      "Processing: /Users/kuba/iccs/data/turns_labeled/HONOR_8X/2024-03-22/4.csv\n",
      "Processing: /Users/kuba/iccs/data/turns_labeled/HONOR_8X/2024-03-22/1.csv\n",
      "Processing: /Users/kuba/iccs/data/turns_labeled/HONOR_8X/2024-03-22/3.csv\n",
      "Processing: /Users/kuba/iccs/data/turns_labeled/HONOR_8X/2024-03-22/2.csv\n",
      "Processing: /Users/kuba/iccs/data/turns_labeled/HONOR_8X/2024-03-22/10.csv\n",
      "Processing: /Users/kuba/iccs/data/turns_labeled/HONOR_8X/2024-03-22/9.csv\n",
      "Processing: /Users/kuba/iccs/data/turns_labeled/HONOR_8X/2024-03-22/8.csv\n",
      "Processing: /Users/kuba/iccs/data/turns_labeled/HONOR_8X/2024-02-24/2_sp.csv\n",
      "Processing: /Users/kuba/iccs/data/turns_labeled/HONOR_8X/2024-02-24/6_sp.csv\n",
      "Processing: /Users/kuba/iccs/data/turns_labeled/HONOR_8X/2024-02-24/4_sp.csv\n",
      "Processing: /Users/kuba/iccs/data/turns_labeled/HONOR_8X/2024-02-24/1_sp.csv\n",
      "Processing: /Users/kuba/iccs/data/turns_labeled/HONOR_8X/2024-02-24/3_sp.csv\n",
      "Processing: /Users/kuba/iccs/data/turns_labeled/HONOR_8X/2024-02-24/7_sp.csv\n",
      "Processing: /Users/kuba/iccs/data/turns_labeled/HONOR_8X/2024-02-24/5_sp.csv\n",
      "Processing: /Users/kuba/iccs/data/turns_labeled/HONOR_8X/2024-03-19/6.csv\n",
      "Processing: /Users/kuba/iccs/data/turns_labeled/HONOR_8X/2024-03-19/7.csv\n",
      "Processing: /Users/kuba/iccs/data/turns_labeled/HONOR_8X/2024-03-19/5.csv\n",
      "Processing: /Users/kuba/iccs/data/turns_labeled/HONOR_8X/2024-03-19/4.csv\n",
      "Processing: /Users/kuba/iccs/data/turns_labeled/HONOR_8X/2024-03-19/1.csv\n",
      "Processing: /Users/kuba/iccs/data/turns_labeled/HONOR_8X/2024-03-19/3.csv\n",
      "Processing: /Users/kuba/iccs/data/turns_labeled/HONOR_8X/2024-03-19/2.csv\n",
      "Processing: /Users/kuba/iccs/data/turns_labeled/HONOR_8X/2024-03-19/13_sp.csv\n",
      "Processing: /Users/kuba/iccs/data/turns_labeled/HONOR_8X/2024-03-19/18.csv\n",
      "Processing: /Users/kuba/iccs/data/turns_labeled/HONOR_8X/2024-03-19/16.csv\n",
      "Processing: /Users/kuba/iccs/data/turns_labeled/HONOR_8X/2024-03-19/17.csv\n",
      "Processing: /Users/kuba/iccs/data/turns_labeled/HONOR_8X/2024-03-19/15.csv\n",
      "Processing: /Users/kuba/iccs/data/turns_labeled/HONOR_8X/2024-03-19/14.csv\n",
      "Processing: /Users/kuba/iccs/data/turns_labeled/HONOR_8X/2024-03-19/10.csv\n",
      "Processing: /Users/kuba/iccs/data/turns_labeled/HONOR_8X/2024-03-19/11.csv\n",
      "Processing: /Users/kuba/iccs/data/turns_labeled/HONOR_8X/2024-03-19/12.csv\n",
      "Processing: /Users/kuba/iccs/data/turns_labeled/HONOR_8X/2024-03-19/9.csv\n",
      "Processing: /Users/kuba/iccs/data/turns_labeled/HONOR_8X/2024-03-19/8.csv\n",
      "Processing: /Users/kuba/iccs/data/turns_labeled/HONOR_8X/2024-03-21/1.csv\n",
      "Processing: /Users/kuba/iccs/data/turns_labeled/HONOR_8X/2024-03-21/2.csv\n",
      "Processing: /Users/kuba/iccs/data/turns_labeled/HONOR_8X/2024-03-20/6.csv\n",
      "Processing: /Users/kuba/iccs/data/turns_labeled/HONOR_8X/2024-03-20/7.csv\n",
      "Processing: /Users/kuba/iccs/data/turns_labeled/HONOR_8X/2024-03-20/5.csv\n",
      "Processing: /Users/kuba/iccs/data/turns_labeled/HONOR_8X/2024-03-20/4.csv\n",
      "Processing: /Users/kuba/iccs/data/turns_labeled/HONOR_8X/2024-03-20/1.csv\n",
      "Processing: /Users/kuba/iccs/data/turns_labeled/HONOR_8X/2024-03-20/3.csv\n",
      "Processing: /Users/kuba/iccs/data/turns_labeled/HONOR_8X/2024-03-20/2.csv\n",
      "Processing: /Users/kuba/iccs/data/turns_labeled/HONOR_8X/2024-03-20/23.csv\n",
      "Processing: /Users/kuba/iccs/data/turns_labeled/HONOR_8X/2024-03-20/22.csv\n",
      "Processing: /Users/kuba/iccs/data/turns_labeled/HONOR_8X/2024-03-20/20.csv\n",
      "Processing: /Users/kuba/iccs/data/turns_labeled/HONOR_8X/2024-03-20/21.csv\n",
      "Processing: /Users/kuba/iccs/data/turns_labeled/HONOR_8X/2024-03-20/25.csv\n",
      "Processing: /Users/kuba/iccs/data/turns_labeled/HONOR_8X/2024-03-20/19.csv\n",
      "Processing: /Users/kuba/iccs/data/turns_labeled/HONOR_8X/2024-03-20/18.csv\n",
      "Processing: /Users/kuba/iccs/data/turns_labeled/HONOR_8X/2024-03-20/24.csv\n",
      "Processing: /Users/kuba/iccs/data/turns_labeled/HONOR_8X/2024-03-20/26.csv\n",
      "Processing: /Users/kuba/iccs/data/turns_labeled/HONOR_8X/2024-03-20/16.csv\n",
      "Processing: /Users/kuba/iccs/data/turns_labeled/HONOR_8X/2024-03-20/17.csv\n",
      "Processing: /Users/kuba/iccs/data/turns_labeled/HONOR_8X/2024-03-20/15.csv\n",
      "Processing: /Users/kuba/iccs/data/turns_labeled/HONOR_8X/2024-03-20/14.csv\n",
      "Processing: /Users/kuba/iccs/data/turns_labeled/HONOR_8X/2024-03-20/10.csv\n",
      "Processing: /Users/kuba/iccs/data/turns_labeled/HONOR_8X/2024-03-20/11.csv\n",
      "Processing: /Users/kuba/iccs/data/turns_labeled/HONOR_8X/2024-03-20/13.csv\n",
      "Processing: /Users/kuba/iccs/data/turns_labeled/HONOR_8X/2024-03-20/12.csv\n",
      "Processing: /Users/kuba/iccs/data/turns_labeled/HONOR_8X/2024-03-20/9.csv\n",
      "Processing: /Users/kuba/iccs/data/turns_labeled/HONOR_8X/2024-03-20/8.csv\n",
      "Processing: /Users/kuba/iccs/data/turns_labeled/HONOR_8X/2024-02-17/6.csv\n",
      "Processing: /Users/kuba/iccs/data/turns_labeled/HONOR_8X/2024-02-17/5.csv\n",
      "Processing: /Users/kuba/iccs/data/turns_labeled/HONOR_8X/2024-02-17/4.csv\n",
      "Processing: /Users/kuba/iccs/data/turns_labeled/HONOR_8X/2024-02-17/1.csv\n",
      "Processing: /Users/kuba/iccs/data/turns_labeled/HONOR_8X/2024-02-17/3.csv\n",
      "Processing: /Users/kuba/iccs/data/turns_labeled/HONOR_8X/2024-02-17/2.csv\n",
      "Processing: /Users/kuba/iccs/data/turns_labeled/huawei_mate/2024-02-25/6.csv\n",
      "Processing: /Users/kuba/iccs/data/turns_labeled/huawei_mate/2024-02-25/7.csv\n",
      "Processing: /Users/kuba/iccs/data/turns_labeled/huawei_mate/2024-02-25/5.csv\n",
      "Processing: /Users/kuba/iccs/data/turns_labeled/huawei_mate/2024-02-25/4.csv\n",
      "Processing: /Users/kuba/iccs/data/turns_labeled/huawei_mate/2024-02-25/21_sp.csv\n",
      "Processing: /Users/kuba/iccs/data/turns_labeled/huawei_mate/2024-02-25/1.csv\n",
      "Processing: /Users/kuba/iccs/data/turns_labeled/huawei_mate/2024-02-25/3.csv\n",
      "Processing: /Users/kuba/iccs/data/turns_labeled/huawei_mate/2024-02-25/2.csv\n",
      "Processing: /Users/kuba/iccs/data/turns_labeled/huawei_mate/2024-02-25/23.csv\n",
      "Processing: /Users/kuba/iccs/data/turns_labeled/huawei_mate/2024-02-25/22.csv\n",
      "Processing: /Users/kuba/iccs/data/turns_labeled/huawei_mate/2024-02-25/20.csv\n",
      "Processing: /Users/kuba/iccs/data/turns_labeled/huawei_mate/2024-02-25/25.csv\n",
      "Processing: /Users/kuba/iccs/data/turns_labeled/huawei_mate/2024-02-25/19.csv\n",
      "Processing: /Users/kuba/iccs/data/turns_labeled/huawei_mate/2024-02-25/18.csv\n",
      "Processing: /Users/kuba/iccs/data/turns_labeled/huawei_mate/2024-02-25/26.csv\n",
      "Processing: /Users/kuba/iccs/data/turns_labeled/huawei_mate/2024-02-25/27.csv\n",
      "Processing: /Users/kuba/iccs/data/turns_labeled/huawei_mate/2024-02-25/16.csv\n",
      "Processing: /Users/kuba/iccs/data/turns_labeled/huawei_mate/2024-02-25/17.csv\n",
      "Processing: /Users/kuba/iccs/data/turns_labeled/huawei_mate/2024-02-25/15.csv\n",
      "Processing: /Users/kuba/iccs/data/turns_labeled/huawei_mate/2024-02-25/14.csv\n",
      "Processing: /Users/kuba/iccs/data/turns_labeled/huawei_mate/2024-02-25/28.csv\n",
      "Processing: /Users/kuba/iccs/data/turns_labeled/huawei_mate/2024-02-25/10.csv\n",
      "Processing: /Users/kuba/iccs/data/turns_labeled/huawei_mate/2024-02-25/11.csv\n",
      "Processing: /Users/kuba/iccs/data/turns_labeled/huawei_mate/2024-02-25/13.csv\n",
      "Processing: /Users/kuba/iccs/data/turns_labeled/huawei_mate/2024-02-25/12.csv\n",
      "Processing: /Users/kuba/iccs/data/turns_labeled/huawei_mate/2024-02-25/24_sp.csv\n",
      "Processing: /Users/kuba/iccs/data/turns_labeled/huawei_mate/2024-02-25/9.csv\n",
      "Processing: /Users/kuba/iccs/data/turns_labeled/huawei_mate/2024-02-25/8.csv\n",
      "Processing: /Users/kuba/iccs/data/turns_labeled/huawei_mate/2024-03-17/6.csv\n",
      "Processing: /Users/kuba/iccs/data/turns_labeled/huawei_mate/2024-03-17/7.csv\n",
      "Processing: /Users/kuba/iccs/data/turns_labeled/huawei_mate/2024-03-17/5.csv\n",
      "Processing: /Users/kuba/iccs/data/turns_labeled/huawei_mate/2024-03-17/4.csv\n",
      "Processing: /Users/kuba/iccs/data/turns_labeled/huawei_mate/2024-03-17/1.csv\n",
      "Processing: /Users/kuba/iccs/data/turns_labeled/huawei_mate/2024-03-17/3.csv\n",
      "Processing: /Users/kuba/iccs/data/turns_labeled/huawei_mate/2024-03-17/2.csv\n",
      "Processing: /Users/kuba/iccs/data/turns_labeled/huawei_mate/2024-03-17/8.csv\n"
     ]
    }
   ],
   "source": [
    "labeled_data = read_files_recursive(path = os.path.join(project_root, \"data\", \"turns_labeled\"))\n"
   ]
  },
  {
   "cell_type": "markdown",
   "id": "e6219878",
   "metadata": {},
   "source": [
    "#### Lets select single run"
   ]
  },
  {
   "cell_type": "code",
   "execution_count": 3,
   "id": "a381f944",
   "metadata": {},
   "outputs": [
    {
     "data": {
      "text/html": [
       "<div>\n",
       "<style scoped>\n",
       "    .dataframe tbody tr th:only-of-type {\n",
       "        vertical-align: middle;\n",
       "    }\n",
       "\n",
       "    .dataframe tbody tr th {\n",
       "        vertical-align: top;\n",
       "    }\n",
       "\n",
       "    .dataframe thead th {\n",
       "        text-align: right;\n",
       "    }\n",
       "</style>\n",
       "<table border=\"1\" class=\"dataframe\">\n",
       "  <thead>\n",
       "    <tr style=\"text-align: right;\">\n",
       "      <th></th>\n",
       "      <th>TotalAcceleration</th>\n",
       "      <th>Orientation</th>\n",
       "      <th>Magnetometer</th>\n",
       "      <th>GyroscopeUncalibrated</th>\n",
       "      <th>MagnetometerUncalibrated</th>\n",
       "      <th>Accelerometer</th>\n",
       "      <th>Gyroscope</th>\n",
       "      <th>Gravity</th>\n",
       "      <th>Behavior</th>\n",
       "      <th>Status</th>\n",
       "    </tr>\n",
       "    <tr>\n",
       "      <th>time</th>\n",
       "      <th></th>\n",
       "      <th></th>\n",
       "      <th></th>\n",
       "      <th></th>\n",
       "      <th></th>\n",
       "      <th></th>\n",
       "      <th></th>\n",
       "      <th></th>\n",
       "      <th></th>\n",
       "      <th></th>\n",
       "    </tr>\n",
       "  </thead>\n",
       "  <tbody>\n",
       "    <tr>\n",
       "      <th>2024-03-22 12:49:29.900</th>\n",
       "      <td>[2.25630521774292, 10.217418670654297, 12.2207...</td>\n",
       "      <td>[-0.6992300152778625, -0.6967610120773315, -0....</td>\n",
       "      <td>[-1.3125, -40.625, 12.8125]</td>\n",
       "      <td>[0.7677528858184814, -0.2957809567451477, -0.2...</td>\n",
       "      <td>[-48.875, -65.25, 48.3125]</td>\n",
       "      <td>[6.934799671173096, -2.1800999641418457, 4.240...</td>\n",
       "      <td>[1.5788772106170654, -0.4668406546115875, -0.5...</td>\n",
       "      <td>[-0.2466999888420105, 9.51550006866455, 2.3587...</td>\n",
       "      <td>right</td>\n",
       "      <td>START</td>\n",
       "    </tr>\n",
       "    <tr>\n",
       "      <th>2024-03-22 12:49:30.000</th>\n",
       "      <td>[0.2472539991140365, 7.208529472351074, 6.4393...</td>\n",
       "      <td>[-0.7047449946403503, -0.681315004825592, -0.1...</td>\n",
       "      <td>[-2.875, -41.5625, 9.125]</td>\n",
       "      <td>[1.3339725732803345, 0.1136732921004295, 0.069...</td>\n",
       "      <td>[-50.4375, -66.1875, 44.625]</td>\n",
       "      <td>[0.6118999719619751, -2.504899978637696, -2.54...</td>\n",
       "      <td>[0.6350031495094299, -0.1096939444541931, -0.2...</td>\n",
       "      <td>[-0.0528999976813793, 9.330399513244627, 3.018...</td>\n",
       "      <td></td>\n",
       "      <td></td>\n",
       "    </tr>\n",
       "    <tr>\n",
       "      <th>2024-03-22 12:49:30.100</th>\n",
       "      <td>[2.0676231384277344, 8.164840698242188, 3.4410...</td>\n",
       "      <td>[-0.7018659710884094, -0.6656039953231812, -0....</td>\n",
       "      <td>[-3.25, -42.625, 4.1875]</td>\n",
       "      <td>[0.9653939604759216, -0.339204728603363, -0.49...</td>\n",
       "      <td>[-50.8125, -67.25, 39.6875]</td>\n",
       "      <td>[1.2264000177383425, 0.9109999537467957, 2.181...</td>\n",
       "      <td>[1.4157238006591797, -0.1066570729017257, 0.07...</td>\n",
       "      <td>[-0.0495999976992607, 8.8464994430542, 4.23149...</td>\n",
       "      <td></td>\n",
       "      <td></td>\n",
       "    </tr>\n",
       "    <tr>\n",
       "      <th>2024-03-22 12:49:30.200</th>\n",
       "      <td>[3.169674158096313, 7.666990280151367, 6.17287...</td>\n",
       "      <td>[-0.7076629996299744, -0.6421110033988953, -0....</td>\n",
       "      <td>[-5.0625, -42.5625, -0.3125]</td>\n",
       "      <td>[0.965795397758484, -1.0057809352874756, -0.69...</td>\n",
       "      <td>[-52.625, -67.1875, 35.1875]</td>\n",
       "      <td>[-2.747900009155273, -1.5245999097824097, 0.94...</td>\n",
       "      <td>[0.6662619709968567, -0.6124709248542786, -0.6...</td>\n",
       "      <td>[0.1098999977111816, 8.487299919128418, 4.9113...</td>\n",
       "      <td></td>\n",
       "      <td></td>\n",
       "    </tr>\n",
       "    <tr>\n",
       "      <th>2024-03-22 12:49:30.300</th>\n",
       "      <td>[-0.5638249516487122, 6.842130184173584, 1.203...</td>\n",
       "      <td>[-0.7049899697303772, -0.6053839921951294, -0....</td>\n",
       "      <td>[-8.125, -41.5625, -4.5625]</td>\n",
       "      <td>[1.132945537567139, -1.967439889907837, 0.0192...</td>\n",
       "      <td>[-55.6875, -66.1875, 30.9375]</td>\n",
       "      <td>[-0.8007000088691711, -4.292599678039551, -1.0...</td>\n",
       "      <td>[1.258434772491455, -1.073429822921753, -0.755...</td>\n",
       "      <td>[0.2220999896526336, 7.881799697875977, 5.8306...</td>\n",
       "      <td></td>\n",
       "      <td></td>\n",
       "    </tr>\n",
       "  </tbody>\n",
       "</table>\n",
       "</div>"
      ],
      "text/plain": [
       "                                                         TotalAcceleration  \\\n",
       "time                                                                         \n",
       "2024-03-22 12:49:29.900  [2.25630521774292, 10.217418670654297, 12.2207...   \n",
       "2024-03-22 12:49:30.000  [0.2472539991140365, 7.208529472351074, 6.4393...   \n",
       "2024-03-22 12:49:30.100  [2.0676231384277344, 8.164840698242188, 3.4410...   \n",
       "2024-03-22 12:49:30.200  [3.169674158096313, 7.666990280151367, 6.17287...   \n",
       "2024-03-22 12:49:30.300  [-0.5638249516487122, 6.842130184173584, 1.203...   \n",
       "\n",
       "                                                               Orientation  \\\n",
       "time                                                                         \n",
       "2024-03-22 12:49:29.900  [-0.6992300152778625, -0.6967610120773315, -0....   \n",
       "2024-03-22 12:49:30.000  [-0.7047449946403503, -0.681315004825592, -0.1...   \n",
       "2024-03-22 12:49:30.100  [-0.7018659710884094, -0.6656039953231812, -0....   \n",
       "2024-03-22 12:49:30.200  [-0.7076629996299744, -0.6421110033988953, -0....   \n",
       "2024-03-22 12:49:30.300  [-0.7049899697303772, -0.6053839921951294, -0....   \n",
       "\n",
       "                                         Magnetometer  \\\n",
       "time                                                    \n",
       "2024-03-22 12:49:29.900   [-1.3125, -40.625, 12.8125]   \n",
       "2024-03-22 12:49:30.000     [-2.875, -41.5625, 9.125]   \n",
       "2024-03-22 12:49:30.100      [-3.25, -42.625, 4.1875]   \n",
       "2024-03-22 12:49:30.200  [-5.0625, -42.5625, -0.3125]   \n",
       "2024-03-22 12:49:30.300   [-8.125, -41.5625, -4.5625]   \n",
       "\n",
       "                                                     GyroscopeUncalibrated  \\\n",
       "time                                                                         \n",
       "2024-03-22 12:49:29.900  [0.7677528858184814, -0.2957809567451477, -0.2...   \n",
       "2024-03-22 12:49:30.000  [1.3339725732803345, 0.1136732921004295, 0.069...   \n",
       "2024-03-22 12:49:30.100  [0.9653939604759216, -0.339204728603363, -0.49...   \n",
       "2024-03-22 12:49:30.200  [0.965795397758484, -1.0057809352874756, -0.69...   \n",
       "2024-03-22 12:49:30.300  [1.132945537567139, -1.967439889907837, 0.0192...   \n",
       "\n",
       "                              MagnetometerUncalibrated  \\\n",
       "time                                                     \n",
       "2024-03-22 12:49:29.900     [-48.875, -65.25, 48.3125]   \n",
       "2024-03-22 12:49:30.000   [-50.4375, -66.1875, 44.625]   \n",
       "2024-03-22 12:49:30.100    [-50.8125, -67.25, 39.6875]   \n",
       "2024-03-22 12:49:30.200   [-52.625, -67.1875, 35.1875]   \n",
       "2024-03-22 12:49:30.300  [-55.6875, -66.1875, 30.9375]   \n",
       "\n",
       "                                                             Accelerometer  \\\n",
       "time                                                                         \n",
       "2024-03-22 12:49:29.900  [6.934799671173096, -2.1800999641418457, 4.240...   \n",
       "2024-03-22 12:49:30.000  [0.6118999719619751, -2.504899978637696, -2.54...   \n",
       "2024-03-22 12:49:30.100  [1.2264000177383425, 0.9109999537467957, 2.181...   \n",
       "2024-03-22 12:49:30.200  [-2.747900009155273, -1.5245999097824097, 0.94...   \n",
       "2024-03-22 12:49:30.300  [-0.8007000088691711, -4.292599678039551, -1.0...   \n",
       "\n",
       "                                                                 Gyroscope  \\\n",
       "time                                                                         \n",
       "2024-03-22 12:49:29.900  [1.5788772106170654, -0.4668406546115875, -0.5...   \n",
       "2024-03-22 12:49:30.000  [0.6350031495094299, -0.1096939444541931, -0.2...   \n",
       "2024-03-22 12:49:30.100  [1.4157238006591797, -0.1066570729017257, 0.07...   \n",
       "2024-03-22 12:49:30.200  [0.6662619709968567, -0.6124709248542786, -0.6...   \n",
       "2024-03-22 12:49:30.300  [1.258434772491455, -1.073429822921753, -0.755...   \n",
       "\n",
       "                                                                   Gravity  \\\n",
       "time                                                                         \n",
       "2024-03-22 12:49:29.900  [-0.2466999888420105, 9.51550006866455, 2.3587...   \n",
       "2024-03-22 12:49:30.000  [-0.0528999976813793, 9.330399513244627, 3.018...   \n",
       "2024-03-22 12:49:30.100  [-0.0495999976992607, 8.8464994430542, 4.23149...   \n",
       "2024-03-22 12:49:30.200  [0.1098999977111816, 8.487299919128418, 4.9113...   \n",
       "2024-03-22 12:49:30.300  [0.2220999896526336, 7.881799697875977, 5.8306...   \n",
       "\n",
       "                        Behavior Status  \n",
       "time                                     \n",
       "2024-03-22 12:49:29.900    right  START  \n",
       "2024-03-22 12:49:30.000                  \n",
       "2024-03-22 12:49:30.100                  \n",
       "2024-03-22 12:49:30.200                  \n",
       "2024-03-22 12:49:30.300                  "
      ]
     },
     "execution_count": 3,
     "metadata": {},
     "output_type": "execute_result"
    }
   ],
   "source": [
    "input_df = labeled_data[0]\n",
    "input_df = input_df.drop(columns=['STYLE', 'SKIER_LEVEL', 'SLOPE', \"bearingAccuracy_speedAccuracy_verticalAccuracy_horizontalAccuracy_speed_bearing_altitude_longitude_latitude\"], errors='ignore')\n",
    "input_df.head()"
   ]
  },
  {
   "cell_type": "markdown",
   "id": "8fadcaa1",
   "metadata": {},
   "source": [
    "#### Get just orientation data"
   ]
  },
  {
   "cell_type": "code",
   "execution_count": 4,
   "id": "c18f17ec",
   "metadata": {},
   "outputs": [
    {
     "data": {
      "text/html": [
       "<div>\n",
       "<style scoped>\n",
       "    .dataframe tbody tr th:only-of-type {\n",
       "        vertical-align: middle;\n",
       "    }\n",
       "\n",
       "    .dataframe tbody tr th {\n",
       "        vertical-align: top;\n",
       "    }\n",
       "\n",
       "    .dataframe thead th {\n",
       "        text-align: right;\n",
       "    }\n",
       "</style>\n",
       "<table border=\"1\" class=\"dataframe\">\n",
       "  <thead>\n",
       "    <tr style=\"text-align: right;\">\n",
       "      <th></th>\n",
       "      <th>qz</th>\n",
       "      <th>qy</th>\n",
       "      <th>qx</th>\n",
       "      <th>qw</th>\n",
       "      <th>roll</th>\n",
       "      <th>pitch</th>\n",
       "      <th>yaw</th>\n",
       "      <th>Behavior</th>\n",
       "      <th>Status</th>\n",
       "    </tr>\n",
       "    <tr>\n",
       "      <th>time</th>\n",
       "      <th></th>\n",
       "      <th></th>\n",
       "      <th></th>\n",
       "      <th></th>\n",
       "      <th></th>\n",
       "      <th></th>\n",
       "      <th></th>\n",
       "      <th></th>\n",
       "      <th></th>\n",
       "    </tr>\n",
       "  </thead>\n",
       "  <tbody>\n",
       "    <tr>\n",
       "      <th>2024-03-22 12:49:29.900</th>\n",
       "      <td>-0.699230</td>\n",
       "      <td>-0.696761</td>\n",
       "      <td>-0.157973</td>\n",
       "      <td>0.025403</td>\n",
       "      <td>-1.652011</td>\n",
       "      <td>-1.310705</td>\n",
       "      <td>1.678938</td>\n",
       "      <td>right</td>\n",
       "      <td>START</td>\n",
       "    </tr>\n",
       "    <tr>\n",
       "      <th>2024-03-22 12:49:30.000</th>\n",
       "      <td>-0.704745</td>\n",
       "      <td>-0.681315</td>\n",
       "      <td>-0.193328</td>\n",
       "      <td>0.042032</td>\n",
       "      <td>-1.580293</td>\n",
       "      <td>-1.234717</td>\n",
       "      <td>1.778738</td>\n",
       "      <td></td>\n",
       "      <td></td>\n",
       "    </tr>\n",
       "    <tr>\n",
       "      <th>2024-03-22 12:49:30.100</th>\n",
       "      <td>-0.701866</td>\n",
       "      <td>-0.665604</td>\n",
       "      <td>-0.236985</td>\n",
       "      <td>0.090509</td>\n",
       "      <td>-1.567224</td>\n",
       "      <td>-1.100493</td>\n",
       "      <td>1.787777</td>\n",
       "      <td></td>\n",
       "      <td></td>\n",
       "    </tr>\n",
       "    <tr>\n",
       "      <th>2024-03-22 12:49:30.200</th>\n",
       "      <td>-0.707663</td>\n",
       "      <td>-0.642111</td>\n",
       "      <td>-0.278845</td>\n",
       "      <td>0.095662</td>\n",
       "      <td>-1.532405</td>\n",
       "      <td>-1.026413</td>\n",
       "      <td>1.878965</td>\n",
       "      <td></td>\n",
       "      <td></td>\n",
       "    </tr>\n",
       "    <tr>\n",
       "      <th>2024-03-22 12:49:30.300</th>\n",
       "      <td>-0.704990</td>\n",
       "      <td>-0.605384</td>\n",
       "      <td>-0.358699</td>\n",
       "      <td>0.088502</td>\n",
       "      <td>-1.554987</td>\n",
       "      <td>-0.910953</td>\n",
       "      <td>1.993297</td>\n",
       "      <td></td>\n",
       "      <td></td>\n",
       "    </tr>\n",
       "  </tbody>\n",
       "</table>\n",
       "</div>"
      ],
      "text/plain": [
       "                               qz        qy        qx        qw      roll  \\\n",
       "time                                                                        \n",
       "2024-03-22 12:49:29.900 -0.699230 -0.696761 -0.157973  0.025403 -1.652011   \n",
       "2024-03-22 12:49:30.000 -0.704745 -0.681315 -0.193328  0.042032 -1.580293   \n",
       "2024-03-22 12:49:30.100 -0.701866 -0.665604 -0.236985  0.090509 -1.567224   \n",
       "2024-03-22 12:49:30.200 -0.707663 -0.642111 -0.278845  0.095662 -1.532405   \n",
       "2024-03-22 12:49:30.300 -0.704990 -0.605384 -0.358699  0.088502 -1.554987   \n",
       "\n",
       "                            pitch       yaw Behavior Status  \n",
       "time                                                         \n",
       "2024-03-22 12:49:29.900 -1.310705  1.678938    right  START  \n",
       "2024-03-22 12:49:30.000 -1.234717  1.778738                  \n",
       "2024-03-22 12:49:30.100 -1.100493  1.787777                  \n",
       "2024-03-22 12:49:30.200 -1.026413  1.878965                  \n",
       "2024-03-22 12:49:30.300 -0.910953  1.993297                  "
      ]
     },
     "metadata": {},
     "output_type": "display_data"
    },
    {
     "data": {
      "application/vnd.plotly.v1+json": {
       "config": {
        "plotlyServerURL": "https://plot.ly",
        "toImageButtonOptions": {
         "filename": "custom_image",
         "format": "png",
         "scale": 6
        }
       },
       "data": [
        {
         "line": {
          "color": "blue"
         },
         "mode": "lines",
         "name": "roll",
         "type": "scatter",
         "x": [
          "2024-03-22T12:49:29.900000",
          "2024-03-22T12:49:30",
          "2024-03-22T12:49:30.100000",
          "2024-03-22T12:49:30.200000",
          "2024-03-22T12:49:30.300000",
          "2024-03-22T12:49:30.400000",
          "2024-03-22T12:49:30.500000",
          "2024-03-22T12:49:30.600000",
          "2024-03-22T12:49:30.700000",
          "2024-03-22T12:49:30.800000",
          "2024-03-22T12:49:30.900000",
          "2024-03-22T12:49:31",
          "2024-03-22T12:49:31.100000",
          "2024-03-22T12:49:31.200000",
          "2024-03-22T12:49:31.300000",
          "2024-03-22T12:49:31.400000",
          "2024-03-22T12:49:31.500000",
          "2024-03-22T12:49:31.600000",
          "2024-03-22T12:49:31.700000",
          "2024-03-22T12:49:31.800000",
          "2024-03-22T12:49:31.900000",
          "2024-03-22T12:49:32",
          "2024-03-22T12:49:32.100000",
          "2024-03-22T12:49:32.200000",
          "2024-03-22T12:49:32.300000",
          "2024-03-22T12:49:32.400000",
          "2024-03-22T12:49:32.500000",
          "2024-03-22T12:49:32.600000",
          "2024-03-22T12:49:32.700000",
          "2024-03-22T12:49:32.800000",
          "2024-03-22T12:49:32.900000",
          "2024-03-22T12:49:33",
          "2024-03-22T12:49:33.100000",
          "2024-03-22T12:49:33.200000",
          "2024-03-22T12:49:33.300000",
          "2024-03-22T12:49:33.400000",
          "2024-03-22T12:49:33.500000",
          "2024-03-22T12:49:33.600000",
          "2024-03-22T12:49:33.700000",
          "2024-03-22T12:49:33.800000",
          "2024-03-22T12:49:33.900000",
          "2024-03-22T12:49:34",
          "2024-03-22T12:49:34.100000",
          "2024-03-22T12:49:34.200000",
          "2024-03-22T12:49:34.300000",
          "2024-03-22T12:49:34.400000",
          "2024-03-22T12:49:34.500000",
          "2024-03-22T12:49:34.600000",
          "2024-03-22T12:49:34.700000",
          "2024-03-22T12:49:34.800000",
          "2024-03-22T12:49:34.900000",
          "2024-03-22T12:49:35",
          "2024-03-22T12:49:35.100000",
          "2024-03-22T12:49:35.200000",
          "2024-03-22T12:49:35.300000",
          "2024-03-22T12:49:35.400000",
          "2024-03-22T12:49:35.500000",
          "2024-03-22T12:49:35.600000",
          "2024-03-22T12:49:35.700000",
          "2024-03-22T12:49:35.800000",
          "2024-03-22T12:49:35.900000",
          "2024-03-22T12:49:36",
          "2024-03-22T12:49:36.100000",
          "2024-03-22T12:49:36.200000",
          "2024-03-22T12:49:36.300000",
          "2024-03-22T12:49:36.400000",
          "2024-03-22T12:49:36.500000",
          "2024-03-22T12:49:36.600000",
          "2024-03-22T12:49:36.700000",
          "2024-03-22T12:49:36.800000",
          "2024-03-22T12:49:36.900000",
          "2024-03-22T12:49:37",
          "2024-03-22T12:49:37.100000",
          "2024-03-22T12:49:37.200000",
          "2024-03-22T12:49:37.300000",
          "2024-03-22T12:49:37.400000",
          "2024-03-22T12:49:37.500000",
          "2024-03-22T12:49:37.600000",
          "2024-03-22T12:49:37.700000",
          "2024-03-22T12:49:37.800000",
          "2024-03-22T12:49:37.900000",
          "2024-03-22T12:49:38",
          "2024-03-22T12:49:38.100000",
          "2024-03-22T12:49:38.200000",
          "2024-03-22T12:49:38.300000",
          "2024-03-22T12:49:38.400000",
          "2024-03-22T12:49:38.500000",
          "2024-03-22T12:49:38.600000",
          "2024-03-22T12:49:38.700000",
          "2024-03-22T12:49:38.800000",
          "2024-03-22T12:49:38.900000",
          "2024-03-22T12:49:39",
          "2024-03-22T12:49:39.100000",
          "2024-03-22T12:49:39.200000",
          "2024-03-22T12:49:39.300000",
          "2024-03-22T12:49:39.400000",
          "2024-03-22T12:49:39.500000",
          "2024-03-22T12:49:39.600000",
          "2024-03-22T12:49:39.700000",
          "2024-03-22T12:49:39.800000",
          "2024-03-22T12:49:39.900000",
          "2024-03-22T12:49:40",
          "2024-03-22T12:49:40.100000",
          "2024-03-22T12:49:40.200000",
          "2024-03-22T12:49:40.300000",
          "2024-03-22T12:49:40.400000",
          "2024-03-22T12:49:40.500000",
          "2024-03-22T12:49:40.600000",
          "2024-03-22T12:49:40.700000",
          "2024-03-22T12:49:40.800000",
          "2024-03-22T12:49:40.900000",
          "2024-03-22T12:49:41",
          "2024-03-22T12:49:41.100000",
          "2024-03-22T12:49:41.200000",
          "2024-03-22T12:49:41.300000",
          "2024-03-22T12:49:41.400000",
          "2024-03-22T12:49:41.500000",
          "2024-03-22T12:49:41.600000",
          "2024-03-22T12:49:41.700000",
          "2024-03-22T12:49:41.800000",
          "2024-03-22T12:49:41.900000",
          "2024-03-22T12:49:42",
          "2024-03-22T12:49:42.100000",
          "2024-03-22T12:49:42.200000",
          "2024-03-22T12:49:42.300000",
          "2024-03-22T12:49:42.400000",
          "2024-03-22T12:49:42.500000",
          "2024-03-22T12:49:42.600000",
          "2024-03-22T12:49:42.700000",
          "2024-03-22T12:49:42.800000",
          "2024-03-22T12:49:42.900000",
          "2024-03-22T12:49:43",
          "2024-03-22T12:49:43.100000",
          "2024-03-22T12:49:43.200000",
          "2024-03-22T12:49:43.300000",
          "2024-03-22T12:49:43.400000",
          "2024-03-22T12:49:43.500000",
          "2024-03-22T12:49:43.600000",
          "2024-03-22T12:49:43.700000",
          "2024-03-22T12:49:43.800000",
          "2024-03-22T12:49:43.900000",
          "2024-03-22T12:49:44",
          "2024-03-22T12:49:44.100000",
          "2024-03-22T12:49:44.200000",
          "2024-03-22T12:49:44.300000",
          "2024-03-22T12:49:44.400000",
          "2024-03-22T12:49:44.500000",
          "2024-03-22T12:49:44.600000",
          "2024-03-22T12:49:44.700000",
          "2024-03-22T12:49:44.800000",
          "2024-03-22T12:49:44.900000",
          "2024-03-22T12:49:45",
          "2024-03-22T12:49:45.100000",
          "2024-03-22T12:49:45.200000",
          "2024-03-22T12:49:45.300000",
          "2024-03-22T12:49:45.400000",
          "2024-03-22T12:49:45.500000",
          "2024-03-22T12:49:45.600000",
          "2024-03-22T12:49:45.700000",
          "2024-03-22T12:49:45.800000",
          "2024-03-22T12:49:45.900000",
          "2024-03-22T12:49:46",
          "2024-03-22T12:49:46.100000",
          "2024-03-22T12:49:46.200000",
          "2024-03-22T12:49:46.300000",
          "2024-03-22T12:49:46.400000",
          "2024-03-22T12:49:46.500000",
          "2024-03-22T12:49:46.600000",
          "2024-03-22T12:49:46.700000",
          "2024-03-22T12:49:46.800000",
          "2024-03-22T12:49:46.900000",
          "2024-03-22T12:49:47",
          "2024-03-22T12:49:47.100000",
          "2024-03-22T12:49:47.200000",
          "2024-03-22T12:49:47.300000",
          "2024-03-22T12:49:47.400000",
          "2024-03-22T12:49:47.500000",
          "2024-03-22T12:49:47.600000",
          "2024-03-22T12:49:47.700000",
          "2024-03-22T12:49:47.800000",
          "2024-03-22T12:49:47.900000",
          "2024-03-22T12:49:48",
          "2024-03-22T12:49:48.100000",
          "2024-03-22T12:49:48.200000",
          "2024-03-22T12:49:48.300000",
          "2024-03-22T12:49:48.400000",
          "2024-03-22T12:49:48.500000",
          "2024-03-22T12:49:48.600000",
          "2024-03-22T12:49:48.700000",
          "2024-03-22T12:49:48.800000",
          "2024-03-22T12:49:48.900000",
          "2024-03-22T12:49:49",
          "2024-03-22T12:49:49.100000",
          "2024-03-22T12:49:49.200000",
          "2024-03-22T12:49:49.300000",
          "2024-03-22T12:49:49.400000",
          "2024-03-22T12:49:49.500000",
          "2024-03-22T12:49:49.600000",
          "2024-03-22T12:49:49.700000",
          "2024-03-22T12:49:49.800000",
          "2024-03-22T12:49:49.900000",
          "2024-03-22T12:49:50",
          "2024-03-22T12:49:50.100000",
          "2024-03-22T12:49:50.200000",
          "2024-03-22T12:49:50.300000",
          "2024-03-22T12:49:50.400000",
          "2024-03-22T12:49:50.500000",
          "2024-03-22T12:49:50.600000",
          "2024-03-22T12:49:50.700000",
          "2024-03-22T12:49:50.800000",
          "2024-03-22T12:49:50.900000",
          "2024-03-22T12:49:51",
          "2024-03-22T12:49:51.100000",
          "2024-03-22T12:49:51.200000",
          "2024-03-22T12:49:51.300000",
          "2024-03-22T12:49:51.400000",
          "2024-03-22T12:49:51.500000",
          "2024-03-22T12:49:51.600000",
          "2024-03-22T12:49:51.700000",
          "2024-03-22T12:49:51.800000",
          "2024-03-22T12:49:51.900000",
          "2024-03-22T12:49:52",
          "2024-03-22T12:49:52.100000",
          "2024-03-22T12:49:52.200000",
          "2024-03-22T12:49:52.300000",
          "2024-03-22T12:49:52.400000",
          "2024-03-22T12:49:52.500000",
          "2024-03-22T12:49:52.600000",
          "2024-03-22T12:49:52.700000",
          "2024-03-22T12:49:52.800000",
          "2024-03-22T12:49:52.900000",
          "2024-03-22T12:49:53",
          "2024-03-22T12:49:53.100000",
          "2024-03-22T12:49:53.200000",
          "2024-03-22T12:49:53.300000",
          "2024-03-22T12:49:53.400000",
          "2024-03-22T12:49:53.500000",
          "2024-03-22T12:49:53.600000",
          "2024-03-22T12:49:53.700000",
          "2024-03-22T12:49:53.800000",
          "2024-03-22T12:49:53.900000",
          "2024-03-22T12:49:54",
          "2024-03-22T12:49:54.100000",
          "2024-03-22T12:49:54.200000",
          "2024-03-22T12:49:54.300000",
          "2024-03-22T12:49:54.400000",
          "2024-03-22T12:49:54.500000",
          "2024-03-22T12:49:54.600000",
          "2024-03-22T12:49:54.700000",
          "2024-03-22T12:49:54.800000"
         ],
         "y": [
          -1.652011156082153,
          -1.5802927017211914,
          -1.5672239065170288,
          -1.532404541969299,
          -1.5549870729446411,
          -1.5461241006851196,
          -1.5300393104553225,
          -1.5012245178222656,
          -1.4594920873641968,
          -1.4434051513671875,
          -1.4486713409423828,
          -1.4170113801956177,
          -1.4284459352493286,
          -1.4043267965316772,
          -1.3637925386428833,
          -1.393005609512329,
          -1.450514316558838,
          -1.554615139961243,
          -1.666912078857422,
          -1.7268056869506836,
          -2.0095770359039307,
          -2.1656694412231445,
          -2.154103279113769,
          -1.88745379447937,
          -1.7183066606521606,
          -1.7227703332901,
          -1.670852541923523,
          -1.5609796047210691,
          -1.504048466682434,
          -1.5364340543746948,
          -1.541433572769165,
          -1.524159550666809,
          -1.4986063241958618,
          -1.458881139755249,
          -1.42889666557312,
          -1.4180771112442017,
          -1.4326236248016355,
          -1.5324254035949707,
          -1.7321646213531494,
          -1.9762028455734253,
          -2.46366548538208,
          -2.3778436183929443,
          -2.1787185668945312,
          -2.1095080375671387,
          -1.5524190664291382,
          -1.4037563800811768,
          -1.4145197868347168,
          -1.4787684679031372,
          -1.4668333530426023,
          -1.4337987899780271,
          -1.5358662605285645,
          -1.4235482215881348,
          -1.479007363319397,
          -1.3937543630599976,
          -1.4018923044204712,
          -1.357494235038757,
          -1.3942649364471436,
          -1.500076413154602,
          -1.5652244091033936,
          -1.6303750276565552,
          -1.8697402477264404,
          -2.196521282196045,
          -2.957516431808472,
          -2.9306349754333496,
          2.186811923980713,
          2.557976722717285,
          2.2863781452178955,
          -1.0359444618225098,
          -1.1873472929000854,
          -1.1139265298843384,
          -1.320813775062561,
          -1.3573635816574097,
          -1.4134069681167605,
          -1.4596872329711914,
          -1.431191086769104,
          -1.4497053623199463,
          -1.3858270645141602,
          -1.371706485748291,
          -1.3641451597213743,
          -1.4253491163253784,
          -1.4123737812042236,
          -1.4912490844726562,
          -1.5979435443878174,
          -1.8060612678527832,
          -2.399625539779663,
          2.7108349800109863,
          1.8293156623840328,
          0.918496072292328,
          -0.2199456840753555,
          -0.9213479161262512,
          -1.1397101879119873,
          -1.3107839822769165,
          -1.3142969608306885,
          -1.3264539241790771,
          -1.351532220840454,
          -1.3065028190612793,
          -1.3043853044509888,
          -1.2743408679962158,
          -1.2504551410675049,
          -1.2381030321121216,
          -1.2759218215942385,
          -1.307858109474182,
          -1.3966435194015503,
          -1.8064956665039065,
          -2.456167936325073,
          2.376952886581421,
          1.8165490627288816,
          1.7190152406692505,
          -0.1934851557016372,
          -1.2950139045715332,
          -1.2968209981918335,
          -1.2803854942321775,
          -1.2997231483459473,
          -1.3229440450668335,
          -1.2999311685562134,
          -1.2567901611328125,
          -1.233642339706421,
          -1.2309776544570925,
          -1.228716492652893,
          -1.2103275060653689,
          -1.1937812566757202,
          -1.117316484451294,
          -1.044753909111023,
          -1.083505630493164,
          -1.1865122318267822,
          -1.1805949211120603,
          -1.1982945203781128,
          -1.212759494781494,
          -1.2147810459136963,
          -1.1848552227020264,
          -1.1208537817001345,
          -1.0724564790725708,
          -1.0404998064041138,
          -1.0794744491577148,
          -1.149789810180664,
          -1.312944769859314,
          2.561206340789795,
          2.347904682159424,
          2.065084218978882,
          1.732204556465149,
          1.0374993085861206,
          -0.2356616556644439,
          -0.957274854183197,
          -1.1897083520889282,
          -1.3859801292419434,
          -1.4346983432769775,
          -1.2900866270065308,
          -1.1321604251861572,
          -1.0372862815856934,
          -1.149865984916687,
          -1.193309307098389,
          -1.0757591724395752,
          -1.033599853515625,
          -0.9575865268707277,
          -0.8088993430137634,
          -0.3237512111663818,
          1.8812988996505733,
          2.1900744438171387,
          1.9556940793991089,
          2.0540919303894043,
          2.0172111988067627,
          1.8984111547470093,
          1.9418306350708008,
          1.899247646331787,
          1.9848206043243408,
          2.0699636936187744,
          2.6181952953338623,
          -0.4638205170631408,
          -0.5284843444824219,
          -0.5819275379180908,
          -0.6901211142539978,
          -1.057389736175537,
          -1.314267873764038,
          -1.348798394203186,
          -1.3083593845367432,
          -1.3880935907363892,
          -1.3405624628067017,
          -1.3135316371917725,
          -1.3511735200881958,
          -1.319178342819214,
          -1.3099479675292969,
          -1.3081635236740112,
          -1.3030872344970703,
          -1.3004610538482666,
          -1.308973789215088,
          -1.3137084245681765,
          -1.3298068046569824,
          -1.3233599662780762,
          -1.2792843580245972,
          -1.253993272781372,
          -1.1651932001113892,
          -1.0919898748397827,
          -1.0794278383255005,
          -1.760294795036316,
          2.6608943939208984,
          2.5611448287963867,
          2.4826877117156982,
          2.202332019805908,
          2.3140463829040527,
          2.2213728427886963,
          2.252026081085205,
          2.164647102355957,
          2.0904932022094727,
          2.070612907409668,
          2.329261064529419,
          -1.8991131782531736,
          -1.4306749105453491,
          -1.3975930213928225,
          -1.48195481300354,
          -1.5139559507369995,
          -1.5336230993270874,
          -1.52072274684906,
          -1.4241974353790283,
          -1.3509825468063354,
          -1.3571785688400269,
          -1.3499765396118164,
          -1.3042176961898804,
          -1.321025013923645,
          -1.2538214921951294,
          -1.1914535760879517,
          -1.1989880800247192,
          -1.1857064962387085,
          -1.1565406322479248,
          -1.0704182386398315,
          -0.9750166535377502,
          -0.8842176795005798,
          -0.9259520769119264,
          2.567228078842163,
          2.249821662902832,
          2.399348735809326,
          2.3677361011505127,
          2.196863174438477,
          2.206702947616577,
          2.181708812713623,
          2.184610605239868,
          2.292552709579468,
          2.9514780044555664,
          -1.641333818435669,
          -1.5319563150405884,
          -1.482465147972107,
          -1.4011869430541992,
          -1.3869104385375977,
          -1.3210951089859009,
          -1.2233572006225586,
          -1.1380215883255005,
          -1.091123342514038,
          -1.1121841669082642,
          -1.1324074268341064,
          -1.1494754552841189,
          -1.1535422801971436
         ]
        },
        {
         "marker": {
          "color": "red",
          "size": 6
         },
         "mode": "markers",
         "name": "roll Left turn beginning",
         "showlegend": false,
         "type": "scatter",
         "x": [
          "2024-03-22T12:49:31.300000",
          "2024-03-22T12:49:33.300000",
          "2024-03-22T12:49:35.300000",
          "2024-03-22T12:49:37.600000",
          "2024-03-22T12:49:39.700000",
          "2024-03-22T12:49:42.800000",
          "2024-03-22T12:49:45.100000",
          "2024-03-22T12:49:48.700000",
          "2024-03-22T12:49:52"
         ],
         "y": [
          -1.3637925386428833,
          -1.42889666557312,
          -1.4018923044204712,
          -1.371706485748291,
          -1.2504551410675049,
          -1.1848552227020264,
          -1.033599853515625,
          -1.2792843580245972,
          -1.1857064962387085
         ]
        },
        {
         "marker": {
          "color": "orange",
          "size": 6
         },
         "mode": "markers",
         "name": "roll Left turn ending",
         "showlegend": false,
         "type": "scatter",
         "x": [
          "2024-03-22T12:49:32.400000",
          "2024-03-22T12:49:34.100000",
          "2024-03-22T12:49:36.300000",
          "2024-03-22T12:49:38.400000",
          "2024-03-22T12:49:40.700000",
          "2024-03-22T12:49:43.900000",
          "2024-03-22T12:49:46.500000",
          "2024-03-22T12:49:50.300000",
          "2024-03-22T12:49:53.500000"
         ],
         "y": [
          -1.7227703332901,
          -2.1787185668945312,
          2.186811923980713,
          2.7108349800109863,
          -0.1934851557016372,
          1.0374993085861206,
          2.6181952953338623,
          2.329261064529419,
          2.9514780044555664
         ]
        },
        {
         "marker": {
          "color": "blue",
          "size": 6
         },
         "mode": "markers",
         "name": "roll Right turn beginning",
         "showlegend": false,
         "type": "scatter",
         "x": [
          "2024-03-22T12:49:29.900000",
          "2024-03-22T12:49:32.500000",
          "2024-03-22T12:49:34.200000",
          "2024-03-22T12:49:36.400000",
          "2024-03-22T12:49:38.500000",
          "2024-03-22T12:49:40.800000",
          "2024-03-22T12:49:44",
          "2024-03-22T12:49:46.600000",
          "2024-03-22T12:49:50.400000",
          "2024-03-22T12:49:53.600000"
         ],
         "y": [
          -1.652011156082153,
          -1.670852541923523,
          -2.1095080375671387,
          2.557976722717285,
          1.8293156623840328,
          -1.2950139045715332,
          -0.2356616556644439,
          -0.4638205170631408,
          -1.8991131782531736,
          -1.641333818435669
         ]
        },
        {
         "marker": {
          "color": "purple",
          "size": 6
         },
         "mode": "markers",
         "name": "roll Right turn ending",
         "showlegend": false,
         "type": "scatter",
         "x": [
          "2024-03-22T12:49:31.200000",
          "2024-03-22T12:49:33.200000",
          "2024-03-22T12:49:35.200000",
          "2024-03-22T12:49:37.500000",
          "2024-03-22T12:49:39.600000",
          "2024-03-22T12:49:42.700000",
          "2024-03-22T12:49:45",
          "2024-03-22T12:49:48.600000",
          "2024-03-22T12:49:51.900000",
          "2024-03-22T12:49:54.800000"
         ],
         "y": [
          -1.4043267965316772,
          -1.458881139755249,
          -1.3937543630599976,
          -1.3858270645141602,
          -1.2743408679962158,
          -1.2147810459136963,
          -1.0757591724395752,
          -1.3233599662780762,
          -1.1989880800247192,
          -1.1535422801971436
         ]
        },
        {
         "line": {
          "color": "orange"
         },
         "mode": "lines",
         "name": "pitch",
         "type": "scatter",
         "x": [
          "2024-03-22T12:49:29.900000",
          "2024-03-22T12:49:30",
          "2024-03-22T12:49:30.100000",
          "2024-03-22T12:49:30.200000",
          "2024-03-22T12:49:30.300000",
          "2024-03-22T12:49:30.400000",
          "2024-03-22T12:49:30.500000",
          "2024-03-22T12:49:30.600000",
          "2024-03-22T12:49:30.700000",
          "2024-03-22T12:49:30.800000",
          "2024-03-22T12:49:30.900000",
          "2024-03-22T12:49:31",
          "2024-03-22T12:49:31.100000",
          "2024-03-22T12:49:31.200000",
          "2024-03-22T12:49:31.300000",
          "2024-03-22T12:49:31.400000",
          "2024-03-22T12:49:31.500000",
          "2024-03-22T12:49:31.600000",
          "2024-03-22T12:49:31.700000",
          "2024-03-22T12:49:31.800000",
          "2024-03-22T12:49:31.900000",
          "2024-03-22T12:49:32",
          "2024-03-22T12:49:32.100000",
          "2024-03-22T12:49:32.200000",
          "2024-03-22T12:49:32.300000",
          "2024-03-22T12:49:32.400000",
          "2024-03-22T12:49:32.500000",
          "2024-03-22T12:49:32.600000",
          "2024-03-22T12:49:32.700000",
          "2024-03-22T12:49:32.800000",
          "2024-03-22T12:49:32.900000",
          "2024-03-22T12:49:33",
          "2024-03-22T12:49:33.100000",
          "2024-03-22T12:49:33.200000",
          "2024-03-22T12:49:33.300000",
          "2024-03-22T12:49:33.400000",
          "2024-03-22T12:49:33.500000",
          "2024-03-22T12:49:33.600000",
          "2024-03-22T12:49:33.700000",
          "2024-03-22T12:49:33.800000",
          "2024-03-22T12:49:33.900000",
          "2024-03-22T12:49:34",
          "2024-03-22T12:49:34.100000",
          "2024-03-22T12:49:34.200000",
          "2024-03-22T12:49:34.300000",
          "2024-03-22T12:49:34.400000",
          "2024-03-22T12:49:34.500000",
          "2024-03-22T12:49:34.600000",
          "2024-03-22T12:49:34.700000",
          "2024-03-22T12:49:34.800000",
          "2024-03-22T12:49:34.900000",
          "2024-03-22T12:49:35",
          "2024-03-22T12:49:35.100000",
          "2024-03-22T12:49:35.200000",
          "2024-03-22T12:49:35.300000",
          "2024-03-22T12:49:35.400000",
          "2024-03-22T12:49:35.500000",
          "2024-03-22T12:49:35.600000",
          "2024-03-22T12:49:35.700000",
          "2024-03-22T12:49:35.800000",
          "2024-03-22T12:49:35.900000",
          "2024-03-22T12:49:36",
          "2024-03-22T12:49:36.100000",
          "2024-03-22T12:49:36.200000",
          "2024-03-22T12:49:36.300000",
          "2024-03-22T12:49:36.400000",
          "2024-03-22T12:49:36.500000",
          "2024-03-22T12:49:36.600000",
          "2024-03-22T12:49:36.700000",
          "2024-03-22T12:49:36.800000",
          "2024-03-22T12:49:36.900000",
          "2024-03-22T12:49:37",
          "2024-03-22T12:49:37.100000",
          "2024-03-22T12:49:37.200000",
          "2024-03-22T12:49:37.300000",
          "2024-03-22T12:49:37.400000",
          "2024-03-22T12:49:37.500000",
          "2024-03-22T12:49:37.600000",
          "2024-03-22T12:49:37.700000",
          "2024-03-22T12:49:37.800000",
          "2024-03-22T12:49:37.900000",
          "2024-03-22T12:49:38",
          "2024-03-22T12:49:38.100000",
          "2024-03-22T12:49:38.200000",
          "2024-03-22T12:49:38.300000",
          "2024-03-22T12:49:38.400000",
          "2024-03-22T12:49:38.500000",
          "2024-03-22T12:49:38.600000",
          "2024-03-22T12:49:38.700000",
          "2024-03-22T12:49:38.800000",
          "2024-03-22T12:49:38.900000",
          "2024-03-22T12:49:39",
          "2024-03-22T12:49:39.100000",
          "2024-03-22T12:49:39.200000",
          "2024-03-22T12:49:39.300000",
          "2024-03-22T12:49:39.400000",
          "2024-03-22T12:49:39.500000",
          "2024-03-22T12:49:39.600000",
          "2024-03-22T12:49:39.700000",
          "2024-03-22T12:49:39.800000",
          "2024-03-22T12:49:39.900000",
          "2024-03-22T12:49:40",
          "2024-03-22T12:49:40.100000",
          "2024-03-22T12:49:40.200000",
          "2024-03-22T12:49:40.300000",
          "2024-03-22T12:49:40.400000",
          "2024-03-22T12:49:40.500000",
          "2024-03-22T12:49:40.600000",
          "2024-03-22T12:49:40.700000",
          "2024-03-22T12:49:40.800000",
          "2024-03-22T12:49:40.900000",
          "2024-03-22T12:49:41",
          "2024-03-22T12:49:41.100000",
          "2024-03-22T12:49:41.200000",
          "2024-03-22T12:49:41.300000",
          "2024-03-22T12:49:41.400000",
          "2024-03-22T12:49:41.500000",
          "2024-03-22T12:49:41.600000",
          "2024-03-22T12:49:41.700000",
          "2024-03-22T12:49:41.800000",
          "2024-03-22T12:49:41.900000",
          "2024-03-22T12:49:42",
          "2024-03-22T12:49:42.100000",
          "2024-03-22T12:49:42.200000",
          "2024-03-22T12:49:42.300000",
          "2024-03-22T12:49:42.400000",
          "2024-03-22T12:49:42.500000",
          "2024-03-22T12:49:42.600000",
          "2024-03-22T12:49:42.700000",
          "2024-03-22T12:49:42.800000",
          "2024-03-22T12:49:42.900000",
          "2024-03-22T12:49:43",
          "2024-03-22T12:49:43.100000",
          "2024-03-22T12:49:43.200000",
          "2024-03-22T12:49:43.300000",
          "2024-03-22T12:49:43.400000",
          "2024-03-22T12:49:43.500000",
          "2024-03-22T12:49:43.600000",
          "2024-03-22T12:49:43.700000",
          "2024-03-22T12:49:43.800000",
          "2024-03-22T12:49:43.900000",
          "2024-03-22T12:49:44",
          "2024-03-22T12:49:44.100000",
          "2024-03-22T12:49:44.200000",
          "2024-03-22T12:49:44.300000",
          "2024-03-22T12:49:44.400000",
          "2024-03-22T12:49:44.500000",
          "2024-03-22T12:49:44.600000",
          "2024-03-22T12:49:44.700000",
          "2024-03-22T12:49:44.800000",
          "2024-03-22T12:49:44.900000",
          "2024-03-22T12:49:45",
          "2024-03-22T12:49:45.100000",
          "2024-03-22T12:49:45.200000",
          "2024-03-22T12:49:45.300000",
          "2024-03-22T12:49:45.400000",
          "2024-03-22T12:49:45.500000",
          "2024-03-22T12:49:45.600000",
          "2024-03-22T12:49:45.700000",
          "2024-03-22T12:49:45.800000",
          "2024-03-22T12:49:45.900000",
          "2024-03-22T12:49:46",
          "2024-03-22T12:49:46.100000",
          "2024-03-22T12:49:46.200000",
          "2024-03-22T12:49:46.300000",
          "2024-03-22T12:49:46.400000",
          "2024-03-22T12:49:46.500000",
          "2024-03-22T12:49:46.600000",
          "2024-03-22T12:49:46.700000",
          "2024-03-22T12:49:46.800000",
          "2024-03-22T12:49:46.900000",
          "2024-03-22T12:49:47",
          "2024-03-22T12:49:47.100000",
          "2024-03-22T12:49:47.200000",
          "2024-03-22T12:49:47.300000",
          "2024-03-22T12:49:47.400000",
          "2024-03-22T12:49:47.500000",
          "2024-03-22T12:49:47.600000",
          "2024-03-22T12:49:47.700000",
          "2024-03-22T12:49:47.800000",
          "2024-03-22T12:49:47.900000",
          "2024-03-22T12:49:48",
          "2024-03-22T12:49:48.100000",
          "2024-03-22T12:49:48.200000",
          "2024-03-22T12:49:48.300000",
          "2024-03-22T12:49:48.400000",
          "2024-03-22T12:49:48.500000",
          "2024-03-22T12:49:48.600000",
          "2024-03-22T12:49:48.700000",
          "2024-03-22T12:49:48.800000",
          "2024-03-22T12:49:48.900000",
          "2024-03-22T12:49:49",
          "2024-03-22T12:49:49.100000",
          "2024-03-22T12:49:49.200000",
          "2024-03-22T12:49:49.300000",
          "2024-03-22T12:49:49.400000",
          "2024-03-22T12:49:49.500000",
          "2024-03-22T12:49:49.600000",
          "2024-03-22T12:49:49.700000",
          "2024-03-22T12:49:49.800000",
          "2024-03-22T12:49:49.900000",
          "2024-03-22T12:49:50",
          "2024-03-22T12:49:50.100000",
          "2024-03-22T12:49:50.200000",
          "2024-03-22T12:49:50.300000",
          "2024-03-22T12:49:50.400000",
          "2024-03-22T12:49:50.500000",
          "2024-03-22T12:49:50.600000",
          "2024-03-22T12:49:50.700000",
          "2024-03-22T12:49:50.800000",
          "2024-03-22T12:49:50.900000",
          "2024-03-22T12:49:51",
          "2024-03-22T12:49:51.100000",
          "2024-03-22T12:49:51.200000",
          "2024-03-22T12:49:51.300000",
          "2024-03-22T12:49:51.400000",
          "2024-03-22T12:49:51.500000",
          "2024-03-22T12:49:51.600000",
          "2024-03-22T12:49:51.700000",
          "2024-03-22T12:49:51.800000",
          "2024-03-22T12:49:51.900000",
          "2024-03-22T12:49:52",
          "2024-03-22T12:49:52.100000",
          "2024-03-22T12:49:52.200000",
          "2024-03-22T12:49:52.300000",
          "2024-03-22T12:49:52.400000",
          "2024-03-22T12:49:52.500000",
          "2024-03-22T12:49:52.600000",
          "2024-03-22T12:49:52.700000",
          "2024-03-22T12:49:52.800000",
          "2024-03-22T12:49:52.900000",
          "2024-03-22T12:49:53",
          "2024-03-22T12:49:53.100000",
          "2024-03-22T12:49:53.200000",
          "2024-03-22T12:49:53.300000",
          "2024-03-22T12:49:53.400000",
          "2024-03-22T12:49:53.500000",
          "2024-03-22T12:49:53.600000",
          "2024-03-22T12:49:53.700000",
          "2024-03-22T12:49:53.800000",
          "2024-03-22T12:49:53.900000",
          "2024-03-22T12:49:54",
          "2024-03-22T12:49:54.100000",
          "2024-03-22T12:49:54.200000",
          "2024-03-22T12:49:54.300000",
          "2024-03-22T12:49:54.400000",
          "2024-03-22T12:49:54.500000",
          "2024-03-22T12:49:54.600000",
          "2024-03-22T12:49:54.700000",
          "2024-03-22T12:49:54.800000"
         ],
         "y": [
          -1.3107047080993652,
          -1.2347166538238523,
          -1.100493311882019,
          -1.0264126062393188,
          -0.9109527468681335,
          -0.8413539528846741,
          -0.7969697713851929,
          -0.7570517659187317,
          -0.6953045129776001,
          -0.6750174164772034,
          -0.6709811687469482,
          -0.6666436195373535,
          -0.6688140630722046,
          -0.6868186593055725,
          -0.7241469621658325,
          -0.7785571217536926,
          -0.8536520004272461,
          -0.963273823261261,
          -1.105742573738098,
          -1.2184869050979614,
          -1.2981812953948977,
          -1.3320049047470093,
          -1.3488388061523438,
          -1.3768129348754885,
          -1.334054708480835,
          -1.2366904020309448,
          -1.1628875732421875,
          -1.08517587184906,
          -0.9978137612342834,
          -0.8888265490531921,
          -0.8216933012008667,
          -0.7500699758529663,
          -0.6529650688171387,
          -0.5963627696037292,
          -0.6027942895889282,
          -0.6454861760139465,
          -0.7952029705047607,
          -0.9836884140968324,
          -1.17784321308136,
          -1.3011397123336792,
          -1.3825584650039673,
          -1.385218620300293,
          -1.4348639249801636,
          -1.4557901620864868,
          -1.346102595329285,
          -1.1799331903457642,
          -1.04403817653656,
          -0.9077266454696656,
          -0.7788911461830139,
          -0.6371231079101562,
          -0.5510756373405457,
          -0.4686314165592193,
          -0.4247374534606933,
          -0.4465170502662658,
          -0.5370165109634399,
          -0.6843367218971252,
          -0.8327074646949768,
          -0.970165491104126,
          -1.120020031929016,
          -1.248984932899475,
          -1.3361587524414062,
          -1.414447784423828,
          -1.4095157384872437,
          -1.4497913122177124,
          -1.4355685710906982,
          -1.4254645109176636,
          -1.4909040927886963,
          -1.5416104793548584,
          -1.4012078046798706,
          -1.2858740091323853,
          -1.1475861072540283,
          -0.973527729511261,
          -0.8156688213348389,
          -0.6749977469444275,
          -0.5596058368682861,
          -0.4977527856826782,
          -0.5033261775970459,
          -0.4661537110805511,
          -0.5213831663131714,
          -0.6461215019226074,
          -0.7967559695243835,
          -0.9591488242149352,
          -1.1955410242080688,
          -1.306172490119934,
          -1.4565818309783936,
          -1.4589616060256958,
          -1.465313196182251,
          -1.4807909727096558,
          -1.4658199548721311,
          -1.4113497734069824,
          -1.2749017477035522,
          -1.099861741065979,
          -0.9172765612602234,
          -0.7594725489616394,
          -0.6375620365142822,
          -0.5060961842536926,
          -0.4473161697387695,
          -0.4665161073207855,
          -0.5467192530632019,
          -0.6850101947784424,
          -0.8496578335762024,
          -1.0605227947235107,
          -1.2963532209396362,
          -1.4167063236236572,
          -1.4896671772003174,
          -1.5166785717010498,
          -1.4265745878219604,
          -1.4949301481246948,
          -1.5529755353927612,
          -1.3833600282669067,
          -1.2070629596710205,
          -1.021841526031494,
          -0.8654500246047974,
          -0.7798385620117188,
          -0.7113381624221802,
          -0.6177929043769836,
          -0.5654698610305786,
          -0.5417852997779846,
          -0.5645118951797485,
          -0.5866764783859253,
          -0.6011204719543457,
          -0.6677310466766357,
          -0.70887690782547,
          -0.776067316532135,
          -0.8549503684043884,
          -0.9017314314842224,
          -0.9381913542747498,
          -0.9514904618263244,
          -0.9558593034744264,
          -0.9586454629898072,
          -0.94938325881958,
          -0.9837496280670166,
          -1.049549579620361,
          -1.131519079208374,
          -1.2933542728424072,
          -1.4823873043060305,
          -1.501499891281128,
          -1.4616334438323977,
          -1.4399840831756592,
          -1.3976789712905884,
          -1.4750242233276367,
          -1.4528051614761353,
          -1.3795737028121948,
          -1.2438533306121826,
          -0.9982641339302064,
          -0.8543015718460083,
          -0.885245680809021,
          -0.8902407288551331,
          -0.8697919845581055,
          -0.7412760853767395,
          -0.7190670967102051,
          -0.7137458324432373,
          -0.7704316973686218,
          -0.9198733568191528,
          -1.0975329875946045,
          -1.446369171142578,
          -1.4350042343139648,
          -1.45606791973114,
          -1.2996537685394287,
          -1.2892215251922607,
          -1.2725368738174438,
          -1.2697710990905762,
          -1.2891196012496948,
          -1.3153423070907593,
          -1.3509514331817627,
          -1.433868646621704,
          -1.5458526611328125,
          -1.5054442882537842,
          -1.4174518585205078,
          -1.3533843755722046,
          -1.288113355636597,
          -1.2186496257781982,
          -1.083265781402588,
          -0.9316363334655762,
          -0.7691330909729004,
          -0.5826529860496521,
          -0.523430585861206,
          -0.4704423546791076,
          -0.4548670649528503,
          -0.4541937708854675,
          -0.4915620982646942,
          -0.5255860686302185,
          -0.6211043000221252,
          -0.7041321396827698,
          -0.761651873588562,
          -0.8010971546173096,
          -0.8295286893844604,
          -0.845184326171875,
          -0.8766695857048035,
          -0.898605227470398,
          -0.9491626620292664,
          -1.0552901029586792,
          -1.2638243436813354,
          -1.5372629165649414,
          -1.3932890892028809,
          -1.3135769367218018,
          -1.3326016664505005,
          -1.1224135160446167,
          -1.2385321855545044,
          -1.1848243474960327,
          -1.1766918897628784,
          -1.2154028415679932,
          -1.259807825088501,
          -1.3661575317382812,
          -1.4910050630569458,
          -1.4992257356643677,
          -1.3895037174224854,
          -1.2725865840911863,
          -1.156103253364563,
          -1.0123871564865112,
          -0.9056942462921144,
          -0.8185334801673889,
          -0.6899129152297974,
          -0.6103716492652893,
          -0.6297842860221863,
          -0.6130102276802063,
          -0.5872880816459656,
          -0.5874470472335815,
          -0.6285807490348816,
          -0.7106040120124817,
          -0.7228392958641052,
          -0.701897144317627,
          -0.7058660984039307,
          -0.7664341330528259,
          -0.8683474063873291,
          -1.0381866693496704,
          -1.3037666082382202,
          -1.533612608909607,
          -1.3582197427749634,
          -1.2145241498947144,
          -1.2443875074386597,
          -1.1512107849121094,
          -1.1615862846374512,
          -1.2122958898544312,
          -1.2717442512512207,
          -1.4385099411010742,
          -1.5220757722854614,
          -1.4585047960281372,
          -1.3195816278457642,
          -1.1293959617614746,
          -0.9285369515419006,
          -0.7936838865280151,
          -0.6998316645622253,
          -0.6747695207595825,
          -0.6387677788734436,
          -0.6121143102645874,
          -0.6062238812446594,
          -0.617854654788971,
          -0.5633140802383423,
          -0.4906073808670044
         ]
        },
        {
         "marker": {
          "color": "red",
          "size": 6
         },
         "mode": "markers",
         "name": "pitch Left turn beginning",
         "showlegend": false,
         "type": "scatter",
         "x": [
          "2024-03-22T12:49:31.300000",
          "2024-03-22T12:49:33.300000",
          "2024-03-22T12:49:35.300000",
          "2024-03-22T12:49:37.600000",
          "2024-03-22T12:49:39.700000",
          "2024-03-22T12:49:42.800000",
          "2024-03-22T12:49:45.100000",
          "2024-03-22T12:49:48.700000",
          "2024-03-22T12:49:52"
         ],
         "y": [
          -0.7241469621658325,
          -0.6027942895889282,
          -0.5370165109634399,
          -0.4661537110805511,
          -0.5467192530632019,
          -0.9586454629898072,
          -0.7704316973686218,
          -0.8766695857048035,
          -0.701897144317627
         ]
        },
        {
         "marker": {
          "color": "orange",
          "size": 6
         },
         "mode": "markers",
         "name": "pitch Left turn ending",
         "showlegend": false,
         "type": "scatter",
         "x": [
          "2024-03-22T12:49:32.400000",
          "2024-03-22T12:49:34.100000",
          "2024-03-22T12:49:36.300000",
          "2024-03-22T12:49:38.400000",
          "2024-03-22T12:49:40.700000",
          "2024-03-22T12:49:43.900000",
          "2024-03-22T12:49:46.500000",
          "2024-03-22T12:49:50.300000",
          "2024-03-22T12:49:53.500000"
         ],
         "y": [
          -1.2366904020309448,
          -1.4348639249801636,
          -1.4355685710906982,
          -1.4589616060256958,
          -1.5529755353927612,
          -1.4750242233276367,
          -1.5458526611328125,
          -1.4910050630569458,
          -1.5220757722854614
         ]
        },
        {
         "marker": {
          "color": "blue",
          "size": 6
         },
         "mode": "markers",
         "name": "pitch Right turn beginning",
         "showlegend": false,
         "type": "scatter",
         "x": [
          "2024-03-22T12:49:29.900000",
          "2024-03-22T12:49:32.500000",
          "2024-03-22T12:49:34.200000",
          "2024-03-22T12:49:36.400000",
          "2024-03-22T12:49:38.500000",
          "2024-03-22T12:49:40.800000",
          "2024-03-22T12:49:44",
          "2024-03-22T12:49:46.600000",
          "2024-03-22T12:49:50.400000",
          "2024-03-22T12:49:53.600000"
         ],
         "y": [
          -1.3107047080993652,
          -1.1628875732421875,
          -1.4557901620864868,
          -1.4254645109176636,
          -1.465313196182251,
          -1.3833600282669067,
          -1.4528051614761353,
          -1.5054442882537842,
          -1.4992257356643677,
          -1.4585047960281372
         ]
        },
        {
         "marker": {
          "color": "purple",
          "size": 6
         },
         "mode": "markers",
         "name": "pitch Right turn ending",
         "showlegend": false,
         "type": "scatter",
         "x": [
          "2024-03-22T12:49:31.200000",
          "2024-03-22T12:49:33.200000",
          "2024-03-22T12:49:35.200000",
          "2024-03-22T12:49:37.500000",
          "2024-03-22T12:49:39.600000",
          "2024-03-22T12:49:42.700000",
          "2024-03-22T12:49:45",
          "2024-03-22T12:49:48.600000",
          "2024-03-22T12:49:51.900000",
          "2024-03-22T12:49:54.800000"
         ],
         "y": [
          -0.6868186593055725,
          -0.5963627696037292,
          -0.4465170502662658,
          -0.5033261775970459,
          -0.4665161073207855,
          -0.9558593034744264,
          -0.7137458324432373,
          -0.845184326171875,
          -0.7228392958641052,
          -0.4906073808670044
         ]
        },
        {
         "line": {
          "color": "green"
         },
         "mode": "lines",
         "name": "yaw",
         "type": "scatter",
         "x": [
          "2024-03-22T12:49:29.900000",
          "2024-03-22T12:49:30",
          "2024-03-22T12:49:30.100000",
          "2024-03-22T12:49:30.200000",
          "2024-03-22T12:49:30.300000",
          "2024-03-22T12:49:30.400000",
          "2024-03-22T12:49:30.500000",
          "2024-03-22T12:49:30.600000",
          "2024-03-22T12:49:30.700000",
          "2024-03-22T12:49:30.800000",
          "2024-03-22T12:49:30.900000",
          "2024-03-22T12:49:31",
          "2024-03-22T12:49:31.100000",
          "2024-03-22T12:49:31.200000",
          "2024-03-22T12:49:31.300000",
          "2024-03-22T12:49:31.400000",
          "2024-03-22T12:49:31.500000",
          "2024-03-22T12:49:31.600000",
          "2024-03-22T12:49:31.700000",
          "2024-03-22T12:49:31.800000",
          "2024-03-22T12:49:31.900000",
          "2024-03-22T12:49:32",
          "2024-03-22T12:49:32.100000",
          "2024-03-22T12:49:32.200000",
          "2024-03-22T12:49:32.300000",
          "2024-03-22T12:49:32.400000",
          "2024-03-22T12:49:32.500000",
          "2024-03-22T12:49:32.600000",
          "2024-03-22T12:49:32.700000",
          "2024-03-22T12:49:32.800000",
          "2024-03-22T12:49:32.900000",
          "2024-03-22T12:49:33",
          "2024-03-22T12:49:33.100000",
          "2024-03-22T12:49:33.200000",
          "2024-03-22T12:49:33.300000",
          "2024-03-22T12:49:33.400000",
          "2024-03-22T12:49:33.500000",
          "2024-03-22T12:49:33.600000",
          "2024-03-22T12:49:33.700000",
          "2024-03-22T12:49:33.800000",
          "2024-03-22T12:49:33.900000",
          "2024-03-22T12:49:34",
          "2024-03-22T12:49:34.100000",
          "2024-03-22T12:49:34.200000",
          "2024-03-22T12:49:34.300000",
          "2024-03-22T12:49:34.400000",
          "2024-03-22T12:49:34.500000",
          "2024-03-22T12:49:34.600000",
          "2024-03-22T12:49:34.700000",
          "2024-03-22T12:49:34.800000",
          "2024-03-22T12:49:34.900000",
          "2024-03-22T12:49:35",
          "2024-03-22T12:49:35.100000",
          "2024-03-22T12:49:35.200000",
          "2024-03-22T12:49:35.300000",
          "2024-03-22T12:49:35.400000",
          "2024-03-22T12:49:35.500000",
          "2024-03-22T12:49:35.600000",
          "2024-03-22T12:49:35.700000",
          "2024-03-22T12:49:35.800000",
          "2024-03-22T12:49:35.900000",
          "2024-03-22T12:49:36",
          "2024-03-22T12:49:36.100000",
          "2024-03-22T12:49:36.200000",
          "2024-03-22T12:49:36.300000",
          "2024-03-22T12:49:36.400000",
          "2024-03-22T12:49:36.500000",
          "2024-03-22T12:49:36.600000",
          "2024-03-22T12:49:36.700000",
          "2024-03-22T12:49:36.800000",
          "2024-03-22T12:49:36.900000",
          "2024-03-22T12:49:37",
          "2024-03-22T12:49:37.100000",
          "2024-03-22T12:49:37.200000",
          "2024-03-22T12:49:37.300000",
          "2024-03-22T12:49:37.400000",
          "2024-03-22T12:49:37.500000",
          "2024-03-22T12:49:37.600000",
          "2024-03-22T12:49:37.700000",
          "2024-03-22T12:49:37.800000",
          "2024-03-22T12:49:37.900000",
          "2024-03-22T12:49:38",
          "2024-03-22T12:49:38.100000",
          "2024-03-22T12:49:38.200000",
          "2024-03-22T12:49:38.300000",
          "2024-03-22T12:49:38.400000",
          "2024-03-22T12:49:38.500000",
          "2024-03-22T12:49:38.600000",
          "2024-03-22T12:49:38.700000",
          "2024-03-22T12:49:38.800000",
          "2024-03-22T12:49:38.900000",
          "2024-03-22T12:49:39",
          "2024-03-22T12:49:39.100000",
          "2024-03-22T12:49:39.200000",
          "2024-03-22T12:49:39.300000",
          "2024-03-22T12:49:39.400000",
          "2024-03-22T12:49:39.500000",
          "2024-03-22T12:49:39.600000",
          "2024-03-22T12:49:39.700000",
          "2024-03-22T12:49:39.800000",
          "2024-03-22T12:49:39.900000",
          "2024-03-22T12:49:40",
          "2024-03-22T12:49:40.100000",
          "2024-03-22T12:49:40.200000",
          "2024-03-22T12:49:40.300000",
          "2024-03-22T12:49:40.400000",
          "2024-03-22T12:49:40.500000",
          "2024-03-22T12:49:40.600000",
          "2024-03-22T12:49:40.700000",
          "2024-03-22T12:49:40.800000",
          "2024-03-22T12:49:40.900000",
          "2024-03-22T12:49:41",
          "2024-03-22T12:49:41.100000",
          "2024-03-22T12:49:41.200000",
          "2024-03-22T12:49:41.300000",
          "2024-03-22T12:49:41.400000",
          "2024-03-22T12:49:41.500000",
          "2024-03-22T12:49:41.600000",
          "2024-03-22T12:49:41.700000",
          "2024-03-22T12:49:41.800000",
          "2024-03-22T12:49:41.900000",
          "2024-03-22T12:49:42",
          "2024-03-22T12:49:42.100000",
          "2024-03-22T12:49:42.200000",
          "2024-03-22T12:49:42.300000",
          "2024-03-22T12:49:42.400000",
          "2024-03-22T12:49:42.500000",
          "2024-03-22T12:49:42.600000",
          "2024-03-22T12:49:42.700000",
          "2024-03-22T12:49:42.800000",
          "2024-03-22T12:49:42.900000",
          "2024-03-22T12:49:43",
          "2024-03-22T12:49:43.100000",
          "2024-03-22T12:49:43.200000",
          "2024-03-22T12:49:43.300000",
          "2024-03-22T12:49:43.400000",
          "2024-03-22T12:49:43.500000",
          "2024-03-22T12:49:43.600000",
          "2024-03-22T12:49:43.700000",
          "2024-03-22T12:49:43.800000",
          "2024-03-22T12:49:43.900000",
          "2024-03-22T12:49:44",
          "2024-03-22T12:49:44.100000",
          "2024-03-22T12:49:44.200000",
          "2024-03-22T12:49:44.300000",
          "2024-03-22T12:49:44.400000",
          "2024-03-22T12:49:44.500000",
          "2024-03-22T12:49:44.600000",
          "2024-03-22T12:49:44.700000",
          "2024-03-22T12:49:44.800000",
          "2024-03-22T12:49:44.900000",
          "2024-03-22T12:49:45",
          "2024-03-22T12:49:45.100000",
          "2024-03-22T12:49:45.200000",
          "2024-03-22T12:49:45.300000",
          "2024-03-22T12:49:45.400000",
          "2024-03-22T12:49:45.500000",
          "2024-03-22T12:49:45.600000",
          "2024-03-22T12:49:45.700000",
          "2024-03-22T12:49:45.800000",
          "2024-03-22T12:49:45.900000",
          "2024-03-22T12:49:46",
          "2024-03-22T12:49:46.100000",
          "2024-03-22T12:49:46.200000",
          "2024-03-22T12:49:46.300000",
          "2024-03-22T12:49:46.400000",
          "2024-03-22T12:49:46.500000",
          "2024-03-22T12:49:46.600000",
          "2024-03-22T12:49:46.700000",
          "2024-03-22T12:49:46.800000",
          "2024-03-22T12:49:46.900000",
          "2024-03-22T12:49:47",
          "2024-03-22T12:49:47.100000",
          "2024-03-22T12:49:47.200000",
          "2024-03-22T12:49:47.300000",
          "2024-03-22T12:49:47.400000",
          "2024-03-22T12:49:47.500000",
          "2024-03-22T12:49:47.600000",
          "2024-03-22T12:49:47.700000",
          "2024-03-22T12:49:47.800000",
          "2024-03-22T12:49:47.900000",
          "2024-03-22T12:49:48",
          "2024-03-22T12:49:48.100000",
          "2024-03-22T12:49:48.200000",
          "2024-03-22T12:49:48.300000",
          "2024-03-22T12:49:48.400000",
          "2024-03-22T12:49:48.500000",
          "2024-03-22T12:49:48.600000",
          "2024-03-22T12:49:48.700000",
          "2024-03-22T12:49:48.800000",
          "2024-03-22T12:49:48.900000",
          "2024-03-22T12:49:49",
          "2024-03-22T12:49:49.100000",
          "2024-03-22T12:49:49.200000",
          "2024-03-22T12:49:49.300000",
          "2024-03-22T12:49:49.400000",
          "2024-03-22T12:49:49.500000",
          "2024-03-22T12:49:49.600000",
          "2024-03-22T12:49:49.700000",
          "2024-03-22T12:49:49.800000",
          "2024-03-22T12:49:49.900000",
          "2024-03-22T12:49:50",
          "2024-03-22T12:49:50.100000",
          "2024-03-22T12:49:50.200000",
          "2024-03-22T12:49:50.300000",
          "2024-03-22T12:49:50.400000",
          "2024-03-22T12:49:50.500000",
          "2024-03-22T12:49:50.600000",
          "2024-03-22T12:49:50.700000",
          "2024-03-22T12:49:50.800000",
          "2024-03-22T12:49:50.900000",
          "2024-03-22T12:49:51",
          "2024-03-22T12:49:51.100000",
          "2024-03-22T12:49:51.200000",
          "2024-03-22T12:49:51.300000",
          "2024-03-22T12:49:51.400000",
          "2024-03-22T12:49:51.500000",
          "2024-03-22T12:49:51.600000",
          "2024-03-22T12:49:51.700000",
          "2024-03-22T12:49:51.800000",
          "2024-03-22T12:49:51.900000",
          "2024-03-22T12:49:52",
          "2024-03-22T12:49:52.100000",
          "2024-03-22T12:49:52.200000",
          "2024-03-22T12:49:52.300000",
          "2024-03-22T12:49:52.400000",
          "2024-03-22T12:49:52.500000",
          "2024-03-22T12:49:52.600000",
          "2024-03-22T12:49:52.700000",
          "2024-03-22T12:49:52.800000",
          "2024-03-22T12:49:52.900000",
          "2024-03-22T12:49:53",
          "2024-03-22T12:49:53.100000",
          "2024-03-22T12:49:53.200000",
          "2024-03-22T12:49:53.300000",
          "2024-03-22T12:49:53.400000",
          "2024-03-22T12:49:53.500000",
          "2024-03-22T12:49:53.600000",
          "2024-03-22T12:49:53.700000",
          "2024-03-22T12:49:53.800000",
          "2024-03-22T12:49:53.900000",
          "2024-03-22T12:49:54",
          "2024-03-22T12:49:54.100000",
          "2024-03-22T12:49:54.200000",
          "2024-03-22T12:49:54.300000",
          "2024-03-22T12:49:54.400000",
          "2024-03-22T12:49:54.500000",
          "2024-03-22T12:49:54.600000",
          "2024-03-22T12:49:54.700000",
          "2024-03-22T12:49:54.800000"
         ],
         "y": [
          1.6789380311965942,
          1.778738260269165,
          1.7877768278121948,
          1.87896466255188,
          1.99329674243927,
          2.132547616958618,
          2.292764663696289,
          2.477759599685669,
          2.629406213760376,
          2.792957305908203,
          2.8822250366210938,
          2.960319995880127,
          3.0287296772003174,
          3.0541446208953857,
          3.0691611766815186,
          3.020668029785156,
          2.915380954742432,
          2.774268865585327,
          2.530125379562378,
          2.297100782394409,
          1.7660508155822754,
          1.3772573471069336,
          1.240062952041626,
          1.4299317598342896,
          1.6776098012924194,
          1.784188151359558,
          1.8689452409744265,
          1.9726938009262085,
          2.0531575679779053,
          2.150303602218628,
          2.322953224182129,
          2.5309090614318848,
          2.7837061882019043,
          2.9091382026672363,
          2.9368720054626465,
          3.02132511138916,
          2.886138439178467,
          2.7012689113616943,
          2.2745165824890137,
          1.74026620388031,
          0.908722996711731,
          0.9024812579154968,
          1.0573655366897583,
          1.1883643865585327,
          1.815124154090881,
          1.99114727973938,
          2.0467092990875244,
          2.098651170730591,
          2.260071992874145,
          2.456030368804932,
          2.777362108230591,
          2.8964991569519043,
          3.051514148712158,
          3.031359910964966,
          3.069812536239624,
          3.066131830215454,
          3.0501837730407715,
          2.876027107238769,
          2.6189701557159424,
          2.4609320163726807,
          2.06775975227356,
          1.467809557914734,
          0.5261708498001099,
          0.5261139869689941,
          -0.7055683732032776,
          -0.3076300323009491,
          -0.6519016623497009,
          2.321378231048584,
          2.213587999343872,
          2.2852776050567627,
          2.114021778106689,
          2.196213483810425,
          2.405160903930664,
          2.728137493133545,
          2.8665361404418945,
          2.975167989730835,
          3.1068553924560547,
          -3.13631534576416,
          -3.139221906661988,
          3.0364511013031006,
          3.028697967529297,
          2.910508871078491,
          2.555650234222412,
          2.066261053085327,
          1.2414119243621826,
          -0.0344364084303379,
          -0.9412044882774352,
          -1.7740261554718018,
          -2.9136579036712646,
          2.6495418548583984,
          2.409085512161255,
          2.325467586517334,
          2.501006841659546,
          2.7607223987579346,
          2.9306702613830566,
          -3.009597063064575,
          -2.861900329589844,
          -2.8279170989990234,
          -2.89719820022583,
          -2.9489340782165527,
          -2.978477716445923,
          -3.1161279678344727,
          2.833421230316162,
          2.15099835395813,
          1.3681987524032593,
          -0.1265824884176254,
          -0.7572226524353027,
          -0.9355831742286682,
          -2.857064247131348,
          2.3296022415161133,
          2.3506009578704834,
          2.52683973312378,
          2.7240407466888428,
          2.893472194671631,
          3.041837692260742,
          -3.07346773147583,
          -2.938377141952514,
          -2.902695655822754,
          -2.9086990356445312,
          -2.868247509002685,
          -2.8133788108825684,
          -2.7556047439575195,
          -2.7115511894226074,
          -2.7324228286743164,
          -2.7944695949554443,
          -2.7966904640197754,
          -2.8104143142700195,
          -2.8043437004089355,
          -2.7644460201263428,
          -2.6896345615386963,
          -2.601645231246948,
          -2.581826448440552,
          -2.6267952919006348,
          -2.715456962585449,
          -2.897679328918457,
          3.008098125457764,
          0.3550372719764709,
          -0.0210882779210805,
          -0.3715263903141022,
          -0.6928284168243408,
          -1.3524223566055298,
          -2.656857967376709,
          2.890864610671997,
          2.683783769607544,
          2.7354257106781006,
          3.034189462661743,
          -3.055210828781128,
          -2.870104551315308,
          -2.80602765083313,
          -2.761472463607788,
          -2.650239944458008,
          -2.489954710006714,
          -2.459003210067749,
          -2.477171897888184,
          -2.532155513763428,
          -2.285563945770264,
          -0.370973140001297,
          -0.1580946296453476,
          -0.5737561583518982,
          -0.5833683609962463,
          -0.8007916808128357,
          -0.9812730550765992,
          -0.9248719215393066,
          -1.0242770910263062,
          -0.9458665251731871,
          -0.7813211679458618,
          -0.1441361755132675,
          3.0485143661499023,
          2.941359043121338,
          2.845698833465576,
          2.712308645248413,
          2.3741228580474854,
          2.249697208404541,
          2.44016695022583,
          2.78083610534668,
          3.044827699661255,
          -1.642898678779602,
          -1.5863926410675049,
          -1.492100715637207,
          -1.4672400951385498,
          -1.496367335319519,
          -1.479627013206482,
          -1.4759057760238647,
          -1.5139241218566897,
          -1.5169503688812256,
          -1.480548858642578,
          -1.429374098777771,
          -1.3565391302108765,
          -1.2931607961654663,
          -1.2584619522094729,
          -1.185096263885498,
          -1.184783935546875,
          -1.2557448148727417,
          -2.225673198699951,
          1.899072527885437,
          1.559448480606079,
          1.3411359786987305,
          0.8988125920295715,
          0.8992211818695068,
          0.7784736156463623,
          0.7132025957107544,
          0.5795751214027405,
          0.5059903860092163,
          0.5303501486778259,
          0.7791467308998108,
          2.834157466888428,
          -2.9923343658447266,
          -2.9152140617370605,
          -2.949570178985596,
          -2.8225929737091064,
          -2.541078329086304,
          -2.1930596828460693,
          -1.8531962633132928,
          -1.6994669437408447,
          -1.6799167394638062,
          -1.6801143884658811,
          -1.5637245178222656,
          -1.497275948524475,
          -1.4088000059127808,
          -1.4031953811645508,
          -1.311436891555786,
          -1.2018754482269287,
          -1.110951542854309,
          -1.0401413440704346,
          -0.992608904838562,
          -0.948680818080902,
          -1.074444055557251,
          2.1507809162139893,
          1.3990410566329956,
          1.0853286981582642,
          0.9705268144607544,
          0.8495014905929565,
          0.871175229549408,
          0.7516085505485535,
          0.7602939009666443,
          0.9213434457778932,
          1.5980597734451294,
          -3.017077207565308,
          -2.862232446670532,
          -2.63083815574646,
          -2.244675397872925,
          -1.914830446243286,
          -1.6225818395614624,
          -1.3951503038406372,
          -1.2886850833892822,
          -1.150322437286377,
          -1.1139880418777466,
          -1.1600887775421145,
          -1.0932084321975708,
          -1.0069522857666016
         ]
        },
        {
         "marker": {
          "color": "red",
          "size": 6
         },
         "mode": "markers",
         "name": "yaw Left turn beginning",
         "showlegend": false,
         "type": "scatter",
         "x": [
          "2024-03-22T12:49:31.300000",
          "2024-03-22T12:49:33.300000",
          "2024-03-22T12:49:35.300000",
          "2024-03-22T12:49:37.600000",
          "2024-03-22T12:49:39.700000",
          "2024-03-22T12:49:42.800000",
          "2024-03-22T12:49:45.100000",
          "2024-03-22T12:49:48.700000",
          "2024-03-22T12:49:52"
         ],
         "y": [
          3.0691611766815186,
          2.9368720054626465,
          3.069812536239624,
          -3.13631534576416,
          -2.89719820022583,
          -2.6896345615386963,
          -2.459003210067749,
          -1.2931607961654663,
          -1.2018754482269287
         ]
        },
        {
         "marker": {
          "color": "orange",
          "size": 6
         },
         "mode": "markers",
         "name": "yaw Left turn ending",
         "showlegend": false,
         "type": "scatter",
         "x": [
          "2024-03-22T12:49:32.400000",
          "2024-03-22T12:49:34.100000",
          "2024-03-22T12:49:36.300000",
          "2024-03-22T12:49:38.400000",
          "2024-03-22T12:49:40.700000",
          "2024-03-22T12:49:43.900000",
          "2024-03-22T12:49:46.500000",
          "2024-03-22T12:49:50.300000",
          "2024-03-22T12:49:53.500000"
         ],
         "y": [
          1.784188151359558,
          1.0573655366897583,
          -0.7055683732032776,
          -0.0344364084303379,
          -2.857064247131348,
          -1.3524223566055298,
          -0.1441361755132675,
          0.7791467308998108,
          1.5980597734451294
         ]
        },
        {
         "marker": {
          "color": "blue",
          "size": 6
         },
         "mode": "markers",
         "name": "yaw Right turn beginning",
         "showlegend": false,
         "type": "scatter",
         "x": [
          "2024-03-22T12:49:29.900000",
          "2024-03-22T12:49:32.500000",
          "2024-03-22T12:49:34.200000",
          "2024-03-22T12:49:36.400000",
          "2024-03-22T12:49:38.500000",
          "2024-03-22T12:49:40.800000",
          "2024-03-22T12:49:44",
          "2024-03-22T12:49:46.600000",
          "2024-03-22T12:49:50.400000",
          "2024-03-22T12:49:53.600000"
         ],
         "y": [
          1.6789380311965942,
          1.8689452409744265,
          1.1883643865585327,
          -0.3076300323009491,
          -0.9412044882774352,
          2.3296022415161133,
          -2.656857967376709,
          3.0485143661499023,
          2.834157466888428,
          -3.017077207565308
         ]
        },
        {
         "marker": {
          "color": "purple",
          "size": 6
         },
         "mode": "markers",
         "name": "yaw Right turn ending",
         "showlegend": false,
         "type": "scatter",
         "x": [
          "2024-03-22T12:49:31.200000",
          "2024-03-22T12:49:33.200000",
          "2024-03-22T12:49:35.200000",
          "2024-03-22T12:49:37.500000",
          "2024-03-22T12:49:39.600000",
          "2024-03-22T12:49:42.700000",
          "2024-03-22T12:49:45",
          "2024-03-22T12:49:48.600000",
          "2024-03-22T12:49:51.900000",
          "2024-03-22T12:49:54.800000"
         ],
         "y": [
          3.0541446208953857,
          2.9091382026672363,
          3.031359910964966,
          3.1068553924560547,
          -2.8279170989990234,
          -2.7644460201263428,
          -2.489954710006714,
          -1.3565391302108765,
          -1.311436891555786,
          -1.0069522857666016
         ]
        },
        {
         "legendgroup": "Left",
         "marker": {
          "color": "red",
          "size": 6
         },
         "mode": "markers",
         "name": "Left turn beginning",
         "showlegend": true,
         "type": "scatter",
         "x": [
          null
         ],
         "y": [
          null
         ]
        },
        {
         "legendgroup": "Left",
         "marker": {
          "color": "orange",
          "size": 6
         },
         "mode": "markers",
         "name": "Left turn ending",
         "showlegend": true,
         "type": "scatter",
         "x": [
          null
         ],
         "y": [
          null
         ]
        },
        {
         "legendgroup": "Right",
         "marker": {
          "color": "blue",
          "size": 6
         },
         "mode": "markers",
         "name": "Right turn beginning",
         "showlegend": true,
         "type": "scatter",
         "x": [
          null
         ],
         "y": [
          null
         ]
        },
        {
         "legendgroup": "Right",
         "marker": {
          "color": "purple",
          "size": 6
         },
         "mode": "markers",
         "name": "Right turn ending",
         "showlegend": true,
         "type": "scatter",
         "x": [
          null
         ],
         "y": [
          null
         ]
        }
       ],
       "layout": {
        "height": 600,
        "legend": {
         "bgcolor": "rgba(255, 255, 255, 0.8)",
         "bordercolor": "Black",
         "borderwidth": 2,
         "font": {
          "size": 30
         },
         "itemsizing": "constant",
         "itemwidth": 40,
         "traceorder": "normal",
         "x": 0.01,
         "y": 0.99
        },
        "template": {
         "data": {
          "bar": [
           {
            "error_x": {
             "color": "#2a3f5f"
            },
            "error_y": {
             "color": "#2a3f5f"
            },
            "marker": {
             "line": {
              "color": "#E5ECF6",
              "width": 0.5
             },
             "pattern": {
              "fillmode": "overlay",
              "size": 10,
              "solidity": 0.2
             }
            },
            "type": "bar"
           }
          ],
          "barpolar": [
           {
            "marker": {
             "line": {
              "color": "#E5ECF6",
              "width": 0.5
             },
             "pattern": {
              "fillmode": "overlay",
              "size": 10,
              "solidity": 0.2
             }
            },
            "type": "barpolar"
           }
          ],
          "carpet": [
           {
            "aaxis": {
             "endlinecolor": "#2a3f5f",
             "gridcolor": "white",
             "linecolor": "white",
             "minorgridcolor": "white",
             "startlinecolor": "#2a3f5f"
            },
            "baxis": {
             "endlinecolor": "#2a3f5f",
             "gridcolor": "white",
             "linecolor": "white",
             "minorgridcolor": "white",
             "startlinecolor": "#2a3f5f"
            },
            "type": "carpet"
           }
          ],
          "choropleth": [
           {
            "colorbar": {
             "outlinewidth": 0,
             "ticks": ""
            },
            "type": "choropleth"
           }
          ],
          "contour": [
           {
            "colorbar": {
             "outlinewidth": 0,
             "ticks": ""
            },
            "colorscale": [
             [
              0,
              "#0d0887"
             ],
             [
              0.1111111111111111,
              "#46039f"
             ],
             [
              0.2222222222222222,
              "#7201a8"
             ],
             [
              0.3333333333333333,
              "#9c179e"
             ],
             [
              0.4444444444444444,
              "#bd3786"
             ],
             [
              0.5555555555555556,
              "#d8576b"
             ],
             [
              0.6666666666666666,
              "#ed7953"
             ],
             [
              0.7777777777777778,
              "#fb9f3a"
             ],
             [
              0.8888888888888888,
              "#fdca26"
             ],
             [
              1,
              "#f0f921"
             ]
            ],
            "type": "contour"
           }
          ],
          "contourcarpet": [
           {
            "colorbar": {
             "outlinewidth": 0,
             "ticks": ""
            },
            "type": "contourcarpet"
           }
          ],
          "heatmap": [
           {
            "colorbar": {
             "outlinewidth": 0,
             "ticks": ""
            },
            "colorscale": [
             [
              0,
              "#0d0887"
             ],
             [
              0.1111111111111111,
              "#46039f"
             ],
             [
              0.2222222222222222,
              "#7201a8"
             ],
             [
              0.3333333333333333,
              "#9c179e"
             ],
             [
              0.4444444444444444,
              "#bd3786"
             ],
             [
              0.5555555555555556,
              "#d8576b"
             ],
             [
              0.6666666666666666,
              "#ed7953"
             ],
             [
              0.7777777777777778,
              "#fb9f3a"
             ],
             [
              0.8888888888888888,
              "#fdca26"
             ],
             [
              1,
              "#f0f921"
             ]
            ],
            "type": "heatmap"
           }
          ],
          "heatmapgl": [
           {
            "colorbar": {
             "outlinewidth": 0,
             "ticks": ""
            },
            "colorscale": [
             [
              0,
              "#0d0887"
             ],
             [
              0.1111111111111111,
              "#46039f"
             ],
             [
              0.2222222222222222,
              "#7201a8"
             ],
             [
              0.3333333333333333,
              "#9c179e"
             ],
             [
              0.4444444444444444,
              "#bd3786"
             ],
             [
              0.5555555555555556,
              "#d8576b"
             ],
             [
              0.6666666666666666,
              "#ed7953"
             ],
             [
              0.7777777777777778,
              "#fb9f3a"
             ],
             [
              0.8888888888888888,
              "#fdca26"
             ],
             [
              1,
              "#f0f921"
             ]
            ],
            "type": "heatmapgl"
           }
          ],
          "histogram": [
           {
            "marker": {
             "pattern": {
              "fillmode": "overlay",
              "size": 10,
              "solidity": 0.2
             }
            },
            "type": "histogram"
           }
          ],
          "histogram2d": [
           {
            "colorbar": {
             "outlinewidth": 0,
             "ticks": ""
            },
            "colorscale": [
             [
              0,
              "#0d0887"
             ],
             [
              0.1111111111111111,
              "#46039f"
             ],
             [
              0.2222222222222222,
              "#7201a8"
             ],
             [
              0.3333333333333333,
              "#9c179e"
             ],
             [
              0.4444444444444444,
              "#bd3786"
             ],
             [
              0.5555555555555556,
              "#d8576b"
             ],
             [
              0.6666666666666666,
              "#ed7953"
             ],
             [
              0.7777777777777778,
              "#fb9f3a"
             ],
             [
              0.8888888888888888,
              "#fdca26"
             ],
             [
              1,
              "#f0f921"
             ]
            ],
            "type": "histogram2d"
           }
          ],
          "histogram2dcontour": [
           {
            "colorbar": {
             "outlinewidth": 0,
             "ticks": ""
            },
            "colorscale": [
             [
              0,
              "#0d0887"
             ],
             [
              0.1111111111111111,
              "#46039f"
             ],
             [
              0.2222222222222222,
              "#7201a8"
             ],
             [
              0.3333333333333333,
              "#9c179e"
             ],
             [
              0.4444444444444444,
              "#bd3786"
             ],
             [
              0.5555555555555556,
              "#d8576b"
             ],
             [
              0.6666666666666666,
              "#ed7953"
             ],
             [
              0.7777777777777778,
              "#fb9f3a"
             ],
             [
              0.8888888888888888,
              "#fdca26"
             ],
             [
              1,
              "#f0f921"
             ]
            ],
            "type": "histogram2dcontour"
           }
          ],
          "mesh3d": [
           {
            "colorbar": {
             "outlinewidth": 0,
             "ticks": ""
            },
            "type": "mesh3d"
           }
          ],
          "parcoords": [
           {
            "line": {
             "colorbar": {
              "outlinewidth": 0,
              "ticks": ""
             }
            },
            "type": "parcoords"
           }
          ],
          "pie": [
           {
            "automargin": true,
            "type": "pie"
           }
          ],
          "scatter": [
           {
            "fillpattern": {
             "fillmode": "overlay",
             "size": 10,
             "solidity": 0.2
            },
            "type": "scatter"
           }
          ],
          "scatter3d": [
           {
            "line": {
             "colorbar": {
              "outlinewidth": 0,
              "ticks": ""
             }
            },
            "marker": {
             "colorbar": {
              "outlinewidth": 0,
              "ticks": ""
             }
            },
            "type": "scatter3d"
           }
          ],
          "scattercarpet": [
           {
            "marker": {
             "colorbar": {
              "outlinewidth": 0,
              "ticks": ""
             }
            },
            "type": "scattercarpet"
           }
          ],
          "scattergeo": [
           {
            "marker": {
             "colorbar": {
              "outlinewidth": 0,
              "ticks": ""
             }
            },
            "type": "scattergeo"
           }
          ],
          "scattergl": [
           {
            "marker": {
             "colorbar": {
              "outlinewidth": 0,
              "ticks": ""
             }
            },
            "type": "scattergl"
           }
          ],
          "scattermapbox": [
           {
            "marker": {
             "colorbar": {
              "outlinewidth": 0,
              "ticks": ""
             }
            },
            "type": "scattermapbox"
           }
          ],
          "scatterpolar": [
           {
            "marker": {
             "colorbar": {
              "outlinewidth": 0,
              "ticks": ""
             }
            },
            "type": "scatterpolar"
           }
          ],
          "scatterpolargl": [
           {
            "marker": {
             "colorbar": {
              "outlinewidth": 0,
              "ticks": ""
             }
            },
            "type": "scatterpolargl"
           }
          ],
          "scatterternary": [
           {
            "marker": {
             "colorbar": {
              "outlinewidth": 0,
              "ticks": ""
             }
            },
            "type": "scatterternary"
           }
          ],
          "surface": [
           {
            "colorbar": {
             "outlinewidth": 0,
             "ticks": ""
            },
            "colorscale": [
             [
              0,
              "#0d0887"
             ],
             [
              0.1111111111111111,
              "#46039f"
             ],
             [
              0.2222222222222222,
              "#7201a8"
             ],
             [
              0.3333333333333333,
              "#9c179e"
             ],
             [
              0.4444444444444444,
              "#bd3786"
             ],
             [
              0.5555555555555556,
              "#d8576b"
             ],
             [
              0.6666666666666666,
              "#ed7953"
             ],
             [
              0.7777777777777778,
              "#fb9f3a"
             ],
             [
              0.8888888888888888,
              "#fdca26"
             ],
             [
              1,
              "#f0f921"
             ]
            ],
            "type": "surface"
           }
          ],
          "table": [
           {
            "cells": {
             "fill": {
              "color": "#EBF0F8"
             },
             "line": {
              "color": "white"
             }
            },
            "header": {
             "fill": {
              "color": "#C8D4E3"
             },
             "line": {
              "color": "white"
             }
            },
            "type": "table"
           }
          ]
         },
         "layout": {
          "annotationdefaults": {
           "arrowcolor": "#2a3f5f",
           "arrowhead": 0,
           "arrowwidth": 1
          },
          "autotypenumbers": "strict",
          "coloraxis": {
           "colorbar": {
            "outlinewidth": 0,
            "ticks": ""
           }
          },
          "colorscale": {
           "diverging": [
            [
             0,
             "#8e0152"
            ],
            [
             0.1,
             "#c51b7d"
            ],
            [
             0.2,
             "#de77ae"
            ],
            [
             0.3,
             "#f1b6da"
            ],
            [
             0.4,
             "#fde0ef"
            ],
            [
             0.5,
             "#f7f7f7"
            ],
            [
             0.6,
             "#e6f5d0"
            ],
            [
             0.7,
             "#b8e186"
            ],
            [
             0.8,
             "#7fbc41"
            ],
            [
             0.9,
             "#4d9221"
            ],
            [
             1,
             "#276419"
            ]
           ],
           "sequential": [
            [
             0,
             "#0d0887"
            ],
            [
             0.1111111111111111,
             "#46039f"
            ],
            [
             0.2222222222222222,
             "#7201a8"
            ],
            [
             0.3333333333333333,
             "#9c179e"
            ],
            [
             0.4444444444444444,
             "#bd3786"
            ],
            [
             0.5555555555555556,
             "#d8576b"
            ],
            [
             0.6666666666666666,
             "#ed7953"
            ],
            [
             0.7777777777777778,
             "#fb9f3a"
            ],
            [
             0.8888888888888888,
             "#fdca26"
            ],
            [
             1,
             "#f0f921"
            ]
           ],
           "sequentialminus": [
            [
             0,
             "#0d0887"
            ],
            [
             0.1111111111111111,
             "#46039f"
            ],
            [
             0.2222222222222222,
             "#7201a8"
            ],
            [
             0.3333333333333333,
             "#9c179e"
            ],
            [
             0.4444444444444444,
             "#bd3786"
            ],
            [
             0.5555555555555556,
             "#d8576b"
            ],
            [
             0.6666666666666666,
             "#ed7953"
            ],
            [
             0.7777777777777778,
             "#fb9f3a"
            ],
            [
             0.8888888888888888,
             "#fdca26"
            ],
            [
             1,
             "#f0f921"
            ]
           ]
          },
          "colorway": [
           "#636efa",
           "#EF553B",
           "#00cc96",
           "#ab63fa",
           "#FFA15A",
           "#19d3f3",
           "#FF6692",
           "#B6E880",
           "#FF97FF",
           "#FECB52"
          ],
          "font": {
           "color": "#2a3f5f"
          },
          "geo": {
           "bgcolor": "white",
           "lakecolor": "white",
           "landcolor": "#E5ECF6",
           "showlakes": true,
           "showland": true,
           "subunitcolor": "white"
          },
          "hoverlabel": {
           "align": "left"
          },
          "hovermode": "closest",
          "mapbox": {
           "style": "light"
          },
          "paper_bgcolor": "white",
          "plot_bgcolor": "#E5ECF6",
          "polar": {
           "angularaxis": {
            "gridcolor": "white",
            "linecolor": "white",
            "ticks": ""
           },
           "bgcolor": "#E5ECF6",
           "radialaxis": {
            "gridcolor": "white",
            "linecolor": "white",
            "ticks": ""
           }
          },
          "scene": {
           "xaxis": {
            "backgroundcolor": "#E5ECF6",
            "gridcolor": "white",
            "gridwidth": 2,
            "linecolor": "white",
            "showbackground": true,
            "ticks": "",
            "zerolinecolor": "white"
           },
           "yaxis": {
            "backgroundcolor": "#E5ECF6",
            "gridcolor": "white",
            "gridwidth": 2,
            "linecolor": "white",
            "showbackground": true,
            "ticks": "",
            "zerolinecolor": "white"
           },
           "zaxis": {
            "backgroundcolor": "#E5ECF6",
            "gridcolor": "white",
            "gridwidth": 2,
            "linecolor": "white",
            "showbackground": true,
            "ticks": "",
            "zerolinecolor": "white"
           }
          },
          "shapedefaults": {
           "line": {
            "color": "#2a3f5f"
           }
          },
          "ternary": {
           "aaxis": {
            "gridcolor": "white",
            "linecolor": "white",
            "ticks": ""
           },
           "baxis": {
            "gridcolor": "white",
            "linecolor": "white",
            "ticks": ""
           },
           "bgcolor": "#E5ECF6",
           "caxis": {
            "gridcolor": "white",
            "linecolor": "white",
            "ticks": ""
           }
          },
          "title": {
           "x": 0.05
          },
          "xaxis": {
           "automargin": true,
           "gridcolor": "white",
           "linecolor": "white",
           "ticks": "",
           "title": {
            "standoff": 15
           },
           "zerolinecolor": "white",
           "zerolinewidth": 2
          },
          "yaxis": {
           "automargin": true,
           "gridcolor": "white",
           "linecolor": "white",
           "ticks": "",
           "title": {
            "standoff": 15
           },
           "zerolinecolor": "white",
           "zerolinewidth": 2
          }
         }
        },
        "title": {
         "font": {
          "size": 30
         },
         "text": "Orientation Data Visualization"
        },
        "width": 1200,
        "xaxis": {
         "title": {
          "font": {
           "size": 20
          },
          "text": "Time"
         }
        },
        "yaxis": {
         "title": {
          "font": {
           "size": 20
          },
          "text": "Radians"
         }
        }
       }
      }
     },
     "metadata": {},
     "output_type": "display_data"
    }
   ],
   "source": [
    "split_on = \"Orientation\"\n",
    "orientation_df = split_data_granular([input_df], split_on=split_on)[0]\n",
    "display(orientation_df.head())\n",
    "draw_plotly_new(orientation_df, col=split_on, granular=True, title=\"Orientation Data Visualization\")"
   ]
  },
  {
   "cell_type": "markdown",
   "id": "8fa631c1",
   "metadata": {},
   "source": [
    "#### Calculate Euler angles based on quaternions"
   ]
  },
  {
   "cell_type": "code",
   "execution_count": 5,
   "id": "750fa22e",
   "metadata": {},
   "outputs": [
    {
     "data": {
      "text/html": [
       "<div>\n",
       "<style scoped>\n",
       "    .dataframe tbody tr th:only-of-type {\n",
       "        vertical-align: middle;\n",
       "    }\n",
       "\n",
       "    .dataframe tbody tr th {\n",
       "        vertical-align: top;\n",
       "    }\n",
       "\n",
       "    .dataframe thead th {\n",
       "        text-align: right;\n",
       "    }\n",
       "</style>\n",
       "<table border=\"1\" class=\"dataframe\">\n",
       "  <thead>\n",
       "    <tr style=\"text-align: right;\">\n",
       "      <th></th>\n",
       "      <th>qz</th>\n",
       "      <th>qy</th>\n",
       "      <th>qx</th>\n",
       "      <th>qw</th>\n",
       "      <th>roll</th>\n",
       "      <th>pitch</th>\n",
       "      <th>yaw</th>\n",
       "      <th>Behavior</th>\n",
       "      <th>Status</th>\n",
       "    </tr>\n",
       "    <tr>\n",
       "      <th>time</th>\n",
       "      <th></th>\n",
       "      <th></th>\n",
       "      <th></th>\n",
       "      <th></th>\n",
       "      <th></th>\n",
       "      <th></th>\n",
       "      <th></th>\n",
       "      <th></th>\n",
       "      <th></th>\n",
       "    </tr>\n",
       "  </thead>\n",
       "  <tbody>\n",
       "    <tr>\n",
       "      <th>2024-03-22 12:49:29.900</th>\n",
       "      <td>-0.699230</td>\n",
       "      <td>-0.696761</td>\n",
       "      <td>-0.157973</td>\n",
       "      <td>0.025403</td>\n",
       "      <td>1.592382</td>\n",
       "      <td>-0.259212</td>\n",
       "      <td>2.949417</td>\n",
       "      <td>right</td>\n",
       "      <td>START</td>\n",
       "    </tr>\n",
       "    <tr>\n",
       "      <th>2024-03-22 12:49:30.000</th>\n",
       "      <td>-0.704745</td>\n",
       "      <td>-0.681315</td>\n",
       "      <td>-0.193328</td>\n",
       "      <td>0.042032</td>\n",
       "      <td>1.574114</td>\n",
       "      <td>-0.336058</td>\n",
       "      <td>2.923579</td>\n",
       "      <td></td>\n",
       "      <td></td>\n",
       "    </tr>\n",
       "    <tr>\n",
       "      <th>2024-03-22 12:49:30.100</th>\n",
       "      <td>-0.701866</td>\n",
       "      <td>-0.665604</td>\n",
       "      <td>-0.236985</td>\n",
       "      <td>0.090509</td>\n",
       "      <td>1.568980</td>\n",
       "      <td>-0.470295</td>\n",
       "      <td>2.928611</td>\n",
       "      <td></td>\n",
       "      <td></td>\n",
       "    </tr>\n",
       "    <tr>\n",
       "      <th>2024-03-22 12:49:30.200</th>\n",
       "      <td>-0.707663</td>\n",
       "      <td>-0.642111</td>\n",
       "      <td>-0.278845</td>\n",
       "      <td>0.095662</td>\n",
       "      <td>1.547564</td>\n",
       "      <td>-0.543936</td>\n",
       "      <td>2.878292</td>\n",
       "      <td></td>\n",
       "      <td></td>\n",
       "    </tr>\n",
       "    <tr>\n",
       "      <th>2024-03-22 12:49:30.300</th>\n",
       "      <td>-0.704990</td>\n",
       "      <td>-0.605384</td>\n",
       "      <td>-0.358699</td>\n",
       "      <td>0.088502</td>\n",
       "      <td>1.558532</td>\n",
       "      <td>-0.659743</td>\n",
       "      <td>2.739093</td>\n",
       "      <td></td>\n",
       "      <td></td>\n",
       "    </tr>\n",
       "  </tbody>\n",
       "</table>\n",
       "</div>"
      ],
      "text/plain": [
       "                               qz        qy        qx        qw      roll  \\\n",
       "time                                                                        \n",
       "2024-03-22 12:49:29.900 -0.699230 -0.696761 -0.157973  0.025403  1.592382   \n",
       "2024-03-22 12:49:30.000 -0.704745 -0.681315 -0.193328  0.042032  1.574114   \n",
       "2024-03-22 12:49:30.100 -0.701866 -0.665604 -0.236985  0.090509  1.568980   \n",
       "2024-03-22 12:49:30.200 -0.707663 -0.642111 -0.278845  0.095662  1.547564   \n",
       "2024-03-22 12:49:30.300 -0.704990 -0.605384 -0.358699  0.088502  1.558532   \n",
       "\n",
       "                            pitch       yaw Behavior Status  \n",
       "time                                                         \n",
       "2024-03-22 12:49:29.900 -0.259212  2.949417    right  START  \n",
       "2024-03-22 12:49:30.000 -0.336058  2.923579                  \n",
       "2024-03-22 12:49:30.100 -0.470295  2.928611                  \n",
       "2024-03-22 12:49:30.200 -0.543936  2.878292                  \n",
       "2024-03-22 12:49:30.300 -0.659743  2.739093                  "
      ]
     },
     "metadata": {},
     "output_type": "display_data"
    },
    {
     "data": {
      "application/vnd.plotly.v1+json": {
       "config": {
        "plotlyServerURL": "https://plot.ly",
        "toImageButtonOptions": {
         "filename": "custom_image",
         "format": "png",
         "scale": 6
        }
       },
       "data": [
        {
         "line": {
          "color": "blue"
         },
         "mode": "lines",
         "name": "roll",
         "type": "scatter",
         "x": [
          "2024-03-22T12:49:29.900000",
          "2024-03-22T12:49:30",
          "2024-03-22T12:49:30.100000",
          "2024-03-22T12:49:30.200000",
          "2024-03-22T12:49:30.300000",
          "2024-03-22T12:49:30.400000",
          "2024-03-22T12:49:30.500000",
          "2024-03-22T12:49:30.600000",
          "2024-03-22T12:49:30.700000",
          "2024-03-22T12:49:30.800000",
          "2024-03-22T12:49:30.900000",
          "2024-03-22T12:49:31",
          "2024-03-22T12:49:31.100000",
          "2024-03-22T12:49:31.200000",
          "2024-03-22T12:49:31.300000",
          "2024-03-22T12:49:31.400000",
          "2024-03-22T12:49:31.500000",
          "2024-03-22T12:49:31.600000",
          "2024-03-22T12:49:31.700000",
          "2024-03-22T12:49:31.800000",
          "2024-03-22T12:49:31.900000",
          "2024-03-22T12:49:32",
          "2024-03-22T12:49:32.100000",
          "2024-03-22T12:49:32.200000",
          "2024-03-22T12:49:32.300000",
          "2024-03-22T12:49:32.400000",
          "2024-03-22T12:49:32.500000",
          "2024-03-22T12:49:32.600000",
          "2024-03-22T12:49:32.700000",
          "2024-03-22T12:49:32.800000",
          "2024-03-22T12:49:32.900000",
          "2024-03-22T12:49:33",
          "2024-03-22T12:49:33.100000",
          "2024-03-22T12:49:33.200000",
          "2024-03-22T12:49:33.300000",
          "2024-03-22T12:49:33.400000",
          "2024-03-22T12:49:33.500000",
          "2024-03-22T12:49:33.600000",
          "2024-03-22T12:49:33.700000",
          "2024-03-22T12:49:33.800000",
          "2024-03-22T12:49:33.900000",
          "2024-03-22T12:49:34",
          "2024-03-22T12:49:34.100000",
          "2024-03-22T12:49:34.200000",
          "2024-03-22T12:49:34.300000",
          "2024-03-22T12:49:34.400000",
          "2024-03-22T12:49:34.500000",
          "2024-03-22T12:49:34.600000",
          "2024-03-22T12:49:34.700000",
          "2024-03-22T12:49:34.800000",
          "2024-03-22T12:49:34.900000",
          "2024-03-22T12:49:35",
          "2024-03-22T12:49:35.100000",
          "2024-03-22T12:49:35.200000",
          "2024-03-22T12:49:35.300000",
          "2024-03-22T12:49:35.400000",
          "2024-03-22T12:49:35.500000",
          "2024-03-22T12:49:35.600000",
          "2024-03-22T12:49:35.700000",
          "2024-03-22T12:49:35.800000",
          "2024-03-22T12:49:35.900000",
          "2024-03-22T12:49:36",
          "2024-03-22T12:49:36.100000",
          "2024-03-22T12:49:36.200000",
          "2024-03-22T12:49:36.300000",
          "2024-03-22T12:49:36.400000",
          "2024-03-22T12:49:36.500000",
          "2024-03-22T12:49:36.600000",
          "2024-03-22T12:49:36.700000",
          "2024-03-22T12:49:36.800000",
          "2024-03-22T12:49:36.900000",
          "2024-03-22T12:49:37",
          "2024-03-22T12:49:37.100000",
          "2024-03-22T12:49:37.200000",
          "2024-03-22T12:49:37.300000",
          "2024-03-22T12:49:37.400000",
          "2024-03-22T12:49:37.500000",
          "2024-03-22T12:49:37.600000",
          "2024-03-22T12:49:37.700000",
          "2024-03-22T12:49:37.800000",
          "2024-03-22T12:49:37.900000",
          "2024-03-22T12:49:38",
          "2024-03-22T12:49:38.100000",
          "2024-03-22T12:49:38.200000",
          "2024-03-22T12:49:38.300000",
          "2024-03-22T12:49:38.400000",
          "2024-03-22T12:49:38.500000",
          "2024-03-22T12:49:38.600000",
          "2024-03-22T12:49:38.700000",
          "2024-03-22T12:49:38.800000",
          "2024-03-22T12:49:38.900000",
          "2024-03-22T12:49:39",
          "2024-03-22T12:49:39.100000",
          "2024-03-22T12:49:39.200000",
          "2024-03-22T12:49:39.300000",
          "2024-03-22T12:49:39.400000",
          "2024-03-22T12:49:39.500000",
          "2024-03-22T12:49:39.600000",
          "2024-03-22T12:49:39.700000",
          "2024-03-22T12:49:39.800000",
          "2024-03-22T12:49:39.900000",
          "2024-03-22T12:49:40",
          "2024-03-22T12:49:40.100000",
          "2024-03-22T12:49:40.200000",
          "2024-03-22T12:49:40.300000",
          "2024-03-22T12:49:40.400000",
          "2024-03-22T12:49:40.500000",
          "2024-03-22T12:49:40.600000",
          "2024-03-22T12:49:40.700000",
          "2024-03-22T12:49:40.800000",
          "2024-03-22T12:49:40.900000",
          "2024-03-22T12:49:41",
          "2024-03-22T12:49:41.100000",
          "2024-03-22T12:49:41.200000",
          "2024-03-22T12:49:41.300000",
          "2024-03-22T12:49:41.400000",
          "2024-03-22T12:49:41.500000",
          "2024-03-22T12:49:41.600000",
          "2024-03-22T12:49:41.700000",
          "2024-03-22T12:49:41.800000",
          "2024-03-22T12:49:41.900000",
          "2024-03-22T12:49:42",
          "2024-03-22T12:49:42.100000",
          "2024-03-22T12:49:42.200000",
          "2024-03-22T12:49:42.300000",
          "2024-03-22T12:49:42.400000",
          "2024-03-22T12:49:42.500000",
          "2024-03-22T12:49:42.600000",
          "2024-03-22T12:49:42.700000",
          "2024-03-22T12:49:42.800000",
          "2024-03-22T12:49:42.900000",
          "2024-03-22T12:49:43",
          "2024-03-22T12:49:43.100000",
          "2024-03-22T12:49:43.200000",
          "2024-03-22T12:49:43.300000",
          "2024-03-22T12:49:43.400000",
          "2024-03-22T12:49:43.500000",
          "2024-03-22T12:49:43.600000",
          "2024-03-22T12:49:43.700000",
          "2024-03-22T12:49:43.800000",
          "2024-03-22T12:49:43.900000",
          "2024-03-22T12:49:44",
          "2024-03-22T12:49:44.100000",
          "2024-03-22T12:49:44.200000",
          "2024-03-22T12:49:44.300000",
          "2024-03-22T12:49:44.400000",
          "2024-03-22T12:49:44.500000",
          "2024-03-22T12:49:44.600000",
          "2024-03-22T12:49:44.700000",
          "2024-03-22T12:49:44.800000",
          "2024-03-22T12:49:44.900000",
          "2024-03-22T12:49:45",
          "2024-03-22T12:49:45.100000",
          "2024-03-22T12:49:45.200000",
          "2024-03-22T12:49:45.300000",
          "2024-03-22T12:49:45.400000",
          "2024-03-22T12:49:45.500000",
          "2024-03-22T12:49:45.600000",
          "2024-03-22T12:49:45.700000",
          "2024-03-22T12:49:45.800000",
          "2024-03-22T12:49:45.900000",
          "2024-03-22T12:49:46",
          "2024-03-22T12:49:46.100000",
          "2024-03-22T12:49:46.200000",
          "2024-03-22T12:49:46.300000",
          "2024-03-22T12:49:46.400000",
          "2024-03-22T12:49:46.500000",
          "2024-03-22T12:49:46.600000",
          "2024-03-22T12:49:46.700000",
          "2024-03-22T12:49:46.800000",
          "2024-03-22T12:49:46.900000",
          "2024-03-22T12:49:47",
          "2024-03-22T12:49:47.100000",
          "2024-03-22T12:49:47.200000",
          "2024-03-22T12:49:47.300000",
          "2024-03-22T12:49:47.400000",
          "2024-03-22T12:49:47.500000",
          "2024-03-22T12:49:47.600000",
          "2024-03-22T12:49:47.700000",
          "2024-03-22T12:49:47.800000",
          "2024-03-22T12:49:47.900000",
          "2024-03-22T12:49:48",
          "2024-03-22T12:49:48.100000",
          "2024-03-22T12:49:48.200000",
          "2024-03-22T12:49:48.300000",
          "2024-03-22T12:49:48.400000",
          "2024-03-22T12:49:48.500000",
          "2024-03-22T12:49:48.600000",
          "2024-03-22T12:49:48.700000",
          "2024-03-22T12:49:48.800000",
          "2024-03-22T12:49:48.900000",
          "2024-03-22T12:49:49",
          "2024-03-22T12:49:49.100000",
          "2024-03-22T12:49:49.200000",
          "2024-03-22T12:49:49.300000",
          "2024-03-22T12:49:49.400000",
          "2024-03-22T12:49:49.500000",
          "2024-03-22T12:49:49.600000",
          "2024-03-22T12:49:49.700000",
          "2024-03-22T12:49:49.800000",
          "2024-03-22T12:49:49.900000",
          "2024-03-22T12:49:50",
          "2024-03-22T12:49:50.100000",
          "2024-03-22T12:49:50.200000",
          "2024-03-22T12:49:50.300000",
          "2024-03-22T12:49:50.400000",
          "2024-03-22T12:49:50.500000",
          "2024-03-22T12:49:50.600000",
          "2024-03-22T12:49:50.700000",
          "2024-03-22T12:49:50.800000",
          "2024-03-22T12:49:50.900000",
          "2024-03-22T12:49:51",
          "2024-03-22T12:49:51.100000",
          "2024-03-22T12:49:51.200000",
          "2024-03-22T12:49:51.300000",
          "2024-03-22T12:49:51.400000",
          "2024-03-22T12:49:51.500000",
          "2024-03-22T12:49:51.600000",
          "2024-03-22T12:49:51.700000",
          "2024-03-22T12:49:51.800000",
          "2024-03-22T12:49:51.900000",
          "2024-03-22T12:49:52",
          "2024-03-22T12:49:52.100000",
          "2024-03-22T12:49:52.200000",
          "2024-03-22T12:49:52.300000",
          "2024-03-22T12:49:52.400000",
          "2024-03-22T12:49:52.500000",
          "2024-03-22T12:49:52.600000",
          "2024-03-22T12:49:52.700000",
          "2024-03-22T12:49:52.800000",
          "2024-03-22T12:49:52.900000",
          "2024-03-22T12:49:53",
          "2024-03-22T12:49:53.100000",
          "2024-03-22T12:49:53.200000",
          "2024-03-22T12:49:53.300000",
          "2024-03-22T12:49:53.400000",
          "2024-03-22T12:49:53.500000",
          "2024-03-22T12:49:53.600000",
          "2024-03-22T12:49:53.700000",
          "2024-03-22T12:49:53.800000",
          "2024-03-22T12:49:53.900000",
          "2024-03-22T12:49:54",
          "2024-03-22T12:49:54.100000",
          "2024-03-22T12:49:54.200000",
          "2024-03-22T12:49:54.300000",
          "2024-03-22T12:49:54.400000",
          "2024-03-22T12:49:54.500000",
          "2024-03-22T12:49:54.600000",
          "2024-03-22T12:49:54.700000",
          "2024-03-22T12:49:54.800000"
         ],
         "y": [
          1.5923818413449384,
          1.5741135983544245,
          1.5689803001759162,
          1.5475637145195094,
          1.5585318448187346,
          1.5487473758335437,
          1.5310038638915058,
          1.497355835041412,
          1.4384388806974915,
          1.4133910882577794,
          1.4185281955223592,
          1.378516746489119,
          1.3931800356449466,
          1.371406893693158,
          1.342464465039209,
          1.3933893857911188,
          1.4665396208577777,
          1.5595475530998595,
          1.61891134057488,
          1.6278580586027367,
          1.6890129531317266,
          1.706380502823993,
          1.6944569708102137,
          1.631890801068971,
          1.6062400772840384,
          1.6232976728990052,
          1.6139358475920715,
          1.5656154633901453,
          1.5277904261579975,
          1.5429095985558194,
          1.5435020809387188,
          1.5208021185795007,
          1.4767772871184324,
          1.4077318930983025,
          1.3681332872442036,
          1.371480171134001,
          1.436550299797623,
          1.5452771578867766,
          1.6372964029108155,
          1.6793695355596758,
          1.7180864592488376,
          1.7055647048370524,
          1.6487532740518402,
          1.6299828268481935,
          1.5665966308194057,
          1.5023923222212763,
          1.4805261928551063,
          1.4991438613663386,
          1.4660460782985467,
          1.3883165052377135,
          1.5140339493887063,
          1.2887115893640742,
          1.3708366891792614,
          1.218301320352578,
          1.2956162312094466,
          1.3169282943478589,
          1.4123961527862505,
          1.522427225480209,
          1.568099488600396,
          1.5906453140937553,
          1.6410773242793728,
          1.6628575581582896,
          1.7293864536346901,
          1.6891331479194354,
          1.649243083833708,
          1.6923169757679015,
          1.6232568736693802,
          1.5559382340990189,
          1.5068233437197316,
          1.442303822281196,
          1.4598246096461698,
          1.4277179587944606,
          1.424325958521576,
          1.43314480572933,
          1.3522005017399519,
          1.3520535769690734,
          1.2484364140336748,
          1.196262642061765,
          1.2277101492987863,
          1.3809167792147459,
          1.4177851620602997,
          1.5151204858558072,
          1.5814883661664183,
          1.6338763433011612,
          1.6551475663162598,
          1.6724793135101699,
          1.5978520033734487,
          1.516073911079848,
          1.4683480790000567,
          1.4738562003627922,
          1.4441002059871229,
          1.4406400194099434,
          1.3789136728402878,
          1.3213066667613118,
          1.2851921733412965,
          1.1303541307607818,
          1.0689003053986772,
          1.0451396332795801,
          1.0933258082920363,
          1.1905045356734834,
          1.3206681555404547,
          1.426329589915099,
          1.5220511851595993,
          1.607049610672351,
          1.633644338581344,
          1.6098427932914472,
          1.6061111500280416,
          1.5820161796142715,
          1.5534294383838523,
          1.5191991091343733,
          1.468165443678333,
          1.397406738607349,
          1.346634780149666,
          1.327639874537448,
          1.2697798533739626,
          1.1607616111573609,
          1.0902698684083394,
          1.0650327799451442,
          1.083656599938695,
          1.0829759315706504,
          1.0781240372052046,
          1.0636949939637985,
          1.0411046755501776,
          1.1256738555241887,
          1.2556033864728373,
          1.278630194314941,
          1.3100569045383674,
          1.3259951619378452,
          1.3294241745619095,
          1.312404272806755,
          1.2688985651109328,
          1.2629227986004465,
          1.2881408340374618,
          1.3526323552580133,
          1.4549322448484896,
          1.548198749360314,
          1.628762648356451,
          1.6474825382780944,
          1.6331193101087467,
          1.5988899625118964,
          1.521999395732174,
          1.4560487923082095,
          1.4597975681805635,
          1.445333851931372,
          1.4529006044563064,
          1.4531820270011766,
          1.3479746532180195,
          1.239626908972742,
          1.1653513024247812,
          1.1509768198896615,
          1.1722859144842093,
          1.0690810551860779,
          1.085563882247552,
          1.1576886514409115,
          1.2310221583182948,
          1.4527804390116164,
          1.6125144004511762,
          1.6375739360627906,
          1.6747930621343114,
          1.7044111761308887,
          1.7027524493330009,
          1.6703673693439065,
          1.675333386126188,
          1.6548400364108677,
          1.6604486058701393,
          1.6366558892477183,
          1.592326106546558,
          1.512343298976322,
          1.4381136108008017,
          1.3883129305580453,
          1.3504402799542685,
          1.3922416329918184,
          1.4370700815850774,
          1.4085892028004003,
          1.3089369884458288,
          1.3017648696941737,
          1.1942481541004675,
          1.1068744772852912,
          1.1517261260925002,
          1.0992302239507945,
          1.1218967106714617,
          1.1499192333903279,
          1.2167132613245113,
          1.2661706506611543,
          1.305747175360557,
          1.3292051543798908,
          1.355699844721088,
          1.3568670982376787,
          1.3360063947926735,
          1.3277729183717775,
          1.2953203367429618,
          1.3154475141063569,
          1.4223325387703922,
          1.5771042712298426,
          1.7285286882365485,
          1.7873052843035229,
          1.76045764159593,
          1.8475179847230068,
          1.80017769530234,
          1.8121042644954848,
          1.826927125620656,
          1.7755634415067583,
          1.729079475446966,
          1.6699332468159438,
          1.6257262588763535,
          1.5938987609370447,
          1.5452025347994116,
          1.5178739953863474,
          1.5317580835109978,
          1.5353203260169754,
          1.5416560269359267,
          1.5239897719645918,
          1.39559250969609,
          1.2686118480882815,
          1.2877181562133744,
          1.2689299666187825,
          1.1939498109671636,
          1.2153444948452428,
          1.1657346394161532,
          1.1644434479579295,
          1.1801107821961527,
          1.1527227300363225,
          1.1296154925357753,
          1.1085043310864762,
          1.127342566587944,
          1.2132245343614199,
          1.407826965094149,
          1.6019610834096085,
          1.705520147577203,
          1.8384698089859957,
          1.808334162973731,
          1.8264571258405997,
          1.8228856012387833,
          1.7825015760857315,
          1.7465370544626002,
          1.6584769390237566,
          1.6185821275716186,
          1.5787424707712245,
          1.5608318181553151,
          1.5291391741996538,
          1.4451907644456388,
          1.3928534136664827,
          1.2853278924826,
          1.1684275657018803,
          1.056709172532277,
          0.9892891836206217,
          1.0025241097768574,
          1.0323705063429807,
          0.9961583274023401,
          0.9217775311875848
         ]
        },
        {
         "marker": {
          "color": "red",
          "size": 6
         },
         "mode": "markers",
         "name": "roll Left turn beginning",
         "showlegend": false,
         "type": "scatter",
         "x": [
          "2024-03-22T12:49:31.300000",
          "2024-03-22T12:49:33.300000",
          "2024-03-22T12:49:35.300000",
          "2024-03-22T12:49:37.600000",
          "2024-03-22T12:49:39.700000",
          "2024-03-22T12:49:42.800000",
          "2024-03-22T12:49:45.100000",
          "2024-03-22T12:49:48.700000",
          "2024-03-22T12:49:52"
         ],
         "y": [
          1.342464465039209,
          1.3681332872442036,
          1.2956162312094466,
          1.196262642061765,
          1.0933258082920363,
          1.312404272806755,
          1.085563882247552,
          1.3360063947926735,
          1.1527227300363225
         ]
        },
        {
         "marker": {
          "color": "orange",
          "size": 6
         },
         "mode": "markers",
         "name": "roll Left turn ending",
         "showlegend": false,
         "type": "scatter",
         "x": [
          "2024-03-22T12:49:32.400000",
          "2024-03-22T12:49:34.100000",
          "2024-03-22T12:49:36.300000",
          "2024-03-22T12:49:38.400000",
          "2024-03-22T12:49:40.700000",
          "2024-03-22T12:49:43.900000",
          "2024-03-22T12:49:46.500000",
          "2024-03-22T12:49:50.300000",
          "2024-03-22T12:49:53.500000"
         ],
         "y": [
          1.6232976728990052,
          1.6487532740518402,
          1.649243083833708,
          1.6724793135101699,
          1.5534294383838523,
          1.521999395732174,
          1.592326106546558,
          1.6257262588763535,
          1.6185821275716186
         ]
        },
        {
         "marker": {
          "color": "blue",
          "size": 6
         },
         "mode": "markers",
         "name": "roll Right turn beginning",
         "showlegend": false,
         "type": "scatter",
         "x": [
          "2024-03-22T12:49:29.900000",
          "2024-03-22T12:49:32.500000",
          "2024-03-22T12:49:34.200000",
          "2024-03-22T12:49:36.400000",
          "2024-03-22T12:49:38.500000",
          "2024-03-22T12:49:40.800000",
          "2024-03-22T12:49:44",
          "2024-03-22T12:49:46.600000",
          "2024-03-22T12:49:50.400000",
          "2024-03-22T12:49:53.600000"
         ],
         "y": [
          1.5923818413449384,
          1.6139358475920715,
          1.6299828268481935,
          1.6923169757679015,
          1.5978520033734487,
          1.5191991091343733,
          1.4560487923082095,
          1.512343298976322,
          1.5938987609370447,
          1.5787424707712245
         ]
        },
        {
         "marker": {
          "color": "purple",
          "size": 6
         },
         "mode": "markers",
         "name": "roll Right turn ending",
         "showlegend": false,
         "type": "scatter",
         "x": [
          "2024-03-22T12:49:31.200000",
          "2024-03-22T12:49:33.200000",
          "2024-03-22T12:49:35.200000",
          "2024-03-22T12:49:37.500000",
          "2024-03-22T12:49:39.600000",
          "2024-03-22T12:49:42.700000",
          "2024-03-22T12:49:45",
          "2024-03-22T12:49:48.600000",
          "2024-03-22T12:49:51.900000",
          "2024-03-22T12:49:54.800000"
         ],
         "y": [
          1.371406893693158,
          1.4077318930983025,
          1.218301320352578,
          1.2484364140336748,
          1.0451396332795801,
          1.3294241745619095,
          1.0690810551860779,
          1.3568670982376787,
          1.1801107821961527,
          0.9217775311875848
         ]
        },
        {
         "line": {
          "color": "orange"
         },
         "mode": "lines",
         "name": "pitch",
         "type": "scatter",
         "x": [
          "2024-03-22T12:49:29.900000",
          "2024-03-22T12:49:30",
          "2024-03-22T12:49:30.100000",
          "2024-03-22T12:49:30.200000",
          "2024-03-22T12:49:30.300000",
          "2024-03-22T12:49:30.400000",
          "2024-03-22T12:49:30.500000",
          "2024-03-22T12:49:30.600000",
          "2024-03-22T12:49:30.700000",
          "2024-03-22T12:49:30.800000",
          "2024-03-22T12:49:30.900000",
          "2024-03-22T12:49:31",
          "2024-03-22T12:49:31.100000",
          "2024-03-22T12:49:31.200000",
          "2024-03-22T12:49:31.300000",
          "2024-03-22T12:49:31.400000",
          "2024-03-22T12:49:31.500000",
          "2024-03-22T12:49:31.600000",
          "2024-03-22T12:49:31.700000",
          "2024-03-22T12:49:31.800000",
          "2024-03-22T12:49:31.900000",
          "2024-03-22T12:49:32",
          "2024-03-22T12:49:32.100000",
          "2024-03-22T12:49:32.200000",
          "2024-03-22T12:49:32.300000",
          "2024-03-22T12:49:32.400000",
          "2024-03-22T12:49:32.500000",
          "2024-03-22T12:49:32.600000",
          "2024-03-22T12:49:32.700000",
          "2024-03-22T12:49:32.800000",
          "2024-03-22T12:49:32.900000",
          "2024-03-22T12:49:33",
          "2024-03-22T12:49:33.100000",
          "2024-03-22T12:49:33.200000",
          "2024-03-22T12:49:33.300000",
          "2024-03-22T12:49:33.400000",
          "2024-03-22T12:49:33.500000",
          "2024-03-22T12:49:33.600000",
          "2024-03-22T12:49:33.700000",
          "2024-03-22T12:49:33.800000",
          "2024-03-22T12:49:33.900000",
          "2024-03-22T12:49:34",
          "2024-03-22T12:49:34.100000",
          "2024-03-22T12:49:34.200000",
          "2024-03-22T12:49:34.300000",
          "2024-03-22T12:49:34.400000",
          "2024-03-22T12:49:34.500000",
          "2024-03-22T12:49:34.600000",
          "2024-03-22T12:49:34.700000",
          "2024-03-22T12:49:34.800000",
          "2024-03-22T12:49:34.900000",
          "2024-03-22T12:49:35",
          "2024-03-22T12:49:35.100000",
          "2024-03-22T12:49:35.200000",
          "2024-03-22T12:49:35.300000",
          "2024-03-22T12:49:35.400000",
          "2024-03-22T12:49:35.500000",
          "2024-03-22T12:49:35.600000",
          "2024-03-22T12:49:35.700000",
          "2024-03-22T12:49:35.800000",
          "2024-03-22T12:49:35.900000",
          "2024-03-22T12:49:36",
          "2024-03-22T12:49:36.100000",
          "2024-03-22T12:49:36.200000",
          "2024-03-22T12:49:36.300000",
          "2024-03-22T12:49:36.400000",
          "2024-03-22T12:49:36.500000",
          "2024-03-22T12:49:36.600000",
          "2024-03-22T12:49:36.700000",
          "2024-03-22T12:49:36.800000",
          "2024-03-22T12:49:36.900000",
          "2024-03-22T12:49:37",
          "2024-03-22T12:49:37.100000",
          "2024-03-22T12:49:37.200000",
          "2024-03-22T12:49:37.300000",
          "2024-03-22T12:49:37.400000",
          "2024-03-22T12:49:37.500000",
          "2024-03-22T12:49:37.600000",
          "2024-03-22T12:49:37.700000",
          "2024-03-22T12:49:37.800000",
          "2024-03-22T12:49:37.900000",
          "2024-03-22T12:49:38",
          "2024-03-22T12:49:38.100000",
          "2024-03-22T12:49:38.200000",
          "2024-03-22T12:49:38.300000",
          "2024-03-22T12:49:38.400000",
          "2024-03-22T12:49:38.500000",
          "2024-03-22T12:49:38.600000",
          "2024-03-22T12:49:38.700000",
          "2024-03-22T12:49:38.800000",
          "2024-03-22T12:49:38.900000",
          "2024-03-22T12:49:39",
          "2024-03-22T12:49:39.100000",
          "2024-03-22T12:49:39.200000",
          "2024-03-22T12:49:39.300000",
          "2024-03-22T12:49:39.400000",
          "2024-03-22T12:49:39.500000",
          "2024-03-22T12:49:39.600000",
          "2024-03-22T12:49:39.700000",
          "2024-03-22T12:49:39.800000",
          "2024-03-22T12:49:39.900000",
          "2024-03-22T12:49:40",
          "2024-03-22T12:49:40.100000",
          "2024-03-22T12:49:40.200000",
          "2024-03-22T12:49:40.300000",
          "2024-03-22T12:49:40.400000",
          "2024-03-22T12:49:40.500000",
          "2024-03-22T12:49:40.600000",
          "2024-03-22T12:49:40.700000",
          "2024-03-22T12:49:40.800000",
          "2024-03-22T12:49:40.900000",
          "2024-03-22T12:49:41",
          "2024-03-22T12:49:41.100000",
          "2024-03-22T12:49:41.200000",
          "2024-03-22T12:49:41.300000",
          "2024-03-22T12:49:41.400000",
          "2024-03-22T12:49:41.500000",
          "2024-03-22T12:49:41.600000",
          "2024-03-22T12:49:41.700000",
          "2024-03-22T12:49:41.800000",
          "2024-03-22T12:49:41.900000",
          "2024-03-22T12:49:42",
          "2024-03-22T12:49:42.100000",
          "2024-03-22T12:49:42.200000",
          "2024-03-22T12:49:42.300000",
          "2024-03-22T12:49:42.400000",
          "2024-03-22T12:49:42.500000",
          "2024-03-22T12:49:42.600000",
          "2024-03-22T12:49:42.700000",
          "2024-03-22T12:49:42.800000",
          "2024-03-22T12:49:42.900000",
          "2024-03-22T12:49:43",
          "2024-03-22T12:49:43.100000",
          "2024-03-22T12:49:43.200000",
          "2024-03-22T12:49:43.300000",
          "2024-03-22T12:49:43.400000",
          "2024-03-22T12:49:43.500000",
          "2024-03-22T12:49:43.600000",
          "2024-03-22T12:49:43.700000",
          "2024-03-22T12:49:43.800000",
          "2024-03-22T12:49:43.900000",
          "2024-03-22T12:49:44",
          "2024-03-22T12:49:44.100000",
          "2024-03-22T12:49:44.200000",
          "2024-03-22T12:49:44.300000",
          "2024-03-22T12:49:44.400000",
          "2024-03-22T12:49:44.500000",
          "2024-03-22T12:49:44.600000",
          "2024-03-22T12:49:44.700000",
          "2024-03-22T12:49:44.800000",
          "2024-03-22T12:49:44.900000",
          "2024-03-22T12:49:45",
          "2024-03-22T12:49:45.100000",
          "2024-03-22T12:49:45.200000",
          "2024-03-22T12:49:45.300000",
          "2024-03-22T12:49:45.400000",
          "2024-03-22T12:49:45.500000",
          "2024-03-22T12:49:45.600000",
          "2024-03-22T12:49:45.700000",
          "2024-03-22T12:49:45.800000",
          "2024-03-22T12:49:45.900000",
          "2024-03-22T12:49:46",
          "2024-03-22T12:49:46.100000",
          "2024-03-22T12:49:46.200000",
          "2024-03-22T12:49:46.300000",
          "2024-03-22T12:49:46.400000",
          "2024-03-22T12:49:46.500000",
          "2024-03-22T12:49:46.600000",
          "2024-03-22T12:49:46.700000",
          "2024-03-22T12:49:46.800000",
          "2024-03-22T12:49:46.900000",
          "2024-03-22T12:49:47",
          "2024-03-22T12:49:47.100000",
          "2024-03-22T12:49:47.200000",
          "2024-03-22T12:49:47.300000",
          "2024-03-22T12:49:47.400000",
          "2024-03-22T12:49:47.500000",
          "2024-03-22T12:49:47.600000",
          "2024-03-22T12:49:47.700000",
          "2024-03-22T12:49:47.800000",
          "2024-03-22T12:49:47.900000",
          "2024-03-22T12:49:48",
          "2024-03-22T12:49:48.100000",
          "2024-03-22T12:49:48.200000",
          "2024-03-22T12:49:48.300000",
          "2024-03-22T12:49:48.400000",
          "2024-03-22T12:49:48.500000",
          "2024-03-22T12:49:48.600000",
          "2024-03-22T12:49:48.700000",
          "2024-03-22T12:49:48.800000",
          "2024-03-22T12:49:48.900000",
          "2024-03-22T12:49:49",
          "2024-03-22T12:49:49.100000",
          "2024-03-22T12:49:49.200000",
          "2024-03-22T12:49:49.300000",
          "2024-03-22T12:49:49.400000",
          "2024-03-22T12:49:49.500000",
          "2024-03-22T12:49:49.600000",
          "2024-03-22T12:49:49.700000",
          "2024-03-22T12:49:49.800000",
          "2024-03-22T12:49:49.900000",
          "2024-03-22T12:49:50",
          "2024-03-22T12:49:50.100000",
          "2024-03-22T12:49:50.200000",
          "2024-03-22T12:49:50.300000",
          "2024-03-22T12:49:50.400000",
          "2024-03-22T12:49:50.500000",
          "2024-03-22T12:49:50.600000",
          "2024-03-22T12:49:50.700000",
          "2024-03-22T12:49:50.800000",
          "2024-03-22T12:49:50.900000",
          "2024-03-22T12:49:51",
          "2024-03-22T12:49:51.100000",
          "2024-03-22T12:49:51.200000",
          "2024-03-22T12:49:51.300000",
          "2024-03-22T12:49:51.400000",
          "2024-03-22T12:49:51.500000",
          "2024-03-22T12:49:51.600000",
          "2024-03-22T12:49:51.700000",
          "2024-03-22T12:49:51.800000",
          "2024-03-22T12:49:51.900000",
          "2024-03-22T12:49:52",
          "2024-03-22T12:49:52.100000",
          "2024-03-22T12:49:52.200000",
          "2024-03-22T12:49:52.300000",
          "2024-03-22T12:49:52.400000",
          "2024-03-22T12:49:52.500000",
          "2024-03-22T12:49:52.600000",
          "2024-03-22T12:49:52.700000",
          "2024-03-22T12:49:52.800000",
          "2024-03-22T12:49:52.900000",
          "2024-03-22T12:49:53",
          "2024-03-22T12:49:53.100000",
          "2024-03-22T12:49:53.200000",
          "2024-03-22T12:49:53.300000",
          "2024-03-22T12:49:53.400000",
          "2024-03-22T12:49:53.500000",
          "2024-03-22T12:49:53.600000",
          "2024-03-22T12:49:53.700000",
          "2024-03-22T12:49:53.800000",
          "2024-03-22T12:49:53.900000",
          "2024-03-22T12:49:54",
          "2024-03-22T12:49:54.100000",
          "2024-03-22T12:49:54.200000",
          "2024-03-22T12:49:54.300000",
          "2024-03-22T12:49:54.400000",
          "2024-03-22T12:49:54.500000",
          "2024-03-22T12:49:54.600000",
          "2024-03-22T12:49:54.700000",
          "2024-03-22T12:49:54.800000"
         ],
         "y": [
          -0.2592116058494199,
          -0.33605774931329996,
          -0.4702954866268963,
          -0.5439358790515089,
          -0.6597429580905547,
          -0.7291657019292695,
          -0.7730133671336328,
          -0.8111867172600505,
          -0.8681043021128748,
          -0.8857152696072991,
          -0.8904852885601112,
          -0.8892900552409768,
          -0.8892829308840025,
          -0.8672860337729797,
          -0.8228269924812178,
          -0.7763845622468238,
          -0.7108572852492676,
          -0.6074287266711536,
          -0.46273383219887865,
          -0.34784555861431965,
          -0.2462181208915543,
          -0.19717068716659142,
          -0.18478169286347518,
          -0.18421451463401867,
          -0.23411126572653562,
          -0.3301040722197852,
          -0.40574243201693627,
          -0.48559141344033885,
          -0.5715428708002629,
          -0.6814868595596287,
          -0.7486978976181942,
          -0.8195589589035568,
          -0.9144310705441259,
          -0.9652762020185696,
          -0.9535468215037178,
          -0.9100091324204322,
          -0.7662870665636105,
          -0.586616135306651,
          -0.38756915238600537,
          -0.24731175967355942,
          -0.11762964552718151,
          -0.1279624912650987,
          -0.11145692050147471,
          -0.09864784456945688,
          -0.22464538953400737,
          -0.3851303985523289,
          -0.5196840606478538,
          -0.6597661775989245,
          -0.7864489507535158,
          -0.9211170568503808,
          -1.0187257994577101,
          -1.081217585373065,
          -1.136842979108033,
          -1.0926669630698613,
          -1.0103353576238325,
          -0.8591338228322017,
          -0.7240402147765577,
          -0.5989140043761354,
          -0.4507610584723735,
          -0.3212156891865357,
          -0.2240387005738531,
          -0.1265451434604609,
          -0.029394789411431543,
          -0.02527656471908678,
          0.11025186036147315,
          0.07987814743381842,
          0.06024844951502399,
          -0.025072766725644364,
          -0.15716246784532675,
          -0.25500524780757056,
          -0.4092501580584644,
          -0.5819131393375481,
          -0.7435548989547784,
          -0.8881288713408058,
          -0.9958444525946122,
          -1.059727188519254,
          -1.0373088596508984,
          -1.0667948321955765,
          -1.0134849426524821,
          -0.9107977012356626,
          -0.7618673825683433,
          -0.6094301668216687,
          -0.3751042946825802,
          -0.257160243119855,
          -0.077080284047063,
          0.046612930450837205,
          0.10194698597605868,
          0.07148331502357141,
          -0.02285949916201341,
          -0.12678097564687496,
          -0.2681128499092311,
          -0.4538925309366922,
          -0.6286972341619519,
          -0.7805310712952047,
          -0.9015818075327963,
          -1.0052066953855738,
          -1.0548032544430372,
          -1.0239698055051438,
          -0.9454772409105214,
          -0.8211756515538053,
          -0.6837978244269578,
          -0.4911338264957988,
          -0.27018131661134986,
          -0.14978895067387185,
          -0.05131011635198956,
          0.037431056970957784,
          0.13984756221181327,
          0.07500025883229569,
          -0.0034026121343646424,
          -0.18026686750487553,
          -0.34956627509137655,
          -0.5235356833656384,
          -0.6746467820172918,
          -0.7605185162595064,
          -0.8181284556346958,
          -0.8871877578761836,
          -0.9219802623055654,
          -0.9403972378009137,
          -0.9204874047008405,
          -0.8934876301127587,
          -0.8738094323796092,
          -0.78364164603072,
          -0.7161217705316366,
          -0.6823320632380886,
          -0.6540330092056771,
          -0.6109268794922857,
          -0.5832012268429972,
          -0.5747894181624964,
          -0.5713024247418116,
          -0.561385340375762,
          -0.5518221454217279,
          -0.5081194234471251,
          -0.44401381855503835,
          -0.38437052650139775,
          -0.25265623194081127,
          -0.08547086368920583,
          0.03797013986980494,
          0.07773473434295086,
          0.11506101033963494,
          0.17083456328240834,
          0.0824368741555148,
          -0.02748618469557002,
          -0.15602768966498515,
          -0.3027086506213017,
          -0.5615904543552177,
          -0.7084662061452878,
          -0.6539397309365172,
          -0.6060870396856173,
          -0.5887831462635336,
          -0.73855421836081,
          -0.7746197894149278,
          -0.7277166385695076,
          -0.6643291889674292,
          -0.518436780050433,
          -0.33606748883394605,
          -0.03948867810666307,
          0.12924833320659349,
          0.0933391658110179,
          0.25085611637107835,
          0.24859003707312904,
          0.2682634963480972,
          0.28455362521462774,
          0.26203968543864453,
          0.24151204068274637,
          0.20099751327991128,
          0.12012530994155064,
          0.012422802816695057,
          -0.02921414178670172,
          -0.07709090453047182,
          -0.1188327467177631,
          -0.17852291301144313,
          -0.3051571030190617,
          -0.4702559151110462,
          -0.6210381759414052,
          -0.7669041849577712,
          -0.9633453558684663,
          -1.0033077048273495,
          -1.0392624796839303,
          -1.0690403829009716,
          -1.055845779666808,
          -1.019357462212132,
          -0.9888012810696388,
          -0.9015130781747309,
          -0.8249168233272727,
          -0.7740423904452478,
          -0.7383190228014485,
          -0.7151222279735131,
          -0.6989048013064809,
          -0.659500140956845,
          -0.633181660375799,
          -0.5646402505641678,
          -0.45285626632763276,
          -0.269674280999756,
          -0.0328758936865702,
          0.08173383965362135,
          0.13996035253929337,
          0.1449613593731845,
          0.3574536980251749,
          0.24252766029222228,
          0.3042298936425712,
          0.30288002246715284,
          0.29253612926487155,
          0.26881939223588286,
          0.1793038028293977,
          0.057877542770008394,
          -0.06770974668044047,
          -0.17948454947140216,
          -0.29360867779259653,
          -0.4129522285659504,
          -0.5573970882124079,
          -0.6645569407100693,
          -0.7510868100084788,
          -0.8679829334326599,
          -0.9268219556374981,
          -0.9104548407437546,
          -0.9240655545067645,
          -0.9323823541899658,
          -0.9382540935911015,
          -0.8765983101757191,
          -0.7811279095198569,
          -0.77356234326718,
          -0.7862275110196799,
          -0.7707530290302075,
          -0.6842195482641936,
          -0.5642400002323177,
          -0.40359510553748423,
          -0.21247117191997295,
          0.0201620090621208,
          0.16491693508170105,
          0.23799406712589372,
          0.2260110626908196,
          0.3364239944004313,
          0.3258415875051013,
          0.2915138699754911,
          0.24322042048757875,
          0.09916263826661928,
          0.009192039326596454,
          -0.1119921515162292,
          -0.25101028282091975,
          -0.4395552712305258,
          -0.6315650577873255,
          -0.760657662725338,
          -0.834893607009007,
          -0.8244757944545315,
          -0.8165874382003668,
          -0.8125893650824668,
          -0.8284517412527037,
          -0.8301624926705843,
          -0.8812741695944821,
          -0.9379885951670462
         ]
        },
        {
         "marker": {
          "color": "red",
          "size": 6
         },
         "mode": "markers",
         "name": "pitch Left turn beginning",
         "showlegend": false,
         "type": "scatter",
         "x": [
          "2024-03-22T12:49:31.300000",
          "2024-03-22T12:49:33.300000",
          "2024-03-22T12:49:35.300000",
          "2024-03-22T12:49:37.600000",
          "2024-03-22T12:49:39.700000",
          "2024-03-22T12:49:42.800000",
          "2024-03-22T12:49:45.100000",
          "2024-03-22T12:49:48.700000",
          "2024-03-22T12:49:52"
         ],
         "y": [
          -0.8228269924812178,
          -0.9535468215037178,
          -1.0103353576238325,
          -1.0667948321955765,
          -0.9454772409105214,
          -0.561385340375762,
          -0.6643291889674292,
          -0.659500140956845,
          -0.7862275110196799
         ]
        },
        {
         "marker": {
          "color": "orange",
          "size": 6
         },
         "mode": "markers",
         "name": "pitch Left turn ending",
         "showlegend": false,
         "type": "scatter",
         "x": [
          "2024-03-22T12:49:32.400000",
          "2024-03-22T12:49:34.100000",
          "2024-03-22T12:49:36.300000",
          "2024-03-22T12:49:38.400000",
          "2024-03-22T12:49:40.700000",
          "2024-03-22T12:49:43.900000",
          "2024-03-22T12:49:46.500000",
          "2024-03-22T12:49:50.300000",
          "2024-03-22T12:49:53.500000"
         ],
         "y": [
          -0.3301040722197852,
          -0.11145692050147471,
          0.11025186036147315,
          0.046612930450837205,
          -0.0034026121343646424,
          0.0824368741555148,
          0.012422802816695057,
          0.057877542770008394,
          0.009192039326596454
         ]
        },
        {
         "marker": {
          "color": "blue",
          "size": 6
         },
         "mode": "markers",
         "name": "pitch Right turn beginning",
         "showlegend": false,
         "type": "scatter",
         "x": [
          "2024-03-22T12:49:29.900000",
          "2024-03-22T12:49:32.500000",
          "2024-03-22T12:49:34.200000",
          "2024-03-22T12:49:36.400000",
          "2024-03-22T12:49:38.500000",
          "2024-03-22T12:49:40.800000",
          "2024-03-22T12:49:44",
          "2024-03-22T12:49:46.600000",
          "2024-03-22T12:49:50.400000",
          "2024-03-22T12:49:53.600000"
         ],
         "y": [
          -0.2592116058494199,
          -0.40574243201693627,
          -0.09864784456945688,
          0.07987814743381842,
          0.10194698597605868,
          -0.18026686750487553,
          -0.02748618469557002,
          -0.02921414178670172,
          -0.06770974668044047,
          -0.1119921515162292
         ]
        },
        {
         "marker": {
          "color": "purple",
          "size": 6
         },
         "mode": "markers",
         "name": "pitch Right turn ending",
         "showlegend": false,
         "type": "scatter",
         "x": [
          "2024-03-22T12:49:31.200000",
          "2024-03-22T12:49:33.200000",
          "2024-03-22T12:49:35.200000",
          "2024-03-22T12:49:37.500000",
          "2024-03-22T12:49:39.600000",
          "2024-03-22T12:49:42.700000",
          "2024-03-22T12:49:45",
          "2024-03-22T12:49:48.600000",
          "2024-03-22T12:49:51.900000",
          "2024-03-22T12:49:54.800000"
         ],
         "y": [
          -0.8672860337729797,
          -0.9652762020185696,
          -1.0926669630698613,
          -1.0373088596508984,
          -1.0239698055051438,
          -0.5713024247418116,
          -0.7277166385695076,
          -0.6989048013064809,
          -0.77356234326718,
          -0.9379885951670462
         ]
        },
        {
         "line": {
          "color": "green"
         },
         "mode": "lines",
         "name": "yaw",
         "type": "scatter",
         "x": [
          "2024-03-22T12:49:29.900000",
          "2024-03-22T12:49:30",
          "2024-03-22T12:49:30.100000",
          "2024-03-22T12:49:30.200000",
          "2024-03-22T12:49:30.300000",
          "2024-03-22T12:49:30.400000",
          "2024-03-22T12:49:30.500000",
          "2024-03-22T12:49:30.600000",
          "2024-03-22T12:49:30.700000",
          "2024-03-22T12:49:30.800000",
          "2024-03-22T12:49:30.900000",
          "2024-03-22T12:49:31",
          "2024-03-22T12:49:31.100000",
          "2024-03-22T12:49:31.200000",
          "2024-03-22T12:49:31.300000",
          "2024-03-22T12:49:31.400000",
          "2024-03-22T12:49:31.500000",
          "2024-03-22T12:49:31.600000",
          "2024-03-22T12:49:31.700000",
          "2024-03-22T12:49:31.800000",
          "2024-03-22T12:49:31.900000",
          "2024-03-22T12:49:32",
          "2024-03-22T12:49:32.100000",
          "2024-03-22T12:49:32.200000",
          "2024-03-22T12:49:32.300000",
          "2024-03-22T12:49:32.400000",
          "2024-03-22T12:49:32.500000",
          "2024-03-22T12:49:32.600000",
          "2024-03-22T12:49:32.700000",
          "2024-03-22T12:49:32.800000",
          "2024-03-22T12:49:32.900000",
          "2024-03-22T12:49:33",
          "2024-03-22T12:49:33.100000",
          "2024-03-22T12:49:33.200000",
          "2024-03-22T12:49:33.300000",
          "2024-03-22T12:49:33.400000",
          "2024-03-22T12:49:33.500000",
          "2024-03-22T12:49:33.600000",
          "2024-03-22T12:49:33.700000",
          "2024-03-22T12:49:33.800000",
          "2024-03-22T12:49:33.900000",
          "2024-03-22T12:49:34",
          "2024-03-22T12:49:34.100000",
          "2024-03-22T12:49:34.200000",
          "2024-03-22T12:49:34.300000",
          "2024-03-22T12:49:34.400000",
          "2024-03-22T12:49:34.500000",
          "2024-03-22T12:49:34.600000",
          "2024-03-22T12:49:34.700000",
          "2024-03-22T12:49:34.800000",
          "2024-03-22T12:49:34.900000",
          "2024-03-22T12:49:35",
          "2024-03-22T12:49:35.100000",
          "2024-03-22T12:49:35.200000",
          "2024-03-22T12:49:35.300000",
          "2024-03-22T12:49:35.400000",
          "2024-03-22T12:49:35.500000",
          "2024-03-22T12:49:35.600000",
          "2024-03-22T12:49:35.700000",
          "2024-03-22T12:49:35.800000",
          "2024-03-22T12:49:35.900000",
          "2024-03-22T12:49:36",
          "2024-03-22T12:49:36.100000",
          "2024-03-22T12:49:36.200000",
          "2024-03-22T12:49:36.300000",
          "2024-03-22T12:49:36.400000",
          "2024-03-22T12:49:36.500000",
          "2024-03-22T12:49:36.600000",
          "2024-03-22T12:49:36.700000",
          "2024-03-22T12:49:36.800000",
          "2024-03-22T12:49:36.900000",
          "2024-03-22T12:49:37",
          "2024-03-22T12:49:37.100000",
          "2024-03-22T12:49:37.200000",
          "2024-03-22T12:49:37.300000",
          "2024-03-22T12:49:37.400000",
          "2024-03-22T12:49:37.500000",
          "2024-03-22T12:49:37.600000",
          "2024-03-22T12:49:37.700000",
          "2024-03-22T12:49:37.800000",
          "2024-03-22T12:49:37.900000",
          "2024-03-22T12:49:38",
          "2024-03-22T12:49:38.100000",
          "2024-03-22T12:49:38.200000",
          "2024-03-22T12:49:38.300000",
          "2024-03-22T12:49:38.400000",
          "2024-03-22T12:49:38.500000",
          "2024-03-22T12:49:38.600000",
          "2024-03-22T12:49:38.700000",
          "2024-03-22T12:49:38.800000",
          "2024-03-22T12:49:38.900000",
          "2024-03-22T12:49:39",
          "2024-03-22T12:49:39.100000",
          "2024-03-22T12:49:39.200000",
          "2024-03-22T12:49:39.300000",
          "2024-03-22T12:49:39.400000",
          "2024-03-22T12:49:39.500000",
          "2024-03-22T12:49:39.600000",
          "2024-03-22T12:49:39.700000",
          "2024-03-22T12:49:39.800000",
          "2024-03-22T12:49:39.900000",
          "2024-03-22T12:49:40",
          "2024-03-22T12:49:40.100000",
          "2024-03-22T12:49:40.200000",
          "2024-03-22T12:49:40.300000",
          "2024-03-22T12:49:40.400000",
          "2024-03-22T12:49:40.500000",
          "2024-03-22T12:49:40.600000",
          "2024-03-22T12:49:40.700000",
          "2024-03-22T12:49:40.800000",
          "2024-03-22T12:49:40.900000",
          "2024-03-22T12:49:41",
          "2024-03-22T12:49:41.100000",
          "2024-03-22T12:49:41.200000",
          "2024-03-22T12:49:41.300000",
          "2024-03-22T12:49:41.400000",
          "2024-03-22T12:49:41.500000",
          "2024-03-22T12:49:41.600000",
          "2024-03-22T12:49:41.700000",
          "2024-03-22T12:49:41.800000",
          "2024-03-22T12:49:41.900000",
          "2024-03-22T12:49:42",
          "2024-03-22T12:49:42.100000",
          "2024-03-22T12:49:42.200000",
          "2024-03-22T12:49:42.300000",
          "2024-03-22T12:49:42.400000",
          "2024-03-22T12:49:42.500000",
          "2024-03-22T12:49:42.600000",
          "2024-03-22T12:49:42.700000",
          "2024-03-22T12:49:42.800000",
          "2024-03-22T12:49:42.900000",
          "2024-03-22T12:49:43",
          "2024-03-22T12:49:43.100000",
          "2024-03-22T12:49:43.200000",
          "2024-03-22T12:49:43.300000",
          "2024-03-22T12:49:43.400000",
          "2024-03-22T12:49:43.500000",
          "2024-03-22T12:49:43.600000",
          "2024-03-22T12:49:43.700000",
          "2024-03-22T12:49:43.800000",
          "2024-03-22T12:49:43.900000",
          "2024-03-22T12:49:44",
          "2024-03-22T12:49:44.100000",
          "2024-03-22T12:49:44.200000",
          "2024-03-22T12:49:44.300000",
          "2024-03-22T12:49:44.400000",
          "2024-03-22T12:49:44.500000",
          "2024-03-22T12:49:44.600000",
          "2024-03-22T12:49:44.700000",
          "2024-03-22T12:49:44.800000",
          "2024-03-22T12:49:44.900000",
          "2024-03-22T12:49:45",
          "2024-03-22T12:49:45.100000",
          "2024-03-22T12:49:45.200000",
          "2024-03-22T12:49:45.300000",
          "2024-03-22T12:49:45.400000",
          "2024-03-22T12:49:45.500000",
          "2024-03-22T12:49:45.600000",
          "2024-03-22T12:49:45.700000",
          "2024-03-22T12:49:45.800000",
          "2024-03-22T12:49:45.900000",
          "2024-03-22T12:49:46",
          "2024-03-22T12:49:46.100000",
          "2024-03-22T12:49:46.200000",
          "2024-03-22T12:49:46.300000",
          "2024-03-22T12:49:46.400000",
          "2024-03-22T12:49:46.500000",
          "2024-03-22T12:49:46.600000",
          "2024-03-22T12:49:46.700000",
          "2024-03-22T12:49:46.800000",
          "2024-03-22T12:49:46.900000",
          "2024-03-22T12:49:47",
          "2024-03-22T12:49:47.100000",
          "2024-03-22T12:49:47.200000",
          "2024-03-22T12:49:47.300000",
          "2024-03-22T12:49:47.400000",
          "2024-03-22T12:49:47.500000",
          "2024-03-22T12:49:47.600000",
          "2024-03-22T12:49:47.700000",
          "2024-03-22T12:49:47.800000",
          "2024-03-22T12:49:47.900000",
          "2024-03-22T12:49:48",
          "2024-03-22T12:49:48.100000",
          "2024-03-22T12:49:48.200000",
          "2024-03-22T12:49:48.300000",
          "2024-03-22T12:49:48.400000",
          "2024-03-22T12:49:48.500000",
          "2024-03-22T12:49:48.600000",
          "2024-03-22T12:49:48.700000",
          "2024-03-22T12:49:48.800000",
          "2024-03-22T12:49:48.900000",
          "2024-03-22T12:49:49",
          "2024-03-22T12:49:49.100000",
          "2024-03-22T12:49:49.200000",
          "2024-03-22T12:49:49.300000",
          "2024-03-22T12:49:49.400000",
          "2024-03-22T12:49:49.500000",
          "2024-03-22T12:49:49.600000",
          "2024-03-22T12:49:49.700000",
          "2024-03-22T12:49:49.800000",
          "2024-03-22T12:49:49.900000",
          "2024-03-22T12:49:50",
          "2024-03-22T12:49:50.100000",
          "2024-03-22T12:49:50.200000",
          "2024-03-22T12:49:50.300000",
          "2024-03-22T12:49:50.400000",
          "2024-03-22T12:49:50.500000",
          "2024-03-22T12:49:50.600000",
          "2024-03-22T12:49:50.700000",
          "2024-03-22T12:49:50.800000",
          "2024-03-22T12:49:50.900000",
          "2024-03-22T12:49:51",
          "2024-03-22T12:49:51.100000",
          "2024-03-22T12:49:51.200000",
          "2024-03-22T12:49:51.300000",
          "2024-03-22T12:49:51.400000",
          "2024-03-22T12:49:51.500000",
          "2024-03-22T12:49:51.600000",
          "2024-03-22T12:49:51.700000",
          "2024-03-22T12:49:51.800000",
          "2024-03-22T12:49:51.900000",
          "2024-03-22T12:49:52",
          "2024-03-22T12:49:52.100000",
          "2024-03-22T12:49:52.200000",
          "2024-03-22T12:49:52.300000",
          "2024-03-22T12:49:52.400000",
          "2024-03-22T12:49:52.500000",
          "2024-03-22T12:49:52.600000",
          "2024-03-22T12:49:52.700000",
          "2024-03-22T12:49:52.800000",
          "2024-03-22T12:49:52.900000",
          "2024-03-22T12:49:53",
          "2024-03-22T12:49:53.100000",
          "2024-03-22T12:49:53.200000",
          "2024-03-22T12:49:53.300000",
          "2024-03-22T12:49:53.400000",
          "2024-03-22T12:49:53.500000",
          "2024-03-22T12:49:53.600000",
          "2024-03-22T12:49:53.700000",
          "2024-03-22T12:49:53.800000",
          "2024-03-22T12:49:53.900000",
          "2024-03-22T12:49:54",
          "2024-03-22T12:49:54.100000",
          "2024-03-22T12:49:54.200000",
          "2024-03-22T12:49:54.300000",
          "2024-03-22T12:49:54.400000",
          "2024-03-22T12:49:54.500000",
          "2024-03-22T12:49:54.600000",
          "2024-03-22T12:49:54.700000",
          "2024-03-22T12:49:54.800000"
         ],
         "y": [
          2.9494172174330373,
          2.923579168733853,
          2.9286113966616356,
          2.8782920496185262,
          2.7390934115438523,
          2.6129196339404306,
          2.476573698298421,
          2.33574632651366,
          2.2557033486000266,
          2.1215892734992625,
          2.025055320049487,
          1.9976814682879225,
          1.910804032974851,
          1.9172754107254788,
          1.9502027491037035,
          1.942217899785074,
          1.9560126152463706,
          1.957821779243169,
          2.074800978565161,
          2.2492457156687906,
          2.492898684302366,
          2.72682421546172,
          2.877533793057839,
          2.9601340109331593,
          2.883078976749183,
          2.7674725620149023,
          2.7345008569067746,
          2.7507878749568686,
          2.7386094256902482,
          2.6063284242926597,
          2.4295134036459958,
          2.24983396060221,
          2.047149468154498,
          2.0007382867495824,
          2.0223531803256685,
          1.9415406002631914,
          2.018594876243583,
          2.057194833053495,
          2.2634399931908935,
          2.5531917676956026,
          2.902098787333959,
          2.9942073411577694,
          3.042733503964002,
          2.98236523502459,
          2.9160954737248317,
          2.9016158526192912,
          2.8459669027333416,
          2.730302928620404,
          2.5997638228887894,
          2.484077780273886,
          2.0016594820604503,
          2.133176076718873,
          1.8806356132284505,
          2.0738161092298655,
          1.9643281000279358,
          1.9763467963418162,
          1.8988286947829818,
          1.9220080019196288,
          2.0995951401110404,
          2.18865496844099,
          2.337756390739727,
          2.613010647111934,
          2.7971547011333726,
          2.8249312535660875,
          2.8967217746636975,
          2.8704814822712086,
          2.939894592658309,
          2.925979302270116,
          2.8872808924662507,
          2.9004671550408614,
          2.8713964225729147,
          2.772514987769692,
          2.5218107026077936,
          2.1609241836988056,
          2.1046189807421096,
          1.9867666576912313,
          1.9755716075139755,
          1.9874579645244814,
          1.9668157884929325,
          1.914583042306254,
          1.9034874461407651,
          1.8989402238144488,
          2.1275516668164403,
          2.402692276721448,
          2.638876381221375,
          2.7476473614130614,
          2.77193335901289,
          2.6905812578748587,
          2.694883654633407,
          2.718440360320379,
          2.751485987079322,
          2.67702772344389,
          2.5304338370120423,
          2.2990801333912945,
          2.139942874395484,
          1.9479568578785953,
          1.853936527952575,
          1.8536960148400439,
          1.8943967748850827,
          1.8780139505376279,
          1.7919734424408447,
          1.8445296745135313,
          2.0597380223968624,
          2.322955894746441,
          2.4571776158362257,
          2.5042928638089843,
          2.57626392448044,
          2.6550761023244,
          2.6636181774240404,
          2.6632196374984285,
          2.6538881422596865,
          2.522519732121411,
          2.338323276103393,
          2.164360331634936,
          2.072709316466674,
          2.0136475625592074,
          1.946911060306589,
          1.932877265867542,
          1.9251342452496105,
          1.8952311381529532,
          1.8533708896918872,
          1.8516096352037121,
          1.8690763030019728,
          1.8092730052113017,
          1.7156561726323223,
          1.7088134193041946,
          1.6907865151704249,
          1.6642688653366806,
          1.6208625753182364,
          1.579652518693624,
          1.566868103949013,
          1.5899061325610653,
          1.6505004878434366,
          1.6785931255379891,
          1.7626182306152784,
          1.9630992716398674,
          2.2072714050314537,
          2.3719907225058,
          2.4402255349817144,
          2.427453895604836,
          2.387915806460274,
          2.4227769964327415,
          2.4437283968100485,
          2.428846290228268,
          2.1958115259745368,
          1.857832292313675,
          1.8409678457301704,
          1.8423505154201605,
          1.8932225318964437,
          1.7761425284529784,
          1.6213006287383287,
          1.6087466844414362,
          1.5957294114400387,
          1.6306019787773456,
          1.7814348744441788,
          1.964149345086474,
          2.254987980374742,
          2.351303796978133,
          2.5425794347442414,
          2.6541874785504764,
          2.835837426779541,
          2.8939595844236474,
          2.880491204885077,
          2.933739404097099,
          2.939743457547726,
          2.8552611236394245,
          2.762520462332275,
          2.7716975441589953,
          2.818461248910054,
          2.8664345297775577,
          2.900553973193927,
          2.8791942074931876,
          2.751295504832813,
          2.546367580457026,
          2.300128335589748,
          1.9915072250654098,
          0.5105711759736611,
          0.541491841306169,
          0.39139336556401555,
          0.4264438308103445,
          0.4402512287830468,
          0.40073823911332734,
          0.34557099578837985,
          0.3475920734663501,
          0.31653351875568314,
          0.26069839537099115,
          0.18019881108661365,
          0.11139422002347849,
          0.09455845741576356,
          0.08443663833508198,
          0.10027515849421127,
          0.15192502920968404,
          0.19649380544312336,
          0.4652626203344636,
          0.7682786468452281,
          1.0169271888847555,
          1.155359501282481,
          1.3538197968353356,
          1.4428980235118058,
          1.4800668435657969,
          1.5781199479131776,
          1.615341819371237,
          1.6059511896063072,
          1.5491835260123465,
          1.5517036328006697,
          1.5490886262203383,
          1.5639505763497161,
          1.5254424902631474,
          1.475786604978004,
          1.3187849254538708,
          1.0175075361843662,
          0.6907902110110761,
          0.5103606174940817,
          0.5003517703879864,
          0.4620140701637739,
          0.48132378370384077,
          0.4508196888710034,
          0.35783613494600636,
          0.34688034604304124,
          0.3809771468693619,
          0.27328101556852513,
          0.1916611492243411,
          0.13584061626747707,
          0.13695558118623083,
          0.14809039429535192,
          0.13837133773388918,
          0.16590877751024236,
          0.41674072955685887,
          0.861927515333187,
          1.3462111049460292,
          1.4242906167071216,
          1.3910072665649014,
          1.3771787894911276,
          1.4612915392370551,
          1.4458484952489672,
          1.3755604960717625,
          1.3535887438800256,
          1.3752795881153155,
          1.3315226015336687,
          1.157676230513454,
          0.8845714968048314,
          0.5992149293237318,
          0.42878902780989625,
          0.3496879396508795,
          0.37711706875288104,
          0.31526993746023524,
          0.2572030909402251,
          0.2696723779406348,
          0.22063576354806444,
          0.19107357201839284
         ]
        },
        {
         "marker": {
          "color": "red",
          "size": 6
         },
         "mode": "markers",
         "name": "yaw Left turn beginning",
         "showlegend": false,
         "type": "scatter",
         "x": [
          "2024-03-22T12:49:31.300000",
          "2024-03-22T12:49:33.300000",
          "2024-03-22T12:49:35.300000",
          "2024-03-22T12:49:37.600000",
          "2024-03-22T12:49:39.700000",
          "2024-03-22T12:49:42.800000",
          "2024-03-22T12:49:45.100000",
          "2024-03-22T12:49:48.700000",
          "2024-03-22T12:49:52"
         ],
         "y": [
          1.9502027491037035,
          2.0223531803256685,
          1.9643281000279358,
          1.9874579645244814,
          1.8943967748850827,
          1.579652518693624,
          1.5957294114400387,
          0.09455845741576356,
          0.1916611492243411
         ]
        },
        {
         "marker": {
          "color": "orange",
          "size": 6
         },
         "mode": "markers",
         "name": "yaw Left turn ending",
         "showlegend": false,
         "type": "scatter",
         "x": [
          "2024-03-22T12:49:32.400000",
          "2024-03-22T12:49:34.100000",
          "2024-03-22T12:49:36.300000",
          "2024-03-22T12:49:38.400000",
          "2024-03-22T12:49:40.700000",
          "2024-03-22T12:49:43.900000",
          "2024-03-22T12:49:46.500000",
          "2024-03-22T12:49:50.300000",
          "2024-03-22T12:49:53.500000"
         ],
         "y": [
          2.7674725620149023,
          3.042733503964002,
          2.8967217746636975,
          2.7476473614130614,
          2.6636181774240404,
          2.387915806460274,
          2.762520462332275,
          1.5517036328006697,
          1.3535887438800256
         ]
        },
        {
         "marker": {
          "color": "blue",
          "size": 6
         },
         "mode": "markers",
         "name": "yaw Right turn beginning",
         "showlegend": false,
         "type": "scatter",
         "x": [
          "2024-03-22T12:49:29.900000",
          "2024-03-22T12:49:32.500000",
          "2024-03-22T12:49:34.200000",
          "2024-03-22T12:49:36.400000",
          "2024-03-22T12:49:38.500000",
          "2024-03-22T12:49:40.800000",
          "2024-03-22T12:49:44",
          "2024-03-22T12:49:46.600000",
          "2024-03-22T12:49:50.400000",
          "2024-03-22T12:49:53.600000"
         ],
         "y": [
          2.9494172174330373,
          2.7345008569067746,
          2.98236523502459,
          2.8704814822712086,
          2.77193335901289,
          2.6632196374984285,
          2.4227769964327415,
          2.7716975441589953,
          1.5490886262203383,
          1.3752795881153155
         ]
        },
        {
         "marker": {
          "color": "purple",
          "size": 6
         },
         "mode": "markers",
         "name": "yaw Right turn ending",
         "showlegend": false,
         "type": "scatter",
         "x": [
          "2024-03-22T12:49:31.200000",
          "2024-03-22T12:49:33.200000",
          "2024-03-22T12:49:35.200000",
          "2024-03-22T12:49:37.500000",
          "2024-03-22T12:49:39.600000",
          "2024-03-22T12:49:42.700000",
          "2024-03-22T12:49:45",
          "2024-03-22T12:49:48.600000",
          "2024-03-22T12:49:51.900000",
          "2024-03-22T12:49:54.800000"
         ],
         "y": [
          1.9172754107254788,
          2.0007382867495824,
          2.0738161092298655,
          1.9755716075139755,
          1.8536960148400439,
          1.6208625753182364,
          1.6087466844414362,
          0.11139422002347849,
          0.27328101556852513,
          0.19107357201839284
         ]
        },
        {
         "legendgroup": "Left",
         "marker": {
          "color": "red",
          "size": 6
         },
         "mode": "markers",
         "name": "Left turn beginning",
         "showlegend": true,
         "type": "scatter",
         "x": [
          null
         ],
         "y": [
          null
         ]
        },
        {
         "legendgroup": "Left",
         "marker": {
          "color": "orange",
          "size": 6
         },
         "mode": "markers",
         "name": "Left turn ending",
         "showlegend": true,
         "type": "scatter",
         "x": [
          null
         ],
         "y": [
          null
         ]
        },
        {
         "legendgroup": "Right",
         "marker": {
          "color": "blue",
          "size": 6
         },
         "mode": "markers",
         "name": "Right turn beginning",
         "showlegend": true,
         "type": "scatter",
         "x": [
          null
         ],
         "y": [
          null
         ]
        },
        {
         "legendgroup": "Right",
         "marker": {
          "color": "purple",
          "size": 6
         },
         "mode": "markers",
         "name": "Right turn ending",
         "showlegend": true,
         "type": "scatter",
         "x": [
          null
         ],
         "y": [
          null
         ]
        }
       ],
       "layout": {
        "height": 600,
        "legend": {
         "bgcolor": "rgba(255, 255, 255, 0.8)",
         "bordercolor": "Black",
         "borderwidth": 2,
         "font": {
          "size": 30
         },
         "itemsizing": "constant",
         "itemwidth": 40,
         "traceorder": "normal",
         "x": 0.01,
         "y": 0.99
        },
        "template": {
         "data": {
          "bar": [
           {
            "error_x": {
             "color": "#2a3f5f"
            },
            "error_y": {
             "color": "#2a3f5f"
            },
            "marker": {
             "line": {
              "color": "#E5ECF6",
              "width": 0.5
             },
             "pattern": {
              "fillmode": "overlay",
              "size": 10,
              "solidity": 0.2
             }
            },
            "type": "bar"
           }
          ],
          "barpolar": [
           {
            "marker": {
             "line": {
              "color": "#E5ECF6",
              "width": 0.5
             },
             "pattern": {
              "fillmode": "overlay",
              "size": 10,
              "solidity": 0.2
             }
            },
            "type": "barpolar"
           }
          ],
          "carpet": [
           {
            "aaxis": {
             "endlinecolor": "#2a3f5f",
             "gridcolor": "white",
             "linecolor": "white",
             "minorgridcolor": "white",
             "startlinecolor": "#2a3f5f"
            },
            "baxis": {
             "endlinecolor": "#2a3f5f",
             "gridcolor": "white",
             "linecolor": "white",
             "minorgridcolor": "white",
             "startlinecolor": "#2a3f5f"
            },
            "type": "carpet"
           }
          ],
          "choropleth": [
           {
            "colorbar": {
             "outlinewidth": 0,
             "ticks": ""
            },
            "type": "choropleth"
           }
          ],
          "contour": [
           {
            "colorbar": {
             "outlinewidth": 0,
             "ticks": ""
            },
            "colorscale": [
             [
              0,
              "#0d0887"
             ],
             [
              0.1111111111111111,
              "#46039f"
             ],
             [
              0.2222222222222222,
              "#7201a8"
             ],
             [
              0.3333333333333333,
              "#9c179e"
             ],
             [
              0.4444444444444444,
              "#bd3786"
             ],
             [
              0.5555555555555556,
              "#d8576b"
             ],
             [
              0.6666666666666666,
              "#ed7953"
             ],
             [
              0.7777777777777778,
              "#fb9f3a"
             ],
             [
              0.8888888888888888,
              "#fdca26"
             ],
             [
              1,
              "#f0f921"
             ]
            ],
            "type": "contour"
           }
          ],
          "contourcarpet": [
           {
            "colorbar": {
             "outlinewidth": 0,
             "ticks": ""
            },
            "type": "contourcarpet"
           }
          ],
          "heatmap": [
           {
            "colorbar": {
             "outlinewidth": 0,
             "ticks": ""
            },
            "colorscale": [
             [
              0,
              "#0d0887"
             ],
             [
              0.1111111111111111,
              "#46039f"
             ],
             [
              0.2222222222222222,
              "#7201a8"
             ],
             [
              0.3333333333333333,
              "#9c179e"
             ],
             [
              0.4444444444444444,
              "#bd3786"
             ],
             [
              0.5555555555555556,
              "#d8576b"
             ],
             [
              0.6666666666666666,
              "#ed7953"
             ],
             [
              0.7777777777777778,
              "#fb9f3a"
             ],
             [
              0.8888888888888888,
              "#fdca26"
             ],
             [
              1,
              "#f0f921"
             ]
            ],
            "type": "heatmap"
           }
          ],
          "heatmapgl": [
           {
            "colorbar": {
             "outlinewidth": 0,
             "ticks": ""
            },
            "colorscale": [
             [
              0,
              "#0d0887"
             ],
             [
              0.1111111111111111,
              "#46039f"
             ],
             [
              0.2222222222222222,
              "#7201a8"
             ],
             [
              0.3333333333333333,
              "#9c179e"
             ],
             [
              0.4444444444444444,
              "#bd3786"
             ],
             [
              0.5555555555555556,
              "#d8576b"
             ],
             [
              0.6666666666666666,
              "#ed7953"
             ],
             [
              0.7777777777777778,
              "#fb9f3a"
             ],
             [
              0.8888888888888888,
              "#fdca26"
             ],
             [
              1,
              "#f0f921"
             ]
            ],
            "type": "heatmapgl"
           }
          ],
          "histogram": [
           {
            "marker": {
             "pattern": {
              "fillmode": "overlay",
              "size": 10,
              "solidity": 0.2
             }
            },
            "type": "histogram"
           }
          ],
          "histogram2d": [
           {
            "colorbar": {
             "outlinewidth": 0,
             "ticks": ""
            },
            "colorscale": [
             [
              0,
              "#0d0887"
             ],
             [
              0.1111111111111111,
              "#46039f"
             ],
             [
              0.2222222222222222,
              "#7201a8"
             ],
             [
              0.3333333333333333,
              "#9c179e"
             ],
             [
              0.4444444444444444,
              "#bd3786"
             ],
             [
              0.5555555555555556,
              "#d8576b"
             ],
             [
              0.6666666666666666,
              "#ed7953"
             ],
             [
              0.7777777777777778,
              "#fb9f3a"
             ],
             [
              0.8888888888888888,
              "#fdca26"
             ],
             [
              1,
              "#f0f921"
             ]
            ],
            "type": "histogram2d"
           }
          ],
          "histogram2dcontour": [
           {
            "colorbar": {
             "outlinewidth": 0,
             "ticks": ""
            },
            "colorscale": [
             [
              0,
              "#0d0887"
             ],
             [
              0.1111111111111111,
              "#46039f"
             ],
             [
              0.2222222222222222,
              "#7201a8"
             ],
             [
              0.3333333333333333,
              "#9c179e"
             ],
             [
              0.4444444444444444,
              "#bd3786"
             ],
             [
              0.5555555555555556,
              "#d8576b"
             ],
             [
              0.6666666666666666,
              "#ed7953"
             ],
             [
              0.7777777777777778,
              "#fb9f3a"
             ],
             [
              0.8888888888888888,
              "#fdca26"
             ],
             [
              1,
              "#f0f921"
             ]
            ],
            "type": "histogram2dcontour"
           }
          ],
          "mesh3d": [
           {
            "colorbar": {
             "outlinewidth": 0,
             "ticks": ""
            },
            "type": "mesh3d"
           }
          ],
          "parcoords": [
           {
            "line": {
             "colorbar": {
              "outlinewidth": 0,
              "ticks": ""
             }
            },
            "type": "parcoords"
           }
          ],
          "pie": [
           {
            "automargin": true,
            "type": "pie"
           }
          ],
          "scatter": [
           {
            "fillpattern": {
             "fillmode": "overlay",
             "size": 10,
             "solidity": 0.2
            },
            "type": "scatter"
           }
          ],
          "scatter3d": [
           {
            "line": {
             "colorbar": {
              "outlinewidth": 0,
              "ticks": ""
             }
            },
            "marker": {
             "colorbar": {
              "outlinewidth": 0,
              "ticks": ""
             }
            },
            "type": "scatter3d"
           }
          ],
          "scattercarpet": [
           {
            "marker": {
             "colorbar": {
              "outlinewidth": 0,
              "ticks": ""
             }
            },
            "type": "scattercarpet"
           }
          ],
          "scattergeo": [
           {
            "marker": {
             "colorbar": {
              "outlinewidth": 0,
              "ticks": ""
             }
            },
            "type": "scattergeo"
           }
          ],
          "scattergl": [
           {
            "marker": {
             "colorbar": {
              "outlinewidth": 0,
              "ticks": ""
             }
            },
            "type": "scattergl"
           }
          ],
          "scattermapbox": [
           {
            "marker": {
             "colorbar": {
              "outlinewidth": 0,
              "ticks": ""
             }
            },
            "type": "scattermapbox"
           }
          ],
          "scatterpolar": [
           {
            "marker": {
             "colorbar": {
              "outlinewidth": 0,
              "ticks": ""
             }
            },
            "type": "scatterpolar"
           }
          ],
          "scatterpolargl": [
           {
            "marker": {
             "colorbar": {
              "outlinewidth": 0,
              "ticks": ""
             }
            },
            "type": "scatterpolargl"
           }
          ],
          "scatterternary": [
           {
            "marker": {
             "colorbar": {
              "outlinewidth": 0,
              "ticks": ""
             }
            },
            "type": "scatterternary"
           }
          ],
          "surface": [
           {
            "colorbar": {
             "outlinewidth": 0,
             "ticks": ""
            },
            "colorscale": [
             [
              0,
              "#0d0887"
             ],
             [
              0.1111111111111111,
              "#46039f"
             ],
             [
              0.2222222222222222,
              "#7201a8"
             ],
             [
              0.3333333333333333,
              "#9c179e"
             ],
             [
              0.4444444444444444,
              "#bd3786"
             ],
             [
              0.5555555555555556,
              "#d8576b"
             ],
             [
              0.6666666666666666,
              "#ed7953"
             ],
             [
              0.7777777777777778,
              "#fb9f3a"
             ],
             [
              0.8888888888888888,
              "#fdca26"
             ],
             [
              1,
              "#f0f921"
             ]
            ],
            "type": "surface"
           }
          ],
          "table": [
           {
            "cells": {
             "fill": {
              "color": "#EBF0F8"
             },
             "line": {
              "color": "white"
             }
            },
            "header": {
             "fill": {
              "color": "#C8D4E3"
             },
             "line": {
              "color": "white"
             }
            },
            "type": "table"
           }
          ]
         },
         "layout": {
          "annotationdefaults": {
           "arrowcolor": "#2a3f5f",
           "arrowhead": 0,
           "arrowwidth": 1
          },
          "autotypenumbers": "strict",
          "coloraxis": {
           "colorbar": {
            "outlinewidth": 0,
            "ticks": ""
           }
          },
          "colorscale": {
           "diverging": [
            [
             0,
             "#8e0152"
            ],
            [
             0.1,
             "#c51b7d"
            ],
            [
             0.2,
             "#de77ae"
            ],
            [
             0.3,
             "#f1b6da"
            ],
            [
             0.4,
             "#fde0ef"
            ],
            [
             0.5,
             "#f7f7f7"
            ],
            [
             0.6,
             "#e6f5d0"
            ],
            [
             0.7,
             "#b8e186"
            ],
            [
             0.8,
             "#7fbc41"
            ],
            [
             0.9,
             "#4d9221"
            ],
            [
             1,
             "#276419"
            ]
           ],
           "sequential": [
            [
             0,
             "#0d0887"
            ],
            [
             0.1111111111111111,
             "#46039f"
            ],
            [
             0.2222222222222222,
             "#7201a8"
            ],
            [
             0.3333333333333333,
             "#9c179e"
            ],
            [
             0.4444444444444444,
             "#bd3786"
            ],
            [
             0.5555555555555556,
             "#d8576b"
            ],
            [
             0.6666666666666666,
             "#ed7953"
            ],
            [
             0.7777777777777778,
             "#fb9f3a"
            ],
            [
             0.8888888888888888,
             "#fdca26"
            ],
            [
             1,
             "#f0f921"
            ]
           ],
           "sequentialminus": [
            [
             0,
             "#0d0887"
            ],
            [
             0.1111111111111111,
             "#46039f"
            ],
            [
             0.2222222222222222,
             "#7201a8"
            ],
            [
             0.3333333333333333,
             "#9c179e"
            ],
            [
             0.4444444444444444,
             "#bd3786"
            ],
            [
             0.5555555555555556,
             "#d8576b"
            ],
            [
             0.6666666666666666,
             "#ed7953"
            ],
            [
             0.7777777777777778,
             "#fb9f3a"
            ],
            [
             0.8888888888888888,
             "#fdca26"
            ],
            [
             1,
             "#f0f921"
            ]
           ]
          },
          "colorway": [
           "#636efa",
           "#EF553B",
           "#00cc96",
           "#ab63fa",
           "#FFA15A",
           "#19d3f3",
           "#FF6692",
           "#B6E880",
           "#FF97FF",
           "#FECB52"
          ],
          "font": {
           "color": "#2a3f5f"
          },
          "geo": {
           "bgcolor": "white",
           "lakecolor": "white",
           "landcolor": "#E5ECF6",
           "showlakes": true,
           "showland": true,
           "subunitcolor": "white"
          },
          "hoverlabel": {
           "align": "left"
          },
          "hovermode": "closest",
          "mapbox": {
           "style": "light"
          },
          "paper_bgcolor": "white",
          "plot_bgcolor": "#E5ECF6",
          "polar": {
           "angularaxis": {
            "gridcolor": "white",
            "linecolor": "white",
            "ticks": ""
           },
           "bgcolor": "#E5ECF6",
           "radialaxis": {
            "gridcolor": "white",
            "linecolor": "white",
            "ticks": ""
           }
          },
          "scene": {
           "xaxis": {
            "backgroundcolor": "#E5ECF6",
            "gridcolor": "white",
            "gridwidth": 2,
            "linecolor": "white",
            "showbackground": true,
            "ticks": "",
            "zerolinecolor": "white"
           },
           "yaxis": {
            "backgroundcolor": "#E5ECF6",
            "gridcolor": "white",
            "gridwidth": 2,
            "linecolor": "white",
            "showbackground": true,
            "ticks": "",
            "zerolinecolor": "white"
           },
           "zaxis": {
            "backgroundcolor": "#E5ECF6",
            "gridcolor": "white",
            "gridwidth": 2,
            "linecolor": "white",
            "showbackground": true,
            "ticks": "",
            "zerolinecolor": "white"
           }
          },
          "shapedefaults": {
           "line": {
            "color": "#2a3f5f"
           }
          },
          "ternary": {
           "aaxis": {
            "gridcolor": "white",
            "linecolor": "white",
            "ticks": ""
           },
           "baxis": {
            "gridcolor": "white",
            "linecolor": "white",
            "ticks": ""
           },
           "bgcolor": "#E5ECF6",
           "caxis": {
            "gridcolor": "white",
            "linecolor": "white",
            "ticks": ""
           }
          },
          "title": {
           "x": 0.05
          },
          "xaxis": {
           "automargin": true,
           "gridcolor": "white",
           "linecolor": "white",
           "ticks": "",
           "title": {
            "standoff": 15
           },
           "zerolinecolor": "white",
           "zerolinewidth": 2
          },
          "yaxis": {
           "automargin": true,
           "gridcolor": "white",
           "linecolor": "white",
           "ticks": "",
           "title": {
            "standoff": 15
           },
           "zerolinecolor": "white",
           "zerolinewidth": 2
          }
         }
        },
        "title": {
         "font": {
          "size": 30
         },
         "text": "Transformed Orientation Data Visualization"
        },
        "width": 1200,
        "xaxis": {
         "title": {
          "font": {
           "size": 20
          },
          "text": "Time"
         }
        },
        "yaxis": {
         "title": {
          "font": {
           "size": 20
          },
          "text": "Radians"
         }
        }
       }
      }
     },
     "metadata": {},
     "output_type": "display_data"
    }
   ],
   "source": [
    "transformed_df = calculate_euler_angles_list([orientation_df])[0]\n",
    "display(transformed_df.head())\n",
    "draw_plotly_new(transformed_df, col=split_on, granular=True, title=\"Transformed Orientation Data Visualization\")"
   ]
  },
  {
   "cell_type": "markdown",
   "id": "b3a0560c",
   "metadata": {},
   "source": [
    "#### Unwrap the data"
   ]
  },
  {
   "cell_type": "code",
   "execution_count": 6,
   "id": "732fdadc",
   "metadata": {},
   "outputs": [
    {
     "data": {
      "text/html": [
       "<div>\n",
       "<style scoped>\n",
       "    .dataframe tbody tr th:only-of-type {\n",
       "        vertical-align: middle;\n",
       "    }\n",
       "\n",
       "    .dataframe tbody tr th {\n",
       "        vertical-align: top;\n",
       "    }\n",
       "\n",
       "    .dataframe thead th {\n",
       "        text-align: right;\n",
       "    }\n",
       "</style>\n",
       "<table border=\"1\" class=\"dataframe\">\n",
       "  <thead>\n",
       "    <tr style=\"text-align: right;\">\n",
       "      <th></th>\n",
       "      <th>qz</th>\n",
       "      <th>qy</th>\n",
       "      <th>qx</th>\n",
       "      <th>qw</th>\n",
       "      <th>roll</th>\n",
       "      <th>pitch</th>\n",
       "      <th>yaw</th>\n",
       "      <th>Behavior</th>\n",
       "      <th>Status</th>\n",
       "    </tr>\n",
       "    <tr>\n",
       "      <th>time</th>\n",
       "      <th></th>\n",
       "      <th></th>\n",
       "      <th></th>\n",
       "      <th></th>\n",
       "      <th></th>\n",
       "      <th></th>\n",
       "      <th></th>\n",
       "      <th></th>\n",
       "      <th></th>\n",
       "    </tr>\n",
       "  </thead>\n",
       "  <tbody>\n",
       "    <tr>\n",
       "      <th>2024-03-22 12:49:29.900</th>\n",
       "      <td>-0.699230</td>\n",
       "      <td>-0.696761</td>\n",
       "      <td>-0.157973</td>\n",
       "      <td>0.025403</td>\n",
       "      <td>1.592382</td>\n",
       "      <td>-0.259212</td>\n",
       "      <td>2.949417</td>\n",
       "      <td>right</td>\n",
       "      <td>START</td>\n",
       "    </tr>\n",
       "    <tr>\n",
       "      <th>2024-03-22 12:49:30.000</th>\n",
       "      <td>-0.704745</td>\n",
       "      <td>-0.681315</td>\n",
       "      <td>-0.193328</td>\n",
       "      <td>0.042032</td>\n",
       "      <td>1.574114</td>\n",
       "      <td>-0.336058</td>\n",
       "      <td>2.923579</td>\n",
       "      <td></td>\n",
       "      <td></td>\n",
       "    </tr>\n",
       "    <tr>\n",
       "      <th>2024-03-22 12:49:30.100</th>\n",
       "      <td>-0.701866</td>\n",
       "      <td>-0.665604</td>\n",
       "      <td>-0.236985</td>\n",
       "      <td>0.090509</td>\n",
       "      <td>1.568980</td>\n",
       "      <td>-0.470295</td>\n",
       "      <td>2.928611</td>\n",
       "      <td></td>\n",
       "      <td></td>\n",
       "    </tr>\n",
       "    <tr>\n",
       "      <th>2024-03-22 12:49:30.200</th>\n",
       "      <td>-0.707663</td>\n",
       "      <td>-0.642111</td>\n",
       "      <td>-0.278845</td>\n",
       "      <td>0.095662</td>\n",
       "      <td>1.547564</td>\n",
       "      <td>-0.543936</td>\n",
       "      <td>2.878292</td>\n",
       "      <td></td>\n",
       "      <td></td>\n",
       "    </tr>\n",
       "    <tr>\n",
       "      <th>2024-03-22 12:49:30.300</th>\n",
       "      <td>-0.704990</td>\n",
       "      <td>-0.605384</td>\n",
       "      <td>-0.358699</td>\n",
       "      <td>0.088502</td>\n",
       "      <td>1.558532</td>\n",
       "      <td>-0.659743</td>\n",
       "      <td>2.739093</td>\n",
       "      <td></td>\n",
       "      <td></td>\n",
       "    </tr>\n",
       "  </tbody>\n",
       "</table>\n",
       "</div>"
      ],
      "text/plain": [
       "                               qz        qy        qx        qw      roll  \\\n",
       "time                                                                        \n",
       "2024-03-22 12:49:29.900 -0.699230 -0.696761 -0.157973  0.025403  1.592382   \n",
       "2024-03-22 12:49:30.000 -0.704745 -0.681315 -0.193328  0.042032  1.574114   \n",
       "2024-03-22 12:49:30.100 -0.701866 -0.665604 -0.236985  0.090509  1.568980   \n",
       "2024-03-22 12:49:30.200 -0.707663 -0.642111 -0.278845  0.095662  1.547564   \n",
       "2024-03-22 12:49:30.300 -0.704990 -0.605384 -0.358699  0.088502  1.558532   \n",
       "\n",
       "                            pitch       yaw Behavior Status  \n",
       "time                                                         \n",
       "2024-03-22 12:49:29.900 -0.259212  2.949417    right  START  \n",
       "2024-03-22 12:49:30.000 -0.336058  2.923579                  \n",
       "2024-03-22 12:49:30.100 -0.470295  2.928611                  \n",
       "2024-03-22 12:49:30.200 -0.543936  2.878292                  \n",
       "2024-03-22 12:49:30.300 -0.659743  2.739093                  "
      ]
     },
     "metadata": {},
     "output_type": "display_data"
    },
    {
     "data": {
      "application/vnd.plotly.v1+json": {
       "config": {
        "plotlyServerURL": "https://plot.ly",
        "toImageButtonOptions": {
         "filename": "custom_image",
         "format": "png",
         "scale": 6
        }
       },
       "data": [
        {
         "line": {
          "color": "blue"
         },
         "mode": "lines",
         "name": "roll",
         "type": "scatter",
         "x": [
          "2024-03-22T12:49:29.900000",
          "2024-03-22T12:49:30",
          "2024-03-22T12:49:30.100000",
          "2024-03-22T12:49:30.200000",
          "2024-03-22T12:49:30.300000",
          "2024-03-22T12:49:30.400000",
          "2024-03-22T12:49:30.500000",
          "2024-03-22T12:49:30.600000",
          "2024-03-22T12:49:30.700000",
          "2024-03-22T12:49:30.800000",
          "2024-03-22T12:49:30.900000",
          "2024-03-22T12:49:31",
          "2024-03-22T12:49:31.100000",
          "2024-03-22T12:49:31.200000",
          "2024-03-22T12:49:31.300000",
          "2024-03-22T12:49:31.400000",
          "2024-03-22T12:49:31.500000",
          "2024-03-22T12:49:31.600000",
          "2024-03-22T12:49:31.700000",
          "2024-03-22T12:49:31.800000",
          "2024-03-22T12:49:31.900000",
          "2024-03-22T12:49:32",
          "2024-03-22T12:49:32.100000",
          "2024-03-22T12:49:32.200000",
          "2024-03-22T12:49:32.300000",
          "2024-03-22T12:49:32.400000",
          "2024-03-22T12:49:32.500000",
          "2024-03-22T12:49:32.600000",
          "2024-03-22T12:49:32.700000",
          "2024-03-22T12:49:32.800000",
          "2024-03-22T12:49:32.900000",
          "2024-03-22T12:49:33",
          "2024-03-22T12:49:33.100000",
          "2024-03-22T12:49:33.200000",
          "2024-03-22T12:49:33.300000",
          "2024-03-22T12:49:33.400000",
          "2024-03-22T12:49:33.500000",
          "2024-03-22T12:49:33.600000",
          "2024-03-22T12:49:33.700000",
          "2024-03-22T12:49:33.800000",
          "2024-03-22T12:49:33.900000",
          "2024-03-22T12:49:34",
          "2024-03-22T12:49:34.100000",
          "2024-03-22T12:49:34.200000",
          "2024-03-22T12:49:34.300000",
          "2024-03-22T12:49:34.400000",
          "2024-03-22T12:49:34.500000",
          "2024-03-22T12:49:34.600000",
          "2024-03-22T12:49:34.700000",
          "2024-03-22T12:49:34.800000",
          "2024-03-22T12:49:34.900000",
          "2024-03-22T12:49:35",
          "2024-03-22T12:49:35.100000",
          "2024-03-22T12:49:35.200000",
          "2024-03-22T12:49:35.300000",
          "2024-03-22T12:49:35.400000",
          "2024-03-22T12:49:35.500000",
          "2024-03-22T12:49:35.600000",
          "2024-03-22T12:49:35.700000",
          "2024-03-22T12:49:35.800000",
          "2024-03-22T12:49:35.900000",
          "2024-03-22T12:49:36",
          "2024-03-22T12:49:36.100000",
          "2024-03-22T12:49:36.200000",
          "2024-03-22T12:49:36.300000",
          "2024-03-22T12:49:36.400000",
          "2024-03-22T12:49:36.500000",
          "2024-03-22T12:49:36.600000",
          "2024-03-22T12:49:36.700000",
          "2024-03-22T12:49:36.800000",
          "2024-03-22T12:49:36.900000",
          "2024-03-22T12:49:37",
          "2024-03-22T12:49:37.100000",
          "2024-03-22T12:49:37.200000",
          "2024-03-22T12:49:37.300000",
          "2024-03-22T12:49:37.400000",
          "2024-03-22T12:49:37.500000",
          "2024-03-22T12:49:37.600000",
          "2024-03-22T12:49:37.700000",
          "2024-03-22T12:49:37.800000",
          "2024-03-22T12:49:37.900000",
          "2024-03-22T12:49:38",
          "2024-03-22T12:49:38.100000",
          "2024-03-22T12:49:38.200000",
          "2024-03-22T12:49:38.300000",
          "2024-03-22T12:49:38.400000",
          "2024-03-22T12:49:38.500000",
          "2024-03-22T12:49:38.600000",
          "2024-03-22T12:49:38.700000",
          "2024-03-22T12:49:38.800000",
          "2024-03-22T12:49:38.900000",
          "2024-03-22T12:49:39",
          "2024-03-22T12:49:39.100000",
          "2024-03-22T12:49:39.200000",
          "2024-03-22T12:49:39.300000",
          "2024-03-22T12:49:39.400000",
          "2024-03-22T12:49:39.500000",
          "2024-03-22T12:49:39.600000",
          "2024-03-22T12:49:39.700000",
          "2024-03-22T12:49:39.800000",
          "2024-03-22T12:49:39.900000",
          "2024-03-22T12:49:40",
          "2024-03-22T12:49:40.100000",
          "2024-03-22T12:49:40.200000",
          "2024-03-22T12:49:40.300000",
          "2024-03-22T12:49:40.400000",
          "2024-03-22T12:49:40.500000",
          "2024-03-22T12:49:40.600000",
          "2024-03-22T12:49:40.700000",
          "2024-03-22T12:49:40.800000",
          "2024-03-22T12:49:40.900000",
          "2024-03-22T12:49:41",
          "2024-03-22T12:49:41.100000",
          "2024-03-22T12:49:41.200000",
          "2024-03-22T12:49:41.300000",
          "2024-03-22T12:49:41.400000",
          "2024-03-22T12:49:41.500000",
          "2024-03-22T12:49:41.600000",
          "2024-03-22T12:49:41.700000",
          "2024-03-22T12:49:41.800000",
          "2024-03-22T12:49:41.900000",
          "2024-03-22T12:49:42",
          "2024-03-22T12:49:42.100000",
          "2024-03-22T12:49:42.200000",
          "2024-03-22T12:49:42.300000",
          "2024-03-22T12:49:42.400000",
          "2024-03-22T12:49:42.500000",
          "2024-03-22T12:49:42.600000",
          "2024-03-22T12:49:42.700000",
          "2024-03-22T12:49:42.800000",
          "2024-03-22T12:49:42.900000",
          "2024-03-22T12:49:43",
          "2024-03-22T12:49:43.100000",
          "2024-03-22T12:49:43.200000",
          "2024-03-22T12:49:43.300000",
          "2024-03-22T12:49:43.400000",
          "2024-03-22T12:49:43.500000",
          "2024-03-22T12:49:43.600000",
          "2024-03-22T12:49:43.700000",
          "2024-03-22T12:49:43.800000",
          "2024-03-22T12:49:43.900000",
          "2024-03-22T12:49:44",
          "2024-03-22T12:49:44.100000",
          "2024-03-22T12:49:44.200000",
          "2024-03-22T12:49:44.300000",
          "2024-03-22T12:49:44.400000",
          "2024-03-22T12:49:44.500000",
          "2024-03-22T12:49:44.600000",
          "2024-03-22T12:49:44.700000",
          "2024-03-22T12:49:44.800000",
          "2024-03-22T12:49:44.900000",
          "2024-03-22T12:49:45",
          "2024-03-22T12:49:45.100000",
          "2024-03-22T12:49:45.200000",
          "2024-03-22T12:49:45.300000",
          "2024-03-22T12:49:45.400000",
          "2024-03-22T12:49:45.500000",
          "2024-03-22T12:49:45.600000",
          "2024-03-22T12:49:45.700000",
          "2024-03-22T12:49:45.800000",
          "2024-03-22T12:49:45.900000",
          "2024-03-22T12:49:46",
          "2024-03-22T12:49:46.100000",
          "2024-03-22T12:49:46.200000",
          "2024-03-22T12:49:46.300000",
          "2024-03-22T12:49:46.400000",
          "2024-03-22T12:49:46.500000",
          "2024-03-22T12:49:46.600000",
          "2024-03-22T12:49:46.700000",
          "2024-03-22T12:49:46.800000",
          "2024-03-22T12:49:46.900000",
          "2024-03-22T12:49:47",
          "2024-03-22T12:49:47.100000",
          "2024-03-22T12:49:47.200000",
          "2024-03-22T12:49:47.300000",
          "2024-03-22T12:49:47.400000",
          "2024-03-22T12:49:47.500000",
          "2024-03-22T12:49:47.600000",
          "2024-03-22T12:49:47.700000",
          "2024-03-22T12:49:47.800000",
          "2024-03-22T12:49:47.900000",
          "2024-03-22T12:49:48",
          "2024-03-22T12:49:48.100000",
          "2024-03-22T12:49:48.200000",
          "2024-03-22T12:49:48.300000",
          "2024-03-22T12:49:48.400000",
          "2024-03-22T12:49:48.500000",
          "2024-03-22T12:49:48.600000",
          "2024-03-22T12:49:48.700000",
          "2024-03-22T12:49:48.800000",
          "2024-03-22T12:49:48.900000",
          "2024-03-22T12:49:49",
          "2024-03-22T12:49:49.100000",
          "2024-03-22T12:49:49.200000",
          "2024-03-22T12:49:49.300000",
          "2024-03-22T12:49:49.400000",
          "2024-03-22T12:49:49.500000",
          "2024-03-22T12:49:49.600000",
          "2024-03-22T12:49:49.700000",
          "2024-03-22T12:49:49.800000",
          "2024-03-22T12:49:49.900000",
          "2024-03-22T12:49:50",
          "2024-03-22T12:49:50.100000",
          "2024-03-22T12:49:50.200000",
          "2024-03-22T12:49:50.300000",
          "2024-03-22T12:49:50.400000",
          "2024-03-22T12:49:50.500000",
          "2024-03-22T12:49:50.600000",
          "2024-03-22T12:49:50.700000",
          "2024-03-22T12:49:50.800000",
          "2024-03-22T12:49:50.900000",
          "2024-03-22T12:49:51",
          "2024-03-22T12:49:51.100000",
          "2024-03-22T12:49:51.200000",
          "2024-03-22T12:49:51.300000",
          "2024-03-22T12:49:51.400000",
          "2024-03-22T12:49:51.500000",
          "2024-03-22T12:49:51.600000",
          "2024-03-22T12:49:51.700000",
          "2024-03-22T12:49:51.800000",
          "2024-03-22T12:49:51.900000",
          "2024-03-22T12:49:52",
          "2024-03-22T12:49:52.100000",
          "2024-03-22T12:49:52.200000",
          "2024-03-22T12:49:52.300000",
          "2024-03-22T12:49:52.400000",
          "2024-03-22T12:49:52.500000",
          "2024-03-22T12:49:52.600000",
          "2024-03-22T12:49:52.700000",
          "2024-03-22T12:49:52.800000",
          "2024-03-22T12:49:52.900000",
          "2024-03-22T12:49:53",
          "2024-03-22T12:49:53.100000",
          "2024-03-22T12:49:53.200000",
          "2024-03-22T12:49:53.300000",
          "2024-03-22T12:49:53.400000",
          "2024-03-22T12:49:53.500000",
          "2024-03-22T12:49:53.600000",
          "2024-03-22T12:49:53.700000",
          "2024-03-22T12:49:53.800000",
          "2024-03-22T12:49:53.900000",
          "2024-03-22T12:49:54",
          "2024-03-22T12:49:54.100000",
          "2024-03-22T12:49:54.200000",
          "2024-03-22T12:49:54.300000",
          "2024-03-22T12:49:54.400000",
          "2024-03-22T12:49:54.500000",
          "2024-03-22T12:49:54.600000",
          "2024-03-22T12:49:54.700000",
          "2024-03-22T12:49:54.800000"
         ],
         "y": [
          1.5923818413449384,
          1.5741135983544245,
          1.5689803001759162,
          1.5475637145195094,
          1.5585318448187346,
          1.5487473758335437,
          1.5310038638915058,
          1.497355835041412,
          1.4384388806974915,
          1.4133910882577794,
          1.4185281955223592,
          1.378516746489119,
          1.3931800356449466,
          1.371406893693158,
          1.342464465039209,
          1.3933893857911188,
          1.4665396208577777,
          1.5595475530998595,
          1.61891134057488,
          1.6278580586027367,
          1.6890129531317266,
          1.706380502823993,
          1.6944569708102137,
          1.631890801068971,
          1.6062400772840384,
          1.6232976728990052,
          1.6139358475920715,
          1.5656154633901453,
          1.5277904261579975,
          1.5429095985558194,
          1.5435020809387188,
          1.5208021185795007,
          1.4767772871184324,
          1.4077318930983025,
          1.3681332872442036,
          1.371480171134001,
          1.436550299797623,
          1.5452771578867766,
          1.6372964029108155,
          1.6793695355596758,
          1.7180864592488376,
          1.7055647048370524,
          1.6487532740518402,
          1.6299828268481935,
          1.5665966308194057,
          1.5023923222212763,
          1.4805261928551063,
          1.4991438613663386,
          1.4660460782985467,
          1.3883165052377135,
          1.5140339493887063,
          1.2887115893640742,
          1.3708366891792614,
          1.218301320352578,
          1.2956162312094466,
          1.3169282943478589,
          1.4123961527862505,
          1.522427225480209,
          1.568099488600396,
          1.5906453140937553,
          1.6410773242793728,
          1.6628575581582896,
          1.7293864536346901,
          1.6891331479194354,
          1.649243083833708,
          1.6923169757679015,
          1.6232568736693802,
          1.5559382340990189,
          1.5068233437197316,
          1.442303822281196,
          1.4598246096461698,
          1.4277179587944606,
          1.424325958521576,
          1.43314480572933,
          1.3522005017399519,
          1.3520535769690734,
          1.2484364140336748,
          1.196262642061765,
          1.2277101492987863,
          1.3809167792147459,
          1.4177851620602997,
          1.5151204858558072,
          1.5814883661664183,
          1.6338763433011612,
          1.6551475663162598,
          1.6724793135101699,
          1.5978520033734487,
          1.516073911079848,
          1.4683480790000567,
          1.4738562003627922,
          1.4441002059871229,
          1.4406400194099434,
          1.3789136728402878,
          1.3213066667613118,
          1.2851921733412965,
          1.1303541307607818,
          1.0689003053986772,
          1.0451396332795801,
          1.0933258082920363,
          1.1905045356734834,
          1.3206681555404547,
          1.426329589915099,
          1.5220511851595993,
          1.607049610672351,
          1.633644338581344,
          1.6098427932914472,
          1.6061111500280416,
          1.5820161796142715,
          1.5534294383838523,
          1.5191991091343733,
          1.468165443678333,
          1.397406738607349,
          1.346634780149666,
          1.327639874537448,
          1.2697798533739626,
          1.1607616111573609,
          1.0902698684083394,
          1.0650327799451442,
          1.083656599938695,
          1.0829759315706504,
          1.0781240372052046,
          1.0636949939637985,
          1.0411046755501776,
          1.1256738555241887,
          1.2556033864728373,
          1.278630194314941,
          1.3100569045383674,
          1.3259951619378452,
          1.3294241745619095,
          1.312404272806755,
          1.2688985651109328,
          1.2629227986004465,
          1.2881408340374618,
          1.3526323552580133,
          1.4549322448484896,
          1.548198749360314,
          1.628762648356451,
          1.6474825382780944,
          1.6331193101087467,
          1.5988899625118964,
          1.521999395732174,
          1.4560487923082095,
          1.4597975681805635,
          1.445333851931372,
          1.4529006044563064,
          1.4531820270011766,
          1.3479746532180195,
          1.239626908972742,
          1.1653513024247812,
          1.1509768198896615,
          1.1722859144842093,
          1.0690810551860779,
          1.085563882247552,
          1.1576886514409115,
          1.2310221583182948,
          1.4527804390116164,
          1.6125144004511762,
          1.6375739360627906,
          1.6747930621343114,
          1.7044111761308887,
          1.7027524493330009,
          1.6703673693439065,
          1.675333386126188,
          1.6548400364108677,
          1.6604486058701393,
          1.6366558892477183,
          1.592326106546558,
          1.512343298976322,
          1.4381136108008017,
          1.3883129305580453,
          1.3504402799542685,
          1.3922416329918184,
          1.4370700815850774,
          1.4085892028004003,
          1.3089369884458288,
          1.3017648696941737,
          1.1942481541004675,
          1.1068744772852912,
          1.1517261260925002,
          1.0992302239507945,
          1.1218967106714617,
          1.1499192333903279,
          1.2167132613245113,
          1.2661706506611543,
          1.305747175360557,
          1.3292051543798908,
          1.355699844721088,
          1.3568670982376787,
          1.3360063947926735,
          1.3277729183717775,
          1.2953203367429618,
          1.3154475141063569,
          1.4223325387703922,
          1.5771042712298426,
          1.7285286882365485,
          1.7873052843035229,
          1.76045764159593,
          1.8475179847230068,
          1.80017769530234,
          1.8121042644954848,
          1.826927125620656,
          1.7755634415067583,
          1.729079475446966,
          1.6699332468159438,
          1.6257262588763535,
          1.5938987609370447,
          1.5452025347994116,
          1.5178739953863474,
          1.5317580835109978,
          1.5353203260169754,
          1.5416560269359267,
          1.5239897719645918,
          1.39559250969609,
          1.2686118480882815,
          1.2877181562133744,
          1.2689299666187825,
          1.1939498109671636,
          1.2153444948452428,
          1.1657346394161532,
          1.1644434479579295,
          1.1801107821961527,
          1.1527227300363225,
          1.1296154925357753,
          1.1085043310864762,
          1.127342566587944,
          1.2132245343614199,
          1.407826965094149,
          1.6019610834096085,
          1.705520147577203,
          1.8384698089859957,
          1.808334162973731,
          1.8264571258405997,
          1.8228856012387833,
          1.7825015760857315,
          1.7465370544626002,
          1.6584769390237566,
          1.6185821275716186,
          1.5787424707712245,
          1.5608318181553151,
          1.5291391741996538,
          1.4451907644456388,
          1.3928534136664827,
          1.2853278924826,
          1.1684275657018803,
          1.056709172532277,
          0.9892891836206217,
          1.0025241097768574,
          1.0323705063429807,
          0.9961583274023401,
          0.9217775311875848
         ]
        },
        {
         "marker": {
          "color": "red",
          "size": 6
         },
         "mode": "markers",
         "name": "roll Left turn beginning",
         "showlegend": false,
         "type": "scatter",
         "x": [
          "2024-03-22T12:49:31.300000",
          "2024-03-22T12:49:33.300000",
          "2024-03-22T12:49:35.300000",
          "2024-03-22T12:49:37.600000",
          "2024-03-22T12:49:39.700000",
          "2024-03-22T12:49:42.800000",
          "2024-03-22T12:49:45.100000",
          "2024-03-22T12:49:48.700000",
          "2024-03-22T12:49:52"
         ],
         "y": [
          1.342464465039209,
          1.3681332872442036,
          1.2956162312094466,
          1.196262642061765,
          1.0933258082920363,
          1.312404272806755,
          1.085563882247552,
          1.3360063947926735,
          1.1527227300363225
         ]
        },
        {
         "marker": {
          "color": "orange",
          "size": 6
         },
         "mode": "markers",
         "name": "roll Left turn ending",
         "showlegend": false,
         "type": "scatter",
         "x": [
          "2024-03-22T12:49:32.400000",
          "2024-03-22T12:49:34.100000",
          "2024-03-22T12:49:36.300000",
          "2024-03-22T12:49:38.400000",
          "2024-03-22T12:49:40.700000",
          "2024-03-22T12:49:43.900000",
          "2024-03-22T12:49:46.500000",
          "2024-03-22T12:49:50.300000",
          "2024-03-22T12:49:53.500000"
         ],
         "y": [
          1.6232976728990052,
          1.6487532740518402,
          1.649243083833708,
          1.6724793135101699,
          1.5534294383838523,
          1.521999395732174,
          1.592326106546558,
          1.6257262588763535,
          1.6185821275716186
         ]
        },
        {
         "marker": {
          "color": "blue",
          "size": 6
         },
         "mode": "markers",
         "name": "roll Right turn beginning",
         "showlegend": false,
         "type": "scatter",
         "x": [
          "2024-03-22T12:49:29.900000",
          "2024-03-22T12:49:32.500000",
          "2024-03-22T12:49:34.200000",
          "2024-03-22T12:49:36.400000",
          "2024-03-22T12:49:38.500000",
          "2024-03-22T12:49:40.800000",
          "2024-03-22T12:49:44",
          "2024-03-22T12:49:46.600000",
          "2024-03-22T12:49:50.400000",
          "2024-03-22T12:49:53.600000"
         ],
         "y": [
          1.5923818413449384,
          1.6139358475920715,
          1.6299828268481935,
          1.6923169757679015,
          1.5978520033734487,
          1.5191991091343733,
          1.4560487923082095,
          1.512343298976322,
          1.5938987609370447,
          1.5787424707712245
         ]
        },
        {
         "marker": {
          "color": "purple",
          "size": 6
         },
         "mode": "markers",
         "name": "roll Right turn ending",
         "showlegend": false,
         "type": "scatter",
         "x": [
          "2024-03-22T12:49:31.200000",
          "2024-03-22T12:49:33.200000",
          "2024-03-22T12:49:35.200000",
          "2024-03-22T12:49:37.500000",
          "2024-03-22T12:49:39.600000",
          "2024-03-22T12:49:42.700000",
          "2024-03-22T12:49:45",
          "2024-03-22T12:49:48.600000",
          "2024-03-22T12:49:51.900000",
          "2024-03-22T12:49:54.800000"
         ],
         "y": [
          1.371406893693158,
          1.4077318930983025,
          1.218301320352578,
          1.2484364140336748,
          1.0451396332795801,
          1.3294241745619095,
          1.0690810551860779,
          1.3568670982376787,
          1.1801107821961527,
          0.9217775311875848
         ]
        },
        {
         "line": {
          "color": "orange"
         },
         "mode": "lines",
         "name": "pitch",
         "type": "scatter",
         "x": [
          "2024-03-22T12:49:29.900000",
          "2024-03-22T12:49:30",
          "2024-03-22T12:49:30.100000",
          "2024-03-22T12:49:30.200000",
          "2024-03-22T12:49:30.300000",
          "2024-03-22T12:49:30.400000",
          "2024-03-22T12:49:30.500000",
          "2024-03-22T12:49:30.600000",
          "2024-03-22T12:49:30.700000",
          "2024-03-22T12:49:30.800000",
          "2024-03-22T12:49:30.900000",
          "2024-03-22T12:49:31",
          "2024-03-22T12:49:31.100000",
          "2024-03-22T12:49:31.200000",
          "2024-03-22T12:49:31.300000",
          "2024-03-22T12:49:31.400000",
          "2024-03-22T12:49:31.500000",
          "2024-03-22T12:49:31.600000",
          "2024-03-22T12:49:31.700000",
          "2024-03-22T12:49:31.800000",
          "2024-03-22T12:49:31.900000",
          "2024-03-22T12:49:32",
          "2024-03-22T12:49:32.100000",
          "2024-03-22T12:49:32.200000",
          "2024-03-22T12:49:32.300000",
          "2024-03-22T12:49:32.400000",
          "2024-03-22T12:49:32.500000",
          "2024-03-22T12:49:32.600000",
          "2024-03-22T12:49:32.700000",
          "2024-03-22T12:49:32.800000",
          "2024-03-22T12:49:32.900000",
          "2024-03-22T12:49:33",
          "2024-03-22T12:49:33.100000",
          "2024-03-22T12:49:33.200000",
          "2024-03-22T12:49:33.300000",
          "2024-03-22T12:49:33.400000",
          "2024-03-22T12:49:33.500000",
          "2024-03-22T12:49:33.600000",
          "2024-03-22T12:49:33.700000",
          "2024-03-22T12:49:33.800000",
          "2024-03-22T12:49:33.900000",
          "2024-03-22T12:49:34",
          "2024-03-22T12:49:34.100000",
          "2024-03-22T12:49:34.200000",
          "2024-03-22T12:49:34.300000",
          "2024-03-22T12:49:34.400000",
          "2024-03-22T12:49:34.500000",
          "2024-03-22T12:49:34.600000",
          "2024-03-22T12:49:34.700000",
          "2024-03-22T12:49:34.800000",
          "2024-03-22T12:49:34.900000",
          "2024-03-22T12:49:35",
          "2024-03-22T12:49:35.100000",
          "2024-03-22T12:49:35.200000",
          "2024-03-22T12:49:35.300000",
          "2024-03-22T12:49:35.400000",
          "2024-03-22T12:49:35.500000",
          "2024-03-22T12:49:35.600000",
          "2024-03-22T12:49:35.700000",
          "2024-03-22T12:49:35.800000",
          "2024-03-22T12:49:35.900000",
          "2024-03-22T12:49:36",
          "2024-03-22T12:49:36.100000",
          "2024-03-22T12:49:36.200000",
          "2024-03-22T12:49:36.300000",
          "2024-03-22T12:49:36.400000",
          "2024-03-22T12:49:36.500000",
          "2024-03-22T12:49:36.600000",
          "2024-03-22T12:49:36.700000",
          "2024-03-22T12:49:36.800000",
          "2024-03-22T12:49:36.900000",
          "2024-03-22T12:49:37",
          "2024-03-22T12:49:37.100000",
          "2024-03-22T12:49:37.200000",
          "2024-03-22T12:49:37.300000",
          "2024-03-22T12:49:37.400000",
          "2024-03-22T12:49:37.500000",
          "2024-03-22T12:49:37.600000",
          "2024-03-22T12:49:37.700000",
          "2024-03-22T12:49:37.800000",
          "2024-03-22T12:49:37.900000",
          "2024-03-22T12:49:38",
          "2024-03-22T12:49:38.100000",
          "2024-03-22T12:49:38.200000",
          "2024-03-22T12:49:38.300000",
          "2024-03-22T12:49:38.400000",
          "2024-03-22T12:49:38.500000",
          "2024-03-22T12:49:38.600000",
          "2024-03-22T12:49:38.700000",
          "2024-03-22T12:49:38.800000",
          "2024-03-22T12:49:38.900000",
          "2024-03-22T12:49:39",
          "2024-03-22T12:49:39.100000",
          "2024-03-22T12:49:39.200000",
          "2024-03-22T12:49:39.300000",
          "2024-03-22T12:49:39.400000",
          "2024-03-22T12:49:39.500000",
          "2024-03-22T12:49:39.600000",
          "2024-03-22T12:49:39.700000",
          "2024-03-22T12:49:39.800000",
          "2024-03-22T12:49:39.900000",
          "2024-03-22T12:49:40",
          "2024-03-22T12:49:40.100000",
          "2024-03-22T12:49:40.200000",
          "2024-03-22T12:49:40.300000",
          "2024-03-22T12:49:40.400000",
          "2024-03-22T12:49:40.500000",
          "2024-03-22T12:49:40.600000",
          "2024-03-22T12:49:40.700000",
          "2024-03-22T12:49:40.800000",
          "2024-03-22T12:49:40.900000",
          "2024-03-22T12:49:41",
          "2024-03-22T12:49:41.100000",
          "2024-03-22T12:49:41.200000",
          "2024-03-22T12:49:41.300000",
          "2024-03-22T12:49:41.400000",
          "2024-03-22T12:49:41.500000",
          "2024-03-22T12:49:41.600000",
          "2024-03-22T12:49:41.700000",
          "2024-03-22T12:49:41.800000",
          "2024-03-22T12:49:41.900000",
          "2024-03-22T12:49:42",
          "2024-03-22T12:49:42.100000",
          "2024-03-22T12:49:42.200000",
          "2024-03-22T12:49:42.300000",
          "2024-03-22T12:49:42.400000",
          "2024-03-22T12:49:42.500000",
          "2024-03-22T12:49:42.600000",
          "2024-03-22T12:49:42.700000",
          "2024-03-22T12:49:42.800000",
          "2024-03-22T12:49:42.900000",
          "2024-03-22T12:49:43",
          "2024-03-22T12:49:43.100000",
          "2024-03-22T12:49:43.200000",
          "2024-03-22T12:49:43.300000",
          "2024-03-22T12:49:43.400000",
          "2024-03-22T12:49:43.500000",
          "2024-03-22T12:49:43.600000",
          "2024-03-22T12:49:43.700000",
          "2024-03-22T12:49:43.800000",
          "2024-03-22T12:49:43.900000",
          "2024-03-22T12:49:44",
          "2024-03-22T12:49:44.100000",
          "2024-03-22T12:49:44.200000",
          "2024-03-22T12:49:44.300000",
          "2024-03-22T12:49:44.400000",
          "2024-03-22T12:49:44.500000",
          "2024-03-22T12:49:44.600000",
          "2024-03-22T12:49:44.700000",
          "2024-03-22T12:49:44.800000",
          "2024-03-22T12:49:44.900000",
          "2024-03-22T12:49:45",
          "2024-03-22T12:49:45.100000",
          "2024-03-22T12:49:45.200000",
          "2024-03-22T12:49:45.300000",
          "2024-03-22T12:49:45.400000",
          "2024-03-22T12:49:45.500000",
          "2024-03-22T12:49:45.600000",
          "2024-03-22T12:49:45.700000",
          "2024-03-22T12:49:45.800000",
          "2024-03-22T12:49:45.900000",
          "2024-03-22T12:49:46",
          "2024-03-22T12:49:46.100000",
          "2024-03-22T12:49:46.200000",
          "2024-03-22T12:49:46.300000",
          "2024-03-22T12:49:46.400000",
          "2024-03-22T12:49:46.500000",
          "2024-03-22T12:49:46.600000",
          "2024-03-22T12:49:46.700000",
          "2024-03-22T12:49:46.800000",
          "2024-03-22T12:49:46.900000",
          "2024-03-22T12:49:47",
          "2024-03-22T12:49:47.100000",
          "2024-03-22T12:49:47.200000",
          "2024-03-22T12:49:47.300000",
          "2024-03-22T12:49:47.400000",
          "2024-03-22T12:49:47.500000",
          "2024-03-22T12:49:47.600000",
          "2024-03-22T12:49:47.700000",
          "2024-03-22T12:49:47.800000",
          "2024-03-22T12:49:47.900000",
          "2024-03-22T12:49:48",
          "2024-03-22T12:49:48.100000",
          "2024-03-22T12:49:48.200000",
          "2024-03-22T12:49:48.300000",
          "2024-03-22T12:49:48.400000",
          "2024-03-22T12:49:48.500000",
          "2024-03-22T12:49:48.600000",
          "2024-03-22T12:49:48.700000",
          "2024-03-22T12:49:48.800000",
          "2024-03-22T12:49:48.900000",
          "2024-03-22T12:49:49",
          "2024-03-22T12:49:49.100000",
          "2024-03-22T12:49:49.200000",
          "2024-03-22T12:49:49.300000",
          "2024-03-22T12:49:49.400000",
          "2024-03-22T12:49:49.500000",
          "2024-03-22T12:49:49.600000",
          "2024-03-22T12:49:49.700000",
          "2024-03-22T12:49:49.800000",
          "2024-03-22T12:49:49.900000",
          "2024-03-22T12:49:50",
          "2024-03-22T12:49:50.100000",
          "2024-03-22T12:49:50.200000",
          "2024-03-22T12:49:50.300000",
          "2024-03-22T12:49:50.400000",
          "2024-03-22T12:49:50.500000",
          "2024-03-22T12:49:50.600000",
          "2024-03-22T12:49:50.700000",
          "2024-03-22T12:49:50.800000",
          "2024-03-22T12:49:50.900000",
          "2024-03-22T12:49:51",
          "2024-03-22T12:49:51.100000",
          "2024-03-22T12:49:51.200000",
          "2024-03-22T12:49:51.300000",
          "2024-03-22T12:49:51.400000",
          "2024-03-22T12:49:51.500000",
          "2024-03-22T12:49:51.600000",
          "2024-03-22T12:49:51.700000",
          "2024-03-22T12:49:51.800000",
          "2024-03-22T12:49:51.900000",
          "2024-03-22T12:49:52",
          "2024-03-22T12:49:52.100000",
          "2024-03-22T12:49:52.200000",
          "2024-03-22T12:49:52.300000",
          "2024-03-22T12:49:52.400000",
          "2024-03-22T12:49:52.500000",
          "2024-03-22T12:49:52.600000",
          "2024-03-22T12:49:52.700000",
          "2024-03-22T12:49:52.800000",
          "2024-03-22T12:49:52.900000",
          "2024-03-22T12:49:53",
          "2024-03-22T12:49:53.100000",
          "2024-03-22T12:49:53.200000",
          "2024-03-22T12:49:53.300000",
          "2024-03-22T12:49:53.400000",
          "2024-03-22T12:49:53.500000",
          "2024-03-22T12:49:53.600000",
          "2024-03-22T12:49:53.700000",
          "2024-03-22T12:49:53.800000",
          "2024-03-22T12:49:53.900000",
          "2024-03-22T12:49:54",
          "2024-03-22T12:49:54.100000",
          "2024-03-22T12:49:54.200000",
          "2024-03-22T12:49:54.300000",
          "2024-03-22T12:49:54.400000",
          "2024-03-22T12:49:54.500000",
          "2024-03-22T12:49:54.600000",
          "2024-03-22T12:49:54.700000",
          "2024-03-22T12:49:54.800000"
         ],
         "y": [
          -0.2592116058494199,
          -0.33605774931329996,
          -0.4702954866268963,
          -0.5439358790515089,
          -0.6597429580905547,
          -0.7291657019292695,
          -0.7730133671336328,
          -0.8111867172600505,
          -0.8681043021128748,
          -0.8857152696072991,
          -0.8904852885601112,
          -0.8892900552409768,
          -0.8892829308840025,
          -0.8672860337729797,
          -0.8228269924812178,
          -0.7763845622468238,
          -0.7108572852492676,
          -0.6074287266711536,
          -0.46273383219887865,
          -0.34784555861431965,
          -0.2462181208915543,
          -0.19717068716659142,
          -0.18478169286347518,
          -0.18421451463401867,
          -0.23411126572653562,
          -0.3301040722197852,
          -0.40574243201693627,
          -0.48559141344033885,
          -0.5715428708002629,
          -0.6814868595596287,
          -0.7486978976181942,
          -0.8195589589035568,
          -0.9144310705441259,
          -0.9652762020185696,
          -0.9535468215037178,
          -0.9100091324204322,
          -0.7662870665636105,
          -0.586616135306651,
          -0.38756915238600537,
          -0.24731175967355942,
          -0.11762964552718151,
          -0.1279624912650987,
          -0.11145692050147471,
          -0.09864784456945688,
          -0.22464538953400737,
          -0.3851303985523289,
          -0.5196840606478538,
          -0.6597661775989245,
          -0.7864489507535158,
          -0.9211170568503808,
          -1.0187257994577101,
          -1.081217585373065,
          -1.136842979108033,
          -1.0926669630698613,
          -1.0103353576238325,
          -0.8591338228322017,
          -0.7240402147765577,
          -0.5989140043761354,
          -0.4507610584723735,
          -0.3212156891865357,
          -0.2240387005738531,
          -0.1265451434604609,
          -0.029394789411431543,
          -0.02527656471908678,
          0.11025186036147315,
          0.07987814743381842,
          0.06024844951502399,
          -0.025072766725644364,
          -0.15716246784532675,
          -0.25500524780757056,
          -0.4092501580584644,
          -0.5819131393375481,
          -0.7435548989547784,
          -0.8881288713408058,
          -0.9958444525946122,
          -1.059727188519254,
          -1.0373088596508984,
          -1.0667948321955765,
          -1.0134849426524821,
          -0.9107977012356626,
          -0.7618673825683433,
          -0.6094301668216687,
          -0.3751042946825802,
          -0.257160243119855,
          -0.077080284047063,
          0.046612930450837205,
          0.10194698597605868,
          0.07148331502357141,
          -0.02285949916201341,
          -0.12678097564687496,
          -0.2681128499092311,
          -0.4538925309366922,
          -0.6286972341619519,
          -0.7805310712952047,
          -0.9015818075327963,
          -1.0052066953855738,
          -1.0548032544430372,
          -1.0239698055051438,
          -0.9454772409105214,
          -0.8211756515538053,
          -0.6837978244269578,
          -0.4911338264957988,
          -0.27018131661134986,
          -0.14978895067387185,
          -0.05131011635198956,
          0.037431056970957784,
          0.13984756221181327,
          0.07500025883229569,
          -0.0034026121343646424,
          -0.18026686750487553,
          -0.34956627509137655,
          -0.5235356833656384,
          -0.6746467820172918,
          -0.7605185162595064,
          -0.8181284556346958,
          -0.8871877578761836,
          -0.9219802623055654,
          -0.9403972378009137,
          -0.9204874047008405,
          -0.8934876301127587,
          -0.8738094323796092,
          -0.78364164603072,
          -0.7161217705316366,
          -0.6823320632380886,
          -0.6540330092056771,
          -0.6109268794922857,
          -0.5832012268429972,
          -0.5747894181624964,
          -0.5713024247418116,
          -0.561385340375762,
          -0.5518221454217279,
          -0.5081194234471251,
          -0.44401381855503835,
          -0.38437052650139775,
          -0.25265623194081127,
          -0.08547086368920583,
          0.03797013986980494,
          0.07773473434295086,
          0.11506101033963494,
          0.17083456328240834,
          0.0824368741555148,
          -0.02748618469557002,
          -0.15602768966498515,
          -0.3027086506213017,
          -0.5615904543552177,
          -0.7084662061452878,
          -0.6539397309365172,
          -0.6060870396856173,
          -0.5887831462635336,
          -0.73855421836081,
          -0.7746197894149278,
          -0.7277166385695076,
          -0.6643291889674292,
          -0.518436780050433,
          -0.33606748883394605,
          -0.03948867810666307,
          0.12924833320659349,
          0.0933391658110179,
          0.25085611637107835,
          0.24859003707312904,
          0.2682634963480972,
          0.28455362521462774,
          0.26203968543864453,
          0.24151204068274637,
          0.20099751327991128,
          0.12012530994155064,
          0.012422802816695057,
          -0.02921414178670172,
          -0.07709090453047182,
          -0.1188327467177631,
          -0.17852291301144313,
          -0.3051571030190617,
          -0.4702559151110462,
          -0.6210381759414052,
          -0.7669041849577712,
          -0.9633453558684663,
          -1.0033077048273495,
          -1.0392624796839303,
          -1.0690403829009716,
          -1.055845779666808,
          -1.019357462212132,
          -0.9888012810696388,
          -0.9015130781747309,
          -0.8249168233272727,
          -0.7740423904452478,
          -0.7383190228014485,
          -0.7151222279735131,
          -0.6989048013064809,
          -0.659500140956845,
          -0.633181660375799,
          -0.5646402505641678,
          -0.45285626632763276,
          -0.269674280999756,
          -0.0328758936865702,
          0.08173383965362135,
          0.13996035253929337,
          0.1449613593731845,
          0.3574536980251749,
          0.24252766029222228,
          0.3042298936425712,
          0.30288002246715284,
          0.29253612926487155,
          0.26881939223588286,
          0.1793038028293977,
          0.057877542770008394,
          -0.06770974668044047,
          -0.17948454947140216,
          -0.29360867779259653,
          -0.4129522285659504,
          -0.5573970882124079,
          -0.6645569407100693,
          -0.7510868100084788,
          -0.8679829334326599,
          -0.9268219556374981,
          -0.9104548407437546,
          -0.9240655545067645,
          -0.9323823541899658,
          -0.9382540935911015,
          -0.8765983101757191,
          -0.7811279095198569,
          -0.77356234326718,
          -0.7862275110196799,
          -0.7707530290302075,
          -0.6842195482641936,
          -0.5642400002323177,
          -0.40359510553748423,
          -0.21247117191997295,
          0.0201620090621208,
          0.16491693508170105,
          0.23799406712589372,
          0.2260110626908196,
          0.3364239944004313,
          0.3258415875051013,
          0.2915138699754911,
          0.24322042048757875,
          0.09916263826661928,
          0.009192039326596454,
          -0.1119921515162292,
          -0.25101028282091975,
          -0.4395552712305258,
          -0.6315650577873255,
          -0.760657662725338,
          -0.834893607009007,
          -0.8244757944545315,
          -0.8165874382003668,
          -0.8125893650824668,
          -0.8284517412527037,
          -0.8301624926705843,
          -0.8812741695944821,
          -0.9379885951670462
         ]
        },
        {
         "marker": {
          "color": "red",
          "size": 6
         },
         "mode": "markers",
         "name": "pitch Left turn beginning",
         "showlegend": false,
         "type": "scatter",
         "x": [
          "2024-03-22T12:49:31.300000",
          "2024-03-22T12:49:33.300000",
          "2024-03-22T12:49:35.300000",
          "2024-03-22T12:49:37.600000",
          "2024-03-22T12:49:39.700000",
          "2024-03-22T12:49:42.800000",
          "2024-03-22T12:49:45.100000",
          "2024-03-22T12:49:48.700000",
          "2024-03-22T12:49:52"
         ],
         "y": [
          -0.8228269924812178,
          -0.9535468215037178,
          -1.0103353576238325,
          -1.0667948321955765,
          -0.9454772409105214,
          -0.561385340375762,
          -0.6643291889674292,
          -0.659500140956845,
          -0.7862275110196799
         ]
        },
        {
         "marker": {
          "color": "orange",
          "size": 6
         },
         "mode": "markers",
         "name": "pitch Left turn ending",
         "showlegend": false,
         "type": "scatter",
         "x": [
          "2024-03-22T12:49:32.400000",
          "2024-03-22T12:49:34.100000",
          "2024-03-22T12:49:36.300000",
          "2024-03-22T12:49:38.400000",
          "2024-03-22T12:49:40.700000",
          "2024-03-22T12:49:43.900000",
          "2024-03-22T12:49:46.500000",
          "2024-03-22T12:49:50.300000",
          "2024-03-22T12:49:53.500000"
         ],
         "y": [
          -0.3301040722197852,
          -0.11145692050147471,
          0.11025186036147315,
          0.046612930450837205,
          -0.0034026121343646424,
          0.0824368741555148,
          0.012422802816695057,
          0.057877542770008394,
          0.009192039326596454
         ]
        },
        {
         "marker": {
          "color": "blue",
          "size": 6
         },
         "mode": "markers",
         "name": "pitch Right turn beginning",
         "showlegend": false,
         "type": "scatter",
         "x": [
          "2024-03-22T12:49:29.900000",
          "2024-03-22T12:49:32.500000",
          "2024-03-22T12:49:34.200000",
          "2024-03-22T12:49:36.400000",
          "2024-03-22T12:49:38.500000",
          "2024-03-22T12:49:40.800000",
          "2024-03-22T12:49:44",
          "2024-03-22T12:49:46.600000",
          "2024-03-22T12:49:50.400000",
          "2024-03-22T12:49:53.600000"
         ],
         "y": [
          -0.2592116058494199,
          -0.40574243201693627,
          -0.09864784456945688,
          0.07987814743381842,
          0.10194698597605868,
          -0.18026686750487553,
          -0.02748618469557002,
          -0.02921414178670172,
          -0.06770974668044047,
          -0.1119921515162292
         ]
        },
        {
         "marker": {
          "color": "purple",
          "size": 6
         },
         "mode": "markers",
         "name": "pitch Right turn ending",
         "showlegend": false,
         "type": "scatter",
         "x": [
          "2024-03-22T12:49:31.200000",
          "2024-03-22T12:49:33.200000",
          "2024-03-22T12:49:35.200000",
          "2024-03-22T12:49:37.500000",
          "2024-03-22T12:49:39.600000",
          "2024-03-22T12:49:42.700000",
          "2024-03-22T12:49:45",
          "2024-03-22T12:49:48.600000",
          "2024-03-22T12:49:51.900000",
          "2024-03-22T12:49:54.800000"
         ],
         "y": [
          -0.8672860337729797,
          -0.9652762020185696,
          -1.0926669630698613,
          -1.0373088596508984,
          -1.0239698055051438,
          -0.5713024247418116,
          -0.7277166385695076,
          -0.6989048013064809,
          -0.77356234326718,
          -0.9379885951670462
         ]
        },
        {
         "line": {
          "color": "green"
         },
         "mode": "lines",
         "name": "yaw",
         "type": "scatter",
         "x": [
          "2024-03-22T12:49:29.900000",
          "2024-03-22T12:49:30",
          "2024-03-22T12:49:30.100000",
          "2024-03-22T12:49:30.200000",
          "2024-03-22T12:49:30.300000",
          "2024-03-22T12:49:30.400000",
          "2024-03-22T12:49:30.500000",
          "2024-03-22T12:49:30.600000",
          "2024-03-22T12:49:30.700000",
          "2024-03-22T12:49:30.800000",
          "2024-03-22T12:49:30.900000",
          "2024-03-22T12:49:31",
          "2024-03-22T12:49:31.100000",
          "2024-03-22T12:49:31.200000",
          "2024-03-22T12:49:31.300000",
          "2024-03-22T12:49:31.400000",
          "2024-03-22T12:49:31.500000",
          "2024-03-22T12:49:31.600000",
          "2024-03-22T12:49:31.700000",
          "2024-03-22T12:49:31.800000",
          "2024-03-22T12:49:31.900000",
          "2024-03-22T12:49:32",
          "2024-03-22T12:49:32.100000",
          "2024-03-22T12:49:32.200000",
          "2024-03-22T12:49:32.300000",
          "2024-03-22T12:49:32.400000",
          "2024-03-22T12:49:32.500000",
          "2024-03-22T12:49:32.600000",
          "2024-03-22T12:49:32.700000",
          "2024-03-22T12:49:32.800000",
          "2024-03-22T12:49:32.900000",
          "2024-03-22T12:49:33",
          "2024-03-22T12:49:33.100000",
          "2024-03-22T12:49:33.200000",
          "2024-03-22T12:49:33.300000",
          "2024-03-22T12:49:33.400000",
          "2024-03-22T12:49:33.500000",
          "2024-03-22T12:49:33.600000",
          "2024-03-22T12:49:33.700000",
          "2024-03-22T12:49:33.800000",
          "2024-03-22T12:49:33.900000",
          "2024-03-22T12:49:34",
          "2024-03-22T12:49:34.100000",
          "2024-03-22T12:49:34.200000",
          "2024-03-22T12:49:34.300000",
          "2024-03-22T12:49:34.400000",
          "2024-03-22T12:49:34.500000",
          "2024-03-22T12:49:34.600000",
          "2024-03-22T12:49:34.700000",
          "2024-03-22T12:49:34.800000",
          "2024-03-22T12:49:34.900000",
          "2024-03-22T12:49:35",
          "2024-03-22T12:49:35.100000",
          "2024-03-22T12:49:35.200000",
          "2024-03-22T12:49:35.300000",
          "2024-03-22T12:49:35.400000",
          "2024-03-22T12:49:35.500000",
          "2024-03-22T12:49:35.600000",
          "2024-03-22T12:49:35.700000",
          "2024-03-22T12:49:35.800000",
          "2024-03-22T12:49:35.900000",
          "2024-03-22T12:49:36",
          "2024-03-22T12:49:36.100000",
          "2024-03-22T12:49:36.200000",
          "2024-03-22T12:49:36.300000",
          "2024-03-22T12:49:36.400000",
          "2024-03-22T12:49:36.500000",
          "2024-03-22T12:49:36.600000",
          "2024-03-22T12:49:36.700000",
          "2024-03-22T12:49:36.800000",
          "2024-03-22T12:49:36.900000",
          "2024-03-22T12:49:37",
          "2024-03-22T12:49:37.100000",
          "2024-03-22T12:49:37.200000",
          "2024-03-22T12:49:37.300000",
          "2024-03-22T12:49:37.400000",
          "2024-03-22T12:49:37.500000",
          "2024-03-22T12:49:37.600000",
          "2024-03-22T12:49:37.700000",
          "2024-03-22T12:49:37.800000",
          "2024-03-22T12:49:37.900000",
          "2024-03-22T12:49:38",
          "2024-03-22T12:49:38.100000",
          "2024-03-22T12:49:38.200000",
          "2024-03-22T12:49:38.300000",
          "2024-03-22T12:49:38.400000",
          "2024-03-22T12:49:38.500000",
          "2024-03-22T12:49:38.600000",
          "2024-03-22T12:49:38.700000",
          "2024-03-22T12:49:38.800000",
          "2024-03-22T12:49:38.900000",
          "2024-03-22T12:49:39",
          "2024-03-22T12:49:39.100000",
          "2024-03-22T12:49:39.200000",
          "2024-03-22T12:49:39.300000",
          "2024-03-22T12:49:39.400000",
          "2024-03-22T12:49:39.500000",
          "2024-03-22T12:49:39.600000",
          "2024-03-22T12:49:39.700000",
          "2024-03-22T12:49:39.800000",
          "2024-03-22T12:49:39.900000",
          "2024-03-22T12:49:40",
          "2024-03-22T12:49:40.100000",
          "2024-03-22T12:49:40.200000",
          "2024-03-22T12:49:40.300000",
          "2024-03-22T12:49:40.400000",
          "2024-03-22T12:49:40.500000",
          "2024-03-22T12:49:40.600000",
          "2024-03-22T12:49:40.700000",
          "2024-03-22T12:49:40.800000",
          "2024-03-22T12:49:40.900000",
          "2024-03-22T12:49:41",
          "2024-03-22T12:49:41.100000",
          "2024-03-22T12:49:41.200000",
          "2024-03-22T12:49:41.300000",
          "2024-03-22T12:49:41.400000",
          "2024-03-22T12:49:41.500000",
          "2024-03-22T12:49:41.600000",
          "2024-03-22T12:49:41.700000",
          "2024-03-22T12:49:41.800000",
          "2024-03-22T12:49:41.900000",
          "2024-03-22T12:49:42",
          "2024-03-22T12:49:42.100000",
          "2024-03-22T12:49:42.200000",
          "2024-03-22T12:49:42.300000",
          "2024-03-22T12:49:42.400000",
          "2024-03-22T12:49:42.500000",
          "2024-03-22T12:49:42.600000",
          "2024-03-22T12:49:42.700000",
          "2024-03-22T12:49:42.800000",
          "2024-03-22T12:49:42.900000",
          "2024-03-22T12:49:43",
          "2024-03-22T12:49:43.100000",
          "2024-03-22T12:49:43.200000",
          "2024-03-22T12:49:43.300000",
          "2024-03-22T12:49:43.400000",
          "2024-03-22T12:49:43.500000",
          "2024-03-22T12:49:43.600000",
          "2024-03-22T12:49:43.700000",
          "2024-03-22T12:49:43.800000",
          "2024-03-22T12:49:43.900000",
          "2024-03-22T12:49:44",
          "2024-03-22T12:49:44.100000",
          "2024-03-22T12:49:44.200000",
          "2024-03-22T12:49:44.300000",
          "2024-03-22T12:49:44.400000",
          "2024-03-22T12:49:44.500000",
          "2024-03-22T12:49:44.600000",
          "2024-03-22T12:49:44.700000",
          "2024-03-22T12:49:44.800000",
          "2024-03-22T12:49:44.900000",
          "2024-03-22T12:49:45",
          "2024-03-22T12:49:45.100000",
          "2024-03-22T12:49:45.200000",
          "2024-03-22T12:49:45.300000",
          "2024-03-22T12:49:45.400000",
          "2024-03-22T12:49:45.500000",
          "2024-03-22T12:49:45.600000",
          "2024-03-22T12:49:45.700000",
          "2024-03-22T12:49:45.800000",
          "2024-03-22T12:49:45.900000",
          "2024-03-22T12:49:46",
          "2024-03-22T12:49:46.100000",
          "2024-03-22T12:49:46.200000",
          "2024-03-22T12:49:46.300000",
          "2024-03-22T12:49:46.400000",
          "2024-03-22T12:49:46.500000",
          "2024-03-22T12:49:46.600000",
          "2024-03-22T12:49:46.700000",
          "2024-03-22T12:49:46.800000",
          "2024-03-22T12:49:46.900000",
          "2024-03-22T12:49:47",
          "2024-03-22T12:49:47.100000",
          "2024-03-22T12:49:47.200000",
          "2024-03-22T12:49:47.300000",
          "2024-03-22T12:49:47.400000",
          "2024-03-22T12:49:47.500000",
          "2024-03-22T12:49:47.600000",
          "2024-03-22T12:49:47.700000",
          "2024-03-22T12:49:47.800000",
          "2024-03-22T12:49:47.900000",
          "2024-03-22T12:49:48",
          "2024-03-22T12:49:48.100000",
          "2024-03-22T12:49:48.200000",
          "2024-03-22T12:49:48.300000",
          "2024-03-22T12:49:48.400000",
          "2024-03-22T12:49:48.500000",
          "2024-03-22T12:49:48.600000",
          "2024-03-22T12:49:48.700000",
          "2024-03-22T12:49:48.800000",
          "2024-03-22T12:49:48.900000",
          "2024-03-22T12:49:49",
          "2024-03-22T12:49:49.100000",
          "2024-03-22T12:49:49.200000",
          "2024-03-22T12:49:49.300000",
          "2024-03-22T12:49:49.400000",
          "2024-03-22T12:49:49.500000",
          "2024-03-22T12:49:49.600000",
          "2024-03-22T12:49:49.700000",
          "2024-03-22T12:49:49.800000",
          "2024-03-22T12:49:49.900000",
          "2024-03-22T12:49:50",
          "2024-03-22T12:49:50.100000",
          "2024-03-22T12:49:50.200000",
          "2024-03-22T12:49:50.300000",
          "2024-03-22T12:49:50.400000",
          "2024-03-22T12:49:50.500000",
          "2024-03-22T12:49:50.600000",
          "2024-03-22T12:49:50.700000",
          "2024-03-22T12:49:50.800000",
          "2024-03-22T12:49:50.900000",
          "2024-03-22T12:49:51",
          "2024-03-22T12:49:51.100000",
          "2024-03-22T12:49:51.200000",
          "2024-03-22T12:49:51.300000",
          "2024-03-22T12:49:51.400000",
          "2024-03-22T12:49:51.500000",
          "2024-03-22T12:49:51.600000",
          "2024-03-22T12:49:51.700000",
          "2024-03-22T12:49:51.800000",
          "2024-03-22T12:49:51.900000",
          "2024-03-22T12:49:52",
          "2024-03-22T12:49:52.100000",
          "2024-03-22T12:49:52.200000",
          "2024-03-22T12:49:52.300000",
          "2024-03-22T12:49:52.400000",
          "2024-03-22T12:49:52.500000",
          "2024-03-22T12:49:52.600000",
          "2024-03-22T12:49:52.700000",
          "2024-03-22T12:49:52.800000",
          "2024-03-22T12:49:52.900000",
          "2024-03-22T12:49:53",
          "2024-03-22T12:49:53.100000",
          "2024-03-22T12:49:53.200000",
          "2024-03-22T12:49:53.300000",
          "2024-03-22T12:49:53.400000",
          "2024-03-22T12:49:53.500000",
          "2024-03-22T12:49:53.600000",
          "2024-03-22T12:49:53.700000",
          "2024-03-22T12:49:53.800000",
          "2024-03-22T12:49:53.900000",
          "2024-03-22T12:49:54",
          "2024-03-22T12:49:54.100000",
          "2024-03-22T12:49:54.200000",
          "2024-03-22T12:49:54.300000",
          "2024-03-22T12:49:54.400000",
          "2024-03-22T12:49:54.500000",
          "2024-03-22T12:49:54.600000",
          "2024-03-22T12:49:54.700000",
          "2024-03-22T12:49:54.800000"
         ],
         "y": [
          2.9494172174330373,
          2.923579168733853,
          2.9286113966616356,
          2.8782920496185262,
          2.7390934115438523,
          2.6129196339404306,
          2.476573698298421,
          2.33574632651366,
          2.2557033486000266,
          2.1215892734992625,
          2.025055320049487,
          1.9976814682879225,
          1.910804032974851,
          1.9172754107254788,
          1.9502027491037035,
          1.942217899785074,
          1.9560126152463706,
          1.957821779243169,
          2.074800978565161,
          2.2492457156687906,
          2.492898684302366,
          2.72682421546172,
          2.877533793057839,
          2.9601340109331593,
          2.883078976749183,
          2.7674725620149023,
          2.7345008569067746,
          2.7507878749568686,
          2.7386094256902482,
          2.6063284242926597,
          2.4295134036459958,
          2.24983396060221,
          2.047149468154498,
          2.0007382867495824,
          2.0223531803256685,
          1.9415406002631914,
          2.018594876243583,
          2.057194833053495,
          2.2634399931908935,
          2.5531917676956026,
          2.902098787333959,
          2.9942073411577694,
          3.042733503964002,
          2.98236523502459,
          2.9160954737248317,
          2.9016158526192912,
          2.8459669027333416,
          2.730302928620404,
          2.5997638228887894,
          2.484077780273886,
          2.0016594820604503,
          2.133176076718873,
          1.8806356132284505,
          2.0738161092298655,
          1.9643281000279358,
          1.9763467963418162,
          1.8988286947829818,
          1.9220080019196288,
          2.0995951401110404,
          2.18865496844099,
          2.337756390739727,
          2.613010647111934,
          2.7971547011333726,
          2.8249312535660875,
          2.8967217746636975,
          2.8704814822712086,
          2.939894592658309,
          2.925979302270116,
          2.8872808924662507,
          2.9004671550408614,
          2.8713964225729147,
          2.772514987769692,
          2.5218107026077936,
          2.1609241836988056,
          2.1046189807421096,
          1.9867666576912313,
          1.9755716075139755,
          1.9874579645244814,
          1.9668157884929325,
          1.914583042306254,
          1.9034874461407651,
          1.8989402238144488,
          2.1275516668164403,
          2.402692276721448,
          2.638876381221375,
          2.7476473614130614,
          2.77193335901289,
          2.6905812578748587,
          2.694883654633407,
          2.718440360320379,
          2.751485987079322,
          2.67702772344389,
          2.5304338370120423,
          2.2990801333912945,
          2.139942874395484,
          1.9479568578785953,
          1.853936527952575,
          1.8536960148400439,
          1.8943967748850827,
          1.8780139505376279,
          1.7919734424408447,
          1.8445296745135313,
          2.0597380223968624,
          2.322955894746441,
          2.4571776158362257,
          2.5042928638089843,
          2.57626392448044,
          2.6550761023244,
          2.6636181774240404,
          2.6632196374984285,
          2.6538881422596865,
          2.522519732121411,
          2.338323276103393,
          2.164360331634936,
          2.072709316466674,
          2.0136475625592074,
          1.946911060306589,
          1.932877265867542,
          1.9251342452496105,
          1.8952311381529532,
          1.8533708896918872,
          1.8516096352037121,
          1.8690763030019728,
          1.8092730052113017,
          1.7156561726323223,
          1.7088134193041946,
          1.6907865151704249,
          1.6642688653366806,
          1.6208625753182364,
          1.579652518693624,
          1.566868103949013,
          1.5899061325610653,
          1.6505004878434366,
          1.6785931255379891,
          1.7626182306152784,
          1.9630992716398674,
          2.2072714050314537,
          2.3719907225058,
          2.4402255349817144,
          2.427453895604836,
          2.387915806460274,
          2.4227769964327415,
          2.4437283968100485,
          2.428846290228268,
          2.1958115259745368,
          1.857832292313675,
          1.8409678457301704,
          1.8423505154201605,
          1.8932225318964437,
          1.7761425284529784,
          1.6213006287383287,
          1.6087466844414362,
          1.5957294114400387,
          1.6306019787773456,
          1.7814348744441788,
          1.964149345086474,
          2.254987980374742,
          2.351303796978133,
          2.5425794347442414,
          2.6541874785504764,
          2.835837426779541,
          2.8939595844236474,
          2.880491204885077,
          2.933739404097099,
          2.939743457547726,
          2.8552611236394245,
          2.762520462332275,
          2.7716975441589953,
          2.818461248910054,
          2.8664345297775577,
          2.900553973193927,
          2.8791942074931876,
          2.751295504832813,
          2.546367580457026,
          2.300128335589748,
          1.9915072250654098,
          0.5105711759736611,
          0.541491841306169,
          0.39139336556401555,
          0.4264438308103445,
          0.4402512287830468,
          0.40073823911332734,
          0.34557099578837985,
          0.3475920734663501,
          0.31653351875568314,
          0.26069839537099115,
          0.18019881108661365,
          0.11139422002347849,
          0.09455845741576356,
          0.08443663833508198,
          0.10027515849421127,
          0.15192502920968404,
          0.19649380544312336,
          0.4652626203344636,
          0.7682786468452281,
          1.0169271888847555,
          1.155359501282481,
          1.3538197968353356,
          1.4428980235118058,
          1.4800668435657969,
          1.5781199479131776,
          1.615341819371237,
          1.6059511896063072,
          1.5491835260123465,
          1.5517036328006697,
          1.5490886262203383,
          1.5639505763497161,
          1.5254424902631474,
          1.475786604978004,
          1.3187849254538708,
          1.0175075361843662,
          0.6907902110110761,
          0.5103606174940817,
          0.5003517703879864,
          0.4620140701637739,
          0.48132378370384077,
          0.4508196888710034,
          0.35783613494600636,
          0.34688034604304124,
          0.3809771468693619,
          0.27328101556852513,
          0.1916611492243411,
          0.13584061626747707,
          0.13695558118623083,
          0.14809039429535192,
          0.13837133773388918,
          0.16590877751024236,
          0.41674072955685887,
          0.861927515333187,
          1.3462111049460292,
          1.4242906167071216,
          1.3910072665649014,
          1.3771787894911276,
          1.4612915392370551,
          1.4458484952489672,
          1.3755604960717625,
          1.3535887438800256,
          1.3752795881153155,
          1.3315226015336687,
          1.157676230513454,
          0.8845714968048314,
          0.5992149293237318,
          0.42878902780989625,
          0.3496879396508795,
          0.37711706875288104,
          0.31526993746023524,
          0.2572030909402251,
          0.2696723779406348,
          0.22063576354806444,
          0.19107357201839284
         ]
        },
        {
         "marker": {
          "color": "red",
          "size": 6
         },
         "mode": "markers",
         "name": "yaw Left turn beginning",
         "showlegend": false,
         "type": "scatter",
         "x": [
          "2024-03-22T12:49:31.300000",
          "2024-03-22T12:49:33.300000",
          "2024-03-22T12:49:35.300000",
          "2024-03-22T12:49:37.600000",
          "2024-03-22T12:49:39.700000",
          "2024-03-22T12:49:42.800000",
          "2024-03-22T12:49:45.100000",
          "2024-03-22T12:49:48.700000",
          "2024-03-22T12:49:52"
         ],
         "y": [
          1.9502027491037035,
          2.0223531803256685,
          1.9643281000279358,
          1.9874579645244814,
          1.8943967748850827,
          1.579652518693624,
          1.5957294114400387,
          0.09455845741576356,
          0.1916611492243411
         ]
        },
        {
         "marker": {
          "color": "orange",
          "size": 6
         },
         "mode": "markers",
         "name": "yaw Left turn ending",
         "showlegend": false,
         "type": "scatter",
         "x": [
          "2024-03-22T12:49:32.400000",
          "2024-03-22T12:49:34.100000",
          "2024-03-22T12:49:36.300000",
          "2024-03-22T12:49:38.400000",
          "2024-03-22T12:49:40.700000",
          "2024-03-22T12:49:43.900000",
          "2024-03-22T12:49:46.500000",
          "2024-03-22T12:49:50.300000",
          "2024-03-22T12:49:53.500000"
         ],
         "y": [
          2.7674725620149023,
          3.042733503964002,
          2.8967217746636975,
          2.7476473614130614,
          2.6636181774240404,
          2.387915806460274,
          2.762520462332275,
          1.5517036328006697,
          1.3535887438800256
         ]
        },
        {
         "marker": {
          "color": "blue",
          "size": 6
         },
         "mode": "markers",
         "name": "yaw Right turn beginning",
         "showlegend": false,
         "type": "scatter",
         "x": [
          "2024-03-22T12:49:29.900000",
          "2024-03-22T12:49:32.500000",
          "2024-03-22T12:49:34.200000",
          "2024-03-22T12:49:36.400000",
          "2024-03-22T12:49:38.500000",
          "2024-03-22T12:49:40.800000",
          "2024-03-22T12:49:44",
          "2024-03-22T12:49:46.600000",
          "2024-03-22T12:49:50.400000",
          "2024-03-22T12:49:53.600000"
         ],
         "y": [
          2.9494172174330373,
          2.7345008569067746,
          2.98236523502459,
          2.8704814822712086,
          2.77193335901289,
          2.6632196374984285,
          2.4227769964327415,
          2.7716975441589953,
          1.5490886262203383,
          1.3752795881153155
         ]
        },
        {
         "marker": {
          "color": "purple",
          "size": 6
         },
         "mode": "markers",
         "name": "yaw Right turn ending",
         "showlegend": false,
         "type": "scatter",
         "x": [
          "2024-03-22T12:49:31.200000",
          "2024-03-22T12:49:33.200000",
          "2024-03-22T12:49:35.200000",
          "2024-03-22T12:49:37.500000",
          "2024-03-22T12:49:39.600000",
          "2024-03-22T12:49:42.700000",
          "2024-03-22T12:49:45",
          "2024-03-22T12:49:48.600000",
          "2024-03-22T12:49:51.900000",
          "2024-03-22T12:49:54.800000"
         ],
         "y": [
          1.9172754107254788,
          2.0007382867495824,
          2.0738161092298655,
          1.9755716075139755,
          1.8536960148400439,
          1.6208625753182364,
          1.6087466844414362,
          0.11139422002347849,
          0.27328101556852513,
          0.19107357201839284
         ]
        },
        {
         "legendgroup": "Left",
         "marker": {
          "color": "red",
          "size": 6
         },
         "mode": "markers",
         "name": "Left turn beginning",
         "showlegend": true,
         "type": "scatter",
         "x": [
          null
         ],
         "y": [
          null
         ]
        },
        {
         "legendgroup": "Left",
         "marker": {
          "color": "orange",
          "size": 6
         },
         "mode": "markers",
         "name": "Left turn ending",
         "showlegend": true,
         "type": "scatter",
         "x": [
          null
         ],
         "y": [
          null
         ]
        },
        {
         "legendgroup": "Right",
         "marker": {
          "color": "blue",
          "size": 6
         },
         "mode": "markers",
         "name": "Right turn beginning",
         "showlegend": true,
         "type": "scatter",
         "x": [
          null
         ],
         "y": [
          null
         ]
        },
        {
         "legendgroup": "Right",
         "marker": {
          "color": "purple",
          "size": 6
         },
         "mode": "markers",
         "name": "Right turn ending",
         "showlegend": true,
         "type": "scatter",
         "x": [
          null
         ],
         "y": [
          null
         ]
        }
       ],
       "layout": {
        "height": 600,
        "legend": {
         "bgcolor": "rgba(255, 255, 255, 0.8)",
         "bordercolor": "Black",
         "borderwidth": 2,
         "font": {
          "size": 30
         },
         "itemsizing": "constant",
         "itemwidth": 40,
         "traceorder": "normal",
         "x": 0.01,
         "y": 0.99
        },
        "template": {
         "data": {
          "bar": [
           {
            "error_x": {
             "color": "#2a3f5f"
            },
            "error_y": {
             "color": "#2a3f5f"
            },
            "marker": {
             "line": {
              "color": "#E5ECF6",
              "width": 0.5
             },
             "pattern": {
              "fillmode": "overlay",
              "size": 10,
              "solidity": 0.2
             }
            },
            "type": "bar"
           }
          ],
          "barpolar": [
           {
            "marker": {
             "line": {
              "color": "#E5ECF6",
              "width": 0.5
             },
             "pattern": {
              "fillmode": "overlay",
              "size": 10,
              "solidity": 0.2
             }
            },
            "type": "barpolar"
           }
          ],
          "carpet": [
           {
            "aaxis": {
             "endlinecolor": "#2a3f5f",
             "gridcolor": "white",
             "linecolor": "white",
             "minorgridcolor": "white",
             "startlinecolor": "#2a3f5f"
            },
            "baxis": {
             "endlinecolor": "#2a3f5f",
             "gridcolor": "white",
             "linecolor": "white",
             "minorgridcolor": "white",
             "startlinecolor": "#2a3f5f"
            },
            "type": "carpet"
           }
          ],
          "choropleth": [
           {
            "colorbar": {
             "outlinewidth": 0,
             "ticks": ""
            },
            "type": "choropleth"
           }
          ],
          "contour": [
           {
            "colorbar": {
             "outlinewidth": 0,
             "ticks": ""
            },
            "colorscale": [
             [
              0,
              "#0d0887"
             ],
             [
              0.1111111111111111,
              "#46039f"
             ],
             [
              0.2222222222222222,
              "#7201a8"
             ],
             [
              0.3333333333333333,
              "#9c179e"
             ],
             [
              0.4444444444444444,
              "#bd3786"
             ],
             [
              0.5555555555555556,
              "#d8576b"
             ],
             [
              0.6666666666666666,
              "#ed7953"
             ],
             [
              0.7777777777777778,
              "#fb9f3a"
             ],
             [
              0.8888888888888888,
              "#fdca26"
             ],
             [
              1,
              "#f0f921"
             ]
            ],
            "type": "contour"
           }
          ],
          "contourcarpet": [
           {
            "colorbar": {
             "outlinewidth": 0,
             "ticks": ""
            },
            "type": "contourcarpet"
           }
          ],
          "heatmap": [
           {
            "colorbar": {
             "outlinewidth": 0,
             "ticks": ""
            },
            "colorscale": [
             [
              0,
              "#0d0887"
             ],
             [
              0.1111111111111111,
              "#46039f"
             ],
             [
              0.2222222222222222,
              "#7201a8"
             ],
             [
              0.3333333333333333,
              "#9c179e"
             ],
             [
              0.4444444444444444,
              "#bd3786"
             ],
             [
              0.5555555555555556,
              "#d8576b"
             ],
             [
              0.6666666666666666,
              "#ed7953"
             ],
             [
              0.7777777777777778,
              "#fb9f3a"
             ],
             [
              0.8888888888888888,
              "#fdca26"
             ],
             [
              1,
              "#f0f921"
             ]
            ],
            "type": "heatmap"
           }
          ],
          "heatmapgl": [
           {
            "colorbar": {
             "outlinewidth": 0,
             "ticks": ""
            },
            "colorscale": [
             [
              0,
              "#0d0887"
             ],
             [
              0.1111111111111111,
              "#46039f"
             ],
             [
              0.2222222222222222,
              "#7201a8"
             ],
             [
              0.3333333333333333,
              "#9c179e"
             ],
             [
              0.4444444444444444,
              "#bd3786"
             ],
             [
              0.5555555555555556,
              "#d8576b"
             ],
             [
              0.6666666666666666,
              "#ed7953"
             ],
             [
              0.7777777777777778,
              "#fb9f3a"
             ],
             [
              0.8888888888888888,
              "#fdca26"
             ],
             [
              1,
              "#f0f921"
             ]
            ],
            "type": "heatmapgl"
           }
          ],
          "histogram": [
           {
            "marker": {
             "pattern": {
              "fillmode": "overlay",
              "size": 10,
              "solidity": 0.2
             }
            },
            "type": "histogram"
           }
          ],
          "histogram2d": [
           {
            "colorbar": {
             "outlinewidth": 0,
             "ticks": ""
            },
            "colorscale": [
             [
              0,
              "#0d0887"
             ],
             [
              0.1111111111111111,
              "#46039f"
             ],
             [
              0.2222222222222222,
              "#7201a8"
             ],
             [
              0.3333333333333333,
              "#9c179e"
             ],
             [
              0.4444444444444444,
              "#bd3786"
             ],
             [
              0.5555555555555556,
              "#d8576b"
             ],
             [
              0.6666666666666666,
              "#ed7953"
             ],
             [
              0.7777777777777778,
              "#fb9f3a"
             ],
             [
              0.8888888888888888,
              "#fdca26"
             ],
             [
              1,
              "#f0f921"
             ]
            ],
            "type": "histogram2d"
           }
          ],
          "histogram2dcontour": [
           {
            "colorbar": {
             "outlinewidth": 0,
             "ticks": ""
            },
            "colorscale": [
             [
              0,
              "#0d0887"
             ],
             [
              0.1111111111111111,
              "#46039f"
             ],
             [
              0.2222222222222222,
              "#7201a8"
             ],
             [
              0.3333333333333333,
              "#9c179e"
             ],
             [
              0.4444444444444444,
              "#bd3786"
             ],
             [
              0.5555555555555556,
              "#d8576b"
             ],
             [
              0.6666666666666666,
              "#ed7953"
             ],
             [
              0.7777777777777778,
              "#fb9f3a"
             ],
             [
              0.8888888888888888,
              "#fdca26"
             ],
             [
              1,
              "#f0f921"
             ]
            ],
            "type": "histogram2dcontour"
           }
          ],
          "mesh3d": [
           {
            "colorbar": {
             "outlinewidth": 0,
             "ticks": ""
            },
            "type": "mesh3d"
           }
          ],
          "parcoords": [
           {
            "line": {
             "colorbar": {
              "outlinewidth": 0,
              "ticks": ""
             }
            },
            "type": "parcoords"
           }
          ],
          "pie": [
           {
            "automargin": true,
            "type": "pie"
           }
          ],
          "scatter": [
           {
            "fillpattern": {
             "fillmode": "overlay",
             "size": 10,
             "solidity": 0.2
            },
            "type": "scatter"
           }
          ],
          "scatter3d": [
           {
            "line": {
             "colorbar": {
              "outlinewidth": 0,
              "ticks": ""
             }
            },
            "marker": {
             "colorbar": {
              "outlinewidth": 0,
              "ticks": ""
             }
            },
            "type": "scatter3d"
           }
          ],
          "scattercarpet": [
           {
            "marker": {
             "colorbar": {
              "outlinewidth": 0,
              "ticks": ""
             }
            },
            "type": "scattercarpet"
           }
          ],
          "scattergeo": [
           {
            "marker": {
             "colorbar": {
              "outlinewidth": 0,
              "ticks": ""
             }
            },
            "type": "scattergeo"
           }
          ],
          "scattergl": [
           {
            "marker": {
             "colorbar": {
              "outlinewidth": 0,
              "ticks": ""
             }
            },
            "type": "scattergl"
           }
          ],
          "scattermapbox": [
           {
            "marker": {
             "colorbar": {
              "outlinewidth": 0,
              "ticks": ""
             }
            },
            "type": "scattermapbox"
           }
          ],
          "scatterpolar": [
           {
            "marker": {
             "colorbar": {
              "outlinewidth": 0,
              "ticks": ""
             }
            },
            "type": "scatterpolar"
           }
          ],
          "scatterpolargl": [
           {
            "marker": {
             "colorbar": {
              "outlinewidth": 0,
              "ticks": ""
             }
            },
            "type": "scatterpolargl"
           }
          ],
          "scatterternary": [
           {
            "marker": {
             "colorbar": {
              "outlinewidth": 0,
              "ticks": ""
             }
            },
            "type": "scatterternary"
           }
          ],
          "surface": [
           {
            "colorbar": {
             "outlinewidth": 0,
             "ticks": ""
            },
            "colorscale": [
             [
              0,
              "#0d0887"
             ],
             [
              0.1111111111111111,
              "#46039f"
             ],
             [
              0.2222222222222222,
              "#7201a8"
             ],
             [
              0.3333333333333333,
              "#9c179e"
             ],
             [
              0.4444444444444444,
              "#bd3786"
             ],
             [
              0.5555555555555556,
              "#d8576b"
             ],
             [
              0.6666666666666666,
              "#ed7953"
             ],
             [
              0.7777777777777778,
              "#fb9f3a"
             ],
             [
              0.8888888888888888,
              "#fdca26"
             ],
             [
              1,
              "#f0f921"
             ]
            ],
            "type": "surface"
           }
          ],
          "table": [
           {
            "cells": {
             "fill": {
              "color": "#EBF0F8"
             },
             "line": {
              "color": "white"
             }
            },
            "header": {
             "fill": {
              "color": "#C8D4E3"
             },
             "line": {
              "color": "white"
             }
            },
            "type": "table"
           }
          ]
         },
         "layout": {
          "annotationdefaults": {
           "arrowcolor": "#2a3f5f",
           "arrowhead": 0,
           "arrowwidth": 1
          },
          "autotypenumbers": "strict",
          "coloraxis": {
           "colorbar": {
            "outlinewidth": 0,
            "ticks": ""
           }
          },
          "colorscale": {
           "diverging": [
            [
             0,
             "#8e0152"
            ],
            [
             0.1,
             "#c51b7d"
            ],
            [
             0.2,
             "#de77ae"
            ],
            [
             0.3,
             "#f1b6da"
            ],
            [
             0.4,
             "#fde0ef"
            ],
            [
             0.5,
             "#f7f7f7"
            ],
            [
             0.6,
             "#e6f5d0"
            ],
            [
             0.7,
             "#b8e186"
            ],
            [
             0.8,
             "#7fbc41"
            ],
            [
             0.9,
             "#4d9221"
            ],
            [
             1,
             "#276419"
            ]
           ],
           "sequential": [
            [
             0,
             "#0d0887"
            ],
            [
             0.1111111111111111,
             "#46039f"
            ],
            [
             0.2222222222222222,
             "#7201a8"
            ],
            [
             0.3333333333333333,
             "#9c179e"
            ],
            [
             0.4444444444444444,
             "#bd3786"
            ],
            [
             0.5555555555555556,
             "#d8576b"
            ],
            [
             0.6666666666666666,
             "#ed7953"
            ],
            [
             0.7777777777777778,
             "#fb9f3a"
            ],
            [
             0.8888888888888888,
             "#fdca26"
            ],
            [
             1,
             "#f0f921"
            ]
           ],
           "sequentialminus": [
            [
             0,
             "#0d0887"
            ],
            [
             0.1111111111111111,
             "#46039f"
            ],
            [
             0.2222222222222222,
             "#7201a8"
            ],
            [
             0.3333333333333333,
             "#9c179e"
            ],
            [
             0.4444444444444444,
             "#bd3786"
            ],
            [
             0.5555555555555556,
             "#d8576b"
            ],
            [
             0.6666666666666666,
             "#ed7953"
            ],
            [
             0.7777777777777778,
             "#fb9f3a"
            ],
            [
             0.8888888888888888,
             "#fdca26"
            ],
            [
             1,
             "#f0f921"
            ]
           ]
          },
          "colorway": [
           "#636efa",
           "#EF553B",
           "#00cc96",
           "#ab63fa",
           "#FFA15A",
           "#19d3f3",
           "#FF6692",
           "#B6E880",
           "#FF97FF",
           "#FECB52"
          ],
          "font": {
           "color": "#2a3f5f"
          },
          "geo": {
           "bgcolor": "white",
           "lakecolor": "white",
           "landcolor": "#E5ECF6",
           "showlakes": true,
           "showland": true,
           "subunitcolor": "white"
          },
          "hoverlabel": {
           "align": "left"
          },
          "hovermode": "closest",
          "mapbox": {
           "style": "light"
          },
          "paper_bgcolor": "white",
          "plot_bgcolor": "#E5ECF6",
          "polar": {
           "angularaxis": {
            "gridcolor": "white",
            "linecolor": "white",
            "ticks": ""
           },
           "bgcolor": "#E5ECF6",
           "radialaxis": {
            "gridcolor": "white",
            "linecolor": "white",
            "ticks": ""
           }
          },
          "scene": {
           "xaxis": {
            "backgroundcolor": "#E5ECF6",
            "gridcolor": "white",
            "gridwidth": 2,
            "linecolor": "white",
            "showbackground": true,
            "ticks": "",
            "zerolinecolor": "white"
           },
           "yaxis": {
            "backgroundcolor": "#E5ECF6",
            "gridcolor": "white",
            "gridwidth": 2,
            "linecolor": "white",
            "showbackground": true,
            "ticks": "",
            "zerolinecolor": "white"
           },
           "zaxis": {
            "backgroundcolor": "#E5ECF6",
            "gridcolor": "white",
            "gridwidth": 2,
            "linecolor": "white",
            "showbackground": true,
            "ticks": "",
            "zerolinecolor": "white"
           }
          },
          "shapedefaults": {
           "line": {
            "color": "#2a3f5f"
           }
          },
          "ternary": {
           "aaxis": {
            "gridcolor": "white",
            "linecolor": "white",
            "ticks": ""
           },
           "baxis": {
            "gridcolor": "white",
            "linecolor": "white",
            "ticks": ""
           },
           "bgcolor": "#E5ECF6",
           "caxis": {
            "gridcolor": "white",
            "linecolor": "white",
            "ticks": ""
           }
          },
          "title": {
           "x": 0.05
          },
          "xaxis": {
           "automargin": true,
           "gridcolor": "white",
           "linecolor": "white",
           "ticks": "",
           "title": {
            "standoff": 15
           },
           "zerolinecolor": "white",
           "zerolinewidth": 2
          },
          "yaxis": {
           "automargin": true,
           "gridcolor": "white",
           "linecolor": "white",
           "ticks": "",
           "title": {
            "standoff": 15
           },
           "zerolinecolor": "white",
           "zerolinewidth": 2
          }
         }
        },
        "title": {
         "font": {
          "size": 30
         },
         "text": "Unwrapped Orientation Data Visualization"
        },
        "width": 1200,
        "xaxis": {
         "title": {
          "font": {
           "size": 20
          },
          "text": "Time"
         }
        },
        "yaxis": {
         "title": {
          "font": {
           "size": 20
          },
          "text": "Radians"
         }
        }
       }
      }
     },
     "metadata": {},
     "output_type": "display_data"
    }
   ],
   "source": [
    "unwrapped_data = unwrap_angles([transformed_df])[0]\n",
    "display(unwrapped_data.head())\n",
    "draw_plotly_new(unwrapped_data, col=split_on, granular=True, title=\"Unwrapped Orientation Data Visualization\")\n"
   ]
  },
  {
   "cell_type": "markdown",
   "id": "97f0f7ac",
   "metadata": {},
   "source": [
    "#### Smooth the data\n",
    "\n"
   ]
  },
  {
   "cell_type": "code",
   "execution_count": 7,
   "id": "be0dd8af",
   "metadata": {},
   "outputs": [
    {
     "data": {
      "text/html": [
       "<div>\n",
       "<style scoped>\n",
       "    .dataframe tbody tr th:only-of-type {\n",
       "        vertical-align: middle;\n",
       "    }\n",
       "\n",
       "    .dataframe tbody tr th {\n",
       "        vertical-align: top;\n",
       "    }\n",
       "\n",
       "    .dataframe thead th {\n",
       "        text-align: right;\n",
       "    }\n",
       "</style>\n",
       "<table border=\"1\" class=\"dataframe\">\n",
       "  <thead>\n",
       "    <tr style=\"text-align: right;\">\n",
       "      <th></th>\n",
       "      <th>qz</th>\n",
       "      <th>qy</th>\n",
       "      <th>qx</th>\n",
       "      <th>qw</th>\n",
       "      <th>roll</th>\n",
       "      <th>pitch</th>\n",
       "      <th>yaw</th>\n",
       "      <th>Behavior</th>\n",
       "      <th>Status</th>\n",
       "    </tr>\n",
       "    <tr>\n",
       "      <th>time</th>\n",
       "      <th></th>\n",
       "      <th></th>\n",
       "      <th></th>\n",
       "      <th></th>\n",
       "      <th></th>\n",
       "      <th></th>\n",
       "      <th></th>\n",
       "      <th></th>\n",
       "      <th></th>\n",
       "    </tr>\n",
       "  </thead>\n",
       "  <tbody>\n",
       "    <tr>\n",
       "      <th>2024-03-22 12:49:29.900</th>\n",
       "      <td>-0.699230</td>\n",
       "      <td>-0.696761</td>\n",
       "      <td>-0.157973</td>\n",
       "      <td>0.025403</td>\n",
       "      <td>1.592382</td>\n",
       "      <td>-0.259212</td>\n",
       "      <td>2.949417</td>\n",
       "      <td>right</td>\n",
       "      <td>START</td>\n",
       "    </tr>\n",
       "    <tr>\n",
       "      <th>2024-03-22 12:49:30.000</th>\n",
       "      <td>-0.704745</td>\n",
       "      <td>-0.681315</td>\n",
       "      <td>-0.193328</td>\n",
       "      <td>0.042032</td>\n",
       "      <td>1.574114</td>\n",
       "      <td>-0.336058</td>\n",
       "      <td>2.923579</td>\n",
       "      <td></td>\n",
       "      <td></td>\n",
       "    </tr>\n",
       "    <tr>\n",
       "      <th>2024-03-22 12:49:30.100</th>\n",
       "      <td>-0.701866</td>\n",
       "      <td>-0.665604</td>\n",
       "      <td>-0.236985</td>\n",
       "      <td>0.090509</td>\n",
       "      <td>1.568980</td>\n",
       "      <td>-0.470295</td>\n",
       "      <td>2.928611</td>\n",
       "      <td></td>\n",
       "      <td></td>\n",
       "    </tr>\n",
       "    <tr>\n",
       "      <th>2024-03-22 12:49:30.200</th>\n",
       "      <td>-0.707663</td>\n",
       "      <td>-0.642111</td>\n",
       "      <td>-0.278845</td>\n",
       "      <td>0.095662</td>\n",
       "      <td>1.547564</td>\n",
       "      <td>-0.543936</td>\n",
       "      <td>2.878292</td>\n",
       "      <td></td>\n",
       "      <td></td>\n",
       "    </tr>\n",
       "    <tr>\n",
       "      <th>2024-03-22 12:49:30.300</th>\n",
       "      <td>-0.704990</td>\n",
       "      <td>-0.605384</td>\n",
       "      <td>-0.358699</td>\n",
       "      <td>0.088502</td>\n",
       "      <td>1.558532</td>\n",
       "      <td>-0.659743</td>\n",
       "      <td>2.739093</td>\n",
       "      <td></td>\n",
       "      <td></td>\n",
       "    </tr>\n",
       "  </tbody>\n",
       "</table>\n",
       "</div>"
      ],
      "text/plain": [
       "                               qz        qy        qx        qw      roll  \\\n",
       "time                                                                        \n",
       "2024-03-22 12:49:29.900 -0.699230 -0.696761 -0.157973  0.025403  1.592382   \n",
       "2024-03-22 12:49:30.000 -0.704745 -0.681315 -0.193328  0.042032  1.574114   \n",
       "2024-03-22 12:49:30.100 -0.701866 -0.665604 -0.236985  0.090509  1.568980   \n",
       "2024-03-22 12:49:30.200 -0.707663 -0.642111 -0.278845  0.095662  1.547564   \n",
       "2024-03-22 12:49:30.300 -0.704990 -0.605384 -0.358699  0.088502  1.558532   \n",
       "\n",
       "                            pitch       yaw Behavior Status  \n",
       "time                                                         \n",
       "2024-03-22 12:49:29.900 -0.259212  2.949417    right  START  \n",
       "2024-03-22 12:49:30.000 -0.336058  2.923579                  \n",
       "2024-03-22 12:49:30.100 -0.470295  2.928611                  \n",
       "2024-03-22 12:49:30.200 -0.543936  2.878292                  \n",
       "2024-03-22 12:49:30.300 -0.659743  2.739093                  "
      ]
     },
     "metadata": {},
     "output_type": "display_data"
    },
    {
     "data": {
      "application/vnd.plotly.v1+json": {
       "config": {
        "plotlyServerURL": "https://plot.ly",
        "toImageButtonOptions": {
         "filename": "custom_image",
         "format": "png",
         "scale": 6
        }
       },
       "data": [
        {
         "line": {
          "color": "blue"
         },
         "mode": "lines",
         "name": "roll",
         "type": "scatter",
         "x": [
          "2024-03-22T12:49:29.900000",
          "2024-03-22T12:49:30",
          "2024-03-22T12:49:30.100000",
          "2024-03-22T12:49:30.200000",
          "2024-03-22T12:49:30.300000",
          "2024-03-22T12:49:30.400000",
          "2024-03-22T12:49:30.500000",
          "2024-03-22T12:49:30.600000",
          "2024-03-22T12:49:30.700000",
          "2024-03-22T12:49:30.800000",
          "2024-03-22T12:49:30.900000",
          "2024-03-22T12:49:31",
          "2024-03-22T12:49:31.100000",
          "2024-03-22T12:49:31.200000",
          "2024-03-22T12:49:31.300000",
          "2024-03-22T12:49:31.400000",
          "2024-03-22T12:49:31.500000",
          "2024-03-22T12:49:31.600000",
          "2024-03-22T12:49:31.700000",
          "2024-03-22T12:49:31.800000",
          "2024-03-22T12:49:31.900000",
          "2024-03-22T12:49:32",
          "2024-03-22T12:49:32.100000",
          "2024-03-22T12:49:32.200000",
          "2024-03-22T12:49:32.300000",
          "2024-03-22T12:49:32.400000",
          "2024-03-22T12:49:32.500000",
          "2024-03-22T12:49:32.600000",
          "2024-03-22T12:49:32.700000",
          "2024-03-22T12:49:32.800000",
          "2024-03-22T12:49:32.900000",
          "2024-03-22T12:49:33",
          "2024-03-22T12:49:33.100000",
          "2024-03-22T12:49:33.200000",
          "2024-03-22T12:49:33.300000",
          "2024-03-22T12:49:33.400000",
          "2024-03-22T12:49:33.500000",
          "2024-03-22T12:49:33.600000",
          "2024-03-22T12:49:33.700000",
          "2024-03-22T12:49:33.800000",
          "2024-03-22T12:49:33.900000",
          "2024-03-22T12:49:34",
          "2024-03-22T12:49:34.100000",
          "2024-03-22T12:49:34.200000",
          "2024-03-22T12:49:34.300000",
          "2024-03-22T12:49:34.400000",
          "2024-03-22T12:49:34.500000",
          "2024-03-22T12:49:34.600000",
          "2024-03-22T12:49:34.700000",
          "2024-03-22T12:49:34.800000",
          "2024-03-22T12:49:34.900000",
          "2024-03-22T12:49:35",
          "2024-03-22T12:49:35.100000",
          "2024-03-22T12:49:35.200000",
          "2024-03-22T12:49:35.300000",
          "2024-03-22T12:49:35.400000",
          "2024-03-22T12:49:35.500000",
          "2024-03-22T12:49:35.600000",
          "2024-03-22T12:49:35.700000",
          "2024-03-22T12:49:35.800000",
          "2024-03-22T12:49:35.900000",
          "2024-03-22T12:49:36",
          "2024-03-22T12:49:36.100000",
          "2024-03-22T12:49:36.200000",
          "2024-03-22T12:49:36.300000",
          "2024-03-22T12:49:36.400000",
          "2024-03-22T12:49:36.500000",
          "2024-03-22T12:49:36.600000",
          "2024-03-22T12:49:36.700000",
          "2024-03-22T12:49:36.800000",
          "2024-03-22T12:49:36.900000",
          "2024-03-22T12:49:37",
          "2024-03-22T12:49:37.100000",
          "2024-03-22T12:49:37.200000",
          "2024-03-22T12:49:37.300000",
          "2024-03-22T12:49:37.400000",
          "2024-03-22T12:49:37.500000",
          "2024-03-22T12:49:37.600000",
          "2024-03-22T12:49:37.700000",
          "2024-03-22T12:49:37.800000",
          "2024-03-22T12:49:37.900000",
          "2024-03-22T12:49:38",
          "2024-03-22T12:49:38.100000",
          "2024-03-22T12:49:38.200000",
          "2024-03-22T12:49:38.300000",
          "2024-03-22T12:49:38.400000",
          "2024-03-22T12:49:38.500000",
          "2024-03-22T12:49:38.600000",
          "2024-03-22T12:49:38.700000",
          "2024-03-22T12:49:38.800000",
          "2024-03-22T12:49:38.900000",
          "2024-03-22T12:49:39",
          "2024-03-22T12:49:39.100000",
          "2024-03-22T12:49:39.200000",
          "2024-03-22T12:49:39.300000",
          "2024-03-22T12:49:39.400000",
          "2024-03-22T12:49:39.500000",
          "2024-03-22T12:49:39.600000",
          "2024-03-22T12:49:39.700000",
          "2024-03-22T12:49:39.800000",
          "2024-03-22T12:49:39.900000",
          "2024-03-22T12:49:40",
          "2024-03-22T12:49:40.100000",
          "2024-03-22T12:49:40.200000",
          "2024-03-22T12:49:40.300000",
          "2024-03-22T12:49:40.400000",
          "2024-03-22T12:49:40.500000",
          "2024-03-22T12:49:40.600000",
          "2024-03-22T12:49:40.700000",
          "2024-03-22T12:49:40.800000",
          "2024-03-22T12:49:40.900000",
          "2024-03-22T12:49:41",
          "2024-03-22T12:49:41.100000",
          "2024-03-22T12:49:41.200000",
          "2024-03-22T12:49:41.300000",
          "2024-03-22T12:49:41.400000",
          "2024-03-22T12:49:41.500000",
          "2024-03-22T12:49:41.600000",
          "2024-03-22T12:49:41.700000",
          "2024-03-22T12:49:41.800000",
          "2024-03-22T12:49:41.900000",
          "2024-03-22T12:49:42",
          "2024-03-22T12:49:42.100000",
          "2024-03-22T12:49:42.200000",
          "2024-03-22T12:49:42.300000",
          "2024-03-22T12:49:42.400000",
          "2024-03-22T12:49:42.500000",
          "2024-03-22T12:49:42.600000",
          "2024-03-22T12:49:42.700000",
          "2024-03-22T12:49:42.800000",
          "2024-03-22T12:49:42.900000",
          "2024-03-22T12:49:43",
          "2024-03-22T12:49:43.100000",
          "2024-03-22T12:49:43.200000",
          "2024-03-22T12:49:43.300000",
          "2024-03-22T12:49:43.400000",
          "2024-03-22T12:49:43.500000",
          "2024-03-22T12:49:43.600000",
          "2024-03-22T12:49:43.700000",
          "2024-03-22T12:49:43.800000",
          "2024-03-22T12:49:43.900000",
          "2024-03-22T12:49:44",
          "2024-03-22T12:49:44.100000",
          "2024-03-22T12:49:44.200000",
          "2024-03-22T12:49:44.300000",
          "2024-03-22T12:49:44.400000",
          "2024-03-22T12:49:44.500000",
          "2024-03-22T12:49:44.600000",
          "2024-03-22T12:49:44.700000",
          "2024-03-22T12:49:44.800000",
          "2024-03-22T12:49:44.900000",
          "2024-03-22T12:49:45",
          "2024-03-22T12:49:45.100000",
          "2024-03-22T12:49:45.200000",
          "2024-03-22T12:49:45.300000",
          "2024-03-22T12:49:45.400000",
          "2024-03-22T12:49:45.500000",
          "2024-03-22T12:49:45.600000",
          "2024-03-22T12:49:45.700000",
          "2024-03-22T12:49:45.800000",
          "2024-03-22T12:49:45.900000",
          "2024-03-22T12:49:46",
          "2024-03-22T12:49:46.100000",
          "2024-03-22T12:49:46.200000",
          "2024-03-22T12:49:46.300000",
          "2024-03-22T12:49:46.400000",
          "2024-03-22T12:49:46.500000",
          "2024-03-22T12:49:46.600000",
          "2024-03-22T12:49:46.700000",
          "2024-03-22T12:49:46.800000",
          "2024-03-22T12:49:46.900000",
          "2024-03-22T12:49:47",
          "2024-03-22T12:49:47.100000",
          "2024-03-22T12:49:47.200000",
          "2024-03-22T12:49:47.300000",
          "2024-03-22T12:49:47.400000",
          "2024-03-22T12:49:47.500000",
          "2024-03-22T12:49:47.600000",
          "2024-03-22T12:49:47.700000",
          "2024-03-22T12:49:47.800000",
          "2024-03-22T12:49:47.900000",
          "2024-03-22T12:49:48",
          "2024-03-22T12:49:48.100000",
          "2024-03-22T12:49:48.200000",
          "2024-03-22T12:49:48.300000",
          "2024-03-22T12:49:48.400000",
          "2024-03-22T12:49:48.500000",
          "2024-03-22T12:49:48.600000",
          "2024-03-22T12:49:48.700000",
          "2024-03-22T12:49:48.800000",
          "2024-03-22T12:49:48.900000",
          "2024-03-22T12:49:49",
          "2024-03-22T12:49:49.100000",
          "2024-03-22T12:49:49.200000",
          "2024-03-22T12:49:49.300000",
          "2024-03-22T12:49:49.400000",
          "2024-03-22T12:49:49.500000",
          "2024-03-22T12:49:49.600000",
          "2024-03-22T12:49:49.700000",
          "2024-03-22T12:49:49.800000",
          "2024-03-22T12:49:49.900000",
          "2024-03-22T12:49:50",
          "2024-03-22T12:49:50.100000",
          "2024-03-22T12:49:50.200000",
          "2024-03-22T12:49:50.300000",
          "2024-03-22T12:49:50.400000",
          "2024-03-22T12:49:50.500000",
          "2024-03-22T12:49:50.600000",
          "2024-03-22T12:49:50.700000",
          "2024-03-22T12:49:50.800000",
          "2024-03-22T12:49:50.900000",
          "2024-03-22T12:49:51",
          "2024-03-22T12:49:51.100000",
          "2024-03-22T12:49:51.200000",
          "2024-03-22T12:49:51.300000",
          "2024-03-22T12:49:51.400000",
          "2024-03-22T12:49:51.500000",
          "2024-03-22T12:49:51.600000",
          "2024-03-22T12:49:51.700000",
          "2024-03-22T12:49:51.800000",
          "2024-03-22T12:49:51.900000",
          "2024-03-22T12:49:52",
          "2024-03-22T12:49:52.100000",
          "2024-03-22T12:49:52.200000",
          "2024-03-22T12:49:52.300000",
          "2024-03-22T12:49:52.400000",
          "2024-03-22T12:49:52.500000",
          "2024-03-22T12:49:52.600000",
          "2024-03-22T12:49:52.700000",
          "2024-03-22T12:49:52.800000",
          "2024-03-22T12:49:52.900000",
          "2024-03-22T12:49:53",
          "2024-03-22T12:49:53.100000",
          "2024-03-22T12:49:53.200000",
          "2024-03-22T12:49:53.300000",
          "2024-03-22T12:49:53.400000",
          "2024-03-22T12:49:53.500000",
          "2024-03-22T12:49:53.600000",
          "2024-03-22T12:49:53.700000",
          "2024-03-22T12:49:53.800000",
          "2024-03-22T12:49:53.900000",
          "2024-03-22T12:49:54",
          "2024-03-22T12:49:54.100000",
          "2024-03-22T12:49:54.200000",
          "2024-03-22T12:49:54.300000",
          "2024-03-22T12:49:54.400000",
          "2024-03-22T12:49:54.500000",
          "2024-03-22T12:49:54.600000",
          "2024-03-22T12:49:54.700000",
          "2024-03-22T12:49:54.800000"
         ],
         "y": [
          1.5923818413449384,
          1.5741135983544245,
          1.5689803001759162,
          1.5475637145195094,
          1.5585318448187346,
          1.5270508342935254,
          1.5096654697112677,
          1.490105784524737,
          1.4725257580716402,
          1.4549100759890048,
          1.4333033380110525,
          1.4177675390068099,
          1.4113211147034372,
          1.4175402865092819,
          1.4355875324970206,
          1.4570342295315164,
          1.4840827052924532,
          1.5168690809259406,
          1.5469967744424673,
          1.5730451651800486,
          1.5994227264045313,
          1.6224135551153203,
          1.6371531777887494,
          1.6377599688177782,
          1.6286478773760902,
          1.620153031371398,
          1.6056019441520974,
          1.587044105727648,
          1.5652761373584698,
          1.5428602465614032,
          1.5190495675574198,
          1.4938678173809192,
          1.4761292626014744,
          1.4740954320511377,
          1.4850460297264194,
          1.498692023426805,
          1.516150461257817,
          1.5346267198835721,
          1.5518243185769127,
          1.574049411951902,
          1.593895746309422,
          1.6069869614181496,
          1.6113845507238982,
          1.6067712210718539,
          1.5896461886106272,
          1.560540885578431,
          1.540135634592418,
          1.49845032304512,
          1.4706586645578623,
          1.4294905139083007,
          1.4023924739473048,
          1.383846071159963,
          1.3770330671530773,
          1.3793614035644644,
          1.3895667445946494,
          1.4097996254802536,
          1.4225039629693201,
          1.4599185598487419,
          1.4957735362942848,
          1.5428567190509703,
          1.5782194043133966,
          1.6157582724554007,
          1.6368443445437137,
          1.6401954454055947,
          1.6340678309175285,
          1.6192336817362722,
          1.6011084102729523,
          1.5775944503365693,
          1.5470884008252577,
          1.5214895666062473,
          1.4917853083968715,
          1.4577589685169887,
          1.4202769225534184,
          1.384309363349693,
          1.3563980439075984,
          1.3502593396009535,
          1.3460553948423664,
          1.3547956475485008,
          1.3705118883129852,
          1.3905850420701682,
          1.4208797485277993,
          1.4529223221819088,
          1.4878638811158864,
          1.5198450080176944,
          1.5439088009878215,
          1.553202743102626,
          1.5558342474953084,
          1.548386200850722,
          1.5281287315181091,
          1.496871763864124,
          1.4598762245666277,
          1.405663706291689,
          1.3527685364942117,
          1.305675108714185,
          1.268172881643383,
          1.2398377151744522,
          1.2274945101297852,
          1.2260634671803008,
          1.240377218412232,
          1.268951512803336,
          1.3037967293273407,
          1.3517455955804072,
          1.4054666800433437,
          1.4591543346768128,
          1.5051646976859945,
          1.5380341550320833,
          1.5527838838458714,
          1.5498915987150963,
          1.532349958214103,
          1.5044089846006126,
          1.4680225360798744,
          1.4231144178664656,
          1.3715302897044954,
          1.3198319497375828,
          1.272854665893067,
          1.229232348136695,
          1.190228207489382,
          1.1568570330250272,
          1.126304022565078,
          1.1061074206637522,
          1.1046897739736397,
          1.1164766322893978,
          1.1384553359024003,
          1.1645515741016705,
          1.189128331563992,
          1.2120711656876024,
          1.2311486184781752,
          1.25107139894184,
          1.2757750147905687,
          1.298470864763951,
          1.3184037506015163,
          1.3453606061060537,
          1.3772311804878619,
          1.4093799181218867,
          1.4397494316765704,
          1.4683980006470847,
          1.4937080837092087,
          1.513020683079985,
          1.5301863564942952,
          1.5394565061616312,
          1.5392533421224128,
          1.5297516698864988,
          1.501672870372656,
          1.4608873074421207,
          1.414110506673724,
          1.3693191924115005,
          1.3343478442867043,
          1.295651070574491,
          1.2582277019811898,
          1.2294631819321438,
          1.2072753373183427,
          1.2072351785193867,
          1.2336891532427023,
          1.273483855951707,
          1.32442803192266,
          1.379771467546783,
          1.432818121031662,
          1.492946752447445,
          1.5519237028353086,
          1.6016388413323042,
          1.6445814860874886,
          1.6629690311110987,
          1.6609502017206368,
          1.64842713801199,
          1.6247591928786391,
          1.5931493683213547,
          1.5579181513834817,
          1.5301055777482726,
          1.5062792472941617,
          1.4816541639331149,
          1.446503002190684,
          1.4130139002353295,
          1.3732061049907203,
          1.3326592228216172,
          1.304020474350787,
          1.275112203690062,
          1.2522578467617813,
          1.2280256068016322,
          1.2059899247755757,
          1.1917480695616511,
          1.1914290882531238,
          1.1941731167216956,
          1.2103182857837578,
          1.2353175478789964,
          1.2537455747490136,
          1.2765998441911122,
          1.293942206798262,
          1.3104950348698652,
          1.3310569626144528,
          1.3621503246713218,
          1.404428475958921,
          1.4502384889512843,
          1.4907142686387684,
          1.5397793572873013,
          1.5861964873382681,
          1.6346296219506384,
          1.687790300838408,
          1.7338018935784483,
          1.7644765872461057,
          1.773759484804716,
          1.763479241868696,
          1.7441385895320483,
          1.7226130788523963,
          1.6896486799187307,
          1.6628067187395963,
          1.6351283248917454,
          1.6066012150232727,
          1.581443848069056,
          1.548095151493968,
          1.5079630116212022,
          1.4741622013549043,
          1.4416653219230777,
          1.4065400495398532,
          1.3762870994857426,
          1.339684755076258,
          1.3025970672703537,
          1.2664425427963761,
          1.2293158386035492,
          1.2027181368875177,
          1.1867073851873373,
          1.170669826224794,
          1.1650992829990579,
          1.1864869984117568,
          1.225148657268193,
          1.2791272080842981,
          1.3465298441871045,
          1.4093521822648625,
          1.4767256218452904,
          1.546052632715591,
          1.6134523572155164,
          1.6753718060029823,
          1.719897046469216,
          1.7409725627169628,
          1.7386507014531243,
          1.7241818685109354,
          1.6932488050323016,
          1.6569344651794922,
          1.6135740939620802,
          1.5598183230864622,
          1.498410922048077,
          1.4294281338550447,
          1.3625093583147312,
          1.3009035565352551,
          1.2462663600924306,
          1.1897990110171333,
          1.1290628467159265,
          1.0025241097768574,
          1.0323705063429807,
          0.9961583274023401,
          0.9217775311875848
         ]
        },
        {
         "marker": {
          "color": "red",
          "size": 6
         },
         "mode": "markers",
         "name": "roll Left turn beginning",
         "showlegend": false,
         "type": "scatter",
         "x": [
          "2024-03-22T12:49:31.300000",
          "2024-03-22T12:49:33.300000",
          "2024-03-22T12:49:35.300000",
          "2024-03-22T12:49:37.600000",
          "2024-03-22T12:49:39.700000",
          "2024-03-22T12:49:42.800000",
          "2024-03-22T12:49:45.100000",
          "2024-03-22T12:49:48.700000",
          "2024-03-22T12:49:52"
         ],
         "y": [
          1.4355875324970206,
          1.4850460297264194,
          1.3895667445946494,
          1.3547956475485008,
          1.240377218412232,
          1.298470864763951,
          1.2336891532427023,
          1.3310569626144528,
          1.1650992829990579
         ]
        },
        {
         "marker": {
          "color": "orange",
          "size": 6
         },
         "mode": "markers",
         "name": "roll Left turn ending",
         "showlegend": false,
         "type": "scatter",
         "x": [
          "2024-03-22T12:49:32.400000",
          "2024-03-22T12:49:34.100000",
          "2024-03-22T12:49:36.300000",
          "2024-03-22T12:49:38.400000",
          "2024-03-22T12:49:40.700000",
          "2024-03-22T12:49:43.900000",
          "2024-03-22T12:49:46.500000",
          "2024-03-22T12:49:50.300000",
          "2024-03-22T12:49:53.500000"
         ],
         "y": [
          1.620153031371398,
          1.6113845507238982,
          1.6340678309175285,
          1.553202743102626,
          1.532349958214103,
          1.5392533421224128,
          1.5579181513834817,
          1.6628067187395963,
          1.6569344651794922
         ]
        },
        {
         "marker": {
          "color": "blue",
          "size": 6
         },
         "mode": "markers",
         "name": "roll Right turn beginning",
         "showlegend": false,
         "type": "scatter",
         "x": [
          "2024-03-22T12:49:29.900000",
          "2024-03-22T12:49:32.500000",
          "2024-03-22T12:49:34.200000",
          "2024-03-22T12:49:36.400000",
          "2024-03-22T12:49:38.500000",
          "2024-03-22T12:49:40.800000",
          "2024-03-22T12:49:44",
          "2024-03-22T12:49:46.600000",
          "2024-03-22T12:49:50.400000",
          "2024-03-22T12:49:53.600000"
         ],
         "y": [
          1.5923818413449384,
          1.6056019441520974,
          1.6067712210718539,
          1.6192336817362722,
          1.5558342474953084,
          1.5044089846006126,
          1.5297516698864988,
          1.5301055777482726,
          1.6351283248917454,
          1.6135740939620802
         ]
        },
        {
         "marker": {
          "color": "purple",
          "size": 6
         },
         "mode": "markers",
         "name": "roll Right turn ending",
         "showlegend": false,
         "type": "scatter",
         "x": [
          "2024-03-22T12:49:31.200000",
          "2024-03-22T12:49:33.200000",
          "2024-03-22T12:49:35.200000",
          "2024-03-22T12:49:37.500000",
          "2024-03-22T12:49:39.600000",
          "2024-03-22T12:49:42.700000",
          "2024-03-22T12:49:45",
          "2024-03-22T12:49:48.600000",
          "2024-03-22T12:49:51.900000",
          "2024-03-22T12:49:54.800000"
         ],
         "y": [
          1.4175402865092819,
          1.4740954320511377,
          1.3793614035644644,
          1.3460553948423664,
          1.2260634671803008,
          1.2757750147905687,
          1.2072351785193867,
          1.3104950348698652,
          1.170669826224794,
          0.9217775311875848
         ]
        },
        {
         "line": {
          "color": "orange"
         },
         "mode": "lines",
         "name": "pitch",
         "type": "scatter",
         "x": [
          "2024-03-22T12:49:29.900000",
          "2024-03-22T12:49:30",
          "2024-03-22T12:49:30.100000",
          "2024-03-22T12:49:30.200000",
          "2024-03-22T12:49:30.300000",
          "2024-03-22T12:49:30.400000",
          "2024-03-22T12:49:30.500000",
          "2024-03-22T12:49:30.600000",
          "2024-03-22T12:49:30.700000",
          "2024-03-22T12:49:30.800000",
          "2024-03-22T12:49:30.900000",
          "2024-03-22T12:49:31",
          "2024-03-22T12:49:31.100000",
          "2024-03-22T12:49:31.200000",
          "2024-03-22T12:49:31.300000",
          "2024-03-22T12:49:31.400000",
          "2024-03-22T12:49:31.500000",
          "2024-03-22T12:49:31.600000",
          "2024-03-22T12:49:31.700000",
          "2024-03-22T12:49:31.800000",
          "2024-03-22T12:49:31.900000",
          "2024-03-22T12:49:32",
          "2024-03-22T12:49:32.100000",
          "2024-03-22T12:49:32.200000",
          "2024-03-22T12:49:32.300000",
          "2024-03-22T12:49:32.400000",
          "2024-03-22T12:49:32.500000",
          "2024-03-22T12:49:32.600000",
          "2024-03-22T12:49:32.700000",
          "2024-03-22T12:49:32.800000",
          "2024-03-22T12:49:32.900000",
          "2024-03-22T12:49:33",
          "2024-03-22T12:49:33.100000",
          "2024-03-22T12:49:33.200000",
          "2024-03-22T12:49:33.300000",
          "2024-03-22T12:49:33.400000",
          "2024-03-22T12:49:33.500000",
          "2024-03-22T12:49:33.600000",
          "2024-03-22T12:49:33.700000",
          "2024-03-22T12:49:33.800000",
          "2024-03-22T12:49:33.900000",
          "2024-03-22T12:49:34",
          "2024-03-22T12:49:34.100000",
          "2024-03-22T12:49:34.200000",
          "2024-03-22T12:49:34.300000",
          "2024-03-22T12:49:34.400000",
          "2024-03-22T12:49:34.500000",
          "2024-03-22T12:49:34.600000",
          "2024-03-22T12:49:34.700000",
          "2024-03-22T12:49:34.800000",
          "2024-03-22T12:49:34.900000",
          "2024-03-22T12:49:35",
          "2024-03-22T12:49:35.100000",
          "2024-03-22T12:49:35.200000",
          "2024-03-22T12:49:35.300000",
          "2024-03-22T12:49:35.400000",
          "2024-03-22T12:49:35.500000",
          "2024-03-22T12:49:35.600000",
          "2024-03-22T12:49:35.700000",
          "2024-03-22T12:49:35.800000",
          "2024-03-22T12:49:35.900000",
          "2024-03-22T12:49:36",
          "2024-03-22T12:49:36.100000",
          "2024-03-22T12:49:36.200000",
          "2024-03-22T12:49:36.300000",
          "2024-03-22T12:49:36.400000",
          "2024-03-22T12:49:36.500000",
          "2024-03-22T12:49:36.600000",
          "2024-03-22T12:49:36.700000",
          "2024-03-22T12:49:36.800000",
          "2024-03-22T12:49:36.900000",
          "2024-03-22T12:49:37",
          "2024-03-22T12:49:37.100000",
          "2024-03-22T12:49:37.200000",
          "2024-03-22T12:49:37.300000",
          "2024-03-22T12:49:37.400000",
          "2024-03-22T12:49:37.500000",
          "2024-03-22T12:49:37.600000",
          "2024-03-22T12:49:37.700000",
          "2024-03-22T12:49:37.800000",
          "2024-03-22T12:49:37.900000",
          "2024-03-22T12:49:38",
          "2024-03-22T12:49:38.100000",
          "2024-03-22T12:49:38.200000",
          "2024-03-22T12:49:38.300000",
          "2024-03-22T12:49:38.400000",
          "2024-03-22T12:49:38.500000",
          "2024-03-22T12:49:38.600000",
          "2024-03-22T12:49:38.700000",
          "2024-03-22T12:49:38.800000",
          "2024-03-22T12:49:38.900000",
          "2024-03-22T12:49:39",
          "2024-03-22T12:49:39.100000",
          "2024-03-22T12:49:39.200000",
          "2024-03-22T12:49:39.300000",
          "2024-03-22T12:49:39.400000",
          "2024-03-22T12:49:39.500000",
          "2024-03-22T12:49:39.600000",
          "2024-03-22T12:49:39.700000",
          "2024-03-22T12:49:39.800000",
          "2024-03-22T12:49:39.900000",
          "2024-03-22T12:49:40",
          "2024-03-22T12:49:40.100000",
          "2024-03-22T12:49:40.200000",
          "2024-03-22T12:49:40.300000",
          "2024-03-22T12:49:40.400000",
          "2024-03-22T12:49:40.500000",
          "2024-03-22T12:49:40.600000",
          "2024-03-22T12:49:40.700000",
          "2024-03-22T12:49:40.800000",
          "2024-03-22T12:49:40.900000",
          "2024-03-22T12:49:41",
          "2024-03-22T12:49:41.100000",
          "2024-03-22T12:49:41.200000",
          "2024-03-22T12:49:41.300000",
          "2024-03-22T12:49:41.400000",
          "2024-03-22T12:49:41.500000",
          "2024-03-22T12:49:41.600000",
          "2024-03-22T12:49:41.700000",
          "2024-03-22T12:49:41.800000",
          "2024-03-22T12:49:41.900000",
          "2024-03-22T12:49:42",
          "2024-03-22T12:49:42.100000",
          "2024-03-22T12:49:42.200000",
          "2024-03-22T12:49:42.300000",
          "2024-03-22T12:49:42.400000",
          "2024-03-22T12:49:42.500000",
          "2024-03-22T12:49:42.600000",
          "2024-03-22T12:49:42.700000",
          "2024-03-22T12:49:42.800000",
          "2024-03-22T12:49:42.900000",
          "2024-03-22T12:49:43",
          "2024-03-22T12:49:43.100000",
          "2024-03-22T12:49:43.200000",
          "2024-03-22T12:49:43.300000",
          "2024-03-22T12:49:43.400000",
          "2024-03-22T12:49:43.500000",
          "2024-03-22T12:49:43.600000",
          "2024-03-22T12:49:43.700000",
          "2024-03-22T12:49:43.800000",
          "2024-03-22T12:49:43.900000",
          "2024-03-22T12:49:44",
          "2024-03-22T12:49:44.100000",
          "2024-03-22T12:49:44.200000",
          "2024-03-22T12:49:44.300000",
          "2024-03-22T12:49:44.400000",
          "2024-03-22T12:49:44.500000",
          "2024-03-22T12:49:44.600000",
          "2024-03-22T12:49:44.700000",
          "2024-03-22T12:49:44.800000",
          "2024-03-22T12:49:44.900000",
          "2024-03-22T12:49:45",
          "2024-03-22T12:49:45.100000",
          "2024-03-22T12:49:45.200000",
          "2024-03-22T12:49:45.300000",
          "2024-03-22T12:49:45.400000",
          "2024-03-22T12:49:45.500000",
          "2024-03-22T12:49:45.600000",
          "2024-03-22T12:49:45.700000",
          "2024-03-22T12:49:45.800000",
          "2024-03-22T12:49:45.900000",
          "2024-03-22T12:49:46",
          "2024-03-22T12:49:46.100000",
          "2024-03-22T12:49:46.200000",
          "2024-03-22T12:49:46.300000",
          "2024-03-22T12:49:46.400000",
          "2024-03-22T12:49:46.500000",
          "2024-03-22T12:49:46.600000",
          "2024-03-22T12:49:46.700000",
          "2024-03-22T12:49:46.800000",
          "2024-03-22T12:49:46.900000",
          "2024-03-22T12:49:47",
          "2024-03-22T12:49:47.100000",
          "2024-03-22T12:49:47.200000",
          "2024-03-22T12:49:47.300000",
          "2024-03-22T12:49:47.400000",
          "2024-03-22T12:49:47.500000",
          "2024-03-22T12:49:47.600000",
          "2024-03-22T12:49:47.700000",
          "2024-03-22T12:49:47.800000",
          "2024-03-22T12:49:47.900000",
          "2024-03-22T12:49:48",
          "2024-03-22T12:49:48.100000",
          "2024-03-22T12:49:48.200000",
          "2024-03-22T12:49:48.300000",
          "2024-03-22T12:49:48.400000",
          "2024-03-22T12:49:48.500000",
          "2024-03-22T12:49:48.600000",
          "2024-03-22T12:49:48.700000",
          "2024-03-22T12:49:48.800000",
          "2024-03-22T12:49:48.900000",
          "2024-03-22T12:49:49",
          "2024-03-22T12:49:49.100000",
          "2024-03-22T12:49:49.200000",
          "2024-03-22T12:49:49.300000",
          "2024-03-22T12:49:49.400000",
          "2024-03-22T12:49:49.500000",
          "2024-03-22T12:49:49.600000",
          "2024-03-22T12:49:49.700000",
          "2024-03-22T12:49:49.800000",
          "2024-03-22T12:49:49.900000",
          "2024-03-22T12:49:50",
          "2024-03-22T12:49:50.100000",
          "2024-03-22T12:49:50.200000",
          "2024-03-22T12:49:50.300000",
          "2024-03-22T12:49:50.400000",
          "2024-03-22T12:49:50.500000",
          "2024-03-22T12:49:50.600000",
          "2024-03-22T12:49:50.700000",
          "2024-03-22T12:49:50.800000",
          "2024-03-22T12:49:50.900000",
          "2024-03-22T12:49:51",
          "2024-03-22T12:49:51.100000",
          "2024-03-22T12:49:51.200000",
          "2024-03-22T12:49:51.300000",
          "2024-03-22T12:49:51.400000",
          "2024-03-22T12:49:51.500000",
          "2024-03-22T12:49:51.600000",
          "2024-03-22T12:49:51.700000",
          "2024-03-22T12:49:51.800000",
          "2024-03-22T12:49:51.900000",
          "2024-03-22T12:49:52",
          "2024-03-22T12:49:52.100000",
          "2024-03-22T12:49:52.200000",
          "2024-03-22T12:49:52.300000",
          "2024-03-22T12:49:52.400000",
          "2024-03-22T12:49:52.500000",
          "2024-03-22T12:49:52.600000",
          "2024-03-22T12:49:52.700000",
          "2024-03-22T12:49:52.800000",
          "2024-03-22T12:49:52.900000",
          "2024-03-22T12:49:53",
          "2024-03-22T12:49:53.100000",
          "2024-03-22T12:49:53.200000",
          "2024-03-22T12:49:53.300000",
          "2024-03-22T12:49:53.400000",
          "2024-03-22T12:49:53.500000",
          "2024-03-22T12:49:53.600000",
          "2024-03-22T12:49:53.700000",
          "2024-03-22T12:49:53.800000",
          "2024-03-22T12:49:53.900000",
          "2024-03-22T12:49:54",
          "2024-03-22T12:49:54.100000",
          "2024-03-22T12:49:54.200000",
          "2024-03-22T12:49:54.300000",
          "2024-03-22T12:49:54.400000",
          "2024-03-22T12:49:54.500000",
          "2024-03-22T12:49:54.600000",
          "2024-03-22T12:49:54.700000",
          "2024-03-22T12:49:54.800000"
         ],
         "y": [
          -0.2592116058494199,
          -0.33605774931329996,
          -0.4702954866268963,
          -0.5439358790515089,
          -0.6597429580905547,
          -0.6336429036974807,
          -0.6967702719685498,
          -0.7520935025613175,
          -0.7939922469870281,
          -0.8263272624591751,
          -0.8426356658982416,
          -0.8473575519299968,
          -0.8411419437415605,
          -0.8207661446826707,
          -0.780229097691271,
          -0.7264421265919732,
          -0.6620154098251174,
          -0.592803473017679,
          -0.5223533492156263,
          -0.4540461973017301,
          -0.39517462462626185,
          -0.350546575623558,
          -0.32003509030032484,
          -0.3078513589772434,
          -0.31873226283738176,
          -0.3520963929319127,
          -0.40234437060457673,
          -0.4645831977782732,
          -0.5375481355463383,
          -0.6156543042847934,
          -0.6875978598625117,
          -0.7455883658825763,
          -0.7816428293372437,
          -0.7917453015238749,
          -0.7733479296824493,
          -0.7299304196938423,
          -0.666823594484741,
          -0.5976639477208952,
          -0.5173665327166301,
          -0.43070369697171873,
          -0.3578135537747478,
          -0.30532568038793745,
          -0.28066537979636175,
          -0.2879803840255891,
          -0.3278683638623402,
          -0.39524889358002235,
          -0.48535850897307514,
          -0.5806840183838717,
          -0.6832226242445276,
          -0.7826245360945681,
          -0.8611935329035505,
          -0.9085938753315379,
          -0.9290294907444082,
          -0.9229442734221294,
          -0.8893754841940151,
          -0.8293853474276306,
          -0.7499166375392449,
          -0.6544493933479846,
          -0.5437045743783243,
          -0.43696553454324694,
          -0.3249068127447163,
          -0.23100561571811432,
          -0.15257674928895612,
          -0.09519262552390703,
          -0.06583276646120235,
          -0.05921172232330585,
          -0.07773286807176696,
          -0.1232696676594757,
          -0.1946856786138104,
          -0.2809709092759823,
          -0.39158054057159075,
          -0.5055410741668981,
          -0.6152968050834903,
          -0.7194690116304835,
          -0.805101259111199,
          -0.8706805044540082,
          -0.905942226904996,
          -0.9086939296534082,
          -0.8718488692261884,
          -0.8087520064040934,
          -0.7168755895493384,
          -0.6062415776523292,
          -0.49231599308963353,
          -0.37848817836771875,
          -0.2794256340186719,
          -0.20102396145979312,
          -0.15164850819388193,
          -0.13609474460538426,
          -0.16145403855332144,
          -0.2137911213708564,
          -0.2962412737194297,
          -0.40142323630307086,
          -0.5170982603449804,
          -0.626643572397852,
          -0.7189053465727028,
          -0.7883448141633957,
          -0.8299133116151685,
          -0.8336374411710791,
          -0.7977858494160189,
          -0.7347116373538857,
          -0.6496844682358051,
          -0.5454206930001517,
          -0.4259556113346668,
          -0.31605860490092275,
          -0.22185114202330708,
          -0.15776026361841414,
          -0.12433710868485601,
          -0.12757729437183998,
          -0.16802384091243414,
          -0.2290967974709976,
          -0.3057786313992682,
          -0.3982405128839824,
          -0.5044232953357202,
          -0.6059630449990412,
          -0.6976715242556888,
          -0.7689936005164771,
          -0.8214179162453004,
          -0.8474285125118085,
          -0.851576011363243,
          -0.8437573660611012,
          -0.8273478214181992,
          -0.7997217335798095,
          -0.7658438300335527,
          -0.729283048069711,
          -0.6943645500738082,
          -0.6611543211001084,
          -0.6289555924043203,
          -0.6014033701459608,
          -0.574192574948301,
          -0.544396421274632,
          -0.5042587435481454,
          -0.4517131419678374,
          -0.38959600529655714,
          -0.3243435900460124,
          -0.25570724653786775,
          -0.1824852561720507,
          -0.11905935421432645,
          -0.07099603033917093,
          -0.04219741745016561,
          -0.034031229862156,
          -0.06492465210359664,
          -0.12722418634920482,
          -0.19641517342983705,
          -0.2647973508326939,
          -0.3351817664930107,
          -0.42612064465733257,
          -0.5118263110143768,
          -0.5818493564017706,
          -0.632679506332015,
          -0.6542523192749281,
          -0.631700022722801,
          -0.5648022699189384,
          -0.48648346350462734,
          -0.41654084295496385,
          -0.33257691669150274,
          -0.23386249114810878,
          -0.1295741625718063,
          -0.028347136193392762,
          0.06428975124721462,
          0.14028463332053256,
          0.19399113353191827,
          0.20995253233673966,
          0.1982699792977498,
          0.18601464853797783,
          0.15321994644782283,
          0.11647766806873364,
          0.0717990271327796,
          0.012827954309410644,
          -0.06040160574555843,
          -0.14665662740797358,
          -0.24344679723174184,
          -0.3517938638127435,
          -0.453366914577148,
          -0.5543717483668708,
          -0.6535666962039208,
          -0.7472679994988253,
          -0.8313514544188942,
          -0.8997158722239519,
          -0.9428415885303204,
          -0.9632294532689072,
          -0.9639432738176549,
          -0.941440640510953,
          -0.9126220928255695,
          -0.8785863249878245,
          -0.8376323007934117,
          -0.7953658888643109,
          -0.7498941676995144,
          -0.6962996662253138,
          -0.6331157865078163,
          -0.5539116935437461,
          -0.4683340705338591,
          -0.380506132999785,
          -0.29449777426511525,
          -0.18886192433194965,
          -0.09865914420704294,
          -0.004917988805205914,
          0.08183403849792614,
          0.1563732780571766,
          0.21022264538074048,
          0.2314406150323373,
          0.22905498534397598,
          0.20828797542200256,
          0.17584338453754395,
          0.11073714695576678,
          0.04518915806994951,
          -0.04097354011554839,
          -0.1377172364332706,
          -0.24207953036060564,
          -0.3557597629274599,
          -0.4663723387741495,
          -0.5632055771255258,
          -0.6488411579081582,
          -0.7241309383800145,
          -0.788595479959865,
          -0.8349600881208419,
          -0.857333170251587,
          -0.868233710507298,
          -0.871747780608418,
          -0.8620247901681728,
          -0.8377645494308423,
          -0.8031430653796987,
          -0.7510960204827706,
          -0.6791049022557714,
          -0.5832632919904491,
          -0.4791117674647071,
          -0.3771995698001321,
          -0.27724222920433206,
          -0.16497707866232095,
          -0.055317617008790065,
          0.042255724815178405,
          0.12300176688716805,
          0.17327754126757838,
          0.19544386239223535,
          0.18222844633440033,
          0.14063572454413825,
          0.07288079070849632,
          -0.0128768213393182,
          -0.12258498705189513,
          -0.23865850650330594,
          -0.35025747294630827,
          -0.45623825881510277,
          -0.5474134591500113,
          -0.6311778372079414,
          -0.7029948713233769,
          -0.7660212600007331,
          -0.8158645923943851,
          -0.8284517412527037,
          -0.8301624926705843,
          -0.8812741695944821,
          -0.9379885951670462
         ]
        },
        {
         "marker": {
          "color": "red",
          "size": 6
         },
         "mode": "markers",
         "name": "pitch Left turn beginning",
         "showlegend": false,
         "type": "scatter",
         "x": [
          "2024-03-22T12:49:31.300000",
          "2024-03-22T12:49:33.300000",
          "2024-03-22T12:49:35.300000",
          "2024-03-22T12:49:37.600000",
          "2024-03-22T12:49:39.700000",
          "2024-03-22T12:49:42.800000",
          "2024-03-22T12:49:45.100000",
          "2024-03-22T12:49:48.700000",
          "2024-03-22T12:49:52"
         ],
         "y": [
          -0.780229097691271,
          -0.7733479296824493,
          -0.8893754841940151,
          -0.9086939296534082,
          -0.7977858494160189,
          -0.544396421274632,
          -0.48648346350462734,
          -0.6331157865078163,
          -0.7510960204827706
         ]
        },
        {
         "marker": {
          "color": "orange",
          "size": 6
         },
         "mode": "markers",
         "name": "pitch Left turn ending",
         "showlegend": false,
         "type": "scatter",
         "x": [
          "2024-03-22T12:49:32.400000",
          "2024-03-22T12:49:34.100000",
          "2024-03-22T12:49:36.300000",
          "2024-03-22T12:49:38.400000",
          "2024-03-22T12:49:40.700000",
          "2024-03-22T12:49:43.900000",
          "2024-03-22T12:49:46.500000",
          "2024-03-22T12:49:50.300000",
          "2024-03-22T12:49:53.500000"
         ],
         "y": [
          -0.3520963929319127,
          -0.28066537979636175,
          -0.06583276646120235,
          -0.20102396145979312,
          -0.16802384091243414,
          -0.06492465210359664,
          0.0717990271327796,
          0.04518915806994951,
          -0.0128768213393182
         ]
        },
        {
         "marker": {
          "color": "blue",
          "size": 6
         },
         "mode": "markers",
         "name": "pitch Right turn beginning",
         "showlegend": false,
         "type": "scatter",
         "x": [
          "2024-03-22T12:49:29.900000",
          "2024-03-22T12:49:32.500000",
          "2024-03-22T12:49:34.200000",
          "2024-03-22T12:49:36.400000",
          "2024-03-22T12:49:38.500000",
          "2024-03-22T12:49:40.800000",
          "2024-03-22T12:49:44",
          "2024-03-22T12:49:46.600000",
          "2024-03-22T12:49:50.400000",
          "2024-03-22T12:49:53.600000"
         ],
         "y": [
          -0.2592116058494199,
          -0.40234437060457673,
          -0.2879803840255891,
          -0.05921172232330585,
          -0.15164850819388193,
          -0.2290967974709976,
          -0.12722418634920482,
          0.012827954309410644,
          -0.04097354011554839,
          -0.12258498705189513
         ]
        },
        {
         "marker": {
          "color": "purple",
          "size": 6
         },
         "mode": "markers",
         "name": "pitch Right turn ending",
         "showlegend": false,
         "type": "scatter",
         "x": [
          "2024-03-22T12:49:31.200000",
          "2024-03-22T12:49:33.200000",
          "2024-03-22T12:49:35.200000",
          "2024-03-22T12:49:37.500000",
          "2024-03-22T12:49:39.600000",
          "2024-03-22T12:49:42.700000",
          "2024-03-22T12:49:45",
          "2024-03-22T12:49:48.600000",
          "2024-03-22T12:49:51.900000",
          "2024-03-22T12:49:54.800000"
         ],
         "y": [
          -0.8207661446826707,
          -0.7917453015238749,
          -0.9229442734221294,
          -0.905942226904996,
          -0.8336374411710791,
          -0.574192574948301,
          -0.5648022699189384,
          -0.6962996662253138,
          -0.8031430653796987,
          -0.9379885951670462
         ]
        },
        {
         "line": {
          "color": "green"
         },
         "mode": "lines",
         "name": "yaw",
         "type": "scatter",
         "x": [
          "2024-03-22T12:49:29.900000",
          "2024-03-22T12:49:30",
          "2024-03-22T12:49:30.100000",
          "2024-03-22T12:49:30.200000",
          "2024-03-22T12:49:30.300000",
          "2024-03-22T12:49:30.400000",
          "2024-03-22T12:49:30.500000",
          "2024-03-22T12:49:30.600000",
          "2024-03-22T12:49:30.700000",
          "2024-03-22T12:49:30.800000",
          "2024-03-22T12:49:30.900000",
          "2024-03-22T12:49:31",
          "2024-03-22T12:49:31.100000",
          "2024-03-22T12:49:31.200000",
          "2024-03-22T12:49:31.300000",
          "2024-03-22T12:49:31.400000",
          "2024-03-22T12:49:31.500000",
          "2024-03-22T12:49:31.600000",
          "2024-03-22T12:49:31.700000",
          "2024-03-22T12:49:31.800000",
          "2024-03-22T12:49:31.900000",
          "2024-03-22T12:49:32",
          "2024-03-22T12:49:32.100000",
          "2024-03-22T12:49:32.200000",
          "2024-03-22T12:49:32.300000",
          "2024-03-22T12:49:32.400000",
          "2024-03-22T12:49:32.500000",
          "2024-03-22T12:49:32.600000",
          "2024-03-22T12:49:32.700000",
          "2024-03-22T12:49:32.800000",
          "2024-03-22T12:49:32.900000",
          "2024-03-22T12:49:33",
          "2024-03-22T12:49:33.100000",
          "2024-03-22T12:49:33.200000",
          "2024-03-22T12:49:33.300000",
          "2024-03-22T12:49:33.400000",
          "2024-03-22T12:49:33.500000",
          "2024-03-22T12:49:33.600000",
          "2024-03-22T12:49:33.700000",
          "2024-03-22T12:49:33.800000",
          "2024-03-22T12:49:33.900000",
          "2024-03-22T12:49:34",
          "2024-03-22T12:49:34.100000",
          "2024-03-22T12:49:34.200000",
          "2024-03-22T12:49:34.300000",
          "2024-03-22T12:49:34.400000",
          "2024-03-22T12:49:34.500000",
          "2024-03-22T12:49:34.600000",
          "2024-03-22T12:49:34.700000",
          "2024-03-22T12:49:34.800000",
          "2024-03-22T12:49:34.900000",
          "2024-03-22T12:49:35",
          "2024-03-22T12:49:35.100000",
          "2024-03-22T12:49:35.200000",
          "2024-03-22T12:49:35.300000",
          "2024-03-22T12:49:35.400000",
          "2024-03-22T12:49:35.500000",
          "2024-03-22T12:49:35.600000",
          "2024-03-22T12:49:35.700000",
          "2024-03-22T12:49:35.800000",
          "2024-03-22T12:49:35.900000",
          "2024-03-22T12:49:36",
          "2024-03-22T12:49:36.100000",
          "2024-03-22T12:49:36.200000",
          "2024-03-22T12:49:36.300000",
          "2024-03-22T12:49:36.400000",
          "2024-03-22T12:49:36.500000",
          "2024-03-22T12:49:36.600000",
          "2024-03-22T12:49:36.700000",
          "2024-03-22T12:49:36.800000",
          "2024-03-22T12:49:36.900000",
          "2024-03-22T12:49:37",
          "2024-03-22T12:49:37.100000",
          "2024-03-22T12:49:37.200000",
          "2024-03-22T12:49:37.300000",
          "2024-03-22T12:49:37.400000",
          "2024-03-22T12:49:37.500000",
          "2024-03-22T12:49:37.600000",
          "2024-03-22T12:49:37.700000",
          "2024-03-22T12:49:37.800000",
          "2024-03-22T12:49:37.900000",
          "2024-03-22T12:49:38",
          "2024-03-22T12:49:38.100000",
          "2024-03-22T12:49:38.200000",
          "2024-03-22T12:49:38.300000",
          "2024-03-22T12:49:38.400000",
          "2024-03-22T12:49:38.500000",
          "2024-03-22T12:49:38.600000",
          "2024-03-22T12:49:38.700000",
          "2024-03-22T12:49:38.800000",
          "2024-03-22T12:49:38.900000",
          "2024-03-22T12:49:39",
          "2024-03-22T12:49:39.100000",
          "2024-03-22T12:49:39.200000",
          "2024-03-22T12:49:39.300000",
          "2024-03-22T12:49:39.400000",
          "2024-03-22T12:49:39.500000",
          "2024-03-22T12:49:39.600000",
          "2024-03-22T12:49:39.700000",
          "2024-03-22T12:49:39.800000",
          "2024-03-22T12:49:39.900000",
          "2024-03-22T12:49:40",
          "2024-03-22T12:49:40.100000",
          "2024-03-22T12:49:40.200000",
          "2024-03-22T12:49:40.300000",
          "2024-03-22T12:49:40.400000",
          "2024-03-22T12:49:40.500000",
          "2024-03-22T12:49:40.600000",
          "2024-03-22T12:49:40.700000",
          "2024-03-22T12:49:40.800000",
          "2024-03-22T12:49:40.900000",
          "2024-03-22T12:49:41",
          "2024-03-22T12:49:41.100000",
          "2024-03-22T12:49:41.200000",
          "2024-03-22T12:49:41.300000",
          "2024-03-22T12:49:41.400000",
          "2024-03-22T12:49:41.500000",
          "2024-03-22T12:49:41.600000",
          "2024-03-22T12:49:41.700000",
          "2024-03-22T12:49:41.800000",
          "2024-03-22T12:49:41.900000",
          "2024-03-22T12:49:42",
          "2024-03-22T12:49:42.100000",
          "2024-03-22T12:49:42.200000",
          "2024-03-22T12:49:42.300000",
          "2024-03-22T12:49:42.400000",
          "2024-03-22T12:49:42.500000",
          "2024-03-22T12:49:42.600000",
          "2024-03-22T12:49:42.700000",
          "2024-03-22T12:49:42.800000",
          "2024-03-22T12:49:42.900000",
          "2024-03-22T12:49:43",
          "2024-03-22T12:49:43.100000",
          "2024-03-22T12:49:43.200000",
          "2024-03-22T12:49:43.300000",
          "2024-03-22T12:49:43.400000",
          "2024-03-22T12:49:43.500000",
          "2024-03-22T12:49:43.600000",
          "2024-03-22T12:49:43.700000",
          "2024-03-22T12:49:43.800000",
          "2024-03-22T12:49:43.900000",
          "2024-03-22T12:49:44",
          "2024-03-22T12:49:44.100000",
          "2024-03-22T12:49:44.200000",
          "2024-03-22T12:49:44.300000",
          "2024-03-22T12:49:44.400000",
          "2024-03-22T12:49:44.500000",
          "2024-03-22T12:49:44.600000",
          "2024-03-22T12:49:44.700000",
          "2024-03-22T12:49:44.800000",
          "2024-03-22T12:49:44.900000",
          "2024-03-22T12:49:45",
          "2024-03-22T12:49:45.100000",
          "2024-03-22T12:49:45.200000",
          "2024-03-22T12:49:45.300000",
          "2024-03-22T12:49:45.400000",
          "2024-03-22T12:49:45.500000",
          "2024-03-22T12:49:45.600000",
          "2024-03-22T12:49:45.700000",
          "2024-03-22T12:49:45.800000",
          "2024-03-22T12:49:45.900000",
          "2024-03-22T12:49:46",
          "2024-03-22T12:49:46.100000",
          "2024-03-22T12:49:46.200000",
          "2024-03-22T12:49:46.300000",
          "2024-03-22T12:49:46.400000",
          "2024-03-22T12:49:46.500000",
          "2024-03-22T12:49:46.600000",
          "2024-03-22T12:49:46.700000",
          "2024-03-22T12:49:46.800000",
          "2024-03-22T12:49:46.900000",
          "2024-03-22T12:49:47",
          "2024-03-22T12:49:47.100000",
          "2024-03-22T12:49:47.200000",
          "2024-03-22T12:49:47.300000",
          "2024-03-22T12:49:47.400000",
          "2024-03-22T12:49:47.500000",
          "2024-03-22T12:49:47.600000",
          "2024-03-22T12:49:47.700000",
          "2024-03-22T12:49:47.800000",
          "2024-03-22T12:49:47.900000",
          "2024-03-22T12:49:48",
          "2024-03-22T12:49:48.100000",
          "2024-03-22T12:49:48.200000",
          "2024-03-22T12:49:48.300000",
          "2024-03-22T12:49:48.400000",
          "2024-03-22T12:49:48.500000",
          "2024-03-22T12:49:48.600000",
          "2024-03-22T12:49:48.700000",
          "2024-03-22T12:49:48.800000",
          "2024-03-22T12:49:48.900000",
          "2024-03-22T12:49:49",
          "2024-03-22T12:49:49.100000",
          "2024-03-22T12:49:49.200000",
          "2024-03-22T12:49:49.300000",
          "2024-03-22T12:49:49.400000",
          "2024-03-22T12:49:49.500000",
          "2024-03-22T12:49:49.600000",
          "2024-03-22T12:49:49.700000",
          "2024-03-22T12:49:49.800000",
          "2024-03-22T12:49:49.900000",
          "2024-03-22T12:49:50",
          "2024-03-22T12:49:50.100000",
          "2024-03-22T12:49:50.200000",
          "2024-03-22T12:49:50.300000",
          "2024-03-22T12:49:50.400000",
          "2024-03-22T12:49:50.500000",
          "2024-03-22T12:49:50.600000",
          "2024-03-22T12:49:50.700000",
          "2024-03-22T12:49:50.800000",
          "2024-03-22T12:49:50.900000",
          "2024-03-22T12:49:51",
          "2024-03-22T12:49:51.100000",
          "2024-03-22T12:49:51.200000",
          "2024-03-22T12:49:51.300000",
          "2024-03-22T12:49:51.400000",
          "2024-03-22T12:49:51.500000",
          "2024-03-22T12:49:51.600000",
          "2024-03-22T12:49:51.700000",
          "2024-03-22T12:49:51.800000",
          "2024-03-22T12:49:51.900000",
          "2024-03-22T12:49:52",
          "2024-03-22T12:49:52.100000",
          "2024-03-22T12:49:52.200000",
          "2024-03-22T12:49:52.300000",
          "2024-03-22T12:49:52.400000",
          "2024-03-22T12:49:52.500000",
          "2024-03-22T12:49:52.600000",
          "2024-03-22T12:49:52.700000",
          "2024-03-22T12:49:52.800000",
          "2024-03-22T12:49:52.900000",
          "2024-03-22T12:49:53",
          "2024-03-22T12:49:53.100000",
          "2024-03-22T12:49:53.200000",
          "2024-03-22T12:49:53.300000",
          "2024-03-22T12:49:53.400000",
          "2024-03-22T12:49:53.500000",
          "2024-03-22T12:49:53.600000",
          "2024-03-22T12:49:53.700000",
          "2024-03-22T12:49:53.800000",
          "2024-03-22T12:49:53.900000",
          "2024-03-22T12:49:54",
          "2024-03-22T12:49:54.100000",
          "2024-03-22T12:49:54.200000",
          "2024-03-22T12:49:54.300000",
          "2024-03-22T12:49:54.400000",
          "2024-03-22T12:49:54.500000",
          "2024-03-22T12:49:54.600000",
          "2024-03-22T12:49:54.700000",
          "2024-03-22T12:49:54.800000"
         ],
         "y": [
          2.9494172174330373,
          2.923579168733853,
          2.9286113966616356,
          2.8782920496185262,
          2.7390934115438523,
          2.6221525524842706,
          2.5297163627459156,
          2.437126592701323,
          2.3353458563326437,
          2.2392441924433393,
          2.1603551261993243,
          2.0932849527837885,
          2.0412288444785838,
          2.003436389751535,
          1.985346152748048,
          1.9981117969650009,
          2.0448961333902886,
          2.117810408107668,
          2.2144833841159675,
          2.3187692441367354,
          2.4120568669012834,
          2.4945823331242662,
          2.5724311572903065,
          2.6517277668616765,
          2.718108611574185,
          2.7538168824365723,
          2.747478354370935,
          2.699779328884984,
          2.61674089639465,
          2.5208013239762925,
          2.434728744333941,
          2.3521355481587696,
          2.2805449500924504,
          2.2111856459021135,
          2.1636687026521777,
          2.158355036992472,
          2.2056135753612685,
          2.2800509134168245,
          2.379609316997775,
          2.4777720118252753,
          2.567146241165192,
          2.663153766400802,
          2.7458909690497775,
          2.8132017786064685,
          2.846834161576258,
          2.8399227628340866,
          2.749878832306736,
          2.6637757058628457,
          2.547565916789291,
          2.4567110042098186,
          2.3615342668401285,
          2.2690073612123816,
          2.1742935404173456,
          2.093464047747268,
          2.043447179469493,
          2.013904898286204,
          2.0475145891541304,
          2.0954980461934367,
          2.187149954983929,
          2.2622614694175516,
          2.3555008368811277,
          2.4449143054740667,
          2.5490208952615996,
          2.649418025296648,
          2.7281866005321693,
          2.799367819192157,
          2.8527318223754756,
          2.868682256441251,
          2.841147856588693,
          2.774747149601965,
          2.695536870209806,
          2.6071653877518086,
          2.510733089237375,
          2.416880955462812,
          2.3248344450654796,
          2.2262460337920187,
          2.129455136148804,
          2.04209765975328,
          2.0026717561741445,
          2.0268485654764086,
          2.080274305524335,
          2.156362375896518,
          2.2359985510464098,
          2.3063108803814476,
          2.379117666995495,
          2.4595033987969073,
          2.5443032528907628,
          2.622112002853707,
          2.662400219873267,
          2.652039005540252,
          2.602145654857663,
          2.5221766045042164,
          2.4303769213981847,
          2.3466883970947032,
          2.266639709119871,
          2.182597068141596,
          2.086645813677748,
          2.003396008784712,
          1.956326427323194,
          1.9587140034587087,
          1.990437477602783,
          2.046071078195822,
          2.1183038178486084,
          2.198441826597044,
          2.27536396685094,
          2.35388453554702,
          2.440076005528904,
          2.507875011289692,
          2.535733536660345,
          2.5198739803491947,
          2.481427150412239,
          2.4323626202872615,
          2.3694273338698766,
          2.2972074502241906,
          2.2233590570067476,
          2.1465602070722003,
          2.0665084818154207,
          1.9994174721236504,
          1.9524927748135084,
          1.9169840421711448,
          1.8812787277877099,
          1.8507953134622088,
          1.8251828589485921,
          1.7983220188955058,
          1.7678948519023687,
          1.7363369899564358,
          1.7076867113821481,
          1.6815163611178836,
          1.6596587796020301,
          1.6465907916346985,
          1.6512869974329942,
          1.6767155826665614,
          1.7283640716526645,
          1.7991362573695764,
          1.8810725533359238,
          1.9658526910270453,
          2.0479574612781715,
          2.131244547665339,
          2.2105673385620004,
          2.2855926550310284,
          2.3289119845669544,
          2.3183852866343346,
          2.2817549307042064,
          2.2287909099956424,
          2.1740906096871155,
          2.1089594729719296,
          2.032297955199735,
          1.9508949240006046,
          1.8660950254636035,
          1.7862705943185113,
          1.7448329291654754,
          1.7554646344427556,
          1.7968666479072126,
          1.8477619760630097,
          1.9126976663477897,
          2.0005021613575393,
          2.1219558411616606,
          2.250477131159882,
          2.378953310504386,
          2.509267053036361,
          2.6250979113467157,
          2.7142090892020105,
          2.764962337397764,
          2.8070017121158504,
          2.8345898935324314,
          2.8558145986551398,
          2.8622862532965785,
          2.8608097156035326,
          2.8478901455983054,
          2.8091529632342986,
          2.745191451038501,
          2.6588160611810996,
          2.433621132545238,
          2.2106005622599554,
          1.9678937739253513,
          1.72389470402863,
          1.4778644295875423,
          1.2300188327495563,
          0.9894463818451127,
          0.7695688311460451,
          0.5712093494626387,
          0.3981284664931969,
          0.3650912300044921,
          0.32208146787622305,
          0.29239797706139786,
          0.2581972578138716,
          0.22419965078498807,
          0.19931832979462372,
          0.18441061076009807,
          0.19617766544690943,
          0.24135217825586391,
          0.3169750576072404,
          0.4144911266268271,
          0.5387336843080128,
          0.6735676409176171,
          0.8131306614406885,
          0.9609151403825852,
          1.1072568193987404,
          1.2482025578150588,
          1.3565946483828473,
          1.4349371469783914,
          1.4881532907119497,
          1.5290123982186732,
          1.5461746675614543,
          1.5494635257080742,
          1.5333353338968814,
          1.4772740927240002,
          1.3848189318879842,
          1.2752598746767618,
          1.1703766991143258,
          1.061407742850636,
          0.9546312585989863,
          0.8433181698511151,
          0.726557534319401,
          0.6136669084259048,
          0.5198861305674538,
          0.44546347850586965,
          0.3955505723271962,
          0.3580985722045357,
          0.32175895328436016,
          0.290366585697518,
          0.2560713411005228,
          0.22758024996444673,
          0.23347070942553194,
          0.28497542635454653,
          0.38149882216221326,
          0.4965997822760729,
          0.6165343940101289,
          0.7406682113324939,
          0.8731018071375765,
          1.002877617232938,
          1.1265965330667254,
          1.2453645297037037,
          1.3412184155595495,
          1.3881779241795975,
          1.36932443673634,
          1.3153525247461109,
          1.2361732910219938,
          1.1413343148538708,
          1.030173954895253,
          0.9233008122456446,
          0.817271756384492,
          0.7076331910905118,
          0.5970724700730438,
          0.48598378627448335,
          0.3893235204249772,
          0.2572030909402251,
          0.2696723779406348,
          0.22063576354806444,
          0.19107357201839284
         ]
        },
        {
         "marker": {
          "color": "red",
          "size": 6
         },
         "mode": "markers",
         "name": "yaw Left turn beginning",
         "showlegend": false,
         "type": "scatter",
         "x": [
          "2024-03-22T12:49:31.300000",
          "2024-03-22T12:49:33.300000",
          "2024-03-22T12:49:35.300000",
          "2024-03-22T12:49:37.600000",
          "2024-03-22T12:49:39.700000",
          "2024-03-22T12:49:42.800000",
          "2024-03-22T12:49:45.100000",
          "2024-03-22T12:49:48.700000",
          "2024-03-22T12:49:52"
         ],
         "y": [
          1.985346152748048,
          2.1636687026521777,
          2.043447179469493,
          2.04209765975328,
          1.956326427323194,
          1.6465907916346985,
          1.7968666479072126,
          0.18441061076009807,
          0.2560713411005228
         ]
        },
        {
         "marker": {
          "color": "orange",
          "size": 6
         },
         "mode": "markers",
         "name": "yaw Left turn ending",
         "showlegend": false,
         "type": "scatter",
         "x": [
          "2024-03-22T12:49:32.400000",
          "2024-03-22T12:49:34.100000",
          "2024-03-22T12:49:36.300000",
          "2024-03-22T12:49:38.400000",
          "2024-03-22T12:49:40.700000",
          "2024-03-22T12:49:43.900000",
          "2024-03-22T12:49:46.500000",
          "2024-03-22T12:49:50.300000",
          "2024-03-22T12:49:53.500000"
         ],
         "y": [
          2.7538168824365723,
          2.7458909690497775,
          2.7281866005321693,
          2.4595033987969073,
          2.535733536660345,
          2.3289119845669544,
          2.8622862532965785,
          1.5494635257080742,
          1.3153525247461109
         ]
        },
        {
         "marker": {
          "color": "blue",
          "size": 6
         },
         "mode": "markers",
         "name": "yaw Right turn beginning",
         "showlegend": false,
         "type": "scatter",
         "x": [
          "2024-03-22T12:49:29.900000",
          "2024-03-22T12:49:32.500000",
          "2024-03-22T12:49:34.200000",
          "2024-03-22T12:49:36.400000",
          "2024-03-22T12:49:38.500000",
          "2024-03-22T12:49:40.800000",
          "2024-03-22T12:49:44",
          "2024-03-22T12:49:46.600000",
          "2024-03-22T12:49:50.400000",
          "2024-03-22T12:49:53.600000"
         ],
         "y": [
          2.9494172174330373,
          2.747478354370935,
          2.8132017786064685,
          2.799367819192157,
          2.5443032528907628,
          2.5198739803491947,
          2.3183852866343346,
          2.8608097156035326,
          1.5333353338968814,
          1.2361732910219938
         ]
        },
        {
         "marker": {
          "color": "purple",
          "size": 6
         },
         "mode": "markers",
         "name": "yaw Right turn ending",
         "showlegend": false,
         "type": "scatter",
         "x": [
          "2024-03-22T12:49:31.200000",
          "2024-03-22T12:49:33.200000",
          "2024-03-22T12:49:35.200000",
          "2024-03-22T12:49:37.500000",
          "2024-03-22T12:49:39.600000",
          "2024-03-22T12:49:42.700000",
          "2024-03-22T12:49:45",
          "2024-03-22T12:49:48.600000",
          "2024-03-22T12:49:51.900000",
          "2024-03-22T12:49:54.800000"
         ],
         "y": [
          2.003436389751535,
          2.2111856459021135,
          2.093464047747268,
          2.129455136148804,
          2.003396008784712,
          1.6596587796020301,
          1.7554646344427556,
          0.19931832979462372,
          0.290366585697518,
          0.19107357201839284
         ]
        },
        {
         "legendgroup": "Left",
         "marker": {
          "color": "red",
          "size": 6
         },
         "mode": "markers",
         "name": "Left turn beginning",
         "showlegend": true,
         "type": "scatter",
         "x": [
          null
         ],
         "y": [
          null
         ]
        },
        {
         "legendgroup": "Left",
         "marker": {
          "color": "orange",
          "size": 6
         },
         "mode": "markers",
         "name": "Left turn ending",
         "showlegend": true,
         "type": "scatter",
         "x": [
          null
         ],
         "y": [
          null
         ]
        },
        {
         "legendgroup": "Right",
         "marker": {
          "color": "blue",
          "size": 6
         },
         "mode": "markers",
         "name": "Right turn beginning",
         "showlegend": true,
         "type": "scatter",
         "x": [
          null
         ],
         "y": [
          null
         ]
        },
        {
         "legendgroup": "Right",
         "marker": {
          "color": "purple",
          "size": 6
         },
         "mode": "markers",
         "name": "Right turn ending",
         "showlegend": true,
         "type": "scatter",
         "x": [
          null
         ],
         "y": [
          null
         ]
        }
       ],
       "layout": {
        "height": 600,
        "legend": {
         "bgcolor": "rgba(255, 255, 255, 0.8)",
         "bordercolor": "Black",
         "borderwidth": 2,
         "font": {
          "size": 30
         },
         "itemsizing": "constant",
         "itemwidth": 40,
         "traceorder": "normal",
         "x": 0.01,
         "y": 0.99
        },
        "template": {
         "data": {
          "bar": [
           {
            "error_x": {
             "color": "#2a3f5f"
            },
            "error_y": {
             "color": "#2a3f5f"
            },
            "marker": {
             "line": {
              "color": "#E5ECF6",
              "width": 0.5
             },
             "pattern": {
              "fillmode": "overlay",
              "size": 10,
              "solidity": 0.2
             }
            },
            "type": "bar"
           }
          ],
          "barpolar": [
           {
            "marker": {
             "line": {
              "color": "#E5ECF6",
              "width": 0.5
             },
             "pattern": {
              "fillmode": "overlay",
              "size": 10,
              "solidity": 0.2
             }
            },
            "type": "barpolar"
           }
          ],
          "carpet": [
           {
            "aaxis": {
             "endlinecolor": "#2a3f5f",
             "gridcolor": "white",
             "linecolor": "white",
             "minorgridcolor": "white",
             "startlinecolor": "#2a3f5f"
            },
            "baxis": {
             "endlinecolor": "#2a3f5f",
             "gridcolor": "white",
             "linecolor": "white",
             "minorgridcolor": "white",
             "startlinecolor": "#2a3f5f"
            },
            "type": "carpet"
           }
          ],
          "choropleth": [
           {
            "colorbar": {
             "outlinewidth": 0,
             "ticks": ""
            },
            "type": "choropleth"
           }
          ],
          "contour": [
           {
            "colorbar": {
             "outlinewidth": 0,
             "ticks": ""
            },
            "colorscale": [
             [
              0,
              "#0d0887"
             ],
             [
              0.1111111111111111,
              "#46039f"
             ],
             [
              0.2222222222222222,
              "#7201a8"
             ],
             [
              0.3333333333333333,
              "#9c179e"
             ],
             [
              0.4444444444444444,
              "#bd3786"
             ],
             [
              0.5555555555555556,
              "#d8576b"
             ],
             [
              0.6666666666666666,
              "#ed7953"
             ],
             [
              0.7777777777777778,
              "#fb9f3a"
             ],
             [
              0.8888888888888888,
              "#fdca26"
             ],
             [
              1,
              "#f0f921"
             ]
            ],
            "type": "contour"
           }
          ],
          "contourcarpet": [
           {
            "colorbar": {
             "outlinewidth": 0,
             "ticks": ""
            },
            "type": "contourcarpet"
           }
          ],
          "heatmap": [
           {
            "colorbar": {
             "outlinewidth": 0,
             "ticks": ""
            },
            "colorscale": [
             [
              0,
              "#0d0887"
             ],
             [
              0.1111111111111111,
              "#46039f"
             ],
             [
              0.2222222222222222,
              "#7201a8"
             ],
             [
              0.3333333333333333,
              "#9c179e"
             ],
             [
              0.4444444444444444,
              "#bd3786"
             ],
             [
              0.5555555555555556,
              "#d8576b"
             ],
             [
              0.6666666666666666,
              "#ed7953"
             ],
             [
              0.7777777777777778,
              "#fb9f3a"
             ],
             [
              0.8888888888888888,
              "#fdca26"
             ],
             [
              1,
              "#f0f921"
             ]
            ],
            "type": "heatmap"
           }
          ],
          "heatmapgl": [
           {
            "colorbar": {
             "outlinewidth": 0,
             "ticks": ""
            },
            "colorscale": [
             [
              0,
              "#0d0887"
             ],
             [
              0.1111111111111111,
              "#46039f"
             ],
             [
              0.2222222222222222,
              "#7201a8"
             ],
             [
              0.3333333333333333,
              "#9c179e"
             ],
             [
              0.4444444444444444,
              "#bd3786"
             ],
             [
              0.5555555555555556,
              "#d8576b"
             ],
             [
              0.6666666666666666,
              "#ed7953"
             ],
             [
              0.7777777777777778,
              "#fb9f3a"
             ],
             [
              0.8888888888888888,
              "#fdca26"
             ],
             [
              1,
              "#f0f921"
             ]
            ],
            "type": "heatmapgl"
           }
          ],
          "histogram": [
           {
            "marker": {
             "pattern": {
              "fillmode": "overlay",
              "size": 10,
              "solidity": 0.2
             }
            },
            "type": "histogram"
           }
          ],
          "histogram2d": [
           {
            "colorbar": {
             "outlinewidth": 0,
             "ticks": ""
            },
            "colorscale": [
             [
              0,
              "#0d0887"
             ],
             [
              0.1111111111111111,
              "#46039f"
             ],
             [
              0.2222222222222222,
              "#7201a8"
             ],
             [
              0.3333333333333333,
              "#9c179e"
             ],
             [
              0.4444444444444444,
              "#bd3786"
             ],
             [
              0.5555555555555556,
              "#d8576b"
             ],
             [
              0.6666666666666666,
              "#ed7953"
             ],
             [
              0.7777777777777778,
              "#fb9f3a"
             ],
             [
              0.8888888888888888,
              "#fdca26"
             ],
             [
              1,
              "#f0f921"
             ]
            ],
            "type": "histogram2d"
           }
          ],
          "histogram2dcontour": [
           {
            "colorbar": {
             "outlinewidth": 0,
             "ticks": ""
            },
            "colorscale": [
             [
              0,
              "#0d0887"
             ],
             [
              0.1111111111111111,
              "#46039f"
             ],
             [
              0.2222222222222222,
              "#7201a8"
             ],
             [
              0.3333333333333333,
              "#9c179e"
             ],
             [
              0.4444444444444444,
              "#bd3786"
             ],
             [
              0.5555555555555556,
              "#d8576b"
             ],
             [
              0.6666666666666666,
              "#ed7953"
             ],
             [
              0.7777777777777778,
              "#fb9f3a"
             ],
             [
              0.8888888888888888,
              "#fdca26"
             ],
             [
              1,
              "#f0f921"
             ]
            ],
            "type": "histogram2dcontour"
           }
          ],
          "mesh3d": [
           {
            "colorbar": {
             "outlinewidth": 0,
             "ticks": ""
            },
            "type": "mesh3d"
           }
          ],
          "parcoords": [
           {
            "line": {
             "colorbar": {
              "outlinewidth": 0,
              "ticks": ""
             }
            },
            "type": "parcoords"
           }
          ],
          "pie": [
           {
            "automargin": true,
            "type": "pie"
           }
          ],
          "scatter": [
           {
            "fillpattern": {
             "fillmode": "overlay",
             "size": 10,
             "solidity": 0.2
            },
            "type": "scatter"
           }
          ],
          "scatter3d": [
           {
            "line": {
             "colorbar": {
              "outlinewidth": 0,
              "ticks": ""
             }
            },
            "marker": {
             "colorbar": {
              "outlinewidth": 0,
              "ticks": ""
             }
            },
            "type": "scatter3d"
           }
          ],
          "scattercarpet": [
           {
            "marker": {
             "colorbar": {
              "outlinewidth": 0,
              "ticks": ""
             }
            },
            "type": "scattercarpet"
           }
          ],
          "scattergeo": [
           {
            "marker": {
             "colorbar": {
              "outlinewidth": 0,
              "ticks": ""
             }
            },
            "type": "scattergeo"
           }
          ],
          "scattergl": [
           {
            "marker": {
             "colorbar": {
              "outlinewidth": 0,
              "ticks": ""
             }
            },
            "type": "scattergl"
           }
          ],
          "scattermapbox": [
           {
            "marker": {
             "colorbar": {
              "outlinewidth": 0,
              "ticks": ""
             }
            },
            "type": "scattermapbox"
           }
          ],
          "scatterpolar": [
           {
            "marker": {
             "colorbar": {
              "outlinewidth": 0,
              "ticks": ""
             }
            },
            "type": "scatterpolar"
           }
          ],
          "scatterpolargl": [
           {
            "marker": {
             "colorbar": {
              "outlinewidth": 0,
              "ticks": ""
             }
            },
            "type": "scatterpolargl"
           }
          ],
          "scatterternary": [
           {
            "marker": {
             "colorbar": {
              "outlinewidth": 0,
              "ticks": ""
             }
            },
            "type": "scatterternary"
           }
          ],
          "surface": [
           {
            "colorbar": {
             "outlinewidth": 0,
             "ticks": ""
            },
            "colorscale": [
             [
              0,
              "#0d0887"
             ],
             [
              0.1111111111111111,
              "#46039f"
             ],
             [
              0.2222222222222222,
              "#7201a8"
             ],
             [
              0.3333333333333333,
              "#9c179e"
             ],
             [
              0.4444444444444444,
              "#bd3786"
             ],
             [
              0.5555555555555556,
              "#d8576b"
             ],
             [
              0.6666666666666666,
              "#ed7953"
             ],
             [
              0.7777777777777778,
              "#fb9f3a"
             ],
             [
              0.8888888888888888,
              "#fdca26"
             ],
             [
              1,
              "#f0f921"
             ]
            ],
            "type": "surface"
           }
          ],
          "table": [
           {
            "cells": {
             "fill": {
              "color": "#EBF0F8"
             },
             "line": {
              "color": "white"
             }
            },
            "header": {
             "fill": {
              "color": "#C8D4E3"
             },
             "line": {
              "color": "white"
             }
            },
            "type": "table"
           }
          ]
         },
         "layout": {
          "annotationdefaults": {
           "arrowcolor": "#2a3f5f",
           "arrowhead": 0,
           "arrowwidth": 1
          },
          "autotypenumbers": "strict",
          "coloraxis": {
           "colorbar": {
            "outlinewidth": 0,
            "ticks": ""
           }
          },
          "colorscale": {
           "diverging": [
            [
             0,
             "#8e0152"
            ],
            [
             0.1,
             "#c51b7d"
            ],
            [
             0.2,
             "#de77ae"
            ],
            [
             0.3,
             "#f1b6da"
            ],
            [
             0.4,
             "#fde0ef"
            ],
            [
             0.5,
             "#f7f7f7"
            ],
            [
             0.6,
             "#e6f5d0"
            ],
            [
             0.7,
             "#b8e186"
            ],
            [
             0.8,
             "#7fbc41"
            ],
            [
             0.9,
             "#4d9221"
            ],
            [
             1,
             "#276419"
            ]
           ],
           "sequential": [
            [
             0,
             "#0d0887"
            ],
            [
             0.1111111111111111,
             "#46039f"
            ],
            [
             0.2222222222222222,
             "#7201a8"
            ],
            [
             0.3333333333333333,
             "#9c179e"
            ],
            [
             0.4444444444444444,
             "#bd3786"
            ],
            [
             0.5555555555555556,
             "#d8576b"
            ],
            [
             0.6666666666666666,
             "#ed7953"
            ],
            [
             0.7777777777777778,
             "#fb9f3a"
            ],
            [
             0.8888888888888888,
             "#fdca26"
            ],
            [
             1,
             "#f0f921"
            ]
           ],
           "sequentialminus": [
            [
             0,
             "#0d0887"
            ],
            [
             0.1111111111111111,
             "#46039f"
            ],
            [
             0.2222222222222222,
             "#7201a8"
            ],
            [
             0.3333333333333333,
             "#9c179e"
            ],
            [
             0.4444444444444444,
             "#bd3786"
            ],
            [
             0.5555555555555556,
             "#d8576b"
            ],
            [
             0.6666666666666666,
             "#ed7953"
            ],
            [
             0.7777777777777778,
             "#fb9f3a"
            ],
            [
             0.8888888888888888,
             "#fdca26"
            ],
            [
             1,
             "#f0f921"
            ]
           ]
          },
          "colorway": [
           "#636efa",
           "#EF553B",
           "#00cc96",
           "#ab63fa",
           "#FFA15A",
           "#19d3f3",
           "#FF6692",
           "#B6E880",
           "#FF97FF",
           "#FECB52"
          ],
          "font": {
           "color": "#2a3f5f"
          },
          "geo": {
           "bgcolor": "white",
           "lakecolor": "white",
           "landcolor": "#E5ECF6",
           "showlakes": true,
           "showland": true,
           "subunitcolor": "white"
          },
          "hoverlabel": {
           "align": "left"
          },
          "hovermode": "closest",
          "mapbox": {
           "style": "light"
          },
          "paper_bgcolor": "white",
          "plot_bgcolor": "#E5ECF6",
          "polar": {
           "angularaxis": {
            "gridcolor": "white",
            "linecolor": "white",
            "ticks": ""
           },
           "bgcolor": "#E5ECF6",
           "radialaxis": {
            "gridcolor": "white",
            "linecolor": "white",
            "ticks": ""
           }
          },
          "scene": {
           "xaxis": {
            "backgroundcolor": "#E5ECF6",
            "gridcolor": "white",
            "gridwidth": 2,
            "linecolor": "white",
            "showbackground": true,
            "ticks": "",
            "zerolinecolor": "white"
           },
           "yaxis": {
            "backgroundcolor": "#E5ECF6",
            "gridcolor": "white",
            "gridwidth": 2,
            "linecolor": "white",
            "showbackground": true,
            "ticks": "",
            "zerolinecolor": "white"
           },
           "zaxis": {
            "backgroundcolor": "#E5ECF6",
            "gridcolor": "white",
            "gridwidth": 2,
            "linecolor": "white",
            "showbackground": true,
            "ticks": "",
            "zerolinecolor": "white"
           }
          },
          "shapedefaults": {
           "line": {
            "color": "#2a3f5f"
           }
          },
          "ternary": {
           "aaxis": {
            "gridcolor": "white",
            "linecolor": "white",
            "ticks": ""
           },
           "baxis": {
            "gridcolor": "white",
            "linecolor": "white",
            "ticks": ""
           },
           "bgcolor": "#E5ECF6",
           "caxis": {
            "gridcolor": "white",
            "linecolor": "white",
            "ticks": ""
           }
          },
          "title": {
           "x": 0.05
          },
          "xaxis": {
           "automargin": true,
           "gridcolor": "white",
           "linecolor": "white",
           "ticks": "",
           "title": {
            "standoff": 15
           },
           "zerolinecolor": "white",
           "zerolinewidth": 2
          },
          "yaxis": {
           "automargin": true,
           "gridcolor": "white",
           "linecolor": "white",
           "ticks": "",
           "title": {
            "standoff": 15
           },
           "zerolinecolor": "white",
           "zerolinewidth": 2
          }
         }
        },
        "title": {
         "font": {
          "size": 30
         },
         "text": "Smoothed Orientation Data Visualization"
        },
        "width": 1200,
        "xaxis": {
         "title": {
          "font": {
           "size": 20
          },
          "text": "Time"
         }
        },
        "yaxis": {
         "title": {
          "font": {
           "size": 20
          },
          "text": "Radians"
         }
        }
       }
      }
     },
     "metadata": {},
     "output_type": "display_data"
    }
   ],
   "source": [
    "smoothed_orientation_df = smooth_data([unwrapped_data], window_size=10)[0]\n",
    "display(smoothed_orientation_df.head())\n",
    "draw_plotly_new(smoothed_orientation_df, col=split_on, granular=True, title=\"Smoothed Orientation Data Visualization\")"
   ]
  },
  {
   "cell_type": "markdown",
   "id": "ff88bea4",
   "metadata": {},
   "source": [
    "#### Remove labels"
   ]
  },
  {
   "cell_type": "code",
   "execution_count": 8,
   "id": "a340a3e6",
   "metadata": {},
   "outputs": [
    {
     "data": {
      "text/html": [
       "<div>\n",
       "<style scoped>\n",
       "    .dataframe tbody tr th:only-of-type {\n",
       "        vertical-align: middle;\n",
       "    }\n",
       "\n",
       "    .dataframe tbody tr th {\n",
       "        vertical-align: top;\n",
       "    }\n",
       "\n",
       "    .dataframe thead th {\n",
       "        text-align: right;\n",
       "    }\n",
       "</style>\n",
       "<table border=\"1\" class=\"dataframe\">\n",
       "  <thead>\n",
       "    <tr style=\"text-align: right;\">\n",
       "      <th></th>\n",
       "      <th>qz</th>\n",
       "      <th>qy</th>\n",
       "      <th>qx</th>\n",
       "      <th>qw</th>\n",
       "      <th>roll</th>\n",
       "      <th>pitch</th>\n",
       "      <th>yaw</th>\n",
       "    </tr>\n",
       "    <tr>\n",
       "      <th>time</th>\n",
       "      <th></th>\n",
       "      <th></th>\n",
       "      <th></th>\n",
       "      <th></th>\n",
       "      <th></th>\n",
       "      <th></th>\n",
       "      <th></th>\n",
       "    </tr>\n",
       "  </thead>\n",
       "  <tbody>\n",
       "    <tr>\n",
       "      <th>2024-03-22 12:49:29.900</th>\n",
       "      <td>-0.699230</td>\n",
       "      <td>-0.696761</td>\n",
       "      <td>-0.157973</td>\n",
       "      <td>0.025403</td>\n",
       "      <td>1.592382</td>\n",
       "      <td>-0.259212</td>\n",
       "      <td>2.949417</td>\n",
       "    </tr>\n",
       "    <tr>\n",
       "      <th>2024-03-22 12:49:30.000</th>\n",
       "      <td>-0.704745</td>\n",
       "      <td>-0.681315</td>\n",
       "      <td>-0.193328</td>\n",
       "      <td>0.042032</td>\n",
       "      <td>1.574114</td>\n",
       "      <td>-0.336058</td>\n",
       "      <td>2.923579</td>\n",
       "    </tr>\n",
       "    <tr>\n",
       "      <th>2024-03-22 12:49:30.100</th>\n",
       "      <td>-0.701866</td>\n",
       "      <td>-0.665604</td>\n",
       "      <td>-0.236985</td>\n",
       "      <td>0.090509</td>\n",
       "      <td>1.568980</td>\n",
       "      <td>-0.470295</td>\n",
       "      <td>2.928611</td>\n",
       "    </tr>\n",
       "    <tr>\n",
       "      <th>2024-03-22 12:49:30.200</th>\n",
       "      <td>-0.707663</td>\n",
       "      <td>-0.642111</td>\n",
       "      <td>-0.278845</td>\n",
       "      <td>0.095662</td>\n",
       "      <td>1.547564</td>\n",
       "      <td>-0.543936</td>\n",
       "      <td>2.878292</td>\n",
       "    </tr>\n",
       "    <tr>\n",
       "      <th>2024-03-22 12:49:30.300</th>\n",
       "      <td>-0.704990</td>\n",
       "      <td>-0.605384</td>\n",
       "      <td>-0.358699</td>\n",
       "      <td>0.088502</td>\n",
       "      <td>1.558532</td>\n",
       "      <td>-0.659743</td>\n",
       "      <td>2.739093</td>\n",
       "    </tr>\n",
       "  </tbody>\n",
       "</table>\n",
       "</div>"
      ],
      "text/plain": [
       "                               qz        qy        qx        qw      roll  \\\n",
       "time                                                                        \n",
       "2024-03-22 12:49:29.900 -0.699230 -0.696761 -0.157973  0.025403  1.592382   \n",
       "2024-03-22 12:49:30.000 -0.704745 -0.681315 -0.193328  0.042032  1.574114   \n",
       "2024-03-22 12:49:30.100 -0.701866 -0.665604 -0.236985  0.090509  1.568980   \n",
       "2024-03-22 12:49:30.200 -0.707663 -0.642111 -0.278845  0.095662  1.547564   \n",
       "2024-03-22 12:49:30.300 -0.704990 -0.605384 -0.358699  0.088502  1.558532   \n",
       "\n",
       "                            pitch       yaw  \n",
       "time                                         \n",
       "2024-03-22 12:49:29.900 -0.259212  2.949417  \n",
       "2024-03-22 12:49:30.000 -0.336058  2.923579  \n",
       "2024-03-22 12:49:30.100 -0.470295  2.928611  \n",
       "2024-03-22 12:49:30.200 -0.543936  2.878292  \n",
       "2024-03-22 12:49:30.300 -0.659743  2.739093  "
      ]
     },
     "metadata": {},
     "output_type": "display_data"
    },
    {
     "data": {
      "application/vnd.plotly.v1+json": {
       "config": {
        "plotlyServerURL": "https://plot.ly",
        "toImageButtonOptions": {
         "filename": "custom_image",
         "format": "png",
         "scale": 6
        }
       },
       "data": [
        {
         "line": {
          "color": "blue"
         },
         "mode": "lines",
         "name": "roll",
         "type": "scatter",
         "x": [
          "2024-03-22T12:49:29.900000",
          "2024-03-22T12:49:30",
          "2024-03-22T12:49:30.100000",
          "2024-03-22T12:49:30.200000",
          "2024-03-22T12:49:30.300000",
          "2024-03-22T12:49:30.400000",
          "2024-03-22T12:49:30.500000",
          "2024-03-22T12:49:30.600000",
          "2024-03-22T12:49:30.700000",
          "2024-03-22T12:49:30.800000",
          "2024-03-22T12:49:30.900000",
          "2024-03-22T12:49:31",
          "2024-03-22T12:49:31.100000",
          "2024-03-22T12:49:31.200000",
          "2024-03-22T12:49:31.300000",
          "2024-03-22T12:49:31.400000",
          "2024-03-22T12:49:31.500000",
          "2024-03-22T12:49:31.600000",
          "2024-03-22T12:49:31.700000",
          "2024-03-22T12:49:31.800000",
          "2024-03-22T12:49:31.900000",
          "2024-03-22T12:49:32",
          "2024-03-22T12:49:32.100000",
          "2024-03-22T12:49:32.200000",
          "2024-03-22T12:49:32.300000",
          "2024-03-22T12:49:32.400000",
          "2024-03-22T12:49:32.500000",
          "2024-03-22T12:49:32.600000",
          "2024-03-22T12:49:32.700000",
          "2024-03-22T12:49:32.800000",
          "2024-03-22T12:49:32.900000",
          "2024-03-22T12:49:33",
          "2024-03-22T12:49:33.100000",
          "2024-03-22T12:49:33.200000",
          "2024-03-22T12:49:33.300000",
          "2024-03-22T12:49:33.400000",
          "2024-03-22T12:49:33.500000",
          "2024-03-22T12:49:33.600000",
          "2024-03-22T12:49:33.700000",
          "2024-03-22T12:49:33.800000",
          "2024-03-22T12:49:33.900000",
          "2024-03-22T12:49:34",
          "2024-03-22T12:49:34.100000",
          "2024-03-22T12:49:34.200000",
          "2024-03-22T12:49:34.300000",
          "2024-03-22T12:49:34.400000",
          "2024-03-22T12:49:34.500000",
          "2024-03-22T12:49:34.600000",
          "2024-03-22T12:49:34.700000",
          "2024-03-22T12:49:34.800000",
          "2024-03-22T12:49:34.900000",
          "2024-03-22T12:49:35",
          "2024-03-22T12:49:35.100000",
          "2024-03-22T12:49:35.200000",
          "2024-03-22T12:49:35.300000",
          "2024-03-22T12:49:35.400000",
          "2024-03-22T12:49:35.500000",
          "2024-03-22T12:49:35.600000",
          "2024-03-22T12:49:35.700000",
          "2024-03-22T12:49:35.800000",
          "2024-03-22T12:49:35.900000",
          "2024-03-22T12:49:36",
          "2024-03-22T12:49:36.100000",
          "2024-03-22T12:49:36.200000",
          "2024-03-22T12:49:36.300000",
          "2024-03-22T12:49:36.400000",
          "2024-03-22T12:49:36.500000",
          "2024-03-22T12:49:36.600000",
          "2024-03-22T12:49:36.700000",
          "2024-03-22T12:49:36.800000",
          "2024-03-22T12:49:36.900000",
          "2024-03-22T12:49:37",
          "2024-03-22T12:49:37.100000",
          "2024-03-22T12:49:37.200000",
          "2024-03-22T12:49:37.300000",
          "2024-03-22T12:49:37.400000",
          "2024-03-22T12:49:37.500000",
          "2024-03-22T12:49:37.600000",
          "2024-03-22T12:49:37.700000",
          "2024-03-22T12:49:37.800000",
          "2024-03-22T12:49:37.900000",
          "2024-03-22T12:49:38",
          "2024-03-22T12:49:38.100000",
          "2024-03-22T12:49:38.200000",
          "2024-03-22T12:49:38.300000",
          "2024-03-22T12:49:38.400000",
          "2024-03-22T12:49:38.500000",
          "2024-03-22T12:49:38.600000",
          "2024-03-22T12:49:38.700000",
          "2024-03-22T12:49:38.800000",
          "2024-03-22T12:49:38.900000",
          "2024-03-22T12:49:39",
          "2024-03-22T12:49:39.100000",
          "2024-03-22T12:49:39.200000",
          "2024-03-22T12:49:39.300000",
          "2024-03-22T12:49:39.400000",
          "2024-03-22T12:49:39.500000",
          "2024-03-22T12:49:39.600000",
          "2024-03-22T12:49:39.700000",
          "2024-03-22T12:49:39.800000",
          "2024-03-22T12:49:39.900000",
          "2024-03-22T12:49:40",
          "2024-03-22T12:49:40.100000",
          "2024-03-22T12:49:40.200000",
          "2024-03-22T12:49:40.300000",
          "2024-03-22T12:49:40.400000",
          "2024-03-22T12:49:40.500000",
          "2024-03-22T12:49:40.600000",
          "2024-03-22T12:49:40.700000",
          "2024-03-22T12:49:40.800000",
          "2024-03-22T12:49:40.900000",
          "2024-03-22T12:49:41",
          "2024-03-22T12:49:41.100000",
          "2024-03-22T12:49:41.200000",
          "2024-03-22T12:49:41.300000",
          "2024-03-22T12:49:41.400000",
          "2024-03-22T12:49:41.500000",
          "2024-03-22T12:49:41.600000",
          "2024-03-22T12:49:41.700000",
          "2024-03-22T12:49:41.800000",
          "2024-03-22T12:49:41.900000",
          "2024-03-22T12:49:42",
          "2024-03-22T12:49:42.100000",
          "2024-03-22T12:49:42.200000",
          "2024-03-22T12:49:42.300000",
          "2024-03-22T12:49:42.400000",
          "2024-03-22T12:49:42.500000",
          "2024-03-22T12:49:42.600000",
          "2024-03-22T12:49:42.700000",
          "2024-03-22T12:49:42.800000",
          "2024-03-22T12:49:42.900000",
          "2024-03-22T12:49:43",
          "2024-03-22T12:49:43.100000",
          "2024-03-22T12:49:43.200000",
          "2024-03-22T12:49:43.300000",
          "2024-03-22T12:49:43.400000",
          "2024-03-22T12:49:43.500000",
          "2024-03-22T12:49:43.600000",
          "2024-03-22T12:49:43.700000",
          "2024-03-22T12:49:43.800000",
          "2024-03-22T12:49:43.900000",
          "2024-03-22T12:49:44",
          "2024-03-22T12:49:44.100000",
          "2024-03-22T12:49:44.200000",
          "2024-03-22T12:49:44.300000",
          "2024-03-22T12:49:44.400000",
          "2024-03-22T12:49:44.500000",
          "2024-03-22T12:49:44.600000",
          "2024-03-22T12:49:44.700000",
          "2024-03-22T12:49:44.800000",
          "2024-03-22T12:49:44.900000",
          "2024-03-22T12:49:45",
          "2024-03-22T12:49:45.100000",
          "2024-03-22T12:49:45.200000",
          "2024-03-22T12:49:45.300000",
          "2024-03-22T12:49:45.400000",
          "2024-03-22T12:49:45.500000",
          "2024-03-22T12:49:45.600000",
          "2024-03-22T12:49:45.700000",
          "2024-03-22T12:49:45.800000",
          "2024-03-22T12:49:45.900000",
          "2024-03-22T12:49:46",
          "2024-03-22T12:49:46.100000",
          "2024-03-22T12:49:46.200000",
          "2024-03-22T12:49:46.300000",
          "2024-03-22T12:49:46.400000",
          "2024-03-22T12:49:46.500000",
          "2024-03-22T12:49:46.600000",
          "2024-03-22T12:49:46.700000",
          "2024-03-22T12:49:46.800000",
          "2024-03-22T12:49:46.900000",
          "2024-03-22T12:49:47",
          "2024-03-22T12:49:47.100000",
          "2024-03-22T12:49:47.200000",
          "2024-03-22T12:49:47.300000",
          "2024-03-22T12:49:47.400000",
          "2024-03-22T12:49:47.500000",
          "2024-03-22T12:49:47.600000",
          "2024-03-22T12:49:47.700000",
          "2024-03-22T12:49:47.800000",
          "2024-03-22T12:49:47.900000",
          "2024-03-22T12:49:48",
          "2024-03-22T12:49:48.100000",
          "2024-03-22T12:49:48.200000",
          "2024-03-22T12:49:48.300000",
          "2024-03-22T12:49:48.400000",
          "2024-03-22T12:49:48.500000",
          "2024-03-22T12:49:48.600000",
          "2024-03-22T12:49:48.700000",
          "2024-03-22T12:49:48.800000",
          "2024-03-22T12:49:48.900000",
          "2024-03-22T12:49:49",
          "2024-03-22T12:49:49.100000",
          "2024-03-22T12:49:49.200000",
          "2024-03-22T12:49:49.300000",
          "2024-03-22T12:49:49.400000",
          "2024-03-22T12:49:49.500000",
          "2024-03-22T12:49:49.600000",
          "2024-03-22T12:49:49.700000",
          "2024-03-22T12:49:49.800000",
          "2024-03-22T12:49:49.900000",
          "2024-03-22T12:49:50",
          "2024-03-22T12:49:50.100000",
          "2024-03-22T12:49:50.200000",
          "2024-03-22T12:49:50.300000",
          "2024-03-22T12:49:50.400000",
          "2024-03-22T12:49:50.500000",
          "2024-03-22T12:49:50.600000",
          "2024-03-22T12:49:50.700000",
          "2024-03-22T12:49:50.800000",
          "2024-03-22T12:49:50.900000",
          "2024-03-22T12:49:51",
          "2024-03-22T12:49:51.100000",
          "2024-03-22T12:49:51.200000",
          "2024-03-22T12:49:51.300000",
          "2024-03-22T12:49:51.400000",
          "2024-03-22T12:49:51.500000",
          "2024-03-22T12:49:51.600000",
          "2024-03-22T12:49:51.700000",
          "2024-03-22T12:49:51.800000",
          "2024-03-22T12:49:51.900000",
          "2024-03-22T12:49:52",
          "2024-03-22T12:49:52.100000",
          "2024-03-22T12:49:52.200000",
          "2024-03-22T12:49:52.300000",
          "2024-03-22T12:49:52.400000",
          "2024-03-22T12:49:52.500000",
          "2024-03-22T12:49:52.600000",
          "2024-03-22T12:49:52.700000",
          "2024-03-22T12:49:52.800000",
          "2024-03-22T12:49:52.900000",
          "2024-03-22T12:49:53",
          "2024-03-22T12:49:53.100000",
          "2024-03-22T12:49:53.200000",
          "2024-03-22T12:49:53.300000",
          "2024-03-22T12:49:53.400000",
          "2024-03-22T12:49:53.500000",
          "2024-03-22T12:49:53.600000",
          "2024-03-22T12:49:53.700000",
          "2024-03-22T12:49:53.800000",
          "2024-03-22T12:49:53.900000",
          "2024-03-22T12:49:54",
          "2024-03-22T12:49:54.100000",
          "2024-03-22T12:49:54.200000",
          "2024-03-22T12:49:54.300000",
          "2024-03-22T12:49:54.400000",
          "2024-03-22T12:49:54.500000",
          "2024-03-22T12:49:54.600000",
          "2024-03-22T12:49:54.700000",
          "2024-03-22T12:49:54.800000"
         ],
         "y": [
          1.5923818413449384,
          1.5741135983544245,
          1.5689803001759162,
          1.5475637145195094,
          1.5585318448187346,
          1.5270508342935254,
          1.5096654697112677,
          1.490105784524737,
          1.4725257580716402,
          1.4549100759890048,
          1.4333033380110525,
          1.4177675390068099,
          1.4113211147034372,
          1.4175402865092819,
          1.4355875324970206,
          1.4570342295315164,
          1.4840827052924532,
          1.5168690809259406,
          1.5469967744424673,
          1.5730451651800486,
          1.5994227264045313,
          1.6224135551153203,
          1.6371531777887494,
          1.6377599688177782,
          1.6286478773760902,
          1.620153031371398,
          1.6056019441520974,
          1.587044105727648,
          1.5652761373584698,
          1.5428602465614032,
          1.5190495675574198,
          1.4938678173809192,
          1.4761292626014744,
          1.4740954320511377,
          1.4850460297264194,
          1.498692023426805,
          1.516150461257817,
          1.5346267198835721,
          1.5518243185769127,
          1.574049411951902,
          1.593895746309422,
          1.6069869614181496,
          1.6113845507238982,
          1.6067712210718539,
          1.5896461886106272,
          1.560540885578431,
          1.540135634592418,
          1.49845032304512,
          1.4706586645578623,
          1.4294905139083007,
          1.4023924739473048,
          1.383846071159963,
          1.3770330671530773,
          1.3793614035644644,
          1.3895667445946494,
          1.4097996254802536,
          1.4225039629693201,
          1.4599185598487419,
          1.4957735362942848,
          1.5428567190509703,
          1.5782194043133966,
          1.6157582724554007,
          1.6368443445437137,
          1.6401954454055947,
          1.6340678309175285,
          1.6192336817362722,
          1.6011084102729523,
          1.5775944503365693,
          1.5470884008252577,
          1.5214895666062473,
          1.4917853083968715,
          1.4577589685169887,
          1.4202769225534184,
          1.384309363349693,
          1.3563980439075984,
          1.3502593396009535,
          1.3460553948423664,
          1.3547956475485008,
          1.3705118883129852,
          1.3905850420701682,
          1.4208797485277993,
          1.4529223221819088,
          1.4878638811158864,
          1.5198450080176944,
          1.5439088009878215,
          1.553202743102626,
          1.5558342474953084,
          1.548386200850722,
          1.5281287315181091,
          1.496871763864124,
          1.4598762245666277,
          1.405663706291689,
          1.3527685364942117,
          1.305675108714185,
          1.268172881643383,
          1.2398377151744522,
          1.2274945101297852,
          1.2260634671803008,
          1.240377218412232,
          1.268951512803336,
          1.3037967293273407,
          1.3517455955804072,
          1.4054666800433437,
          1.4591543346768128,
          1.5051646976859945,
          1.5380341550320833,
          1.5527838838458714,
          1.5498915987150963,
          1.532349958214103,
          1.5044089846006126,
          1.4680225360798744,
          1.4231144178664656,
          1.3715302897044954,
          1.3198319497375828,
          1.272854665893067,
          1.229232348136695,
          1.190228207489382,
          1.1568570330250272,
          1.126304022565078,
          1.1061074206637522,
          1.1046897739736397,
          1.1164766322893978,
          1.1384553359024003,
          1.1645515741016705,
          1.189128331563992,
          1.2120711656876024,
          1.2311486184781752,
          1.25107139894184,
          1.2757750147905687,
          1.298470864763951,
          1.3184037506015163,
          1.3453606061060537,
          1.3772311804878619,
          1.4093799181218867,
          1.4397494316765704,
          1.4683980006470847,
          1.4937080837092087,
          1.513020683079985,
          1.5301863564942952,
          1.5394565061616312,
          1.5392533421224128,
          1.5297516698864988,
          1.501672870372656,
          1.4608873074421207,
          1.414110506673724,
          1.3693191924115005,
          1.3343478442867043,
          1.295651070574491,
          1.2582277019811898,
          1.2294631819321438,
          1.2072753373183427,
          1.2072351785193867,
          1.2336891532427023,
          1.273483855951707,
          1.32442803192266,
          1.379771467546783,
          1.432818121031662,
          1.492946752447445,
          1.5519237028353086,
          1.6016388413323042,
          1.6445814860874886,
          1.6629690311110987,
          1.6609502017206368,
          1.64842713801199,
          1.6247591928786391,
          1.5931493683213547,
          1.5579181513834817,
          1.5301055777482726,
          1.5062792472941617,
          1.4816541639331149,
          1.446503002190684,
          1.4130139002353295,
          1.3732061049907203,
          1.3326592228216172,
          1.304020474350787,
          1.275112203690062,
          1.2522578467617813,
          1.2280256068016322,
          1.2059899247755757,
          1.1917480695616511,
          1.1914290882531238,
          1.1941731167216956,
          1.2103182857837578,
          1.2353175478789964,
          1.2537455747490136,
          1.2765998441911122,
          1.293942206798262,
          1.3104950348698652,
          1.3310569626144528,
          1.3621503246713218,
          1.404428475958921,
          1.4502384889512843,
          1.4907142686387684,
          1.5397793572873013,
          1.5861964873382681,
          1.6346296219506384,
          1.687790300838408,
          1.7338018935784483,
          1.7644765872461057,
          1.773759484804716,
          1.763479241868696,
          1.7441385895320483,
          1.7226130788523963,
          1.6896486799187307,
          1.6628067187395963,
          1.6351283248917454,
          1.6066012150232727,
          1.581443848069056,
          1.548095151493968,
          1.5079630116212022,
          1.4741622013549043,
          1.4416653219230777,
          1.4065400495398532,
          1.3762870994857426,
          1.339684755076258,
          1.3025970672703537,
          1.2664425427963761,
          1.2293158386035492,
          1.2027181368875177,
          1.1867073851873373,
          1.170669826224794,
          1.1650992829990579,
          1.1864869984117568,
          1.225148657268193,
          1.2791272080842981,
          1.3465298441871045,
          1.4093521822648625,
          1.4767256218452904,
          1.546052632715591,
          1.6134523572155164,
          1.6753718060029823,
          1.719897046469216,
          1.7409725627169628,
          1.7386507014531243,
          1.7241818685109354,
          1.6932488050323016,
          1.6569344651794922,
          1.6135740939620802,
          1.5598183230864622,
          1.498410922048077,
          1.4294281338550447,
          1.3625093583147312,
          1.3009035565352551,
          1.2462663600924306,
          1.1897990110171333,
          1.1290628467159265,
          1.0025241097768574,
          1.0323705063429807,
          0.9961583274023401,
          0.9217775311875848
         ]
        },
        {
         "line": {
          "color": "orange"
         },
         "mode": "lines",
         "name": "pitch",
         "type": "scatter",
         "x": [
          "2024-03-22T12:49:29.900000",
          "2024-03-22T12:49:30",
          "2024-03-22T12:49:30.100000",
          "2024-03-22T12:49:30.200000",
          "2024-03-22T12:49:30.300000",
          "2024-03-22T12:49:30.400000",
          "2024-03-22T12:49:30.500000",
          "2024-03-22T12:49:30.600000",
          "2024-03-22T12:49:30.700000",
          "2024-03-22T12:49:30.800000",
          "2024-03-22T12:49:30.900000",
          "2024-03-22T12:49:31",
          "2024-03-22T12:49:31.100000",
          "2024-03-22T12:49:31.200000",
          "2024-03-22T12:49:31.300000",
          "2024-03-22T12:49:31.400000",
          "2024-03-22T12:49:31.500000",
          "2024-03-22T12:49:31.600000",
          "2024-03-22T12:49:31.700000",
          "2024-03-22T12:49:31.800000",
          "2024-03-22T12:49:31.900000",
          "2024-03-22T12:49:32",
          "2024-03-22T12:49:32.100000",
          "2024-03-22T12:49:32.200000",
          "2024-03-22T12:49:32.300000",
          "2024-03-22T12:49:32.400000",
          "2024-03-22T12:49:32.500000",
          "2024-03-22T12:49:32.600000",
          "2024-03-22T12:49:32.700000",
          "2024-03-22T12:49:32.800000",
          "2024-03-22T12:49:32.900000",
          "2024-03-22T12:49:33",
          "2024-03-22T12:49:33.100000",
          "2024-03-22T12:49:33.200000",
          "2024-03-22T12:49:33.300000",
          "2024-03-22T12:49:33.400000",
          "2024-03-22T12:49:33.500000",
          "2024-03-22T12:49:33.600000",
          "2024-03-22T12:49:33.700000",
          "2024-03-22T12:49:33.800000",
          "2024-03-22T12:49:33.900000",
          "2024-03-22T12:49:34",
          "2024-03-22T12:49:34.100000",
          "2024-03-22T12:49:34.200000",
          "2024-03-22T12:49:34.300000",
          "2024-03-22T12:49:34.400000",
          "2024-03-22T12:49:34.500000",
          "2024-03-22T12:49:34.600000",
          "2024-03-22T12:49:34.700000",
          "2024-03-22T12:49:34.800000",
          "2024-03-22T12:49:34.900000",
          "2024-03-22T12:49:35",
          "2024-03-22T12:49:35.100000",
          "2024-03-22T12:49:35.200000",
          "2024-03-22T12:49:35.300000",
          "2024-03-22T12:49:35.400000",
          "2024-03-22T12:49:35.500000",
          "2024-03-22T12:49:35.600000",
          "2024-03-22T12:49:35.700000",
          "2024-03-22T12:49:35.800000",
          "2024-03-22T12:49:35.900000",
          "2024-03-22T12:49:36",
          "2024-03-22T12:49:36.100000",
          "2024-03-22T12:49:36.200000",
          "2024-03-22T12:49:36.300000",
          "2024-03-22T12:49:36.400000",
          "2024-03-22T12:49:36.500000",
          "2024-03-22T12:49:36.600000",
          "2024-03-22T12:49:36.700000",
          "2024-03-22T12:49:36.800000",
          "2024-03-22T12:49:36.900000",
          "2024-03-22T12:49:37",
          "2024-03-22T12:49:37.100000",
          "2024-03-22T12:49:37.200000",
          "2024-03-22T12:49:37.300000",
          "2024-03-22T12:49:37.400000",
          "2024-03-22T12:49:37.500000",
          "2024-03-22T12:49:37.600000",
          "2024-03-22T12:49:37.700000",
          "2024-03-22T12:49:37.800000",
          "2024-03-22T12:49:37.900000",
          "2024-03-22T12:49:38",
          "2024-03-22T12:49:38.100000",
          "2024-03-22T12:49:38.200000",
          "2024-03-22T12:49:38.300000",
          "2024-03-22T12:49:38.400000",
          "2024-03-22T12:49:38.500000",
          "2024-03-22T12:49:38.600000",
          "2024-03-22T12:49:38.700000",
          "2024-03-22T12:49:38.800000",
          "2024-03-22T12:49:38.900000",
          "2024-03-22T12:49:39",
          "2024-03-22T12:49:39.100000",
          "2024-03-22T12:49:39.200000",
          "2024-03-22T12:49:39.300000",
          "2024-03-22T12:49:39.400000",
          "2024-03-22T12:49:39.500000",
          "2024-03-22T12:49:39.600000",
          "2024-03-22T12:49:39.700000",
          "2024-03-22T12:49:39.800000",
          "2024-03-22T12:49:39.900000",
          "2024-03-22T12:49:40",
          "2024-03-22T12:49:40.100000",
          "2024-03-22T12:49:40.200000",
          "2024-03-22T12:49:40.300000",
          "2024-03-22T12:49:40.400000",
          "2024-03-22T12:49:40.500000",
          "2024-03-22T12:49:40.600000",
          "2024-03-22T12:49:40.700000",
          "2024-03-22T12:49:40.800000",
          "2024-03-22T12:49:40.900000",
          "2024-03-22T12:49:41",
          "2024-03-22T12:49:41.100000",
          "2024-03-22T12:49:41.200000",
          "2024-03-22T12:49:41.300000",
          "2024-03-22T12:49:41.400000",
          "2024-03-22T12:49:41.500000",
          "2024-03-22T12:49:41.600000",
          "2024-03-22T12:49:41.700000",
          "2024-03-22T12:49:41.800000",
          "2024-03-22T12:49:41.900000",
          "2024-03-22T12:49:42",
          "2024-03-22T12:49:42.100000",
          "2024-03-22T12:49:42.200000",
          "2024-03-22T12:49:42.300000",
          "2024-03-22T12:49:42.400000",
          "2024-03-22T12:49:42.500000",
          "2024-03-22T12:49:42.600000",
          "2024-03-22T12:49:42.700000",
          "2024-03-22T12:49:42.800000",
          "2024-03-22T12:49:42.900000",
          "2024-03-22T12:49:43",
          "2024-03-22T12:49:43.100000",
          "2024-03-22T12:49:43.200000",
          "2024-03-22T12:49:43.300000",
          "2024-03-22T12:49:43.400000",
          "2024-03-22T12:49:43.500000",
          "2024-03-22T12:49:43.600000",
          "2024-03-22T12:49:43.700000",
          "2024-03-22T12:49:43.800000",
          "2024-03-22T12:49:43.900000",
          "2024-03-22T12:49:44",
          "2024-03-22T12:49:44.100000",
          "2024-03-22T12:49:44.200000",
          "2024-03-22T12:49:44.300000",
          "2024-03-22T12:49:44.400000",
          "2024-03-22T12:49:44.500000",
          "2024-03-22T12:49:44.600000",
          "2024-03-22T12:49:44.700000",
          "2024-03-22T12:49:44.800000",
          "2024-03-22T12:49:44.900000",
          "2024-03-22T12:49:45",
          "2024-03-22T12:49:45.100000",
          "2024-03-22T12:49:45.200000",
          "2024-03-22T12:49:45.300000",
          "2024-03-22T12:49:45.400000",
          "2024-03-22T12:49:45.500000",
          "2024-03-22T12:49:45.600000",
          "2024-03-22T12:49:45.700000",
          "2024-03-22T12:49:45.800000",
          "2024-03-22T12:49:45.900000",
          "2024-03-22T12:49:46",
          "2024-03-22T12:49:46.100000",
          "2024-03-22T12:49:46.200000",
          "2024-03-22T12:49:46.300000",
          "2024-03-22T12:49:46.400000",
          "2024-03-22T12:49:46.500000",
          "2024-03-22T12:49:46.600000",
          "2024-03-22T12:49:46.700000",
          "2024-03-22T12:49:46.800000",
          "2024-03-22T12:49:46.900000",
          "2024-03-22T12:49:47",
          "2024-03-22T12:49:47.100000",
          "2024-03-22T12:49:47.200000",
          "2024-03-22T12:49:47.300000",
          "2024-03-22T12:49:47.400000",
          "2024-03-22T12:49:47.500000",
          "2024-03-22T12:49:47.600000",
          "2024-03-22T12:49:47.700000",
          "2024-03-22T12:49:47.800000",
          "2024-03-22T12:49:47.900000",
          "2024-03-22T12:49:48",
          "2024-03-22T12:49:48.100000",
          "2024-03-22T12:49:48.200000",
          "2024-03-22T12:49:48.300000",
          "2024-03-22T12:49:48.400000",
          "2024-03-22T12:49:48.500000",
          "2024-03-22T12:49:48.600000",
          "2024-03-22T12:49:48.700000",
          "2024-03-22T12:49:48.800000",
          "2024-03-22T12:49:48.900000",
          "2024-03-22T12:49:49",
          "2024-03-22T12:49:49.100000",
          "2024-03-22T12:49:49.200000",
          "2024-03-22T12:49:49.300000",
          "2024-03-22T12:49:49.400000",
          "2024-03-22T12:49:49.500000",
          "2024-03-22T12:49:49.600000",
          "2024-03-22T12:49:49.700000",
          "2024-03-22T12:49:49.800000",
          "2024-03-22T12:49:49.900000",
          "2024-03-22T12:49:50",
          "2024-03-22T12:49:50.100000",
          "2024-03-22T12:49:50.200000",
          "2024-03-22T12:49:50.300000",
          "2024-03-22T12:49:50.400000",
          "2024-03-22T12:49:50.500000",
          "2024-03-22T12:49:50.600000",
          "2024-03-22T12:49:50.700000",
          "2024-03-22T12:49:50.800000",
          "2024-03-22T12:49:50.900000",
          "2024-03-22T12:49:51",
          "2024-03-22T12:49:51.100000",
          "2024-03-22T12:49:51.200000",
          "2024-03-22T12:49:51.300000",
          "2024-03-22T12:49:51.400000",
          "2024-03-22T12:49:51.500000",
          "2024-03-22T12:49:51.600000",
          "2024-03-22T12:49:51.700000",
          "2024-03-22T12:49:51.800000",
          "2024-03-22T12:49:51.900000",
          "2024-03-22T12:49:52",
          "2024-03-22T12:49:52.100000",
          "2024-03-22T12:49:52.200000",
          "2024-03-22T12:49:52.300000",
          "2024-03-22T12:49:52.400000",
          "2024-03-22T12:49:52.500000",
          "2024-03-22T12:49:52.600000",
          "2024-03-22T12:49:52.700000",
          "2024-03-22T12:49:52.800000",
          "2024-03-22T12:49:52.900000",
          "2024-03-22T12:49:53",
          "2024-03-22T12:49:53.100000",
          "2024-03-22T12:49:53.200000",
          "2024-03-22T12:49:53.300000",
          "2024-03-22T12:49:53.400000",
          "2024-03-22T12:49:53.500000",
          "2024-03-22T12:49:53.600000",
          "2024-03-22T12:49:53.700000",
          "2024-03-22T12:49:53.800000",
          "2024-03-22T12:49:53.900000",
          "2024-03-22T12:49:54",
          "2024-03-22T12:49:54.100000",
          "2024-03-22T12:49:54.200000",
          "2024-03-22T12:49:54.300000",
          "2024-03-22T12:49:54.400000",
          "2024-03-22T12:49:54.500000",
          "2024-03-22T12:49:54.600000",
          "2024-03-22T12:49:54.700000",
          "2024-03-22T12:49:54.800000"
         ],
         "y": [
          -0.2592116058494199,
          -0.33605774931329996,
          -0.4702954866268963,
          -0.5439358790515089,
          -0.6597429580905547,
          -0.6336429036974807,
          -0.6967702719685498,
          -0.7520935025613175,
          -0.7939922469870281,
          -0.8263272624591751,
          -0.8426356658982416,
          -0.8473575519299968,
          -0.8411419437415605,
          -0.8207661446826707,
          -0.780229097691271,
          -0.7264421265919732,
          -0.6620154098251174,
          -0.592803473017679,
          -0.5223533492156263,
          -0.4540461973017301,
          -0.39517462462626185,
          -0.350546575623558,
          -0.32003509030032484,
          -0.3078513589772434,
          -0.31873226283738176,
          -0.3520963929319127,
          -0.40234437060457673,
          -0.4645831977782732,
          -0.5375481355463383,
          -0.6156543042847934,
          -0.6875978598625117,
          -0.7455883658825763,
          -0.7816428293372437,
          -0.7917453015238749,
          -0.7733479296824493,
          -0.7299304196938423,
          -0.666823594484741,
          -0.5976639477208952,
          -0.5173665327166301,
          -0.43070369697171873,
          -0.3578135537747478,
          -0.30532568038793745,
          -0.28066537979636175,
          -0.2879803840255891,
          -0.3278683638623402,
          -0.39524889358002235,
          -0.48535850897307514,
          -0.5806840183838717,
          -0.6832226242445276,
          -0.7826245360945681,
          -0.8611935329035505,
          -0.9085938753315379,
          -0.9290294907444082,
          -0.9229442734221294,
          -0.8893754841940151,
          -0.8293853474276306,
          -0.7499166375392449,
          -0.6544493933479846,
          -0.5437045743783243,
          -0.43696553454324694,
          -0.3249068127447163,
          -0.23100561571811432,
          -0.15257674928895612,
          -0.09519262552390703,
          -0.06583276646120235,
          -0.05921172232330585,
          -0.07773286807176696,
          -0.1232696676594757,
          -0.1946856786138104,
          -0.2809709092759823,
          -0.39158054057159075,
          -0.5055410741668981,
          -0.6152968050834903,
          -0.7194690116304835,
          -0.805101259111199,
          -0.8706805044540082,
          -0.905942226904996,
          -0.9086939296534082,
          -0.8718488692261884,
          -0.8087520064040934,
          -0.7168755895493384,
          -0.6062415776523292,
          -0.49231599308963353,
          -0.37848817836771875,
          -0.2794256340186719,
          -0.20102396145979312,
          -0.15164850819388193,
          -0.13609474460538426,
          -0.16145403855332144,
          -0.2137911213708564,
          -0.2962412737194297,
          -0.40142323630307086,
          -0.5170982603449804,
          -0.626643572397852,
          -0.7189053465727028,
          -0.7883448141633957,
          -0.8299133116151685,
          -0.8336374411710791,
          -0.7977858494160189,
          -0.7347116373538857,
          -0.6496844682358051,
          -0.5454206930001517,
          -0.4259556113346668,
          -0.31605860490092275,
          -0.22185114202330708,
          -0.15776026361841414,
          -0.12433710868485601,
          -0.12757729437183998,
          -0.16802384091243414,
          -0.2290967974709976,
          -0.3057786313992682,
          -0.3982405128839824,
          -0.5044232953357202,
          -0.6059630449990412,
          -0.6976715242556888,
          -0.7689936005164771,
          -0.8214179162453004,
          -0.8474285125118085,
          -0.851576011363243,
          -0.8437573660611012,
          -0.8273478214181992,
          -0.7997217335798095,
          -0.7658438300335527,
          -0.729283048069711,
          -0.6943645500738082,
          -0.6611543211001084,
          -0.6289555924043203,
          -0.6014033701459608,
          -0.574192574948301,
          -0.544396421274632,
          -0.5042587435481454,
          -0.4517131419678374,
          -0.38959600529655714,
          -0.3243435900460124,
          -0.25570724653786775,
          -0.1824852561720507,
          -0.11905935421432645,
          -0.07099603033917093,
          -0.04219741745016561,
          -0.034031229862156,
          -0.06492465210359664,
          -0.12722418634920482,
          -0.19641517342983705,
          -0.2647973508326939,
          -0.3351817664930107,
          -0.42612064465733257,
          -0.5118263110143768,
          -0.5818493564017706,
          -0.632679506332015,
          -0.6542523192749281,
          -0.631700022722801,
          -0.5648022699189384,
          -0.48648346350462734,
          -0.41654084295496385,
          -0.33257691669150274,
          -0.23386249114810878,
          -0.1295741625718063,
          -0.028347136193392762,
          0.06428975124721462,
          0.14028463332053256,
          0.19399113353191827,
          0.20995253233673966,
          0.1982699792977498,
          0.18601464853797783,
          0.15321994644782283,
          0.11647766806873364,
          0.0717990271327796,
          0.012827954309410644,
          -0.06040160574555843,
          -0.14665662740797358,
          -0.24344679723174184,
          -0.3517938638127435,
          -0.453366914577148,
          -0.5543717483668708,
          -0.6535666962039208,
          -0.7472679994988253,
          -0.8313514544188942,
          -0.8997158722239519,
          -0.9428415885303204,
          -0.9632294532689072,
          -0.9639432738176549,
          -0.941440640510953,
          -0.9126220928255695,
          -0.8785863249878245,
          -0.8376323007934117,
          -0.7953658888643109,
          -0.7498941676995144,
          -0.6962996662253138,
          -0.6331157865078163,
          -0.5539116935437461,
          -0.4683340705338591,
          -0.380506132999785,
          -0.29449777426511525,
          -0.18886192433194965,
          -0.09865914420704294,
          -0.004917988805205914,
          0.08183403849792614,
          0.1563732780571766,
          0.21022264538074048,
          0.2314406150323373,
          0.22905498534397598,
          0.20828797542200256,
          0.17584338453754395,
          0.11073714695576678,
          0.04518915806994951,
          -0.04097354011554839,
          -0.1377172364332706,
          -0.24207953036060564,
          -0.3557597629274599,
          -0.4663723387741495,
          -0.5632055771255258,
          -0.6488411579081582,
          -0.7241309383800145,
          -0.788595479959865,
          -0.8349600881208419,
          -0.857333170251587,
          -0.868233710507298,
          -0.871747780608418,
          -0.8620247901681728,
          -0.8377645494308423,
          -0.8031430653796987,
          -0.7510960204827706,
          -0.6791049022557714,
          -0.5832632919904491,
          -0.4791117674647071,
          -0.3771995698001321,
          -0.27724222920433206,
          -0.16497707866232095,
          -0.055317617008790065,
          0.042255724815178405,
          0.12300176688716805,
          0.17327754126757838,
          0.19544386239223535,
          0.18222844633440033,
          0.14063572454413825,
          0.07288079070849632,
          -0.0128768213393182,
          -0.12258498705189513,
          -0.23865850650330594,
          -0.35025747294630827,
          -0.45623825881510277,
          -0.5474134591500113,
          -0.6311778372079414,
          -0.7029948713233769,
          -0.7660212600007331,
          -0.8158645923943851,
          -0.8284517412527037,
          -0.8301624926705843,
          -0.8812741695944821,
          -0.9379885951670462
         ]
        },
        {
         "line": {
          "color": "green"
         },
         "mode": "lines",
         "name": "yaw",
         "type": "scatter",
         "x": [
          "2024-03-22T12:49:29.900000",
          "2024-03-22T12:49:30",
          "2024-03-22T12:49:30.100000",
          "2024-03-22T12:49:30.200000",
          "2024-03-22T12:49:30.300000",
          "2024-03-22T12:49:30.400000",
          "2024-03-22T12:49:30.500000",
          "2024-03-22T12:49:30.600000",
          "2024-03-22T12:49:30.700000",
          "2024-03-22T12:49:30.800000",
          "2024-03-22T12:49:30.900000",
          "2024-03-22T12:49:31",
          "2024-03-22T12:49:31.100000",
          "2024-03-22T12:49:31.200000",
          "2024-03-22T12:49:31.300000",
          "2024-03-22T12:49:31.400000",
          "2024-03-22T12:49:31.500000",
          "2024-03-22T12:49:31.600000",
          "2024-03-22T12:49:31.700000",
          "2024-03-22T12:49:31.800000",
          "2024-03-22T12:49:31.900000",
          "2024-03-22T12:49:32",
          "2024-03-22T12:49:32.100000",
          "2024-03-22T12:49:32.200000",
          "2024-03-22T12:49:32.300000",
          "2024-03-22T12:49:32.400000",
          "2024-03-22T12:49:32.500000",
          "2024-03-22T12:49:32.600000",
          "2024-03-22T12:49:32.700000",
          "2024-03-22T12:49:32.800000",
          "2024-03-22T12:49:32.900000",
          "2024-03-22T12:49:33",
          "2024-03-22T12:49:33.100000",
          "2024-03-22T12:49:33.200000",
          "2024-03-22T12:49:33.300000",
          "2024-03-22T12:49:33.400000",
          "2024-03-22T12:49:33.500000",
          "2024-03-22T12:49:33.600000",
          "2024-03-22T12:49:33.700000",
          "2024-03-22T12:49:33.800000",
          "2024-03-22T12:49:33.900000",
          "2024-03-22T12:49:34",
          "2024-03-22T12:49:34.100000",
          "2024-03-22T12:49:34.200000",
          "2024-03-22T12:49:34.300000",
          "2024-03-22T12:49:34.400000",
          "2024-03-22T12:49:34.500000",
          "2024-03-22T12:49:34.600000",
          "2024-03-22T12:49:34.700000",
          "2024-03-22T12:49:34.800000",
          "2024-03-22T12:49:34.900000",
          "2024-03-22T12:49:35",
          "2024-03-22T12:49:35.100000",
          "2024-03-22T12:49:35.200000",
          "2024-03-22T12:49:35.300000",
          "2024-03-22T12:49:35.400000",
          "2024-03-22T12:49:35.500000",
          "2024-03-22T12:49:35.600000",
          "2024-03-22T12:49:35.700000",
          "2024-03-22T12:49:35.800000",
          "2024-03-22T12:49:35.900000",
          "2024-03-22T12:49:36",
          "2024-03-22T12:49:36.100000",
          "2024-03-22T12:49:36.200000",
          "2024-03-22T12:49:36.300000",
          "2024-03-22T12:49:36.400000",
          "2024-03-22T12:49:36.500000",
          "2024-03-22T12:49:36.600000",
          "2024-03-22T12:49:36.700000",
          "2024-03-22T12:49:36.800000",
          "2024-03-22T12:49:36.900000",
          "2024-03-22T12:49:37",
          "2024-03-22T12:49:37.100000",
          "2024-03-22T12:49:37.200000",
          "2024-03-22T12:49:37.300000",
          "2024-03-22T12:49:37.400000",
          "2024-03-22T12:49:37.500000",
          "2024-03-22T12:49:37.600000",
          "2024-03-22T12:49:37.700000",
          "2024-03-22T12:49:37.800000",
          "2024-03-22T12:49:37.900000",
          "2024-03-22T12:49:38",
          "2024-03-22T12:49:38.100000",
          "2024-03-22T12:49:38.200000",
          "2024-03-22T12:49:38.300000",
          "2024-03-22T12:49:38.400000",
          "2024-03-22T12:49:38.500000",
          "2024-03-22T12:49:38.600000",
          "2024-03-22T12:49:38.700000",
          "2024-03-22T12:49:38.800000",
          "2024-03-22T12:49:38.900000",
          "2024-03-22T12:49:39",
          "2024-03-22T12:49:39.100000",
          "2024-03-22T12:49:39.200000",
          "2024-03-22T12:49:39.300000",
          "2024-03-22T12:49:39.400000",
          "2024-03-22T12:49:39.500000",
          "2024-03-22T12:49:39.600000",
          "2024-03-22T12:49:39.700000",
          "2024-03-22T12:49:39.800000",
          "2024-03-22T12:49:39.900000",
          "2024-03-22T12:49:40",
          "2024-03-22T12:49:40.100000",
          "2024-03-22T12:49:40.200000",
          "2024-03-22T12:49:40.300000",
          "2024-03-22T12:49:40.400000",
          "2024-03-22T12:49:40.500000",
          "2024-03-22T12:49:40.600000",
          "2024-03-22T12:49:40.700000",
          "2024-03-22T12:49:40.800000",
          "2024-03-22T12:49:40.900000",
          "2024-03-22T12:49:41",
          "2024-03-22T12:49:41.100000",
          "2024-03-22T12:49:41.200000",
          "2024-03-22T12:49:41.300000",
          "2024-03-22T12:49:41.400000",
          "2024-03-22T12:49:41.500000",
          "2024-03-22T12:49:41.600000",
          "2024-03-22T12:49:41.700000",
          "2024-03-22T12:49:41.800000",
          "2024-03-22T12:49:41.900000",
          "2024-03-22T12:49:42",
          "2024-03-22T12:49:42.100000",
          "2024-03-22T12:49:42.200000",
          "2024-03-22T12:49:42.300000",
          "2024-03-22T12:49:42.400000",
          "2024-03-22T12:49:42.500000",
          "2024-03-22T12:49:42.600000",
          "2024-03-22T12:49:42.700000",
          "2024-03-22T12:49:42.800000",
          "2024-03-22T12:49:42.900000",
          "2024-03-22T12:49:43",
          "2024-03-22T12:49:43.100000",
          "2024-03-22T12:49:43.200000",
          "2024-03-22T12:49:43.300000",
          "2024-03-22T12:49:43.400000",
          "2024-03-22T12:49:43.500000",
          "2024-03-22T12:49:43.600000",
          "2024-03-22T12:49:43.700000",
          "2024-03-22T12:49:43.800000",
          "2024-03-22T12:49:43.900000",
          "2024-03-22T12:49:44",
          "2024-03-22T12:49:44.100000",
          "2024-03-22T12:49:44.200000",
          "2024-03-22T12:49:44.300000",
          "2024-03-22T12:49:44.400000",
          "2024-03-22T12:49:44.500000",
          "2024-03-22T12:49:44.600000",
          "2024-03-22T12:49:44.700000",
          "2024-03-22T12:49:44.800000",
          "2024-03-22T12:49:44.900000",
          "2024-03-22T12:49:45",
          "2024-03-22T12:49:45.100000",
          "2024-03-22T12:49:45.200000",
          "2024-03-22T12:49:45.300000",
          "2024-03-22T12:49:45.400000",
          "2024-03-22T12:49:45.500000",
          "2024-03-22T12:49:45.600000",
          "2024-03-22T12:49:45.700000",
          "2024-03-22T12:49:45.800000",
          "2024-03-22T12:49:45.900000",
          "2024-03-22T12:49:46",
          "2024-03-22T12:49:46.100000",
          "2024-03-22T12:49:46.200000",
          "2024-03-22T12:49:46.300000",
          "2024-03-22T12:49:46.400000",
          "2024-03-22T12:49:46.500000",
          "2024-03-22T12:49:46.600000",
          "2024-03-22T12:49:46.700000",
          "2024-03-22T12:49:46.800000",
          "2024-03-22T12:49:46.900000",
          "2024-03-22T12:49:47",
          "2024-03-22T12:49:47.100000",
          "2024-03-22T12:49:47.200000",
          "2024-03-22T12:49:47.300000",
          "2024-03-22T12:49:47.400000",
          "2024-03-22T12:49:47.500000",
          "2024-03-22T12:49:47.600000",
          "2024-03-22T12:49:47.700000",
          "2024-03-22T12:49:47.800000",
          "2024-03-22T12:49:47.900000",
          "2024-03-22T12:49:48",
          "2024-03-22T12:49:48.100000",
          "2024-03-22T12:49:48.200000",
          "2024-03-22T12:49:48.300000",
          "2024-03-22T12:49:48.400000",
          "2024-03-22T12:49:48.500000",
          "2024-03-22T12:49:48.600000",
          "2024-03-22T12:49:48.700000",
          "2024-03-22T12:49:48.800000",
          "2024-03-22T12:49:48.900000",
          "2024-03-22T12:49:49",
          "2024-03-22T12:49:49.100000",
          "2024-03-22T12:49:49.200000",
          "2024-03-22T12:49:49.300000",
          "2024-03-22T12:49:49.400000",
          "2024-03-22T12:49:49.500000",
          "2024-03-22T12:49:49.600000",
          "2024-03-22T12:49:49.700000",
          "2024-03-22T12:49:49.800000",
          "2024-03-22T12:49:49.900000",
          "2024-03-22T12:49:50",
          "2024-03-22T12:49:50.100000",
          "2024-03-22T12:49:50.200000",
          "2024-03-22T12:49:50.300000",
          "2024-03-22T12:49:50.400000",
          "2024-03-22T12:49:50.500000",
          "2024-03-22T12:49:50.600000",
          "2024-03-22T12:49:50.700000",
          "2024-03-22T12:49:50.800000",
          "2024-03-22T12:49:50.900000",
          "2024-03-22T12:49:51",
          "2024-03-22T12:49:51.100000",
          "2024-03-22T12:49:51.200000",
          "2024-03-22T12:49:51.300000",
          "2024-03-22T12:49:51.400000",
          "2024-03-22T12:49:51.500000",
          "2024-03-22T12:49:51.600000",
          "2024-03-22T12:49:51.700000",
          "2024-03-22T12:49:51.800000",
          "2024-03-22T12:49:51.900000",
          "2024-03-22T12:49:52",
          "2024-03-22T12:49:52.100000",
          "2024-03-22T12:49:52.200000",
          "2024-03-22T12:49:52.300000",
          "2024-03-22T12:49:52.400000",
          "2024-03-22T12:49:52.500000",
          "2024-03-22T12:49:52.600000",
          "2024-03-22T12:49:52.700000",
          "2024-03-22T12:49:52.800000",
          "2024-03-22T12:49:52.900000",
          "2024-03-22T12:49:53",
          "2024-03-22T12:49:53.100000",
          "2024-03-22T12:49:53.200000",
          "2024-03-22T12:49:53.300000",
          "2024-03-22T12:49:53.400000",
          "2024-03-22T12:49:53.500000",
          "2024-03-22T12:49:53.600000",
          "2024-03-22T12:49:53.700000",
          "2024-03-22T12:49:53.800000",
          "2024-03-22T12:49:53.900000",
          "2024-03-22T12:49:54",
          "2024-03-22T12:49:54.100000",
          "2024-03-22T12:49:54.200000",
          "2024-03-22T12:49:54.300000",
          "2024-03-22T12:49:54.400000",
          "2024-03-22T12:49:54.500000",
          "2024-03-22T12:49:54.600000",
          "2024-03-22T12:49:54.700000",
          "2024-03-22T12:49:54.800000"
         ],
         "y": [
          2.9494172174330373,
          2.923579168733853,
          2.9286113966616356,
          2.8782920496185262,
          2.7390934115438523,
          2.6221525524842706,
          2.5297163627459156,
          2.437126592701323,
          2.3353458563326437,
          2.2392441924433393,
          2.1603551261993243,
          2.0932849527837885,
          2.0412288444785838,
          2.003436389751535,
          1.985346152748048,
          1.9981117969650009,
          2.0448961333902886,
          2.117810408107668,
          2.2144833841159675,
          2.3187692441367354,
          2.4120568669012834,
          2.4945823331242662,
          2.5724311572903065,
          2.6517277668616765,
          2.718108611574185,
          2.7538168824365723,
          2.747478354370935,
          2.699779328884984,
          2.61674089639465,
          2.5208013239762925,
          2.434728744333941,
          2.3521355481587696,
          2.2805449500924504,
          2.2111856459021135,
          2.1636687026521777,
          2.158355036992472,
          2.2056135753612685,
          2.2800509134168245,
          2.379609316997775,
          2.4777720118252753,
          2.567146241165192,
          2.663153766400802,
          2.7458909690497775,
          2.8132017786064685,
          2.846834161576258,
          2.8399227628340866,
          2.749878832306736,
          2.6637757058628457,
          2.547565916789291,
          2.4567110042098186,
          2.3615342668401285,
          2.2690073612123816,
          2.1742935404173456,
          2.093464047747268,
          2.043447179469493,
          2.013904898286204,
          2.0475145891541304,
          2.0954980461934367,
          2.187149954983929,
          2.2622614694175516,
          2.3555008368811277,
          2.4449143054740667,
          2.5490208952615996,
          2.649418025296648,
          2.7281866005321693,
          2.799367819192157,
          2.8527318223754756,
          2.868682256441251,
          2.841147856588693,
          2.774747149601965,
          2.695536870209806,
          2.6071653877518086,
          2.510733089237375,
          2.416880955462812,
          2.3248344450654796,
          2.2262460337920187,
          2.129455136148804,
          2.04209765975328,
          2.0026717561741445,
          2.0268485654764086,
          2.080274305524335,
          2.156362375896518,
          2.2359985510464098,
          2.3063108803814476,
          2.379117666995495,
          2.4595033987969073,
          2.5443032528907628,
          2.622112002853707,
          2.662400219873267,
          2.652039005540252,
          2.602145654857663,
          2.5221766045042164,
          2.4303769213981847,
          2.3466883970947032,
          2.266639709119871,
          2.182597068141596,
          2.086645813677748,
          2.003396008784712,
          1.956326427323194,
          1.9587140034587087,
          1.990437477602783,
          2.046071078195822,
          2.1183038178486084,
          2.198441826597044,
          2.27536396685094,
          2.35388453554702,
          2.440076005528904,
          2.507875011289692,
          2.535733536660345,
          2.5198739803491947,
          2.481427150412239,
          2.4323626202872615,
          2.3694273338698766,
          2.2972074502241906,
          2.2233590570067476,
          2.1465602070722003,
          2.0665084818154207,
          1.9994174721236504,
          1.9524927748135084,
          1.9169840421711448,
          1.8812787277877099,
          1.8507953134622088,
          1.8251828589485921,
          1.7983220188955058,
          1.7678948519023687,
          1.7363369899564358,
          1.7076867113821481,
          1.6815163611178836,
          1.6596587796020301,
          1.6465907916346985,
          1.6512869974329942,
          1.6767155826665614,
          1.7283640716526645,
          1.7991362573695764,
          1.8810725533359238,
          1.9658526910270453,
          2.0479574612781715,
          2.131244547665339,
          2.2105673385620004,
          2.2855926550310284,
          2.3289119845669544,
          2.3183852866343346,
          2.2817549307042064,
          2.2287909099956424,
          2.1740906096871155,
          2.1089594729719296,
          2.032297955199735,
          1.9508949240006046,
          1.8660950254636035,
          1.7862705943185113,
          1.7448329291654754,
          1.7554646344427556,
          1.7968666479072126,
          1.8477619760630097,
          1.9126976663477897,
          2.0005021613575393,
          2.1219558411616606,
          2.250477131159882,
          2.378953310504386,
          2.509267053036361,
          2.6250979113467157,
          2.7142090892020105,
          2.764962337397764,
          2.8070017121158504,
          2.8345898935324314,
          2.8558145986551398,
          2.8622862532965785,
          2.8608097156035326,
          2.8478901455983054,
          2.8091529632342986,
          2.745191451038501,
          2.6588160611810996,
          2.433621132545238,
          2.2106005622599554,
          1.9678937739253513,
          1.72389470402863,
          1.4778644295875423,
          1.2300188327495563,
          0.9894463818451127,
          0.7695688311460451,
          0.5712093494626387,
          0.3981284664931969,
          0.3650912300044921,
          0.32208146787622305,
          0.29239797706139786,
          0.2581972578138716,
          0.22419965078498807,
          0.19931832979462372,
          0.18441061076009807,
          0.19617766544690943,
          0.24135217825586391,
          0.3169750576072404,
          0.4144911266268271,
          0.5387336843080128,
          0.6735676409176171,
          0.8131306614406885,
          0.9609151403825852,
          1.1072568193987404,
          1.2482025578150588,
          1.3565946483828473,
          1.4349371469783914,
          1.4881532907119497,
          1.5290123982186732,
          1.5461746675614543,
          1.5494635257080742,
          1.5333353338968814,
          1.4772740927240002,
          1.3848189318879842,
          1.2752598746767618,
          1.1703766991143258,
          1.061407742850636,
          0.9546312585989863,
          0.8433181698511151,
          0.726557534319401,
          0.6136669084259048,
          0.5198861305674538,
          0.44546347850586965,
          0.3955505723271962,
          0.3580985722045357,
          0.32175895328436016,
          0.290366585697518,
          0.2560713411005228,
          0.22758024996444673,
          0.23347070942553194,
          0.28497542635454653,
          0.38149882216221326,
          0.4965997822760729,
          0.6165343940101289,
          0.7406682113324939,
          0.8731018071375765,
          1.002877617232938,
          1.1265965330667254,
          1.2453645297037037,
          1.3412184155595495,
          1.3881779241795975,
          1.36932443673634,
          1.3153525247461109,
          1.2361732910219938,
          1.1413343148538708,
          1.030173954895253,
          0.9233008122456446,
          0.817271756384492,
          0.7076331910905118,
          0.5970724700730438,
          0.48598378627448335,
          0.3893235204249772,
          0.2572030909402251,
          0.2696723779406348,
          0.22063576354806444,
          0.19107357201839284
         ]
        }
       ],
       "layout": {
        "height": 600,
        "legend": {
         "bgcolor": "rgba(255, 255, 255, 0.8)",
         "bordercolor": "Black",
         "borderwidth": 2,
         "font": {
          "size": 30
         },
         "itemsizing": "constant",
         "itemwidth": 40,
         "traceorder": "normal",
         "x": 0.01,
         "y": 0.99
        },
        "template": {
         "data": {
          "bar": [
           {
            "error_x": {
             "color": "#2a3f5f"
            },
            "error_y": {
             "color": "#2a3f5f"
            },
            "marker": {
             "line": {
              "color": "#E5ECF6",
              "width": 0.5
             },
             "pattern": {
              "fillmode": "overlay",
              "size": 10,
              "solidity": 0.2
             }
            },
            "type": "bar"
           }
          ],
          "barpolar": [
           {
            "marker": {
             "line": {
              "color": "#E5ECF6",
              "width": 0.5
             },
             "pattern": {
              "fillmode": "overlay",
              "size": 10,
              "solidity": 0.2
             }
            },
            "type": "barpolar"
           }
          ],
          "carpet": [
           {
            "aaxis": {
             "endlinecolor": "#2a3f5f",
             "gridcolor": "white",
             "linecolor": "white",
             "minorgridcolor": "white",
             "startlinecolor": "#2a3f5f"
            },
            "baxis": {
             "endlinecolor": "#2a3f5f",
             "gridcolor": "white",
             "linecolor": "white",
             "minorgridcolor": "white",
             "startlinecolor": "#2a3f5f"
            },
            "type": "carpet"
           }
          ],
          "choropleth": [
           {
            "colorbar": {
             "outlinewidth": 0,
             "ticks": ""
            },
            "type": "choropleth"
           }
          ],
          "contour": [
           {
            "colorbar": {
             "outlinewidth": 0,
             "ticks": ""
            },
            "colorscale": [
             [
              0,
              "#0d0887"
             ],
             [
              0.1111111111111111,
              "#46039f"
             ],
             [
              0.2222222222222222,
              "#7201a8"
             ],
             [
              0.3333333333333333,
              "#9c179e"
             ],
             [
              0.4444444444444444,
              "#bd3786"
             ],
             [
              0.5555555555555556,
              "#d8576b"
             ],
             [
              0.6666666666666666,
              "#ed7953"
             ],
             [
              0.7777777777777778,
              "#fb9f3a"
             ],
             [
              0.8888888888888888,
              "#fdca26"
             ],
             [
              1,
              "#f0f921"
             ]
            ],
            "type": "contour"
           }
          ],
          "contourcarpet": [
           {
            "colorbar": {
             "outlinewidth": 0,
             "ticks": ""
            },
            "type": "contourcarpet"
           }
          ],
          "heatmap": [
           {
            "colorbar": {
             "outlinewidth": 0,
             "ticks": ""
            },
            "colorscale": [
             [
              0,
              "#0d0887"
             ],
             [
              0.1111111111111111,
              "#46039f"
             ],
             [
              0.2222222222222222,
              "#7201a8"
             ],
             [
              0.3333333333333333,
              "#9c179e"
             ],
             [
              0.4444444444444444,
              "#bd3786"
             ],
             [
              0.5555555555555556,
              "#d8576b"
             ],
             [
              0.6666666666666666,
              "#ed7953"
             ],
             [
              0.7777777777777778,
              "#fb9f3a"
             ],
             [
              0.8888888888888888,
              "#fdca26"
             ],
             [
              1,
              "#f0f921"
             ]
            ],
            "type": "heatmap"
           }
          ],
          "heatmapgl": [
           {
            "colorbar": {
             "outlinewidth": 0,
             "ticks": ""
            },
            "colorscale": [
             [
              0,
              "#0d0887"
             ],
             [
              0.1111111111111111,
              "#46039f"
             ],
             [
              0.2222222222222222,
              "#7201a8"
             ],
             [
              0.3333333333333333,
              "#9c179e"
             ],
             [
              0.4444444444444444,
              "#bd3786"
             ],
             [
              0.5555555555555556,
              "#d8576b"
             ],
             [
              0.6666666666666666,
              "#ed7953"
             ],
             [
              0.7777777777777778,
              "#fb9f3a"
             ],
             [
              0.8888888888888888,
              "#fdca26"
             ],
             [
              1,
              "#f0f921"
             ]
            ],
            "type": "heatmapgl"
           }
          ],
          "histogram": [
           {
            "marker": {
             "pattern": {
              "fillmode": "overlay",
              "size": 10,
              "solidity": 0.2
             }
            },
            "type": "histogram"
           }
          ],
          "histogram2d": [
           {
            "colorbar": {
             "outlinewidth": 0,
             "ticks": ""
            },
            "colorscale": [
             [
              0,
              "#0d0887"
             ],
             [
              0.1111111111111111,
              "#46039f"
             ],
             [
              0.2222222222222222,
              "#7201a8"
             ],
             [
              0.3333333333333333,
              "#9c179e"
             ],
             [
              0.4444444444444444,
              "#bd3786"
             ],
             [
              0.5555555555555556,
              "#d8576b"
             ],
             [
              0.6666666666666666,
              "#ed7953"
             ],
             [
              0.7777777777777778,
              "#fb9f3a"
             ],
             [
              0.8888888888888888,
              "#fdca26"
             ],
             [
              1,
              "#f0f921"
             ]
            ],
            "type": "histogram2d"
           }
          ],
          "histogram2dcontour": [
           {
            "colorbar": {
             "outlinewidth": 0,
             "ticks": ""
            },
            "colorscale": [
             [
              0,
              "#0d0887"
             ],
             [
              0.1111111111111111,
              "#46039f"
             ],
             [
              0.2222222222222222,
              "#7201a8"
             ],
             [
              0.3333333333333333,
              "#9c179e"
             ],
             [
              0.4444444444444444,
              "#bd3786"
             ],
             [
              0.5555555555555556,
              "#d8576b"
             ],
             [
              0.6666666666666666,
              "#ed7953"
             ],
             [
              0.7777777777777778,
              "#fb9f3a"
             ],
             [
              0.8888888888888888,
              "#fdca26"
             ],
             [
              1,
              "#f0f921"
             ]
            ],
            "type": "histogram2dcontour"
           }
          ],
          "mesh3d": [
           {
            "colorbar": {
             "outlinewidth": 0,
             "ticks": ""
            },
            "type": "mesh3d"
           }
          ],
          "parcoords": [
           {
            "line": {
             "colorbar": {
              "outlinewidth": 0,
              "ticks": ""
             }
            },
            "type": "parcoords"
           }
          ],
          "pie": [
           {
            "automargin": true,
            "type": "pie"
           }
          ],
          "scatter": [
           {
            "fillpattern": {
             "fillmode": "overlay",
             "size": 10,
             "solidity": 0.2
            },
            "type": "scatter"
           }
          ],
          "scatter3d": [
           {
            "line": {
             "colorbar": {
              "outlinewidth": 0,
              "ticks": ""
             }
            },
            "marker": {
             "colorbar": {
              "outlinewidth": 0,
              "ticks": ""
             }
            },
            "type": "scatter3d"
           }
          ],
          "scattercarpet": [
           {
            "marker": {
             "colorbar": {
              "outlinewidth": 0,
              "ticks": ""
             }
            },
            "type": "scattercarpet"
           }
          ],
          "scattergeo": [
           {
            "marker": {
             "colorbar": {
              "outlinewidth": 0,
              "ticks": ""
             }
            },
            "type": "scattergeo"
           }
          ],
          "scattergl": [
           {
            "marker": {
             "colorbar": {
              "outlinewidth": 0,
              "ticks": ""
             }
            },
            "type": "scattergl"
           }
          ],
          "scattermapbox": [
           {
            "marker": {
             "colorbar": {
              "outlinewidth": 0,
              "ticks": ""
             }
            },
            "type": "scattermapbox"
           }
          ],
          "scatterpolar": [
           {
            "marker": {
             "colorbar": {
              "outlinewidth": 0,
              "ticks": ""
             }
            },
            "type": "scatterpolar"
           }
          ],
          "scatterpolargl": [
           {
            "marker": {
             "colorbar": {
              "outlinewidth": 0,
              "ticks": ""
             }
            },
            "type": "scatterpolargl"
           }
          ],
          "scatterternary": [
           {
            "marker": {
             "colorbar": {
              "outlinewidth": 0,
              "ticks": ""
             }
            },
            "type": "scatterternary"
           }
          ],
          "surface": [
           {
            "colorbar": {
             "outlinewidth": 0,
             "ticks": ""
            },
            "colorscale": [
             [
              0,
              "#0d0887"
             ],
             [
              0.1111111111111111,
              "#46039f"
             ],
             [
              0.2222222222222222,
              "#7201a8"
             ],
             [
              0.3333333333333333,
              "#9c179e"
             ],
             [
              0.4444444444444444,
              "#bd3786"
             ],
             [
              0.5555555555555556,
              "#d8576b"
             ],
             [
              0.6666666666666666,
              "#ed7953"
             ],
             [
              0.7777777777777778,
              "#fb9f3a"
             ],
             [
              0.8888888888888888,
              "#fdca26"
             ],
             [
              1,
              "#f0f921"
             ]
            ],
            "type": "surface"
           }
          ],
          "table": [
           {
            "cells": {
             "fill": {
              "color": "#EBF0F8"
             },
             "line": {
              "color": "white"
             }
            },
            "header": {
             "fill": {
              "color": "#C8D4E3"
             },
             "line": {
              "color": "white"
             }
            },
            "type": "table"
           }
          ]
         },
         "layout": {
          "annotationdefaults": {
           "arrowcolor": "#2a3f5f",
           "arrowhead": 0,
           "arrowwidth": 1
          },
          "autotypenumbers": "strict",
          "coloraxis": {
           "colorbar": {
            "outlinewidth": 0,
            "ticks": ""
           }
          },
          "colorscale": {
           "diverging": [
            [
             0,
             "#8e0152"
            ],
            [
             0.1,
             "#c51b7d"
            ],
            [
             0.2,
             "#de77ae"
            ],
            [
             0.3,
             "#f1b6da"
            ],
            [
             0.4,
             "#fde0ef"
            ],
            [
             0.5,
             "#f7f7f7"
            ],
            [
             0.6,
             "#e6f5d0"
            ],
            [
             0.7,
             "#b8e186"
            ],
            [
             0.8,
             "#7fbc41"
            ],
            [
             0.9,
             "#4d9221"
            ],
            [
             1,
             "#276419"
            ]
           ],
           "sequential": [
            [
             0,
             "#0d0887"
            ],
            [
             0.1111111111111111,
             "#46039f"
            ],
            [
             0.2222222222222222,
             "#7201a8"
            ],
            [
             0.3333333333333333,
             "#9c179e"
            ],
            [
             0.4444444444444444,
             "#bd3786"
            ],
            [
             0.5555555555555556,
             "#d8576b"
            ],
            [
             0.6666666666666666,
             "#ed7953"
            ],
            [
             0.7777777777777778,
             "#fb9f3a"
            ],
            [
             0.8888888888888888,
             "#fdca26"
            ],
            [
             1,
             "#f0f921"
            ]
           ],
           "sequentialminus": [
            [
             0,
             "#0d0887"
            ],
            [
             0.1111111111111111,
             "#46039f"
            ],
            [
             0.2222222222222222,
             "#7201a8"
            ],
            [
             0.3333333333333333,
             "#9c179e"
            ],
            [
             0.4444444444444444,
             "#bd3786"
            ],
            [
             0.5555555555555556,
             "#d8576b"
            ],
            [
             0.6666666666666666,
             "#ed7953"
            ],
            [
             0.7777777777777778,
             "#fb9f3a"
            ],
            [
             0.8888888888888888,
             "#fdca26"
            ],
            [
             1,
             "#f0f921"
            ]
           ]
          },
          "colorway": [
           "#636efa",
           "#EF553B",
           "#00cc96",
           "#ab63fa",
           "#FFA15A",
           "#19d3f3",
           "#FF6692",
           "#B6E880",
           "#FF97FF",
           "#FECB52"
          ],
          "font": {
           "color": "#2a3f5f"
          },
          "geo": {
           "bgcolor": "white",
           "lakecolor": "white",
           "landcolor": "#E5ECF6",
           "showlakes": true,
           "showland": true,
           "subunitcolor": "white"
          },
          "hoverlabel": {
           "align": "left"
          },
          "hovermode": "closest",
          "mapbox": {
           "style": "light"
          },
          "paper_bgcolor": "white",
          "plot_bgcolor": "#E5ECF6",
          "polar": {
           "angularaxis": {
            "gridcolor": "white",
            "linecolor": "white",
            "ticks": ""
           },
           "bgcolor": "#E5ECF6",
           "radialaxis": {
            "gridcolor": "white",
            "linecolor": "white",
            "ticks": ""
           }
          },
          "scene": {
           "xaxis": {
            "backgroundcolor": "#E5ECF6",
            "gridcolor": "white",
            "gridwidth": 2,
            "linecolor": "white",
            "showbackground": true,
            "ticks": "",
            "zerolinecolor": "white"
           },
           "yaxis": {
            "backgroundcolor": "#E5ECF6",
            "gridcolor": "white",
            "gridwidth": 2,
            "linecolor": "white",
            "showbackground": true,
            "ticks": "",
            "zerolinecolor": "white"
           },
           "zaxis": {
            "backgroundcolor": "#E5ECF6",
            "gridcolor": "white",
            "gridwidth": 2,
            "linecolor": "white",
            "showbackground": true,
            "ticks": "",
            "zerolinecolor": "white"
           }
          },
          "shapedefaults": {
           "line": {
            "color": "#2a3f5f"
           }
          },
          "ternary": {
           "aaxis": {
            "gridcolor": "white",
            "linecolor": "white",
            "ticks": ""
           },
           "baxis": {
            "gridcolor": "white",
            "linecolor": "white",
            "ticks": ""
           },
           "bgcolor": "#E5ECF6",
           "caxis": {
            "gridcolor": "white",
            "linecolor": "white",
            "ticks": ""
           }
          },
          "title": {
           "x": 0.05
          },
          "xaxis": {
           "automargin": true,
           "gridcolor": "white",
           "linecolor": "white",
           "ticks": "",
           "title": {
            "standoff": 15
           },
           "zerolinecolor": "white",
           "zerolinewidth": 2
          },
          "yaxis": {
           "automargin": true,
           "gridcolor": "white",
           "linecolor": "white",
           "ticks": "",
           "title": {
            "standoff": 15
           },
           "zerolinecolor": "white",
           "zerolinewidth": 2
          }
         }
        },
        "title": {
         "font": {
          "size": 30
         },
         "text": "Raw Orientation Data Visualization"
        },
        "width": 1200,
        "xaxis": {
         "title": {
          "font": {
           "size": 20
          },
          "text": "Time"
         }
        },
        "yaxis": {
         "title": {
          "font": {
           "size": 20
          },
          "text": "Radians"
         }
        }
       }
      }
     },
     "metadata": {},
     "output_type": "display_data"
    }
   ],
   "source": [
    "raw_orientation_df = smoothed_orientation_df.drop(columns=['Behavior', 'Status'], errors='ignore')\n",
    "display(raw_orientation_df.head())\n",
    "draw_plotly_new(raw_orientation_df, col=split_on, granular=True, title=\"Raw Orientation Data Visualization\")"
   ]
  },
  {
   "cell_type": "markdown",
   "id": "fb5b1c2a",
   "metadata": {},
   "source": [
    "# 3. Forecast Turns "
   ]
  },
  {
   "cell_type": "code",
   "execution_count": 9,
   "id": "06a99e17",
   "metadata": {},
   "outputs": [],
   "source": [
    "# !For now just copy entire section - later will ve extracted into something more readable\n",
    "\n",
    "df = raw_orientation_df.copy()\n",
    "col = \"yaw\"\n",
    "\n",
    "start_indices = np.random.randint(1, len(df), size=200)\n",
    "\n",
    "predicted_mins, predicted_maxs = gradient_descent_full(df, start_indices, learning_rate=0.054, steps=300, momentum=0.950, selected_col= col, printing=False)\n",
    "\n",
    "unique_predictions_mins, counts_mins = np.unique(predicted_mins, return_counts=True)\n",
    "unique_predictions_maxs, counts_maxs = np.unique(predicted_maxs, return_counts=True)\n",
    "\n",
    "new_mins, new_counts_min = merge_close_integers(unique_predictions_mins, counts_mins, threshold = 13)\n",
    "new_max, new_counts_max = merge_close_integers(unique_predictions_maxs, counts_maxs, threshold = 13)\n",
    "\n",
    "new_filtered_mins, new_filtered_mins_counts = remove_outliers(new_mins, new_counts_min, df, multiplier= 3.393, selected_col=col, boundary=\"upper\")\n",
    "new_filtered_max, new_filtered_maxs_counts = remove_outliers(new_max, new_counts_max, df, 3.393, selected_col=col, boundary=\"lower\")\n",
    "\n",
    "important_min, important_min_counts = filter_extremes(new_filtered_mins, new_filtered_mins_counts,threshold_int=0)\n",
    "important_max, important_max_counts = filter_extremes(new_filtered_max, new_filtered_maxs_counts,threshold_int=0)\n",
    "\n",
    "new_method_mins, new_method_max = align_min_max_lists_counts_order(important_min, important_max, important_min_counts, important_max_counts)\n",
    "interval_df = add_predicted_transitions_to_df(df, new_method_mins, new_method_max)\n"
   ]
  },
  {
   "cell_type": "code",
   "execution_count": 10,
   "id": "b6ac33a7",
   "metadata": {},
   "outputs": [
    {
     "data": {
      "text/html": [
       "<div>\n",
       "<style scoped>\n",
       "    .dataframe tbody tr th:only-of-type {\n",
       "        vertical-align: middle;\n",
       "    }\n",
       "\n",
       "    .dataframe tbody tr th {\n",
       "        vertical-align: top;\n",
       "    }\n",
       "\n",
       "    .dataframe thead th {\n",
       "        text-align: right;\n",
       "    }\n",
       "</style>\n",
       "<table border=\"1\" class=\"dataframe\">\n",
       "  <thead>\n",
       "    <tr style=\"text-align: right;\">\n",
       "      <th></th>\n",
       "      <th>qz</th>\n",
       "      <th>qy</th>\n",
       "      <th>qx</th>\n",
       "      <th>qw</th>\n",
       "      <th>roll</th>\n",
       "      <th>pitch</th>\n",
       "      <th>yaw</th>\n",
       "      <th>Predicted</th>\n",
       "    </tr>\n",
       "    <tr>\n",
       "      <th>time</th>\n",
       "      <th></th>\n",
       "      <th></th>\n",
       "      <th></th>\n",
       "      <th></th>\n",
       "      <th></th>\n",
       "      <th></th>\n",
       "      <th></th>\n",
       "      <th></th>\n",
       "    </tr>\n",
       "  </thead>\n",
       "  <tbody>\n",
       "    <tr>\n",
       "      <th>2024-03-22 12:49:29.900</th>\n",
       "      <td>-0.699230</td>\n",
       "      <td>-0.696761</td>\n",
       "      <td>-0.157973</td>\n",
       "      <td>0.025403</td>\n",
       "      <td>1.592382</td>\n",
       "      <td>-0.259212</td>\n",
       "      <td>2.949417</td>\n",
       "      <td>right</td>\n",
       "    </tr>\n",
       "    <tr>\n",
       "      <th>2024-03-22 12:49:30.000</th>\n",
       "      <td>-0.704745</td>\n",
       "      <td>-0.681315</td>\n",
       "      <td>-0.193328</td>\n",
       "      <td>0.042032</td>\n",
       "      <td>1.574114</td>\n",
       "      <td>-0.336058</td>\n",
       "      <td>2.923579</td>\n",
       "      <td>right</td>\n",
       "    </tr>\n",
       "    <tr>\n",
       "      <th>2024-03-22 12:49:30.100</th>\n",
       "      <td>-0.701866</td>\n",
       "      <td>-0.665604</td>\n",
       "      <td>-0.236985</td>\n",
       "      <td>0.090509</td>\n",
       "      <td>1.568980</td>\n",
       "      <td>-0.470295</td>\n",
       "      <td>2.928611</td>\n",
       "      <td>right</td>\n",
       "    </tr>\n",
       "    <tr>\n",
       "      <th>2024-03-22 12:49:30.200</th>\n",
       "      <td>-0.707663</td>\n",
       "      <td>-0.642111</td>\n",
       "      <td>-0.278845</td>\n",
       "      <td>0.095662</td>\n",
       "      <td>1.547564</td>\n",
       "      <td>-0.543936</td>\n",
       "      <td>2.878292</td>\n",
       "      <td>right</td>\n",
       "    </tr>\n",
       "    <tr>\n",
       "      <th>2024-03-22 12:49:30.300</th>\n",
       "      <td>-0.704990</td>\n",
       "      <td>-0.605384</td>\n",
       "      <td>-0.358699</td>\n",
       "      <td>0.088502</td>\n",
       "      <td>1.558532</td>\n",
       "      <td>-0.659743</td>\n",
       "      <td>2.739093</td>\n",
       "      <td>right</td>\n",
       "    </tr>\n",
       "  </tbody>\n",
       "</table>\n",
       "</div>"
      ],
      "text/plain": [
       "                               qz        qy        qx        qw      roll  \\\n",
       "time                                                                        \n",
       "2024-03-22 12:49:29.900 -0.699230 -0.696761 -0.157973  0.025403  1.592382   \n",
       "2024-03-22 12:49:30.000 -0.704745 -0.681315 -0.193328  0.042032  1.574114   \n",
       "2024-03-22 12:49:30.100 -0.701866 -0.665604 -0.236985  0.090509  1.568980   \n",
       "2024-03-22 12:49:30.200 -0.707663 -0.642111 -0.278845  0.095662  1.547564   \n",
       "2024-03-22 12:49:30.300 -0.704990 -0.605384 -0.358699  0.088502  1.558532   \n",
       "\n",
       "                            pitch       yaw Predicted  \n",
       "time                                                   \n",
       "2024-03-22 12:49:29.900 -0.259212  2.949417     right  \n",
       "2024-03-22 12:49:30.000 -0.336058  2.923579     right  \n",
       "2024-03-22 12:49:30.100 -0.470295  2.928611     right  \n",
       "2024-03-22 12:49:30.200 -0.543936  2.878292     right  \n",
       "2024-03-22 12:49:30.300 -0.659743  2.739093     right  "
      ]
     },
     "metadata": {},
     "output_type": "display_data"
    },
    {
     "data": {
      "application/vnd.plotly.v1+json": {
       "config": {
        "plotlyServerURL": "https://plot.ly",
        "toImageButtonOptions": {
         "filename": "custom_image",
         "format": "png",
         "scale": 6
        }
       },
       "data": [
        {
         "marker": {
          "color": "green"
         },
         "mode": "markers",
         "name": "Predicted left",
         "type": "scatter",
         "x": [
          "2024-03-22T12:49:31.300000",
          "2024-03-22T12:49:31.400000",
          "2024-03-22T12:49:31.500000",
          "2024-03-22T12:49:31.600000",
          "2024-03-22T12:49:31.700000",
          "2024-03-22T12:49:31.800000",
          "2024-03-22T12:49:31.900000",
          "2024-03-22T12:49:32",
          "2024-03-22T12:49:32.100000",
          "2024-03-22T12:49:32.200000",
          "2024-03-22T12:49:32.300000",
          "2024-03-22T12:49:33.400000",
          "2024-03-22T12:49:33.500000",
          "2024-03-22T12:49:33.600000",
          "2024-03-22T12:49:33.700000",
          "2024-03-22T12:49:33.800000",
          "2024-03-22T12:49:33.900000",
          "2024-03-22T12:49:34",
          "2024-03-22T12:49:34.100000",
          "2024-03-22T12:49:34.200000",
          "2024-03-22T12:49:35.400000",
          "2024-03-22T12:49:35.500000",
          "2024-03-22T12:49:35.600000",
          "2024-03-22T12:49:35.700000",
          "2024-03-22T12:49:35.800000",
          "2024-03-22T12:49:35.900000",
          "2024-03-22T12:49:36",
          "2024-03-22T12:49:36.100000",
          "2024-03-22T12:49:36.200000",
          "2024-03-22T12:49:36.300000",
          "2024-03-22T12:49:36.400000",
          "2024-03-22T12:49:36.500000",
          "2024-03-22T12:49:37.700000",
          "2024-03-22T12:49:37.800000",
          "2024-03-22T12:49:37.900000",
          "2024-03-22T12:49:38",
          "2024-03-22T12:49:38.100000",
          "2024-03-22T12:49:38.200000",
          "2024-03-22T12:49:38.300000",
          "2024-03-22T12:49:38.400000",
          "2024-03-22T12:49:38.500000",
          "2024-03-22T12:49:38.600000",
          "2024-03-22T12:49:39.800000",
          "2024-03-22T12:49:39.900000",
          "2024-03-22T12:49:40",
          "2024-03-22T12:49:40.100000",
          "2024-03-22T12:49:40.200000",
          "2024-03-22T12:49:40.300000",
          "2024-03-22T12:49:40.400000",
          "2024-03-22T12:49:40.500000",
          "2024-03-22T12:49:40.600000",
          "2024-03-22T12:49:42.800000",
          "2024-03-22T12:49:42.900000",
          "2024-03-22T12:49:43",
          "2024-03-22T12:49:43.100000",
          "2024-03-22T12:49:43.200000",
          "2024-03-22T12:49:43.300000",
          "2024-03-22T12:49:43.400000",
          "2024-03-22T12:49:43.500000",
          "2024-03-22T12:49:43.600000",
          "2024-03-22T12:49:43.700000",
          "2024-03-22T12:49:43.800000",
          "2024-03-22T12:49:44.900000",
          "2024-03-22T12:49:45",
          "2024-03-22T12:49:45.100000",
          "2024-03-22T12:49:45.200000",
          "2024-03-22T12:49:45.300000",
          "2024-03-22T12:49:45.400000",
          "2024-03-22T12:49:45.500000",
          "2024-03-22T12:49:45.600000",
          "2024-03-22T12:49:45.700000",
          "2024-03-22T12:49:45.800000",
          "2024-03-22T12:49:45.900000",
          "2024-03-22T12:49:46",
          "2024-03-22T12:49:46.100000",
          "2024-03-22T12:49:46.200000",
          "2024-03-22T12:49:46.300000",
          "2024-03-22T12:49:46.400000",
          "2024-03-22T12:49:48.700000",
          "2024-03-22T12:49:48.800000",
          "2024-03-22T12:49:48.900000",
          "2024-03-22T12:49:49",
          "2024-03-22T12:49:49.100000",
          "2024-03-22T12:49:49.200000",
          "2024-03-22T12:49:49.300000",
          "2024-03-22T12:49:49.400000",
          "2024-03-22T12:49:49.500000",
          "2024-03-22T12:49:49.600000",
          "2024-03-22T12:49:49.700000",
          "2024-03-22T12:49:49.800000",
          "2024-03-22T12:49:49.900000",
          "2024-03-22T12:49:50",
          "2024-03-22T12:49:50.100000",
          "2024-03-22T12:49:52.100000",
          "2024-03-22T12:49:52.200000",
          "2024-03-22T12:49:52.300000",
          "2024-03-22T12:49:52.400000",
          "2024-03-22T12:49:52.500000",
          "2024-03-22T12:49:52.600000",
          "2024-03-22T12:49:52.700000",
          "2024-03-22T12:49:52.800000",
          "2024-03-22T12:49:52.900000",
          "2024-03-22T12:49:53",
          "2024-03-22T12:49:53.100000",
          "2024-03-22T12:49:53.200000",
          "2024-03-22T12:49:54.800000"
         ],
         "y": [
          1.985346152748048,
          1.9981117969650009,
          2.0448961333902886,
          2.117810408107668,
          2.2144833841159675,
          2.3187692441367354,
          2.4120568669012834,
          2.4945823331242662,
          2.5724311572903065,
          2.6517277668616765,
          2.718108611574185,
          2.158355036992472,
          2.2056135753612685,
          2.2800509134168245,
          2.379609316997775,
          2.4777720118252753,
          2.567146241165192,
          2.663153766400802,
          2.7458909690497775,
          2.8132017786064685,
          2.013904898286204,
          2.0475145891541304,
          2.0954980461934367,
          2.187149954983929,
          2.2622614694175516,
          2.3555008368811277,
          2.4449143054740667,
          2.5490208952615996,
          2.649418025296648,
          2.7281866005321693,
          2.799367819192157,
          2.8527318223754756,
          2.0026717561741445,
          2.0268485654764086,
          2.080274305524335,
          2.156362375896518,
          2.2359985510464098,
          2.3063108803814476,
          2.379117666995495,
          2.4595033987969073,
          2.5443032528907628,
          2.622112002853707,
          1.9587140034587087,
          1.990437477602783,
          2.046071078195822,
          2.1183038178486084,
          2.198441826597044,
          2.27536396685094,
          2.35388453554702,
          2.440076005528904,
          2.507875011289692,
          1.6465907916346985,
          1.6512869974329942,
          1.6767155826665614,
          1.7283640716526645,
          1.7991362573695764,
          1.8810725533359238,
          1.9658526910270453,
          2.0479574612781715,
          2.131244547665339,
          2.2105673385620004,
          2.2855926550310284,
          1.7448329291654754,
          1.7554646344427556,
          1.7968666479072126,
          1.8477619760630097,
          1.9126976663477897,
          2.0005021613575393,
          2.1219558411616606,
          2.250477131159882,
          2.378953310504386,
          2.509267053036361,
          2.6250979113467157,
          2.7142090892020105,
          2.764962337397764,
          2.8070017121158504,
          2.8345898935324314,
          2.8558145986551398,
          0.18441061076009807,
          0.19617766544690943,
          0.24135217825586391,
          0.3169750576072404,
          0.4144911266268271,
          0.5387336843080128,
          0.6735676409176171,
          0.8131306614406885,
          0.9609151403825852,
          1.1072568193987404,
          1.2482025578150588,
          1.3565946483828473,
          1.4349371469783914,
          1.4881532907119497,
          1.5290123982186732,
          0.22758024996444673,
          0.23347070942553194,
          0.28497542635454653,
          0.38149882216221326,
          0.4965997822760729,
          0.6165343940101289,
          0.7406682113324939,
          0.8731018071375765,
          1.002877617232938,
          1.1265965330667254,
          1.2453645297037037,
          1.3412184155595495,
          0.19107357201839284
         ]
        },
        {
         "marker": {
          "color": "blue"
         },
         "mode": "markers",
         "name": "Predicted right",
         "type": "scatter",
         "x": [
          "2024-03-22T12:49:29.900000",
          "2024-03-22T12:49:30",
          "2024-03-22T12:49:30.100000",
          "2024-03-22T12:49:30.200000",
          "2024-03-22T12:49:30.300000",
          "2024-03-22T12:49:30.400000",
          "2024-03-22T12:49:30.500000",
          "2024-03-22T12:49:30.600000",
          "2024-03-22T12:49:30.700000",
          "2024-03-22T12:49:30.800000",
          "2024-03-22T12:49:30.900000",
          "2024-03-22T12:49:31",
          "2024-03-22T12:49:31.100000",
          "2024-03-22T12:49:31.200000",
          "2024-03-22T12:49:32.400000",
          "2024-03-22T12:49:32.500000",
          "2024-03-22T12:49:32.600000",
          "2024-03-22T12:49:32.700000",
          "2024-03-22T12:49:32.800000",
          "2024-03-22T12:49:32.900000",
          "2024-03-22T12:49:33",
          "2024-03-22T12:49:33.100000",
          "2024-03-22T12:49:33.200000",
          "2024-03-22T12:49:33.300000",
          "2024-03-22T12:49:34.300000",
          "2024-03-22T12:49:34.400000",
          "2024-03-22T12:49:34.500000",
          "2024-03-22T12:49:34.600000",
          "2024-03-22T12:49:34.700000",
          "2024-03-22T12:49:34.800000",
          "2024-03-22T12:49:34.900000",
          "2024-03-22T12:49:35",
          "2024-03-22T12:49:35.100000",
          "2024-03-22T12:49:35.200000",
          "2024-03-22T12:49:35.300000",
          "2024-03-22T12:49:36.600000",
          "2024-03-22T12:49:36.700000",
          "2024-03-22T12:49:36.800000",
          "2024-03-22T12:49:36.900000",
          "2024-03-22T12:49:37",
          "2024-03-22T12:49:37.100000",
          "2024-03-22T12:49:37.200000",
          "2024-03-22T12:49:37.300000",
          "2024-03-22T12:49:37.400000",
          "2024-03-22T12:49:37.500000",
          "2024-03-22T12:49:37.600000",
          "2024-03-22T12:49:38.700000",
          "2024-03-22T12:49:38.800000",
          "2024-03-22T12:49:38.900000",
          "2024-03-22T12:49:39",
          "2024-03-22T12:49:39.100000",
          "2024-03-22T12:49:39.200000",
          "2024-03-22T12:49:39.300000",
          "2024-03-22T12:49:39.400000",
          "2024-03-22T12:49:39.500000",
          "2024-03-22T12:49:39.600000",
          "2024-03-22T12:49:39.700000",
          "2024-03-22T12:49:40.700000",
          "2024-03-22T12:49:40.800000",
          "2024-03-22T12:49:40.900000",
          "2024-03-22T12:49:41",
          "2024-03-22T12:49:41.100000",
          "2024-03-22T12:49:41.200000",
          "2024-03-22T12:49:41.300000",
          "2024-03-22T12:49:41.400000",
          "2024-03-22T12:49:41.500000",
          "2024-03-22T12:49:41.600000",
          "2024-03-22T12:49:41.700000",
          "2024-03-22T12:49:41.800000",
          "2024-03-22T12:49:41.900000",
          "2024-03-22T12:49:42",
          "2024-03-22T12:49:42.100000",
          "2024-03-22T12:49:42.200000",
          "2024-03-22T12:49:42.300000",
          "2024-03-22T12:49:42.400000",
          "2024-03-22T12:49:42.500000",
          "2024-03-22T12:49:42.600000",
          "2024-03-22T12:49:42.700000",
          "2024-03-22T12:49:43.900000",
          "2024-03-22T12:49:44",
          "2024-03-22T12:49:44.100000",
          "2024-03-22T12:49:44.200000",
          "2024-03-22T12:49:44.300000",
          "2024-03-22T12:49:44.400000",
          "2024-03-22T12:49:44.500000",
          "2024-03-22T12:49:44.600000",
          "2024-03-22T12:49:44.700000",
          "2024-03-22T12:49:44.800000",
          "2024-03-22T12:49:46.500000",
          "2024-03-22T12:49:46.600000",
          "2024-03-22T12:49:46.700000",
          "2024-03-22T12:49:46.800000",
          "2024-03-22T12:49:46.900000",
          "2024-03-22T12:49:47",
          "2024-03-22T12:49:47.100000",
          "2024-03-22T12:49:47.200000",
          "2024-03-22T12:49:47.300000",
          "2024-03-22T12:49:47.400000",
          "2024-03-22T12:49:47.500000",
          "2024-03-22T12:49:47.600000",
          "2024-03-22T12:49:47.700000",
          "2024-03-22T12:49:47.800000",
          "2024-03-22T12:49:47.900000",
          "2024-03-22T12:49:48",
          "2024-03-22T12:49:48.100000",
          "2024-03-22T12:49:48.200000",
          "2024-03-22T12:49:48.300000",
          "2024-03-22T12:49:48.400000",
          "2024-03-22T12:49:48.500000",
          "2024-03-22T12:49:48.600000",
          "2024-03-22T12:49:50.200000",
          "2024-03-22T12:49:50.300000",
          "2024-03-22T12:49:50.400000",
          "2024-03-22T12:49:50.500000",
          "2024-03-22T12:49:50.600000",
          "2024-03-22T12:49:50.700000",
          "2024-03-22T12:49:50.800000",
          "2024-03-22T12:49:50.900000",
          "2024-03-22T12:49:51",
          "2024-03-22T12:49:51.100000",
          "2024-03-22T12:49:51.200000",
          "2024-03-22T12:49:51.300000",
          "2024-03-22T12:49:51.400000",
          "2024-03-22T12:49:51.500000",
          "2024-03-22T12:49:51.600000",
          "2024-03-22T12:49:51.700000",
          "2024-03-22T12:49:51.800000",
          "2024-03-22T12:49:51.900000",
          "2024-03-22T12:49:52",
          "2024-03-22T12:49:53.300000",
          "2024-03-22T12:49:53.400000",
          "2024-03-22T12:49:53.500000",
          "2024-03-22T12:49:53.600000",
          "2024-03-22T12:49:53.700000",
          "2024-03-22T12:49:53.800000",
          "2024-03-22T12:49:53.900000",
          "2024-03-22T12:49:54",
          "2024-03-22T12:49:54.100000",
          "2024-03-22T12:49:54.200000",
          "2024-03-22T12:49:54.300000",
          "2024-03-22T12:49:54.400000",
          "2024-03-22T12:49:54.500000",
          "2024-03-22T12:49:54.600000",
          "2024-03-22T12:49:54.700000"
         ],
         "y": [
          2.9494172174330373,
          2.923579168733853,
          2.9286113966616356,
          2.8782920496185262,
          2.7390934115438523,
          2.6221525524842706,
          2.5297163627459156,
          2.437126592701323,
          2.3353458563326437,
          2.2392441924433393,
          2.1603551261993243,
          2.0932849527837885,
          2.0412288444785838,
          2.003436389751535,
          2.7538168824365723,
          2.747478354370935,
          2.699779328884984,
          2.61674089639465,
          2.5208013239762925,
          2.434728744333941,
          2.3521355481587696,
          2.2805449500924504,
          2.2111856459021135,
          2.1636687026521777,
          2.846834161576258,
          2.8399227628340866,
          2.749878832306736,
          2.6637757058628457,
          2.547565916789291,
          2.4567110042098186,
          2.3615342668401285,
          2.2690073612123816,
          2.1742935404173456,
          2.093464047747268,
          2.043447179469493,
          2.868682256441251,
          2.841147856588693,
          2.774747149601965,
          2.695536870209806,
          2.6071653877518086,
          2.510733089237375,
          2.416880955462812,
          2.3248344450654796,
          2.2262460337920187,
          2.129455136148804,
          2.04209765975328,
          2.662400219873267,
          2.652039005540252,
          2.602145654857663,
          2.5221766045042164,
          2.4303769213981847,
          2.3466883970947032,
          2.266639709119871,
          2.182597068141596,
          2.086645813677748,
          2.003396008784712,
          1.956326427323194,
          2.535733536660345,
          2.5198739803491947,
          2.481427150412239,
          2.4323626202872615,
          2.3694273338698766,
          2.2972074502241906,
          2.2233590570067476,
          2.1465602070722003,
          2.0665084818154207,
          1.9994174721236504,
          1.9524927748135084,
          1.9169840421711448,
          1.8812787277877099,
          1.8507953134622088,
          1.8251828589485921,
          1.7983220188955058,
          1.7678948519023687,
          1.7363369899564358,
          1.7076867113821481,
          1.6815163611178836,
          1.6596587796020301,
          2.3289119845669544,
          2.3183852866343346,
          2.2817549307042064,
          2.2287909099956424,
          2.1740906096871155,
          2.1089594729719296,
          2.032297955199735,
          1.9508949240006046,
          1.8660950254636035,
          1.7862705943185113,
          2.8622862532965785,
          2.8608097156035326,
          2.8478901455983054,
          2.8091529632342986,
          2.745191451038501,
          2.6588160611810996,
          2.433621132545238,
          2.2106005622599554,
          1.9678937739253513,
          1.72389470402863,
          1.4778644295875423,
          1.2300188327495563,
          0.9894463818451127,
          0.7695688311460451,
          0.5712093494626387,
          0.3981284664931969,
          0.3650912300044921,
          0.32208146787622305,
          0.29239797706139786,
          0.2581972578138716,
          0.22419965078498807,
          0.19931832979462372,
          1.5461746675614543,
          1.5494635257080742,
          1.5333353338968814,
          1.4772740927240002,
          1.3848189318879842,
          1.2752598746767618,
          1.1703766991143258,
          1.061407742850636,
          0.9546312585989863,
          0.8433181698511151,
          0.726557534319401,
          0.6136669084259048,
          0.5198861305674538,
          0.44546347850586965,
          0.3955505723271962,
          0.3580985722045357,
          0.32175895328436016,
          0.290366585697518,
          0.2560713411005228,
          1.3881779241795975,
          1.36932443673634,
          1.3153525247461109,
          1.2361732910219938,
          1.1413343148538708,
          1.030173954895253,
          0.9233008122456446,
          0.817271756384492,
          0.7076331910905118,
          0.5970724700730438,
          0.48598378627448335,
          0.3893235204249772,
          0.2572030909402251,
          0.2696723779406348,
          0.22063576354806444
         ]
        }
       ],
       "layout": {
        "height": 600,
        "legend": {
         "bgcolor": "rgba(255, 255, 255, 0.8)",
         "bordercolor": "Black",
         "borderwidth": 2,
         "font": {
          "size": 30
         },
         "itemsizing": "constant",
         "itemwidth": 40,
         "traceorder": "normal",
         "x": 0.01,
         "y": 0.99
        },
        "template": {
         "data": {
          "bar": [
           {
            "error_x": {
             "color": "#2a3f5f"
            },
            "error_y": {
             "color": "#2a3f5f"
            },
            "marker": {
             "line": {
              "color": "#E5ECF6",
              "width": 0.5
             },
             "pattern": {
              "fillmode": "overlay",
              "size": 10,
              "solidity": 0.2
             }
            },
            "type": "bar"
           }
          ],
          "barpolar": [
           {
            "marker": {
             "line": {
              "color": "#E5ECF6",
              "width": 0.5
             },
             "pattern": {
              "fillmode": "overlay",
              "size": 10,
              "solidity": 0.2
             }
            },
            "type": "barpolar"
           }
          ],
          "carpet": [
           {
            "aaxis": {
             "endlinecolor": "#2a3f5f",
             "gridcolor": "white",
             "linecolor": "white",
             "minorgridcolor": "white",
             "startlinecolor": "#2a3f5f"
            },
            "baxis": {
             "endlinecolor": "#2a3f5f",
             "gridcolor": "white",
             "linecolor": "white",
             "minorgridcolor": "white",
             "startlinecolor": "#2a3f5f"
            },
            "type": "carpet"
           }
          ],
          "choropleth": [
           {
            "colorbar": {
             "outlinewidth": 0,
             "ticks": ""
            },
            "type": "choropleth"
           }
          ],
          "contour": [
           {
            "colorbar": {
             "outlinewidth": 0,
             "ticks": ""
            },
            "colorscale": [
             [
              0,
              "#0d0887"
             ],
             [
              0.1111111111111111,
              "#46039f"
             ],
             [
              0.2222222222222222,
              "#7201a8"
             ],
             [
              0.3333333333333333,
              "#9c179e"
             ],
             [
              0.4444444444444444,
              "#bd3786"
             ],
             [
              0.5555555555555556,
              "#d8576b"
             ],
             [
              0.6666666666666666,
              "#ed7953"
             ],
             [
              0.7777777777777778,
              "#fb9f3a"
             ],
             [
              0.8888888888888888,
              "#fdca26"
             ],
             [
              1,
              "#f0f921"
             ]
            ],
            "type": "contour"
           }
          ],
          "contourcarpet": [
           {
            "colorbar": {
             "outlinewidth": 0,
             "ticks": ""
            },
            "type": "contourcarpet"
           }
          ],
          "heatmap": [
           {
            "colorbar": {
             "outlinewidth": 0,
             "ticks": ""
            },
            "colorscale": [
             [
              0,
              "#0d0887"
             ],
             [
              0.1111111111111111,
              "#46039f"
             ],
             [
              0.2222222222222222,
              "#7201a8"
             ],
             [
              0.3333333333333333,
              "#9c179e"
             ],
             [
              0.4444444444444444,
              "#bd3786"
             ],
             [
              0.5555555555555556,
              "#d8576b"
             ],
             [
              0.6666666666666666,
              "#ed7953"
             ],
             [
              0.7777777777777778,
              "#fb9f3a"
             ],
             [
              0.8888888888888888,
              "#fdca26"
             ],
             [
              1,
              "#f0f921"
             ]
            ],
            "type": "heatmap"
           }
          ],
          "heatmapgl": [
           {
            "colorbar": {
             "outlinewidth": 0,
             "ticks": ""
            },
            "colorscale": [
             [
              0,
              "#0d0887"
             ],
             [
              0.1111111111111111,
              "#46039f"
             ],
             [
              0.2222222222222222,
              "#7201a8"
             ],
             [
              0.3333333333333333,
              "#9c179e"
             ],
             [
              0.4444444444444444,
              "#bd3786"
             ],
             [
              0.5555555555555556,
              "#d8576b"
             ],
             [
              0.6666666666666666,
              "#ed7953"
             ],
             [
              0.7777777777777778,
              "#fb9f3a"
             ],
             [
              0.8888888888888888,
              "#fdca26"
             ],
             [
              1,
              "#f0f921"
             ]
            ],
            "type": "heatmapgl"
           }
          ],
          "histogram": [
           {
            "marker": {
             "pattern": {
              "fillmode": "overlay",
              "size": 10,
              "solidity": 0.2
             }
            },
            "type": "histogram"
           }
          ],
          "histogram2d": [
           {
            "colorbar": {
             "outlinewidth": 0,
             "ticks": ""
            },
            "colorscale": [
             [
              0,
              "#0d0887"
             ],
             [
              0.1111111111111111,
              "#46039f"
             ],
             [
              0.2222222222222222,
              "#7201a8"
             ],
             [
              0.3333333333333333,
              "#9c179e"
             ],
             [
              0.4444444444444444,
              "#bd3786"
             ],
             [
              0.5555555555555556,
              "#d8576b"
             ],
             [
              0.6666666666666666,
              "#ed7953"
             ],
             [
              0.7777777777777778,
              "#fb9f3a"
             ],
             [
              0.8888888888888888,
              "#fdca26"
             ],
             [
              1,
              "#f0f921"
             ]
            ],
            "type": "histogram2d"
           }
          ],
          "histogram2dcontour": [
           {
            "colorbar": {
             "outlinewidth": 0,
             "ticks": ""
            },
            "colorscale": [
             [
              0,
              "#0d0887"
             ],
             [
              0.1111111111111111,
              "#46039f"
             ],
             [
              0.2222222222222222,
              "#7201a8"
             ],
             [
              0.3333333333333333,
              "#9c179e"
             ],
             [
              0.4444444444444444,
              "#bd3786"
             ],
             [
              0.5555555555555556,
              "#d8576b"
             ],
             [
              0.6666666666666666,
              "#ed7953"
             ],
             [
              0.7777777777777778,
              "#fb9f3a"
             ],
             [
              0.8888888888888888,
              "#fdca26"
             ],
             [
              1,
              "#f0f921"
             ]
            ],
            "type": "histogram2dcontour"
           }
          ],
          "mesh3d": [
           {
            "colorbar": {
             "outlinewidth": 0,
             "ticks": ""
            },
            "type": "mesh3d"
           }
          ],
          "parcoords": [
           {
            "line": {
             "colorbar": {
              "outlinewidth": 0,
              "ticks": ""
             }
            },
            "type": "parcoords"
           }
          ],
          "pie": [
           {
            "automargin": true,
            "type": "pie"
           }
          ],
          "scatter": [
           {
            "fillpattern": {
             "fillmode": "overlay",
             "size": 10,
             "solidity": 0.2
            },
            "type": "scatter"
           }
          ],
          "scatter3d": [
           {
            "line": {
             "colorbar": {
              "outlinewidth": 0,
              "ticks": ""
             }
            },
            "marker": {
             "colorbar": {
              "outlinewidth": 0,
              "ticks": ""
             }
            },
            "type": "scatter3d"
           }
          ],
          "scattercarpet": [
           {
            "marker": {
             "colorbar": {
              "outlinewidth": 0,
              "ticks": ""
             }
            },
            "type": "scattercarpet"
           }
          ],
          "scattergeo": [
           {
            "marker": {
             "colorbar": {
              "outlinewidth": 0,
              "ticks": ""
             }
            },
            "type": "scattergeo"
           }
          ],
          "scattergl": [
           {
            "marker": {
             "colorbar": {
              "outlinewidth": 0,
              "ticks": ""
             }
            },
            "type": "scattergl"
           }
          ],
          "scattermapbox": [
           {
            "marker": {
             "colorbar": {
              "outlinewidth": 0,
              "ticks": ""
             }
            },
            "type": "scattermapbox"
           }
          ],
          "scatterpolar": [
           {
            "marker": {
             "colorbar": {
              "outlinewidth": 0,
              "ticks": ""
             }
            },
            "type": "scatterpolar"
           }
          ],
          "scatterpolargl": [
           {
            "marker": {
             "colorbar": {
              "outlinewidth": 0,
              "ticks": ""
             }
            },
            "type": "scatterpolargl"
           }
          ],
          "scatterternary": [
           {
            "marker": {
             "colorbar": {
              "outlinewidth": 0,
              "ticks": ""
             }
            },
            "type": "scatterternary"
           }
          ],
          "surface": [
           {
            "colorbar": {
             "outlinewidth": 0,
             "ticks": ""
            },
            "colorscale": [
             [
              0,
              "#0d0887"
             ],
             [
              0.1111111111111111,
              "#46039f"
             ],
             [
              0.2222222222222222,
              "#7201a8"
             ],
             [
              0.3333333333333333,
              "#9c179e"
             ],
             [
              0.4444444444444444,
              "#bd3786"
             ],
             [
              0.5555555555555556,
              "#d8576b"
             ],
             [
              0.6666666666666666,
              "#ed7953"
             ],
             [
              0.7777777777777778,
              "#fb9f3a"
             ],
             [
              0.8888888888888888,
              "#fdca26"
             ],
             [
              1,
              "#f0f921"
             ]
            ],
            "type": "surface"
           }
          ],
          "table": [
           {
            "cells": {
             "fill": {
              "color": "#EBF0F8"
             },
             "line": {
              "color": "white"
             }
            },
            "header": {
             "fill": {
              "color": "#C8D4E3"
             },
             "line": {
              "color": "white"
             }
            },
            "type": "table"
           }
          ]
         },
         "layout": {
          "annotationdefaults": {
           "arrowcolor": "#2a3f5f",
           "arrowhead": 0,
           "arrowwidth": 1
          },
          "autotypenumbers": "strict",
          "coloraxis": {
           "colorbar": {
            "outlinewidth": 0,
            "ticks": ""
           }
          },
          "colorscale": {
           "diverging": [
            [
             0,
             "#8e0152"
            ],
            [
             0.1,
             "#c51b7d"
            ],
            [
             0.2,
             "#de77ae"
            ],
            [
             0.3,
             "#f1b6da"
            ],
            [
             0.4,
             "#fde0ef"
            ],
            [
             0.5,
             "#f7f7f7"
            ],
            [
             0.6,
             "#e6f5d0"
            ],
            [
             0.7,
             "#b8e186"
            ],
            [
             0.8,
             "#7fbc41"
            ],
            [
             0.9,
             "#4d9221"
            ],
            [
             1,
             "#276419"
            ]
           ],
           "sequential": [
            [
             0,
             "#0d0887"
            ],
            [
             0.1111111111111111,
             "#46039f"
            ],
            [
             0.2222222222222222,
             "#7201a8"
            ],
            [
             0.3333333333333333,
             "#9c179e"
            ],
            [
             0.4444444444444444,
             "#bd3786"
            ],
            [
             0.5555555555555556,
             "#d8576b"
            ],
            [
             0.6666666666666666,
             "#ed7953"
            ],
            [
             0.7777777777777778,
             "#fb9f3a"
            ],
            [
             0.8888888888888888,
             "#fdca26"
            ],
            [
             1,
             "#f0f921"
            ]
           ],
           "sequentialminus": [
            [
             0,
             "#0d0887"
            ],
            [
             0.1111111111111111,
             "#46039f"
            ],
            [
             0.2222222222222222,
             "#7201a8"
            ],
            [
             0.3333333333333333,
             "#9c179e"
            ],
            [
             0.4444444444444444,
             "#bd3786"
            ],
            [
             0.5555555555555556,
             "#d8576b"
            ],
            [
             0.6666666666666666,
             "#ed7953"
            ],
            [
             0.7777777777777778,
             "#fb9f3a"
            ],
            [
             0.8888888888888888,
             "#fdca26"
            ],
            [
             1,
             "#f0f921"
            ]
           ]
          },
          "colorway": [
           "#636efa",
           "#EF553B",
           "#00cc96",
           "#ab63fa",
           "#FFA15A",
           "#19d3f3",
           "#FF6692",
           "#B6E880",
           "#FF97FF",
           "#FECB52"
          ],
          "font": {
           "color": "#2a3f5f"
          },
          "geo": {
           "bgcolor": "white",
           "lakecolor": "white",
           "landcolor": "#E5ECF6",
           "showlakes": true,
           "showland": true,
           "subunitcolor": "white"
          },
          "hoverlabel": {
           "align": "left"
          },
          "hovermode": "closest",
          "mapbox": {
           "style": "light"
          },
          "paper_bgcolor": "white",
          "plot_bgcolor": "#E5ECF6",
          "polar": {
           "angularaxis": {
            "gridcolor": "white",
            "linecolor": "white",
            "ticks": ""
           },
           "bgcolor": "#E5ECF6",
           "radialaxis": {
            "gridcolor": "white",
            "linecolor": "white",
            "ticks": ""
           }
          },
          "scene": {
           "xaxis": {
            "backgroundcolor": "#E5ECF6",
            "gridcolor": "white",
            "gridwidth": 2,
            "linecolor": "white",
            "showbackground": true,
            "ticks": "",
            "zerolinecolor": "white"
           },
           "yaxis": {
            "backgroundcolor": "#E5ECF6",
            "gridcolor": "white",
            "gridwidth": 2,
            "linecolor": "white",
            "showbackground": true,
            "ticks": "",
            "zerolinecolor": "white"
           },
           "zaxis": {
            "backgroundcolor": "#E5ECF6",
            "gridcolor": "white",
            "gridwidth": 2,
            "linecolor": "white",
            "showbackground": true,
            "ticks": "",
            "zerolinecolor": "white"
           }
          },
          "shapedefaults": {
           "line": {
            "color": "#2a3f5f"
           }
          },
          "ternary": {
           "aaxis": {
            "gridcolor": "white",
            "linecolor": "white",
            "ticks": ""
           },
           "baxis": {
            "gridcolor": "white",
            "linecolor": "white",
            "ticks": ""
           },
           "bgcolor": "#E5ECF6",
           "caxis": {
            "gridcolor": "white",
            "linecolor": "white",
            "ticks": ""
           }
          },
          "title": {
           "x": 0.05
          },
          "xaxis": {
           "automargin": true,
           "gridcolor": "white",
           "linecolor": "white",
           "ticks": "",
           "title": {
            "standoff": 15
           },
           "zerolinecolor": "white",
           "zerolinewidth": 2
          },
          "yaxis": {
           "automargin": true,
           "gridcolor": "white",
           "linecolor": "white",
           "ticks": "",
           "title": {
            "standoff": 15
           },
           "zerolinecolor": "white",
           "zerolinewidth": 2
          }
         }
        },
        "title": {
         "font": {
          "size": 30
         },
         "text": "Predicted turns on yaw"
        },
        "width": 1200,
        "xaxis": {
         "title": {
          "font": {
           "size": 20
          },
          "text": "Time"
         }
        },
        "yaxis": {
         "title": {
          "font": {
           "size": 20
          },
          "text": "Radians"
         }
        }
       }
      }
     },
     "metadata": {},
     "output_type": "display_data"
    }
   ],
   "source": [
    "display(interval_df.head())\n",
    "plot_predicted_transitions(interval_df)\n"
   ]
  },
  {
   "cell_type": "code",
   "execution_count": 11,
   "id": "e61fcce1",
   "metadata": {},
   "outputs": [
    {
     "data": {
      "text/html": [
       "<div>\n",
       "<style scoped>\n",
       "    .dataframe tbody tr th:only-of-type {\n",
       "        vertical-align: middle;\n",
       "    }\n",
       "\n",
       "    .dataframe tbody tr th {\n",
       "        vertical-align: top;\n",
       "    }\n",
       "\n",
       "    .dataframe thead th {\n",
       "        text-align: right;\n",
       "    }\n",
       "</style>\n",
       "<table border=\"1\" class=\"dataframe\">\n",
       "  <thead>\n",
       "    <tr style=\"text-align: right;\">\n",
       "      <th></th>\n",
       "      <th>TotalAcceleration</th>\n",
       "      <th>Orientation</th>\n",
       "      <th>Magnetometer</th>\n",
       "      <th>GyroscopeUncalibrated</th>\n",
       "      <th>MagnetometerUncalibrated</th>\n",
       "      <th>Accelerometer</th>\n",
       "      <th>Gyroscope</th>\n",
       "      <th>Gravity</th>\n",
       "      <th>Predicted</th>\n",
       "    </tr>\n",
       "    <tr>\n",
       "      <th>time</th>\n",
       "      <th></th>\n",
       "      <th></th>\n",
       "      <th></th>\n",
       "      <th></th>\n",
       "      <th></th>\n",
       "      <th></th>\n",
       "      <th></th>\n",
       "      <th></th>\n",
       "      <th></th>\n",
       "    </tr>\n",
       "  </thead>\n",
       "  <tbody>\n",
       "    <tr>\n",
       "      <th>2024-03-22 12:49:29.900</th>\n",
       "      <td>[2.25630521774292, 10.217418670654297, 12.2207...</td>\n",
       "      <td>[-0.6992300152778625, -0.6967610120773315, -0....</td>\n",
       "      <td>[-1.3125, -40.625, 12.8125]</td>\n",
       "      <td>[0.7677528858184814, -0.2957809567451477, -0.2...</td>\n",
       "      <td>[-48.875, -65.25, 48.3125]</td>\n",
       "      <td>[6.934799671173096, -2.1800999641418457, 4.240...</td>\n",
       "      <td>[1.5788772106170654, -0.4668406546115875, -0.5...</td>\n",
       "      <td>[-0.2466999888420105, 9.51550006866455, 2.3587...</td>\n",
       "      <td>right</td>\n",
       "    </tr>\n",
       "    <tr>\n",
       "      <th>2024-03-22 12:49:30.000</th>\n",
       "      <td>[0.2472539991140365, 7.208529472351074, 6.4393...</td>\n",
       "      <td>[-0.7047449946403503, -0.681315004825592, -0.1...</td>\n",
       "      <td>[-2.875, -41.5625, 9.125]</td>\n",
       "      <td>[1.3339725732803345, 0.1136732921004295, 0.069...</td>\n",
       "      <td>[-50.4375, -66.1875, 44.625]</td>\n",
       "      <td>[0.6118999719619751, -2.504899978637696, -2.54...</td>\n",
       "      <td>[0.6350031495094299, -0.1096939444541931, -0.2...</td>\n",
       "      <td>[-0.0528999976813793, 9.330399513244627, 3.018...</td>\n",
       "      <td>right</td>\n",
       "    </tr>\n",
       "    <tr>\n",
       "      <th>2024-03-22 12:49:30.100</th>\n",
       "      <td>[2.0676231384277344, 8.164840698242188, 3.4410...</td>\n",
       "      <td>[-0.7018659710884094, -0.6656039953231812, -0....</td>\n",
       "      <td>[-3.25, -42.625, 4.1875]</td>\n",
       "      <td>[0.9653939604759216, -0.339204728603363, -0.49...</td>\n",
       "      <td>[-50.8125, -67.25, 39.6875]</td>\n",
       "      <td>[1.2264000177383425, 0.9109999537467957, 2.181...</td>\n",
       "      <td>[1.4157238006591797, -0.1066570729017257, 0.07...</td>\n",
       "      <td>[-0.0495999976992607, 8.8464994430542, 4.23149...</td>\n",
       "      <td>right</td>\n",
       "    </tr>\n",
       "    <tr>\n",
       "      <th>2024-03-22 12:49:30.200</th>\n",
       "      <td>[3.169674158096313, 7.666990280151367, 6.17287...</td>\n",
       "      <td>[-0.7076629996299744, -0.6421110033988953, -0....</td>\n",
       "      <td>[-5.0625, -42.5625, -0.3125]</td>\n",
       "      <td>[0.965795397758484, -1.0057809352874756, -0.69...</td>\n",
       "      <td>[-52.625, -67.1875, 35.1875]</td>\n",
       "      <td>[-2.747900009155273, -1.5245999097824097, 0.94...</td>\n",
       "      <td>[0.6662619709968567, -0.6124709248542786, -0.6...</td>\n",
       "      <td>[0.1098999977111816, 8.487299919128418, 4.9113...</td>\n",
       "      <td>right</td>\n",
       "    </tr>\n",
       "    <tr>\n",
       "      <th>2024-03-22 12:49:30.300</th>\n",
       "      <td>[-0.5638249516487122, 6.842130184173584, 1.203...</td>\n",
       "      <td>[-0.7049899697303772, -0.6053839921951294, -0....</td>\n",
       "      <td>[-8.125, -41.5625, -4.5625]</td>\n",
       "      <td>[1.132945537567139, -1.967439889907837, 0.0192...</td>\n",
       "      <td>[-55.6875, -66.1875, 30.9375]</td>\n",
       "      <td>[-0.8007000088691711, -4.292599678039551, -1.0...</td>\n",
       "      <td>[1.258434772491455, -1.073429822921753, -0.755...</td>\n",
       "      <td>[0.2220999896526336, 7.881799697875977, 5.8306...</td>\n",
       "      <td>right</td>\n",
       "    </tr>\n",
       "    <tr>\n",
       "      <th>...</th>\n",
       "      <td>...</td>\n",
       "      <td>...</td>\n",
       "      <td>...</td>\n",
       "      <td>...</td>\n",
       "      <td>...</td>\n",
       "      <td>...</td>\n",
       "      <td>...</td>\n",
       "      <td>...</td>\n",
       "      <td>...</td>\n",
       "    </tr>\n",
       "    <tr>\n",
       "      <th>2024-03-22 12:49:54.400</th>\n",
       "      <td>[-3.259428024291992, 3.4100520610809326, 1.163...</td>\n",
       "      <td>[0.3122060000896454, -0.275068998336792, 0.485...</td>\n",
       "      <td>[-29.875, -18.9375, -25.1875]</td>\n",
       "      <td>[-0.2570695579051971, -1.4800392389297483, -0....</td>\n",
       "      <td>[-80.375, -42.0, 9.375]</td>\n",
       "      <td>[4.305900096893311, 11.089599609375, -3.883599...</td>\n",
       "      <td>[-0.3685437142848968, -0.1895951181650161, -1....</td>\n",
       "      <td>[3.647199869155884, 5.709099769592285, 7.09039...</td>\n",
       "      <td>right</td>\n",
       "    </tr>\n",
       "    <tr>\n",
       "      <th>2024-03-22 12:49:54.500</th>\n",
       "      <td>[8.356243133544922, 21.290218353271484, 7.6015...</td>\n",
       "      <td>[0.2947669923305511, -0.2936370074748993, 0.48...</td>\n",
       "      <td>[-30.25, -17.1875, -26.5]</td>\n",
       "      <td>[-0.3126408159732818, 0.0855734944343566, 2.43...</td>\n",
       "      <td>[-80.75, -40.25, 8.0625]</td>\n",
       "      <td>[9.801499366760254, -3.584299802780152, -2.332...</td>\n",
       "      <td>[0.0719948336482048, -0.2573662400245666, -1.2...</td>\n",
       "      <td>[3.6726999282836914, 5.506399631500244, 7.2359...</td>\n",
       "      <td>right</td>\n",
       "    </tr>\n",
       "    <tr>\n",
       "      <th>2024-03-22 12:49:54.600</th>\n",
       "      <td>[16.849567413330078, 20.96907997131348, 17.360...</td>\n",
       "      <td>[0.3042170107364654, -0.2868239879608154, 0.49...</td>\n",
       "      <td>[-30.5, -17.375, -27.25]</td>\n",
       "      <td>[-0.0739495977759361, 0.4781503975391388, -0.0...</td>\n",
       "      <td>[-81.0, -40.4375, 7.3125]</td>\n",
       "      <td>[-2.7049999237060547, 0.4462999999523163, -5.4...</td>\n",
       "      <td>[0.0656243786215782, -0.2276083827018737, -0.3...</td>\n",
       "      <td>[3.3227999210357666, 5.65339994430542, 7.29159...</td>\n",
       "      <td>right</td>\n",
       "    </tr>\n",
       "    <tr>\n",
       "      <th>2024-03-22 12:49:54.700</th>\n",
       "      <td>[-5.766932487487793, 20.29885482788086, 7.9002...</td>\n",
       "      <td>[0.2900049984455108, -0.3248449862003326, 0.47...</td>\n",
       "      <td>[-30.0625, -17.3125, -26.5625]</td>\n",
       "      <td>[-0.4636118113994598, 0.5858546495437622, -0.0...</td>\n",
       "      <td>[-80.5625, -40.375, 8.0]</td>\n",
       "      <td>[-12.27329921722412, 4.950299739837647, -3.878...</td>\n",
       "      <td>[1.1910301446914673, -0.6317219138145447, -2.4...</td>\n",
       "      <td>[3.3688998222351074, 5.1798996925354, 7.614999...</td>\n",
       "      <td>right</td>\n",
       "    </tr>\n",
       "    <tr>\n",
       "      <th>2024-03-22 12:49:54.800</th>\n",
       "      <td>[-2.594500780105591, 3.982304334640503, -2.156...</td>\n",
       "      <td>[0.2763170003890991, -0.3651379942893982, 0.43...</td>\n",
       "      <td>[-30.5, -15.75, -27.0625]</td>\n",
       "      <td>[0.855368435382843, -1.17305326461792, -1.1913...</td>\n",
       "      <td>[-81.0, -38.8125, 7.5]</td>\n",
       "      <td>[3.593299865722656, 7.283699989318848, 3.82809...</td>\n",
       "      <td>[0.0069464105181396, -0.476841390132904, -2.01...</td>\n",
       "      <td>[3.7811999320983887, 4.807799816131592, 7.6651...</td>\n",
       "      <td>left</td>\n",
       "    </tr>\n",
       "  </tbody>\n",
       "</table>\n",
       "<p>250 rows × 9 columns</p>\n",
       "</div>"
      ],
      "text/plain": [
       "                                                         TotalAcceleration  \\\n",
       "time                                                                         \n",
       "2024-03-22 12:49:29.900  [2.25630521774292, 10.217418670654297, 12.2207...   \n",
       "2024-03-22 12:49:30.000  [0.2472539991140365, 7.208529472351074, 6.4393...   \n",
       "2024-03-22 12:49:30.100  [2.0676231384277344, 8.164840698242188, 3.4410...   \n",
       "2024-03-22 12:49:30.200  [3.169674158096313, 7.666990280151367, 6.17287...   \n",
       "2024-03-22 12:49:30.300  [-0.5638249516487122, 6.842130184173584, 1.203...   \n",
       "...                                                                    ...   \n",
       "2024-03-22 12:49:54.400  [-3.259428024291992, 3.4100520610809326, 1.163...   \n",
       "2024-03-22 12:49:54.500  [8.356243133544922, 21.290218353271484, 7.6015...   \n",
       "2024-03-22 12:49:54.600  [16.849567413330078, 20.96907997131348, 17.360...   \n",
       "2024-03-22 12:49:54.700  [-5.766932487487793, 20.29885482788086, 7.9002...   \n",
       "2024-03-22 12:49:54.800  [-2.594500780105591, 3.982304334640503, -2.156...   \n",
       "\n",
       "                                                               Orientation  \\\n",
       "time                                                                         \n",
       "2024-03-22 12:49:29.900  [-0.6992300152778625, -0.6967610120773315, -0....   \n",
       "2024-03-22 12:49:30.000  [-0.7047449946403503, -0.681315004825592, -0.1...   \n",
       "2024-03-22 12:49:30.100  [-0.7018659710884094, -0.6656039953231812, -0....   \n",
       "2024-03-22 12:49:30.200  [-0.7076629996299744, -0.6421110033988953, -0....   \n",
       "2024-03-22 12:49:30.300  [-0.7049899697303772, -0.6053839921951294, -0....   \n",
       "...                                                                    ...   \n",
       "2024-03-22 12:49:54.400  [0.3122060000896454, -0.275068998336792, 0.485...   \n",
       "2024-03-22 12:49:54.500  [0.2947669923305511, -0.2936370074748993, 0.48...   \n",
       "2024-03-22 12:49:54.600  [0.3042170107364654, -0.2868239879608154, 0.49...   \n",
       "2024-03-22 12:49:54.700  [0.2900049984455108, -0.3248449862003326, 0.47...   \n",
       "2024-03-22 12:49:54.800  [0.2763170003890991, -0.3651379942893982, 0.43...   \n",
       "\n",
       "                                           Magnetometer  \\\n",
       "time                                                      \n",
       "2024-03-22 12:49:29.900     [-1.3125, -40.625, 12.8125]   \n",
       "2024-03-22 12:49:30.000       [-2.875, -41.5625, 9.125]   \n",
       "2024-03-22 12:49:30.100        [-3.25, -42.625, 4.1875]   \n",
       "2024-03-22 12:49:30.200    [-5.0625, -42.5625, -0.3125]   \n",
       "2024-03-22 12:49:30.300     [-8.125, -41.5625, -4.5625]   \n",
       "...                                                 ...   \n",
       "2024-03-22 12:49:54.400   [-29.875, -18.9375, -25.1875]   \n",
       "2024-03-22 12:49:54.500       [-30.25, -17.1875, -26.5]   \n",
       "2024-03-22 12:49:54.600        [-30.5, -17.375, -27.25]   \n",
       "2024-03-22 12:49:54.700  [-30.0625, -17.3125, -26.5625]   \n",
       "2024-03-22 12:49:54.800       [-30.5, -15.75, -27.0625]   \n",
       "\n",
       "                                                     GyroscopeUncalibrated  \\\n",
       "time                                                                         \n",
       "2024-03-22 12:49:29.900  [0.7677528858184814, -0.2957809567451477, -0.2...   \n",
       "2024-03-22 12:49:30.000  [1.3339725732803345, 0.1136732921004295, 0.069...   \n",
       "2024-03-22 12:49:30.100  [0.9653939604759216, -0.339204728603363, -0.49...   \n",
       "2024-03-22 12:49:30.200  [0.965795397758484, -1.0057809352874756, -0.69...   \n",
       "2024-03-22 12:49:30.300  [1.132945537567139, -1.967439889907837, 0.0192...   \n",
       "...                                                                    ...   \n",
       "2024-03-22 12:49:54.400  [-0.2570695579051971, -1.4800392389297483, -0....   \n",
       "2024-03-22 12:49:54.500  [-0.3126408159732818, 0.0855734944343566, 2.43...   \n",
       "2024-03-22 12:49:54.600  [-0.0739495977759361, 0.4781503975391388, -0.0...   \n",
       "2024-03-22 12:49:54.700  [-0.4636118113994598, 0.5858546495437622, -0.0...   \n",
       "2024-03-22 12:49:54.800  [0.855368435382843, -1.17305326461792, -1.1913...   \n",
       "\n",
       "                              MagnetometerUncalibrated  \\\n",
       "time                                                     \n",
       "2024-03-22 12:49:29.900     [-48.875, -65.25, 48.3125]   \n",
       "2024-03-22 12:49:30.000   [-50.4375, -66.1875, 44.625]   \n",
       "2024-03-22 12:49:30.100    [-50.8125, -67.25, 39.6875]   \n",
       "2024-03-22 12:49:30.200   [-52.625, -67.1875, 35.1875]   \n",
       "2024-03-22 12:49:30.300  [-55.6875, -66.1875, 30.9375]   \n",
       "...                                                ...   \n",
       "2024-03-22 12:49:54.400        [-80.375, -42.0, 9.375]   \n",
       "2024-03-22 12:49:54.500       [-80.75, -40.25, 8.0625]   \n",
       "2024-03-22 12:49:54.600      [-81.0, -40.4375, 7.3125]   \n",
       "2024-03-22 12:49:54.700       [-80.5625, -40.375, 8.0]   \n",
       "2024-03-22 12:49:54.800         [-81.0, -38.8125, 7.5]   \n",
       "\n",
       "                                                             Accelerometer  \\\n",
       "time                                                                         \n",
       "2024-03-22 12:49:29.900  [6.934799671173096, -2.1800999641418457, 4.240...   \n",
       "2024-03-22 12:49:30.000  [0.6118999719619751, -2.504899978637696, -2.54...   \n",
       "2024-03-22 12:49:30.100  [1.2264000177383425, 0.9109999537467957, 2.181...   \n",
       "2024-03-22 12:49:30.200  [-2.747900009155273, -1.5245999097824097, 0.94...   \n",
       "2024-03-22 12:49:30.300  [-0.8007000088691711, -4.292599678039551, -1.0...   \n",
       "...                                                                    ...   \n",
       "2024-03-22 12:49:54.400  [4.305900096893311, 11.089599609375, -3.883599...   \n",
       "2024-03-22 12:49:54.500  [9.801499366760254, -3.584299802780152, -2.332...   \n",
       "2024-03-22 12:49:54.600  [-2.7049999237060547, 0.4462999999523163, -5.4...   \n",
       "2024-03-22 12:49:54.700  [-12.27329921722412, 4.950299739837647, -3.878...   \n",
       "2024-03-22 12:49:54.800  [3.593299865722656, 7.283699989318848, 3.82809...   \n",
       "\n",
       "                                                                 Gyroscope  \\\n",
       "time                                                                         \n",
       "2024-03-22 12:49:29.900  [1.5788772106170654, -0.4668406546115875, -0.5...   \n",
       "2024-03-22 12:49:30.000  [0.6350031495094299, -0.1096939444541931, -0.2...   \n",
       "2024-03-22 12:49:30.100  [1.4157238006591797, -0.1066570729017257, 0.07...   \n",
       "2024-03-22 12:49:30.200  [0.6662619709968567, -0.6124709248542786, -0.6...   \n",
       "2024-03-22 12:49:30.300  [1.258434772491455, -1.073429822921753, -0.755...   \n",
       "...                                                                    ...   \n",
       "2024-03-22 12:49:54.400  [-0.3685437142848968, -0.1895951181650161, -1....   \n",
       "2024-03-22 12:49:54.500  [0.0719948336482048, -0.2573662400245666, -1.2...   \n",
       "2024-03-22 12:49:54.600  [0.0656243786215782, -0.2276083827018737, -0.3...   \n",
       "2024-03-22 12:49:54.700  [1.1910301446914673, -0.6317219138145447, -2.4...   \n",
       "2024-03-22 12:49:54.800  [0.0069464105181396, -0.476841390132904, -2.01...   \n",
       "\n",
       "                                                                   Gravity  \\\n",
       "time                                                                         \n",
       "2024-03-22 12:49:29.900  [-0.2466999888420105, 9.51550006866455, 2.3587...   \n",
       "2024-03-22 12:49:30.000  [-0.0528999976813793, 9.330399513244627, 3.018...   \n",
       "2024-03-22 12:49:30.100  [-0.0495999976992607, 8.8464994430542, 4.23149...   \n",
       "2024-03-22 12:49:30.200  [0.1098999977111816, 8.487299919128418, 4.9113...   \n",
       "2024-03-22 12:49:30.300  [0.2220999896526336, 7.881799697875977, 5.8306...   \n",
       "...                                                                    ...   \n",
       "2024-03-22 12:49:54.400  [3.647199869155884, 5.709099769592285, 7.09039...   \n",
       "2024-03-22 12:49:54.500  [3.6726999282836914, 5.506399631500244, 7.2359...   \n",
       "2024-03-22 12:49:54.600  [3.3227999210357666, 5.65339994430542, 7.29159...   \n",
       "2024-03-22 12:49:54.700  [3.3688998222351074, 5.1798996925354, 7.614999...   \n",
       "2024-03-22 12:49:54.800  [3.7811999320983887, 4.807799816131592, 7.6651...   \n",
       "\n",
       "                        Predicted  \n",
       "time                               \n",
       "2024-03-22 12:49:29.900     right  \n",
       "2024-03-22 12:49:30.000     right  \n",
       "2024-03-22 12:49:30.100     right  \n",
       "2024-03-22 12:49:30.200     right  \n",
       "2024-03-22 12:49:30.300     right  \n",
       "...                           ...  \n",
       "2024-03-22 12:49:54.400     right  \n",
       "2024-03-22 12:49:54.500     right  \n",
       "2024-03-22 12:49:54.600     right  \n",
       "2024-03-22 12:49:54.700     right  \n",
       "2024-03-22 12:49:54.800      left  \n",
       "\n",
       "[250 rows x 9 columns]"
      ]
     },
     "metadata": {},
     "output_type": "display_data"
    }
   ],
   "source": [
    "# Add 'Predicted' column from interval_df to input_df based on index\n",
    "input_df['Predicted'] = interval_df['Predicted']\n",
    "\n",
    "# Remove 'Behavior' and 'Status' columns if they exist\n",
    "input_df = input_df.drop(columns=['Behavior', 'Status'], errors='ignore')\n",
    "\n",
    "# Display the updated input_df\n",
    "display(input_df)"
   ]
  }
 ],
 "metadata": {
  "kernelspec": {
   "display_name": "ski_project",
   "language": "python",
   "name": "python3"
  },
  "language_info": {
   "codemirror_mode": {
    "name": "ipython",
    "version": 3
   },
   "file_extension": ".py",
   "mimetype": "text/x-python",
   "name": "python",
   "nbconvert_exporter": "python",
   "pygments_lexer": "ipython3",
   "version": "3.11.5"
  }
 },
 "nbformat": 4,
 "nbformat_minor": 5
}
